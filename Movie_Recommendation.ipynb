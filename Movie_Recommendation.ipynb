{
 "cells": [
  {
   "cell_type": "markdown",
   "id": "qualified-gates",
   "metadata": {},
   "source": [
    "<h1> 아이유팬이 좋아할 만한 다른 아티스트 찾기 <h1>"
   ]
  },
  {
   "cell_type": "markdown",
   "id": "right-crowd",
   "metadata": {},
   "source": [
    "## 실습 목표\n",
    "---\n",
    "- 추천시스템의 개념과 목적을 이해한다.\n",
    "- Implicit 라이브러리를 활용하여 Matrix Factorization(이하 MF) 기반의 추천 모델을 만들어 본다.\n",
    "- 음악 감상 기록을 활용하여 비슷한 아티스트를 찾고 아티스트를 추천해 본다.\n",
    "- 추천 시스템에서 자주 사용되는 데이터 구조인 CSR Matrix을 익힌다\n",
    "- 유저의 행위 데이터 중 Explicit data와 Implicit data의 차이점을 익힌다.\n",
    "- 새로운 데이터셋으로 직접 추천 모델을 만들어 본다."
   ]
  },
  {
   "cell_type": "markdown",
   "id": "induced-possibility",
   "metadata": {},
   "source": [
    "## lastfm dataset 가져오기\n",
    "\n",
    "$ mkdir -p ~/aiffel/EXPLORATION/09/recommendata_iu/data/lastfm-dataset-360K\n",
    "$ ln -s ~/data/lastfm-dataset-360K/* ~/aiffel/EXPLORATION/09/recommendata_iu/data/lastfm-dataset-360K\n",
    "\n",
    "## 데이터 준비\n",
    "\n",
    "$ more ~/aiffel/EXPLORATION/09/recommendata_iu/data/lastfm-dataset-360K/usersha1-artmbid-artname-plays.tsv\n",
    "\n",
    "Pandas를 활용해 이 데이터를 열어 보기"
   ]
  },
  {
   "cell_type": "code",
   "execution_count": 1,
   "id": "statistical-commerce",
   "metadata": {},
   "outputs": [
    {
     "data": {
      "text/html": [
       "<div>\n",
       "<style scoped>\n",
       "    .dataframe tbody tr th:only-of-type {\n",
       "        vertical-align: middle;\n",
       "    }\n",
       "\n",
       "    .dataframe tbody tr th {\n",
       "        vertical-align: top;\n",
       "    }\n",
       "\n",
       "    .dataframe thead th {\n",
       "        text-align: right;\n",
       "    }\n",
       "</style>\n",
       "<table border=\"1\" class=\"dataframe\">\n",
       "  <thead>\n",
       "    <tr style=\"text-align: right;\">\n",
       "      <th></th>\n",
       "      <th>user_id</th>\n",
       "      <th>artist_MBID</th>\n",
       "      <th>artist</th>\n",
       "      <th>play</th>\n",
       "    </tr>\n",
       "  </thead>\n",
       "  <tbody>\n",
       "    <tr>\n",
       "      <th>0</th>\n",
       "      <td>00000c289a1829a808ac09c00daf10bc3c4e223b</td>\n",
       "      <td>3bd73256-3905-4f3a-97e2-8b341527f805</td>\n",
       "      <td>betty blowtorch</td>\n",
       "      <td>2137</td>\n",
       "    </tr>\n",
       "    <tr>\n",
       "      <th>1</th>\n",
       "      <td>00000c289a1829a808ac09c00daf10bc3c4e223b</td>\n",
       "      <td>f2fb0ff0-5679-42ec-a55c-15109ce6e320</td>\n",
       "      <td>die Ärzte</td>\n",
       "      <td>1099</td>\n",
       "    </tr>\n",
       "    <tr>\n",
       "      <th>2</th>\n",
       "      <td>00000c289a1829a808ac09c00daf10bc3c4e223b</td>\n",
       "      <td>b3ae82c2-e60b-4551-a76d-6620f1b456aa</td>\n",
       "      <td>melissa etheridge</td>\n",
       "      <td>897</td>\n",
       "    </tr>\n",
       "    <tr>\n",
       "      <th>3</th>\n",
       "      <td>00000c289a1829a808ac09c00daf10bc3c4e223b</td>\n",
       "      <td>3d6bbeb7-f90e-4d10-b440-e153c0d10b53</td>\n",
       "      <td>elvenking</td>\n",
       "      <td>717</td>\n",
       "    </tr>\n",
       "    <tr>\n",
       "      <th>4</th>\n",
       "      <td>00000c289a1829a808ac09c00daf10bc3c4e223b</td>\n",
       "      <td>bbd2ffd7-17f4-4506-8572-c1ea58c3f9a8</td>\n",
       "      <td>juliette &amp; the licks</td>\n",
       "      <td>706</td>\n",
       "    </tr>\n",
       "    <tr>\n",
       "      <th>5</th>\n",
       "      <td>00000c289a1829a808ac09c00daf10bc3c4e223b</td>\n",
       "      <td>8bfac288-ccc5-448d-9573-c33ea2aa5c30</td>\n",
       "      <td>red hot chili peppers</td>\n",
       "      <td>691</td>\n",
       "    </tr>\n",
       "    <tr>\n",
       "      <th>6</th>\n",
       "      <td>00000c289a1829a808ac09c00daf10bc3c4e223b</td>\n",
       "      <td>6531c8b1-76ea-4141-b270-eb1ac5b41375</td>\n",
       "      <td>magica</td>\n",
       "      <td>545</td>\n",
       "    </tr>\n",
       "    <tr>\n",
       "      <th>7</th>\n",
       "      <td>00000c289a1829a808ac09c00daf10bc3c4e223b</td>\n",
       "      <td>21f3573f-10cf-44b3-aeaa-26cccd8448b5</td>\n",
       "      <td>the black dahlia murder</td>\n",
       "      <td>507</td>\n",
       "    </tr>\n",
       "    <tr>\n",
       "      <th>8</th>\n",
       "      <td>00000c289a1829a808ac09c00daf10bc3c4e223b</td>\n",
       "      <td>c5db90c4-580d-4f33-b364-fbaa5a3a58b5</td>\n",
       "      <td>the murmurs</td>\n",
       "      <td>424</td>\n",
       "    </tr>\n",
       "    <tr>\n",
       "      <th>9</th>\n",
       "      <td>00000c289a1829a808ac09c00daf10bc3c4e223b</td>\n",
       "      <td>0639533a-0402-40ba-b6e0-18b067198b73</td>\n",
       "      <td>lunachicks</td>\n",
       "      <td>403</td>\n",
       "    </tr>\n",
       "  </tbody>\n",
       "</table>\n",
       "</div>"
      ],
      "text/plain": [
       "                                    user_id  \\\n",
       "0  00000c289a1829a808ac09c00daf10bc3c4e223b   \n",
       "1  00000c289a1829a808ac09c00daf10bc3c4e223b   \n",
       "2  00000c289a1829a808ac09c00daf10bc3c4e223b   \n",
       "3  00000c289a1829a808ac09c00daf10bc3c4e223b   \n",
       "4  00000c289a1829a808ac09c00daf10bc3c4e223b   \n",
       "5  00000c289a1829a808ac09c00daf10bc3c4e223b   \n",
       "6  00000c289a1829a808ac09c00daf10bc3c4e223b   \n",
       "7  00000c289a1829a808ac09c00daf10bc3c4e223b   \n",
       "8  00000c289a1829a808ac09c00daf10bc3c4e223b   \n",
       "9  00000c289a1829a808ac09c00daf10bc3c4e223b   \n",
       "\n",
       "                            artist_MBID                   artist  play  \n",
       "0  3bd73256-3905-4f3a-97e2-8b341527f805          betty blowtorch  2137  \n",
       "1  f2fb0ff0-5679-42ec-a55c-15109ce6e320                die Ärzte  1099  \n",
       "2  b3ae82c2-e60b-4551-a76d-6620f1b456aa        melissa etheridge   897  \n",
       "3  3d6bbeb7-f90e-4d10-b440-e153c0d10b53                elvenking   717  \n",
       "4  bbd2ffd7-17f4-4506-8572-c1ea58c3f9a8     juliette & the licks   706  \n",
       "5  8bfac288-ccc5-448d-9573-c33ea2aa5c30    red hot chili peppers   691  \n",
       "6  6531c8b1-76ea-4141-b270-eb1ac5b41375                   magica   545  \n",
       "7  21f3573f-10cf-44b3-aeaa-26cccd8448b5  the black dahlia murder   507  \n",
       "8  c5db90c4-580d-4f33-b364-fbaa5a3a58b5              the murmurs   424  \n",
       "9  0639533a-0402-40ba-b6e0-18b067198b73               lunachicks   403  "
      ]
     },
     "execution_count": 1,
     "metadata": {},
     "output_type": "execute_result"
    }
   ],
   "source": [
    "import pandas as pd\n",
    "import os\n",
    "\n",
    "fname = os.getenv('HOME') + '/aiffel/EXPLORATION/09/recommendata_iu/data/lastfm-dataset-360K/usersha1-artmbid-artname-plays.tsv'\n",
    "col_names = ['user_id', 'artist_MBID', 'artist', 'play']   # 임의로 지정한 컬럼명\n",
    "data = pd.read_csv(fname, sep='\\t', names= col_names)      # sep='\\t'로 주어야 tsv를 열 수 있습니다.  \n",
    "data.head(10)"
   ]
  },
  {
   "cell_type": "code",
   "execution_count": 2,
   "id": "overhead-oakland",
   "metadata": {},
   "outputs": [
    {
     "data": {
      "text/html": [
       "<div>\n",
       "<style scoped>\n",
       "    .dataframe tbody tr th:only-of-type {\n",
       "        vertical-align: middle;\n",
       "    }\n",
       "\n",
       "    .dataframe tbody tr th {\n",
       "        vertical-align: top;\n",
       "    }\n",
       "\n",
       "    .dataframe thead th {\n",
       "        text-align: right;\n",
       "    }\n",
       "</style>\n",
       "<table border=\"1\" class=\"dataframe\">\n",
       "  <thead>\n",
       "    <tr style=\"text-align: right;\">\n",
       "      <th></th>\n",
       "      <th>user_id</th>\n",
       "      <th>artist</th>\n",
       "      <th>play</th>\n",
       "    </tr>\n",
       "  </thead>\n",
       "  <tbody>\n",
       "    <tr>\n",
       "      <th>0</th>\n",
       "      <td>00000c289a1829a808ac09c00daf10bc3c4e223b</td>\n",
       "      <td>betty blowtorch</td>\n",
       "      <td>2137</td>\n",
       "    </tr>\n",
       "    <tr>\n",
       "      <th>1</th>\n",
       "      <td>00000c289a1829a808ac09c00daf10bc3c4e223b</td>\n",
       "      <td>die Ärzte</td>\n",
       "      <td>1099</td>\n",
       "    </tr>\n",
       "    <tr>\n",
       "      <th>2</th>\n",
       "      <td>00000c289a1829a808ac09c00daf10bc3c4e223b</td>\n",
       "      <td>melissa etheridge</td>\n",
       "      <td>897</td>\n",
       "    </tr>\n",
       "    <tr>\n",
       "      <th>3</th>\n",
       "      <td>00000c289a1829a808ac09c00daf10bc3c4e223b</td>\n",
       "      <td>elvenking</td>\n",
       "      <td>717</td>\n",
       "    </tr>\n",
       "    <tr>\n",
       "      <th>4</th>\n",
       "      <td>00000c289a1829a808ac09c00daf10bc3c4e223b</td>\n",
       "      <td>juliette &amp; the licks</td>\n",
       "      <td>706</td>\n",
       "    </tr>\n",
       "    <tr>\n",
       "      <th>5</th>\n",
       "      <td>00000c289a1829a808ac09c00daf10bc3c4e223b</td>\n",
       "      <td>red hot chili peppers</td>\n",
       "      <td>691</td>\n",
       "    </tr>\n",
       "    <tr>\n",
       "      <th>6</th>\n",
       "      <td>00000c289a1829a808ac09c00daf10bc3c4e223b</td>\n",
       "      <td>magica</td>\n",
       "      <td>545</td>\n",
       "    </tr>\n",
       "    <tr>\n",
       "      <th>7</th>\n",
       "      <td>00000c289a1829a808ac09c00daf10bc3c4e223b</td>\n",
       "      <td>the black dahlia murder</td>\n",
       "      <td>507</td>\n",
       "    </tr>\n",
       "    <tr>\n",
       "      <th>8</th>\n",
       "      <td>00000c289a1829a808ac09c00daf10bc3c4e223b</td>\n",
       "      <td>the murmurs</td>\n",
       "      <td>424</td>\n",
       "    </tr>\n",
       "    <tr>\n",
       "      <th>9</th>\n",
       "      <td>00000c289a1829a808ac09c00daf10bc3c4e223b</td>\n",
       "      <td>lunachicks</td>\n",
       "      <td>403</td>\n",
       "    </tr>\n",
       "  </tbody>\n",
       "</table>\n",
       "</div>"
      ],
      "text/plain": [
       "                                    user_id                   artist  play\n",
       "0  00000c289a1829a808ac09c00daf10bc3c4e223b          betty blowtorch  2137\n",
       "1  00000c289a1829a808ac09c00daf10bc3c4e223b                die Ärzte  1099\n",
       "2  00000c289a1829a808ac09c00daf10bc3c4e223b        melissa etheridge   897\n",
       "3  00000c289a1829a808ac09c00daf10bc3c4e223b                elvenking   717\n",
       "4  00000c289a1829a808ac09c00daf10bc3c4e223b     juliette & the licks   706\n",
       "5  00000c289a1829a808ac09c00daf10bc3c4e223b    red hot chili peppers   691\n",
       "6  00000c289a1829a808ac09c00daf10bc3c4e223b                   magica   545\n",
       "7  00000c289a1829a808ac09c00daf10bc3c4e223b  the black dahlia murder   507\n",
       "8  00000c289a1829a808ac09c00daf10bc3c4e223b              the murmurs   424\n",
       "9  00000c289a1829a808ac09c00daf10bc3c4e223b               lunachicks   403"
      ]
     },
     "execution_count": 2,
     "metadata": {},
     "output_type": "execute_result"
    }
   ],
   "source": [
    "# 사용하는 컬럼만 남겨줍니다.\n",
    "using_cols = ['user_id', 'artist', 'play']\n",
    "data = data[using_cols]\n",
    "data.head(10)"
   ]
  },
  {
   "cell_type": "code",
   "execution_count": 3,
   "id": "integrated-independence",
   "metadata": {},
   "outputs": [
    {
     "data": {
      "text/html": [
       "<div>\n",
       "<style scoped>\n",
       "    .dataframe tbody tr th:only-of-type {\n",
       "        vertical-align: middle;\n",
       "    }\n",
       "\n",
       "    .dataframe tbody tr th {\n",
       "        vertical-align: top;\n",
       "    }\n",
       "\n",
       "    .dataframe thead th {\n",
       "        text-align: right;\n",
       "    }\n",
       "</style>\n",
       "<table border=\"1\" class=\"dataframe\">\n",
       "  <thead>\n",
       "    <tr style=\"text-align: right;\">\n",
       "      <th></th>\n",
       "      <th>user_id</th>\n",
       "      <th>artist</th>\n",
       "      <th>play</th>\n",
       "    </tr>\n",
       "  </thead>\n",
       "  <tbody>\n",
       "    <tr>\n",
       "      <th>0</th>\n",
       "      <td>00000c289a1829a808ac09c00daf10bc3c4e223b</td>\n",
       "      <td>betty blowtorch</td>\n",
       "      <td>2137</td>\n",
       "    </tr>\n",
       "    <tr>\n",
       "      <th>1</th>\n",
       "      <td>00000c289a1829a808ac09c00daf10bc3c4e223b</td>\n",
       "      <td>die ärzte</td>\n",
       "      <td>1099</td>\n",
       "    </tr>\n",
       "    <tr>\n",
       "      <th>2</th>\n",
       "      <td>00000c289a1829a808ac09c00daf10bc3c4e223b</td>\n",
       "      <td>melissa etheridge</td>\n",
       "      <td>897</td>\n",
       "    </tr>\n",
       "    <tr>\n",
       "      <th>3</th>\n",
       "      <td>00000c289a1829a808ac09c00daf10bc3c4e223b</td>\n",
       "      <td>elvenking</td>\n",
       "      <td>717</td>\n",
       "    </tr>\n",
       "    <tr>\n",
       "      <th>4</th>\n",
       "      <td>00000c289a1829a808ac09c00daf10bc3c4e223b</td>\n",
       "      <td>juliette &amp; the licks</td>\n",
       "      <td>706</td>\n",
       "    </tr>\n",
       "    <tr>\n",
       "      <th>5</th>\n",
       "      <td>00000c289a1829a808ac09c00daf10bc3c4e223b</td>\n",
       "      <td>red hot chili peppers</td>\n",
       "      <td>691</td>\n",
       "    </tr>\n",
       "    <tr>\n",
       "      <th>6</th>\n",
       "      <td>00000c289a1829a808ac09c00daf10bc3c4e223b</td>\n",
       "      <td>magica</td>\n",
       "      <td>545</td>\n",
       "    </tr>\n",
       "    <tr>\n",
       "      <th>7</th>\n",
       "      <td>00000c289a1829a808ac09c00daf10bc3c4e223b</td>\n",
       "      <td>the black dahlia murder</td>\n",
       "      <td>507</td>\n",
       "    </tr>\n",
       "    <tr>\n",
       "      <th>8</th>\n",
       "      <td>00000c289a1829a808ac09c00daf10bc3c4e223b</td>\n",
       "      <td>the murmurs</td>\n",
       "      <td>424</td>\n",
       "    </tr>\n",
       "    <tr>\n",
       "      <th>9</th>\n",
       "      <td>00000c289a1829a808ac09c00daf10bc3c4e223b</td>\n",
       "      <td>lunachicks</td>\n",
       "      <td>403</td>\n",
       "    </tr>\n",
       "  </tbody>\n",
       "</table>\n",
       "</div>"
      ],
      "text/plain": [
       "                                    user_id                   artist  play\n",
       "0  00000c289a1829a808ac09c00daf10bc3c4e223b          betty blowtorch  2137\n",
       "1  00000c289a1829a808ac09c00daf10bc3c4e223b                die ärzte  1099\n",
       "2  00000c289a1829a808ac09c00daf10bc3c4e223b        melissa etheridge   897\n",
       "3  00000c289a1829a808ac09c00daf10bc3c4e223b                elvenking   717\n",
       "4  00000c289a1829a808ac09c00daf10bc3c4e223b     juliette & the licks   706\n",
       "5  00000c289a1829a808ac09c00daf10bc3c4e223b    red hot chili peppers   691\n",
       "6  00000c289a1829a808ac09c00daf10bc3c4e223b                   magica   545\n",
       "7  00000c289a1829a808ac09c00daf10bc3c4e223b  the black dahlia murder   507\n",
       "8  00000c289a1829a808ac09c00daf10bc3c4e223b              the murmurs   424\n",
       "9  00000c289a1829a808ac09c00daf10bc3c4e223b               lunachicks   403"
      ]
     },
     "execution_count": 3,
     "metadata": {},
     "output_type": "execute_result"
    }
   ],
   "source": [
    "data['artist'] = data['artist'].str.lower() # 검색을 쉽게하기 위해 아티스트 문자열을 소문자로 바꿔줍시다.\n",
    "data.head(10)"
   ]
  },
  {
   "cell_type": "markdown",
   "id": "rolled-printer",
   "metadata": {},
   "source": [
    "첫 번째 유저가 어떤 아티스트의 노래를 듣는지 확인해 보자."
   ]
  },
  {
   "cell_type": "code",
   "execution_count": 4,
   "id": "threatened-compromise",
   "metadata": {},
   "outputs": [
    {
     "data": {
      "text/html": [
       "<div>\n",
       "<style scoped>\n",
       "    .dataframe tbody tr th:only-of-type {\n",
       "        vertical-align: middle;\n",
       "    }\n",
       "\n",
       "    .dataframe tbody tr th {\n",
       "        vertical-align: top;\n",
       "    }\n",
       "\n",
       "    .dataframe thead th {\n",
       "        text-align: right;\n",
       "    }\n",
       "</style>\n",
       "<table border=\"1\" class=\"dataframe\">\n",
       "  <thead>\n",
       "    <tr style=\"text-align: right;\">\n",
       "      <th></th>\n",
       "      <th>user_id</th>\n",
       "      <th>artist</th>\n",
       "      <th>play</th>\n",
       "    </tr>\n",
       "  </thead>\n",
       "  <tbody>\n",
       "    <tr>\n",
       "      <th>0</th>\n",
       "      <td>00000c289a1829a808ac09c00daf10bc3c4e223b</td>\n",
       "      <td>betty blowtorch</td>\n",
       "      <td>2137</td>\n",
       "    </tr>\n",
       "    <tr>\n",
       "      <th>1</th>\n",
       "      <td>00000c289a1829a808ac09c00daf10bc3c4e223b</td>\n",
       "      <td>die ärzte</td>\n",
       "      <td>1099</td>\n",
       "    </tr>\n",
       "    <tr>\n",
       "      <th>2</th>\n",
       "      <td>00000c289a1829a808ac09c00daf10bc3c4e223b</td>\n",
       "      <td>melissa etheridge</td>\n",
       "      <td>897</td>\n",
       "    </tr>\n",
       "    <tr>\n",
       "      <th>3</th>\n",
       "      <td>00000c289a1829a808ac09c00daf10bc3c4e223b</td>\n",
       "      <td>elvenking</td>\n",
       "      <td>717</td>\n",
       "    </tr>\n",
       "    <tr>\n",
       "      <th>4</th>\n",
       "      <td>00000c289a1829a808ac09c00daf10bc3c4e223b</td>\n",
       "      <td>juliette &amp; the licks</td>\n",
       "      <td>706</td>\n",
       "    </tr>\n",
       "    <tr>\n",
       "      <th>5</th>\n",
       "      <td>00000c289a1829a808ac09c00daf10bc3c4e223b</td>\n",
       "      <td>red hot chili peppers</td>\n",
       "      <td>691</td>\n",
       "    </tr>\n",
       "    <tr>\n",
       "      <th>6</th>\n",
       "      <td>00000c289a1829a808ac09c00daf10bc3c4e223b</td>\n",
       "      <td>magica</td>\n",
       "      <td>545</td>\n",
       "    </tr>\n",
       "    <tr>\n",
       "      <th>7</th>\n",
       "      <td>00000c289a1829a808ac09c00daf10bc3c4e223b</td>\n",
       "      <td>the black dahlia murder</td>\n",
       "      <td>507</td>\n",
       "    </tr>\n",
       "    <tr>\n",
       "      <th>8</th>\n",
       "      <td>00000c289a1829a808ac09c00daf10bc3c4e223b</td>\n",
       "      <td>the murmurs</td>\n",
       "      <td>424</td>\n",
       "    </tr>\n",
       "    <tr>\n",
       "      <th>9</th>\n",
       "      <td>00000c289a1829a808ac09c00daf10bc3c4e223b</td>\n",
       "      <td>lunachicks</td>\n",
       "      <td>403</td>\n",
       "    </tr>\n",
       "    <tr>\n",
       "      <th>10</th>\n",
       "      <td>00000c289a1829a808ac09c00daf10bc3c4e223b</td>\n",
       "      <td>walls of jericho</td>\n",
       "      <td>393</td>\n",
       "    </tr>\n",
       "    <tr>\n",
       "      <th>11</th>\n",
       "      <td>00000c289a1829a808ac09c00daf10bc3c4e223b</td>\n",
       "      <td>letzte instanz</td>\n",
       "      <td>387</td>\n",
       "    </tr>\n",
       "    <tr>\n",
       "      <th>12</th>\n",
       "      <td>00000c289a1829a808ac09c00daf10bc3c4e223b</td>\n",
       "      <td>goldfrapp</td>\n",
       "      <td>361</td>\n",
       "    </tr>\n",
       "    <tr>\n",
       "      <th>13</th>\n",
       "      <td>00000c289a1829a808ac09c00daf10bc3c4e223b</td>\n",
       "      <td>horrorpops</td>\n",
       "      <td>358</td>\n",
       "    </tr>\n",
       "    <tr>\n",
       "      <th>14</th>\n",
       "      <td>00000c289a1829a808ac09c00daf10bc3c4e223b</td>\n",
       "      <td>the butchies</td>\n",
       "      <td>329</td>\n",
       "    </tr>\n",
       "    <tr>\n",
       "      <th>15</th>\n",
       "      <td>00000c289a1829a808ac09c00daf10bc3c4e223b</td>\n",
       "      <td>jack off jill</td>\n",
       "      <td>316</td>\n",
       "    </tr>\n",
       "    <tr>\n",
       "      <th>16</th>\n",
       "      <td>00000c289a1829a808ac09c00daf10bc3c4e223b</td>\n",
       "      <td>babes in toyland</td>\n",
       "      <td>310</td>\n",
       "    </tr>\n",
       "    <tr>\n",
       "      <th>17</th>\n",
       "      <td>00000c289a1829a808ac09c00daf10bc3c4e223b</td>\n",
       "      <td>dropkick murphys</td>\n",
       "      <td>302</td>\n",
       "    </tr>\n",
       "    <tr>\n",
       "      <th>18</th>\n",
       "      <td>00000c289a1829a808ac09c00daf10bc3c4e223b</td>\n",
       "      <td>all:my:faults</td>\n",
       "      <td>288</td>\n",
       "    </tr>\n",
       "    <tr>\n",
       "      <th>19</th>\n",
       "      <td>00000c289a1829a808ac09c00daf10bc3c4e223b</td>\n",
       "      <td>le tigre</td>\n",
       "      <td>281</td>\n",
       "    </tr>\n",
       "    <tr>\n",
       "      <th>20</th>\n",
       "      <td>00000c289a1829a808ac09c00daf10bc3c4e223b</td>\n",
       "      <td>schandmaul</td>\n",
       "      <td>244</td>\n",
       "    </tr>\n",
       "    <tr>\n",
       "      <th>21</th>\n",
       "      <td>00000c289a1829a808ac09c00daf10bc3c4e223b</td>\n",
       "      <td>edguy</td>\n",
       "      <td>232</td>\n",
       "    </tr>\n",
       "    <tr>\n",
       "      <th>22</th>\n",
       "      <td>00000c289a1829a808ac09c00daf10bc3c4e223b</td>\n",
       "      <td>maximum the hormone</td>\n",
       "      <td>231</td>\n",
       "    </tr>\n",
       "    <tr>\n",
       "      <th>23</th>\n",
       "      <td>00000c289a1829a808ac09c00daf10bc3c4e223b</td>\n",
       "      <td>all ends</td>\n",
       "      <td>229</td>\n",
       "    </tr>\n",
       "    <tr>\n",
       "      <th>24</th>\n",
       "      <td>00000c289a1829a808ac09c00daf10bc3c4e223b</td>\n",
       "      <td>jack johnson</td>\n",
       "      <td>227</td>\n",
       "    </tr>\n",
       "    <tr>\n",
       "      <th>25</th>\n",
       "      <td>00000c289a1829a808ac09c00daf10bc3c4e223b</td>\n",
       "      <td>eluveitie</td>\n",
       "      <td>222</td>\n",
       "    </tr>\n",
       "    <tr>\n",
       "      <th>26</th>\n",
       "      <td>00000c289a1829a808ac09c00daf10bc3c4e223b</td>\n",
       "      <td>rasputina</td>\n",
       "      <td>220</td>\n",
       "    </tr>\n",
       "    <tr>\n",
       "      <th>27</th>\n",
       "      <td>00000c289a1829a808ac09c00daf10bc3c4e223b</td>\n",
       "      <td>london after midnight</td>\n",
       "      <td>210</td>\n",
       "    </tr>\n",
       "    <tr>\n",
       "      <th>28</th>\n",
       "      <td>00000c289a1829a808ac09c00daf10bc3c4e223b</td>\n",
       "      <td>the killers</td>\n",
       "      <td>208</td>\n",
       "    </tr>\n",
       "    <tr>\n",
       "      <th>29</th>\n",
       "      <td>00000c289a1829a808ac09c00daf10bc3c4e223b</td>\n",
       "      <td>mutyumu</td>\n",
       "      <td>205</td>\n",
       "    </tr>\n",
       "    <tr>\n",
       "      <th>30</th>\n",
       "      <td>00000c289a1829a808ac09c00daf10bc3c4e223b</td>\n",
       "      <td>judas priest</td>\n",
       "      <td>198</td>\n",
       "    </tr>\n",
       "    <tr>\n",
       "      <th>31</th>\n",
       "      <td>00000c289a1829a808ac09c00daf10bc3c4e223b</td>\n",
       "      <td>rob zombie</td>\n",
       "      <td>198</td>\n",
       "    </tr>\n",
       "    <tr>\n",
       "      <th>32</th>\n",
       "      <td>00000c289a1829a808ac09c00daf10bc3c4e223b</td>\n",
       "      <td>the bosshoss</td>\n",
       "      <td>189</td>\n",
       "    </tr>\n",
       "    <tr>\n",
       "      <th>33</th>\n",
       "      <td>00000c289a1829a808ac09c00daf10bc3c4e223b</td>\n",
       "      <td>blue öyster cult</td>\n",
       "      <td>185</td>\n",
       "    </tr>\n",
       "    <tr>\n",
       "      <th>34</th>\n",
       "      <td>00000c289a1829a808ac09c00daf10bc3c4e223b</td>\n",
       "      <td>sandra nasic</td>\n",
       "      <td>183</td>\n",
       "    </tr>\n",
       "    <tr>\n",
       "      <th>35</th>\n",
       "      <td>00000c289a1829a808ac09c00daf10bc3c4e223b</td>\n",
       "      <td>john mayer</td>\n",
       "      <td>182</td>\n",
       "    </tr>\n",
       "    <tr>\n",
       "      <th>36</th>\n",
       "      <td>00000c289a1829a808ac09c00daf10bc3c4e223b</td>\n",
       "      <td>sleater-kinney</td>\n",
       "      <td>175</td>\n",
       "    </tr>\n",
       "    <tr>\n",
       "      <th>37</th>\n",
       "      <td>00000c289a1829a808ac09c00daf10bc3c4e223b</td>\n",
       "      <td>the who</td>\n",
       "      <td>168</td>\n",
       "    </tr>\n",
       "    <tr>\n",
       "      <th>38</th>\n",
       "      <td>00000c289a1829a808ac09c00daf10bc3c4e223b</td>\n",
       "      <td>disciple</td>\n",
       "      <td>154</td>\n",
       "    </tr>\n",
       "    <tr>\n",
       "      <th>39</th>\n",
       "      <td>00000c289a1829a808ac09c00daf10bc3c4e223b</td>\n",
       "      <td>tanzwut</td>\n",
       "      <td>153</td>\n",
       "    </tr>\n",
       "    <tr>\n",
       "      <th>40</th>\n",
       "      <td>00000c289a1829a808ac09c00daf10bc3c4e223b</td>\n",
       "      <td>guano apes</td>\n",
       "      <td>151</td>\n",
       "    </tr>\n",
       "    <tr>\n",
       "      <th>41</th>\n",
       "      <td>00000c289a1829a808ac09c00daf10bc3c4e223b</td>\n",
       "      <td>the rolling stones</td>\n",
       "      <td>150</td>\n",
       "    </tr>\n",
       "    <tr>\n",
       "      <th>42</th>\n",
       "      <td>00000c289a1829a808ac09c00daf10bc3c4e223b</td>\n",
       "      <td>little big town</td>\n",
       "      <td>145</td>\n",
       "    </tr>\n",
       "    <tr>\n",
       "      <th>43</th>\n",
       "      <td>00000c289a1829a808ac09c00daf10bc3c4e223b</td>\n",
       "      <td>team dresch</td>\n",
       "      <td>137</td>\n",
       "    </tr>\n",
       "    <tr>\n",
       "      <th>44</th>\n",
       "      <td>00000c289a1829a808ac09c00daf10bc3c4e223b</td>\n",
       "      <td>betty</td>\n",
       "      <td>135</td>\n",
       "    </tr>\n",
       "    <tr>\n",
       "      <th>45</th>\n",
       "      <td>00000c289a1829a808ac09c00daf10bc3c4e223b</td>\n",
       "      <td>l7</td>\n",
       "      <td>135</td>\n",
       "    </tr>\n",
       "    <tr>\n",
       "      <th>46</th>\n",
       "      <td>00000c289a1829a808ac09c00daf10bc3c4e223b</td>\n",
       "      <td>bif naked</td>\n",
       "      <td>134</td>\n",
       "    </tr>\n",
       "    <tr>\n",
       "      <th>47</th>\n",
       "      <td>00000c289a1829a808ac09c00daf10bc3c4e223b</td>\n",
       "      <td>girlschool</td>\n",
       "      <td>134</td>\n",
       "    </tr>\n",
       "    <tr>\n",
       "      <th>48</th>\n",
       "      <td>00000c289a1829a808ac09c00daf10bc3c4e223b</td>\n",
       "      <td>the wallflowers</td>\n",
       "      <td>131</td>\n",
       "    </tr>\n",
       "  </tbody>\n",
       "</table>\n",
       "</div>"
      ],
      "text/plain": [
       "                                     user_id                   artist  play\n",
       "0   00000c289a1829a808ac09c00daf10bc3c4e223b          betty blowtorch  2137\n",
       "1   00000c289a1829a808ac09c00daf10bc3c4e223b                die ärzte  1099\n",
       "2   00000c289a1829a808ac09c00daf10bc3c4e223b        melissa etheridge   897\n",
       "3   00000c289a1829a808ac09c00daf10bc3c4e223b                elvenking   717\n",
       "4   00000c289a1829a808ac09c00daf10bc3c4e223b     juliette & the licks   706\n",
       "5   00000c289a1829a808ac09c00daf10bc3c4e223b    red hot chili peppers   691\n",
       "6   00000c289a1829a808ac09c00daf10bc3c4e223b                   magica   545\n",
       "7   00000c289a1829a808ac09c00daf10bc3c4e223b  the black dahlia murder   507\n",
       "8   00000c289a1829a808ac09c00daf10bc3c4e223b              the murmurs   424\n",
       "9   00000c289a1829a808ac09c00daf10bc3c4e223b               lunachicks   403\n",
       "10  00000c289a1829a808ac09c00daf10bc3c4e223b         walls of jericho   393\n",
       "11  00000c289a1829a808ac09c00daf10bc3c4e223b           letzte instanz   387\n",
       "12  00000c289a1829a808ac09c00daf10bc3c4e223b                goldfrapp   361\n",
       "13  00000c289a1829a808ac09c00daf10bc3c4e223b               horrorpops   358\n",
       "14  00000c289a1829a808ac09c00daf10bc3c4e223b             the butchies   329\n",
       "15  00000c289a1829a808ac09c00daf10bc3c4e223b            jack off jill   316\n",
       "16  00000c289a1829a808ac09c00daf10bc3c4e223b         babes in toyland   310\n",
       "17  00000c289a1829a808ac09c00daf10bc3c4e223b         dropkick murphys   302\n",
       "18  00000c289a1829a808ac09c00daf10bc3c4e223b            all:my:faults   288\n",
       "19  00000c289a1829a808ac09c00daf10bc3c4e223b                 le tigre   281\n",
       "20  00000c289a1829a808ac09c00daf10bc3c4e223b               schandmaul   244\n",
       "21  00000c289a1829a808ac09c00daf10bc3c4e223b                    edguy   232\n",
       "22  00000c289a1829a808ac09c00daf10bc3c4e223b      maximum the hormone   231\n",
       "23  00000c289a1829a808ac09c00daf10bc3c4e223b                 all ends   229\n",
       "24  00000c289a1829a808ac09c00daf10bc3c4e223b             jack johnson   227\n",
       "25  00000c289a1829a808ac09c00daf10bc3c4e223b                eluveitie   222\n",
       "26  00000c289a1829a808ac09c00daf10bc3c4e223b                rasputina   220\n",
       "27  00000c289a1829a808ac09c00daf10bc3c4e223b    london after midnight   210\n",
       "28  00000c289a1829a808ac09c00daf10bc3c4e223b              the killers   208\n",
       "29  00000c289a1829a808ac09c00daf10bc3c4e223b                  mutyumu   205\n",
       "30  00000c289a1829a808ac09c00daf10bc3c4e223b             judas priest   198\n",
       "31  00000c289a1829a808ac09c00daf10bc3c4e223b               rob zombie   198\n",
       "32  00000c289a1829a808ac09c00daf10bc3c4e223b             the bosshoss   189\n",
       "33  00000c289a1829a808ac09c00daf10bc3c4e223b         blue öyster cult   185\n",
       "34  00000c289a1829a808ac09c00daf10bc3c4e223b             sandra nasic   183\n",
       "35  00000c289a1829a808ac09c00daf10bc3c4e223b               john mayer   182\n",
       "36  00000c289a1829a808ac09c00daf10bc3c4e223b           sleater-kinney   175\n",
       "37  00000c289a1829a808ac09c00daf10bc3c4e223b                  the who   168\n",
       "38  00000c289a1829a808ac09c00daf10bc3c4e223b                 disciple   154\n",
       "39  00000c289a1829a808ac09c00daf10bc3c4e223b                  tanzwut   153\n",
       "40  00000c289a1829a808ac09c00daf10bc3c4e223b               guano apes   151\n",
       "41  00000c289a1829a808ac09c00daf10bc3c4e223b       the rolling stones   150\n",
       "42  00000c289a1829a808ac09c00daf10bc3c4e223b          little big town   145\n",
       "43  00000c289a1829a808ac09c00daf10bc3c4e223b              team dresch   137\n",
       "44  00000c289a1829a808ac09c00daf10bc3c4e223b                    betty   135\n",
       "45  00000c289a1829a808ac09c00daf10bc3c4e223b                       l7   135\n",
       "46  00000c289a1829a808ac09c00daf10bc3c4e223b                bif naked   134\n",
       "47  00000c289a1829a808ac09c00daf10bc3c4e223b               girlschool   134\n",
       "48  00000c289a1829a808ac09c00daf10bc3c4e223b          the wallflowers   131"
      ]
     },
     "execution_count": 4,
     "metadata": {},
     "output_type": "execute_result"
    }
   ],
   "source": [
    "condition = (data['user_id']== data.loc[0, 'user_id'])\n",
    "data.loc[condition]"
   ]
  },
  {
   "cell_type": "markdown",
   "id": "corrected-accident",
   "metadata": {},
   "source": [
    "## 데이터 탐색\n",
    "---\n",
    "- 유저수, 아티스트수, 인기 많은 아티스트\n",
    "- 유저들이 몇 명의 아티스트를 듣고 있는지에 대한 통계\n",
    "- 유저 play 횟수 중앙값에 대한 통계"
   ]
  },
  {
   "cell_type": "code",
   "execution_count": 5,
   "id": "civic-union",
   "metadata": {},
   "outputs": [
    {
     "data": {
      "text/plain": [
       "358868"
      ]
     },
     "execution_count": 5,
     "metadata": {},
     "output_type": "execute_result"
    }
   ],
   "source": [
    "# 유저 수\n",
    "data['user_id'].nunique()"
   ]
  },
  {
   "cell_type": "code",
   "execution_count": 6,
   "id": "removed-terminal",
   "metadata": {},
   "outputs": [
    {
     "data": {
      "text/plain": [
       "291346"
      ]
     },
     "execution_count": 6,
     "metadata": {},
     "output_type": "execute_result"
    }
   ],
   "source": [
    "# 아티스트 수\n",
    "data['artist'].nunique()"
   ]
  },
  {
   "cell_type": "code",
   "execution_count": 7,
   "id": "joint-oracle",
   "metadata": {},
   "outputs": [
    {
     "data": {
      "text/plain": [
       "artist\n",
       "radiohead                77254\n",
       "the beatles              76245\n",
       "coldplay                 66658\n",
       "red hot chili peppers    48924\n",
       "muse                     46954\n",
       "metallica                45233\n",
       "pink floyd               44443\n",
       "the killers              41229\n",
       "linkin park              39773\n",
       "nirvana                  39479\n",
       "system of a down         37267\n",
       "queen                    34174\n",
       "u2                       33206\n",
       "daft punk                33001\n",
       "the cure                 32624\n",
       "led zeppelin             32295\n",
       "placebo                  32072\n",
       "depeche mode             31916\n",
       "david bowie              31862\n",
       "bob dylan                31799\n",
       "death cab for cutie      31482\n",
       "arctic monkeys           30348\n",
       "foo fighters             30144\n",
       "air                      29795\n",
       "the rolling stones       29754\n",
       "nine inch nails          28946\n",
       "sigur rós                28901\n",
       "green day                28732\n",
       "massive attack           28691\n",
       "moby                     28232\n",
       "Name: user_id, dtype: int64"
      ]
     },
     "execution_count": 7,
     "metadata": {},
     "output_type": "execute_result"
    }
   ],
   "source": [
    "# 인기 많은 아티스트\n",
    "artist_count = data.groupby('artist')['user_id'].count()\n",
    "artist_count.sort_values(ascending=False).head(30)"
   ]
  },
  {
   "cell_type": "code",
   "execution_count": 8,
   "id": "fatty-liberia",
   "metadata": {},
   "outputs": [
    {
     "data": {
      "text/plain": [
       "count    358868.000000\n",
       "mean         48.863234\n",
       "std           8.524272\n",
       "min           1.000000\n",
       "25%          46.000000\n",
       "50%          49.000000\n",
       "75%          51.000000\n",
       "max         166.000000\n",
       "Name: artist, dtype: float64"
      ]
     },
     "execution_count": 8,
     "metadata": {},
     "output_type": "execute_result"
    }
   ],
   "source": [
    "# 유저별 몇 명의 아티스트를 듣고 있는지에 대한 통계\n",
    "user_count = data.groupby('user_id')['artist'].count()\n",
    "user_count.describe()"
   ]
  },
  {
   "cell_type": "code",
   "execution_count": 9,
   "id": "dramatic-indonesia",
   "metadata": {},
   "outputs": [
    {
     "data": {
      "text/plain": [
       "count    358868.000000\n",
       "mean        142.187676\n",
       "std         213.089902\n",
       "min           1.000000\n",
       "25%          32.000000\n",
       "50%          83.000000\n",
       "75%         180.000000\n",
       "max       50142.000000\n",
       "Name: play, dtype: float64"
      ]
     },
     "execution_count": 9,
     "metadata": {},
     "output_type": "execute_result"
    }
   ],
   "source": [
    "# 유저별 play횟수 중앙값에 대한 통계\n",
    "user_median = data.groupby('user_id')['play'].median()\n",
    "user_median.describe()"
   ]
  },
  {
   "cell_type": "markdown",
   "id": "bored-ukraine",
   "metadata": {},
   "source": [
    "## 모델 검증을 위한 사용자 초기 정보 세팅\n",
    "\n",
    "우리가 만든 추천시스템의 추후 검증 과정을 위해, '나는 A를 좋아한다.'라는 정보를 위 데이터셋에 5개 이상 추가해 주기"
   ]
  },
  {
   "cell_type": "code",
   "execution_count": 10,
   "id": "preliminary-belief",
   "metadata": {},
   "outputs": [
    {
     "data": {
      "text/html": [
       "<div>\n",
       "<style scoped>\n",
       "    .dataframe tbody tr th:only-of-type {\n",
       "        vertical-align: middle;\n",
       "    }\n",
       "\n",
       "    .dataframe tbody tr th {\n",
       "        vertical-align: top;\n",
       "    }\n",
       "\n",
       "    .dataframe thead th {\n",
       "        text-align: right;\n",
       "    }\n",
       "</style>\n",
       "<table border=\"1\" class=\"dataframe\">\n",
       "  <thead>\n",
       "    <tr style=\"text-align: right;\">\n",
       "      <th></th>\n",
       "      <th>user_id</th>\n",
       "      <th>artist</th>\n",
       "      <th>play</th>\n",
       "    </tr>\n",
       "  </thead>\n",
       "  <tbody>\n",
       "    <tr>\n",
       "      <th>17535650</th>\n",
       "      <td>sep 20, 2008</td>\n",
       "      <td>turbostaat</td>\n",
       "      <td>12</td>\n",
       "    </tr>\n",
       "    <tr>\n",
       "      <th>17535651</th>\n",
       "      <td>sep 20, 2008</td>\n",
       "      <td>cuba missouri</td>\n",
       "      <td>11</td>\n",
       "    </tr>\n",
       "    <tr>\n",
       "      <th>17535652</th>\n",
       "      <td>sep 20, 2008</td>\n",
       "      <td>little man tate</td>\n",
       "      <td>11</td>\n",
       "    </tr>\n",
       "    <tr>\n",
       "      <th>17535653</th>\n",
       "      <td>sep 20, 2008</td>\n",
       "      <td>sigur rós</td>\n",
       "      <td>10</td>\n",
       "    </tr>\n",
       "    <tr>\n",
       "      <th>17535654</th>\n",
       "      <td>sep 20, 2008</td>\n",
       "      <td>the smiths</td>\n",
       "      <td>10</td>\n",
       "    </tr>\n",
       "    <tr>\n",
       "      <th>0</th>\n",
       "      <td>zimin</td>\n",
       "      <td>black eyed peas</td>\n",
       "      <td>30</td>\n",
       "    </tr>\n",
       "    <tr>\n",
       "      <th>1</th>\n",
       "      <td>zimin</td>\n",
       "      <td>maroon5</td>\n",
       "      <td>30</td>\n",
       "    </tr>\n",
       "    <tr>\n",
       "      <th>2</th>\n",
       "      <td>zimin</td>\n",
       "      <td>jason mraz</td>\n",
       "      <td>30</td>\n",
       "    </tr>\n",
       "    <tr>\n",
       "      <th>3</th>\n",
       "      <td>zimin</td>\n",
       "      <td>coldplay</td>\n",
       "      <td>30</td>\n",
       "    </tr>\n",
       "    <tr>\n",
       "      <th>4</th>\n",
       "      <td>zimin</td>\n",
       "      <td>beyoncé</td>\n",
       "      <td>30</td>\n",
       "    </tr>\n",
       "  </tbody>\n",
       "</table>\n",
       "</div>"
      ],
      "text/plain": [
       "               user_id           artist  play\n",
       "17535650  sep 20, 2008       turbostaat    12\n",
       "17535651  sep 20, 2008    cuba missouri    11\n",
       "17535652  sep 20, 2008  little man tate    11\n",
       "17535653  sep 20, 2008        sigur rós    10\n",
       "17535654  sep 20, 2008       the smiths    10\n",
       "0                zimin  black eyed peas    30\n",
       "1                zimin          maroon5    30\n",
       "2                zimin       jason mraz    30\n",
       "3                zimin         coldplay    30\n",
       "4                zimin          beyoncé    30"
      ]
     },
     "execution_count": 10,
     "metadata": {},
     "output_type": "execute_result"
    }
   ],
   "source": [
    "# 본인이 좋아하시는 아티스트 데이터로 바꿔서 추가하셔도 됩니다! 단, 이름은 꼭 데이터셋에 있는 것과 동일하게 맞춰주세요. \n",
    "my_favorite = ['black eyed peas' , 'maroon5' ,'jason mraz' ,'coldplay' ,'beyoncé']\n",
    "\n",
    "# 'zimin'이라는 user_id가 위 아티스트의 노래를 30회씩 들었다고 가정하겠습니다.\n",
    "my_playlist = pd.DataFrame({'user_id': ['zimin']*5, 'artist': my_favorite, 'play':[30]*5})\n",
    "\n",
    "if not data.isin({'user_id':['zimin']})['user_id'].any():  # user_id에 'zimin'이라는 데이터가 없다면\n",
    "    data = data.append(my_playlist)                           # 위에 임의로 만든 my_favorite 데이터를 추가해 줍니다. \n",
    "\n",
    "data.tail(10)       # 잘 추가되었는지 확인해 봅시다."
   ]
  },
  {
   "cell_type": "markdown",
   "id": "yellow-rwanda",
   "metadata": {},
   "source": [
    "## 모델에 활용하기 위한 전처리 (실습)\n",
    "\n",
    "pandas.DataFrame.unique()은 특정 컬럼에 포함된 유니크한 데이터만 모아 줍니다. indexing 작업을 위해 매우 유용"
   ]
  },
  {
   "cell_type": "code",
   "execution_count": 11,
   "id": "literary-andrew",
   "metadata": {},
   "outputs": [],
   "source": [
    "# 고유한 유저, 아티스트를 찾아내는 코드\n",
    "user_unique = data['user_id'].unique()\n",
    "artist_unique = data['artist'].unique()\n",
    "\n",
    "# 유저, 아티스트 indexing 하는 코드 idx는 index의 약자입니다.\n",
    "user_to_idx = {v:k for k,v in enumerate(user_unique)}\n",
    "artist_to_idx = {v:k for k,v in enumerate(artist_unique)}"
   ]
  },
  {
   "cell_type": "code",
   "execution_count": 12,
   "id": "vocal-price",
   "metadata": {},
   "outputs": [
    {
     "name": "stdout",
     "output_type": "stream",
     "text": [
      "358868\n",
      "376\n"
     ]
    }
   ],
   "source": [
    "# 인덱싱이 잘 되었는지 확인해 봅니다. \n",
    "print(user_to_idx['zimin'])    # 358869명의 유저 중 마지막으로 추가된 유저이니 358868이 나와야 합니다. \n",
    "print(artist_to_idx['black eyed peas'])"
   ]
  },
  {
   "cell_type": "code",
   "execution_count": 13,
   "id": "figured-philippines",
   "metadata": {},
   "outputs": [
    {
     "name": "stdout",
     "output_type": "stream",
     "text": [
      "user_id column indexing OK!!\n",
      "artist column indexing OK!!\n"
     ]
    },
    {
     "data": {
      "text/html": [
       "<div>\n",
       "<style scoped>\n",
       "    .dataframe tbody tr th:only-of-type {\n",
       "        vertical-align: middle;\n",
       "    }\n",
       "\n",
       "    .dataframe tbody tr th {\n",
       "        vertical-align: top;\n",
       "    }\n",
       "\n",
       "    .dataframe thead th {\n",
       "        text-align: right;\n",
       "    }\n",
       "</style>\n",
       "<table border=\"1\" class=\"dataframe\">\n",
       "  <thead>\n",
       "    <tr style=\"text-align: right;\">\n",
       "      <th></th>\n",
       "      <th>user_id</th>\n",
       "      <th>artist</th>\n",
       "      <th>play</th>\n",
       "    </tr>\n",
       "  </thead>\n",
       "  <tbody>\n",
       "    <tr>\n",
       "      <th>0</th>\n",
       "      <td>0</td>\n",
       "      <td>0</td>\n",
       "      <td>2137</td>\n",
       "    </tr>\n",
       "    <tr>\n",
       "      <th>1</th>\n",
       "      <td>0</td>\n",
       "      <td>1</td>\n",
       "      <td>1099</td>\n",
       "    </tr>\n",
       "    <tr>\n",
       "      <th>2</th>\n",
       "      <td>0</td>\n",
       "      <td>2</td>\n",
       "      <td>897</td>\n",
       "    </tr>\n",
       "    <tr>\n",
       "      <th>3</th>\n",
       "      <td>0</td>\n",
       "      <td>3</td>\n",
       "      <td>717</td>\n",
       "    </tr>\n",
       "    <tr>\n",
       "      <th>4</th>\n",
       "      <td>0</td>\n",
       "      <td>4</td>\n",
       "      <td>706</td>\n",
       "    </tr>\n",
       "    <tr>\n",
       "      <th>...</th>\n",
       "      <td>...</td>\n",
       "      <td>...</td>\n",
       "      <td>...</td>\n",
       "    </tr>\n",
       "    <tr>\n",
       "      <th>0</th>\n",
       "      <td>358868</td>\n",
       "      <td>376</td>\n",
       "      <td>30</td>\n",
       "    </tr>\n",
       "    <tr>\n",
       "      <th>1</th>\n",
       "      <td>358868</td>\n",
       "      <td>270115</td>\n",
       "      <td>30</td>\n",
       "    </tr>\n",
       "    <tr>\n",
       "      <th>2</th>\n",
       "      <td>358868</td>\n",
       "      <td>3746</td>\n",
       "      <td>30</td>\n",
       "    </tr>\n",
       "    <tr>\n",
       "      <th>3</th>\n",
       "      <td>358868</td>\n",
       "      <td>62</td>\n",
       "      <td>30</td>\n",
       "    </tr>\n",
       "    <tr>\n",
       "      <th>4</th>\n",
       "      <td>358868</td>\n",
       "      <td>396</td>\n",
       "      <td>30</td>\n",
       "    </tr>\n",
       "  </tbody>\n",
       "</table>\n",
       "<p>17535660 rows × 3 columns</p>\n",
       "</div>"
      ],
      "text/plain": [
       "    user_id  artist  play\n",
       "0         0       0  2137\n",
       "1         0       1  1099\n",
       "2         0       2   897\n",
       "3         0       3   717\n",
       "4         0       4   706\n",
       "..      ...     ...   ...\n",
       "0    358868     376    30\n",
       "1    358868  270115    30\n",
       "2    358868    3746    30\n",
       "3    358868      62    30\n",
       "4    358868     396    30\n",
       "\n",
       "[17535660 rows x 3 columns]"
      ]
     },
     "execution_count": 13,
     "metadata": {},
     "output_type": "execute_result"
    }
   ],
   "source": [
    "# indexing을 통해 데이터 컬럼 내 값을 바꾸는 코드\n",
    "# dictionary 자료형의 get 함수는 https://wikidocs.net/16 을 참고하세요.\n",
    "\n",
    "# user_to_idx.get을 통해 user_id 컬럼의 모든 값을 인덱싱한 Series를 구해 봅시다. \n",
    "# 혹시 정상적으로 인덱싱되지 않은 row가 있다면 인덱스가 NaN이 될 테니 dropna()로 제거합니다. \n",
    "temp_user_data = data['user_id'].map(user_to_idx.get).dropna()\n",
    "if len(temp_user_data) == len(data):   # 모든 row가 정상적으로 인덱싱되었다면\n",
    "    print('user_id column indexing OK!!')\n",
    "    data['user_id'] = temp_user_data   # data['user_id']을 인덱싱된 Series로 교체해 줍니다. \n",
    "else:\n",
    "    print('user_id column indexing Fail!!')\n",
    "\n",
    "# artist_to_idx을 통해 artist 컬럼도 동일한 방식으로 인덱싱해 줍니다. \n",
    "temp_artist_data = data['artist'].map(artist_to_idx.get).dropna()\n",
    "if len(temp_artist_data) == len(data):\n",
    "    print('artist column indexing OK!!')\n",
    "    data['artist'] = temp_artist_data\n",
    "else:\n",
    "    print('artist column indexing Fail!!')\n",
    "\n",
    "data"
   ]
  },
  {
   "cell_type": "markdown",
   "id": "bearing-hartford",
   "metadata": {},
   "source": [
    "data의 user_id와 artist 컬럼 내 값들이 모두 정수 인덱스 값으로 잘 변경되었으면 훈련을 위한 전처리가 완료"
   ]
  },
  {
   "cell_type": "markdown",
   "id": "alike-confidentiality",
   "metadata": {},
   "source": [
    "## 사용자의 명시적/암묵적 평가"
   ]
  },
  {
   "cell_type": "code",
   "execution_count": 14,
   "id": "foster-scenario",
   "metadata": {},
   "outputs": [
    {
     "name": "stdout",
     "output_type": "stream",
     "text": [
      "147740,17535660\n",
      "Ratio of only_one over all data is 0.84%\n"
     ]
    }
   ],
   "source": [
    "# 1회만 play한 데이터의 비율을 보는 코드\n",
    "only_one = data[data['play']<2]\n",
    "one, all_data = len(only_one), len(data)\n",
    "print(f'{one},{all_data}')\n",
    "print(f'Ratio of only_one over all data is {one/all_data:.2%}')  # f-format에 대한 설명은 https://bit.ly/2DTLqYU"
   ]
  },
  {
   "cell_type": "markdown",
   "id": "spread-serve",
   "metadata": {},
   "source": [
    "앞으로 만들어갈 모델에서는 암묵적 데이터의 해석을 위해 다음과 같은 규칙을 적용\n",
    "\n",
    "---\n",
    "- 한 번이라도 들었으면 선호한다고 판단한다.\n",
    "- 많이 재생한 아티스트에 대해 가중치를 주어서 더 확실히 좋아한다고 판단한다."
   ]
  },
  {
   "cell_type": "markdown",
   "id": "statewide-transport",
   "metadata": {},
   "source": [
    "## Matrix Factorization(MF)\n",
    "\n",
    "m명의 사용자들이 n명의 아티스트에 대해 평가한 데이터를 포함한 (m,n) 사이즈의 평가행렬(Rating Matrix)을 만들 것이다.\n",
    "\n",
    "추천 시스템의 다양한 모델 중 Matrix Factorization(MF, 행렬분해) 모델을 사용\n",
    "\n",
    "(m,n) 사이즈의 행렬 R을 (m,k) 사이즈의 행렬 P와 (k,n) 사이즈의 행렬 Q로 분해한다면 R이란 그저 P와 Q의 행렬곱으로 표현 가능할 수 있다는 간단한 아이디어이며, 대체로 k는 m이나 n보다 훨씬 작은 값이기 때문에 계산량 측면으로도 훨씬 유리해진다. \n",
    "\n",
    "하지만 아이디어의 단순함에도 불구하고 MF 모델은 성능이 준수하고 Scalability가 좋아서 많이 사용되는 모델\n",
    "\n",
    "![](https://github.com/MulderKim/EXPLORATION/blob/main/09/etc/E-3v2-2_ekCv9hW.max-800x600.png?raw=true)\n",
    "\n",
    "(m, k) 사이즈의 Feature Matrix P는 k 차원의 벡터를 사용자 수만큼 모아놓은 행렬\n"
   ]
  },
  {
   "cell_type": "markdown",
   "id": "framed-portal",
   "metadata": {},
   "source": [
    "![m=4, n=5, k=2인 MF 모델](https://github.com/MulderKim/EXPLORATION/blob/main/09/etc/E-3v2-3.max-800x600.png?raw=true)\n",
    "\n",
    "m=4, n=5, k=2인 MF 모델\n",
    "\n",
    "---\n",
    "첫 번째 벡터 P<sub>0</sub> = (1, 0.1)은 바로 빨간 모자를 쓴 첫 번째 사용자의 특성(Feature) 벡터\n",
    "\n",
    "Q 행렬의 첫번째 벡터 Q<sub>0</sub> = (0.9, -0.2)는 해리포터 영화의 특성 벡터\n",
    "\n",
    "MF 모델은 이 두 벡터를 내적해서 얻어지는 0.88이 바로 R<sub>0,0</sub> 으로 정의되는 사용자의 영화 선호도로 보는 모델"
   ]
  },
  {
   "cell_type": "markdown",
   "id": "beginning-blocking",
   "metadata": {},
   "source": [
    "벡터를 잘 만드는 기준은 유저i의 벡터(U<sub>i</sub>)와 아이템j의 벡터(I<sub>j</sub>)를 내적했을 때 유저i가 아이템j에 대해 평가한 수치(M<sub>ij</sub>)와 비슷한지 이며..\n",
    "\n",
    "\n",
    "\n",
    "U<sub>i</sub> &#183; I<sub>j</sub> = M<sub>ij</sub>\n"
   ]
  },
  {
   "cell_type": "markdown",
   "id": "graduate-nursery",
   "metadata": {},
   "source": [
    "## CSR(Compressed Sparse Row) Matrix\n",
    "\n",
    "유저 X 아이템 평가행렬은 유저는 36만 명이고 아티스트는 29만 명입으로 행렬로 표현하고 행렬의 각 원소에 정수 한 개 (1byte)가 들어간다면 약 97GB가 필요하며 97GB나 되는 거대한 행렬을 메모리에 올려놓고 작업한다는 것은 불가능하기 때문에 대안이 되는 것이 CSR(Compressed Sparse Row) Matrix이다\n",
    "\n",
    "CSR Matrix는 Sparse한 matrix에서 0이 아닌 유효한 데이터로 채워지는 데이터의 값과 좌표 정보만으로 구성하여 메모리 사용량을 최소화하면서도 Sparse한 matrix와 동일한 행렬을 표현할 수 있도록 하는 데이터 구조"
   ]
  },
  {
   "cell_type": "code",
   "execution_count": 15,
   "id": "economic-wildlife",
   "metadata": {},
   "outputs": [
    {
     "data": {
      "text/plain": [
       "<358869x291347 sparse matrix of type '<class 'numpy.longlong'>'\n",
       "\twith 17535578 stored elements in Compressed Sparse Row format>"
      ]
     },
     "execution_count": 15,
     "metadata": {},
     "output_type": "execute_result"
    }
   ],
   "source": [
    "# 실습 위에 설명보고 이해해서 만들어보기\n",
    "from scipy.sparse import csr_matrix\n",
    "\n",
    "num_user = data['user_id'].nunique()\n",
    "num_artist = data['artist'].nunique()\n",
    "\n",
    "csr_data = csr_matrix((data.play, (data.user_id, data.artist)), shape= (num_user, num_artist))\n",
    "csr_data"
   ]
  },
  {
   "cell_type": "markdown",
   "id": "opposed-probe",
   "metadata": {},
   "source": [
    "## MF 모델 학습하기\n",
    "\n",
    "- implicit 패키지는 이전 스텝에서 설명한 암묵적(implicit) dataset을 사용하는 다양한 모델을 굉장히 빠르게 학습할 수 있는 패키지입니다.\n",
    "- 이 패키지에 구현된 als(AlternatingLeastSquares) 모델을 사용하겠습니다. Matrix Factorization에서 쪼개진 두 Feature Matrix를 한꺼번에 훈련하는 것은 잘 수렴하지 않기 때문에, 한쪽을 고정시키고 다른 쪽을 학습하는 방식을 번갈아 수행하는 AlternatingLeastSquares 방식이 효과적인 것으로 알려져 있습니다."
   ]
  },
  {
   "cell_type": "code",
   "execution_count": 16,
   "id": "honey-identifier",
   "metadata": {},
   "outputs": [],
   "source": [
    "from implicit.als import AlternatingLeastSquares\n",
    "import os\n",
    "import numpy as np\n",
    "\n",
    "# implicit 라이브러리에서 권장하고 있는 부분입니다. 학습 내용과는 무관합니다.\n",
    "os.environ['OPENBLAS_NUM_THREADS']='1'\n",
    "os.environ['KMP_DUPLICATE_LIB_OK']='True'\n",
    "os.environ['MKL_NUM_THREADS']='1'"
   ]
  },
  {
   "cell_type": "markdown",
   "id": "obvious-serbia",
   "metadata": {},
   "source": [
    "AlternatingLeastSquares 클래스의 __init__ 파라미터를 살펴보면 \n",
    "\n",
    "1. factors : 유저와 아이템의 벡터를 몇 차원으로 할 것인지 \n",
    "\n",
    "2. regularization : 과적합을 방지하기 위해 정규화 값을 얼마나 사용할 것인지 \n",
    "\n",
    "3. use_gpu : GPU를 사용할 것인지 \n",
    "\n",
    "4. iterations : epochs와 같은 의미입니다. 데이터를 몇 번 반복해서 학습할 것인지\n",
    "\n",
    "1,4를 늘릴수록 학습데이터를 잘 학습하게 되지만 과적합의 우려가 있으니 좋은 값을 찾아야 한다"
   ]
  },
  {
   "cell_type": "code",
   "execution_count": 17,
   "id": "negative-tuition",
   "metadata": {},
   "outputs": [],
   "source": [
    "# Implicit AlternatingLeastSquares 모델의 선언\n",
    "als_model = AlternatingLeastSquares(factors=100, regularization=0.01, use_gpu=False, iterations=15, dtype=np.float32)"
   ]
  },
  {
   "cell_type": "code",
   "execution_count": 18,
   "id": "lined-montgomery",
   "metadata": {},
   "outputs": [
    {
     "data": {
      "text/plain": [
       "<291347x358869 sparse matrix of type '<class 'numpy.longlong'>'\n",
       "\twith 17535578 stored elements in Compressed Sparse Column format>"
      ]
     },
     "execution_count": 18,
     "metadata": {},
     "output_type": "execute_result"
    }
   ],
   "source": [
    "# als 모델은 input으로 (item X user 꼴의 matrix를 받기 때문에 Transpose해줍니다.)\n",
    "csr_data_transpose = csr_data.T\n",
    "csr_data_transpose"
   ]
  },
  {
   "cell_type": "code",
   "execution_count": 19,
   "id": "nutritional-housing",
   "metadata": {},
   "outputs": [
    {
     "data": {
      "application/vnd.jupyter.widget-view+json": {
       "model_id": "4267ae6f112d433580672f420045e23a",
       "version_major": 2,
       "version_minor": 0
      },
      "text/plain": [
       "  0%|          | 0/15 [00:00<?, ?it/s]"
      ]
     },
     "metadata": {},
     "output_type": "display_data"
    }
   ],
   "source": [
    "# 모델 훈련\n",
    "als_model.fit(csr_data_transpose)"
   ]
  },
  {
   "cell_type": "markdown",
   "id": "hundred-burner",
   "metadata": {},
   "source": [
    "모델 학습이 끝난뒤 2가지 사항을 살펴보면...\n",
    "\n",
    "1. Zimin 벡터와 black eyed peas의 벡터를 어떻게 만들고 있는지\n",
    "2. 두 벡터를 곱하면 어떤 값이 나오는지"
   ]
  },
  {
   "cell_type": "code",
   "execution_count": 20,
   "id": "otherwise-panama",
   "metadata": {},
   "outputs": [
    {
     "name": "stdout",
     "output_type": "stream",
     "text": [
      "슝=3\n"
     ]
    }
   ],
   "source": [
    "zimin, black_eyed_peas = user_to_idx['zimin'], artist_to_idx['black eyed peas']\n",
    "zimin_vector, black_eyed_peas_vector = als_model.user_factors[zimin], als_model.item_factors[black_eyed_peas]\n",
    "\n",
    "print('슝=3')"
   ]
  },
  {
   "cell_type": "code",
   "execution_count": 21,
   "id": "returning-instrumentation",
   "metadata": {},
   "outputs": [
    {
     "data": {
      "text/plain": [
       "array([ 0.20901926,  0.60070777,  0.16200316, -0.41259056,  0.2027916 ,\n",
       "        1.1197585 , -0.7110972 ,  0.60583496,  0.52546895,  0.61950606,\n",
       "        0.14905703, -0.8690442 ,  0.2654121 , -1.5373814 , -1.3356466 ,\n",
       "        0.09207828,  0.43072334,  1.1442468 , -0.02451817,  0.05684321,\n",
       "        0.27796143,  0.21174172,  0.7725191 , -0.20167674,  1.0101323 ,\n",
       "       -0.57193565, -0.7384177 ,  0.73422456,  0.74019885, -0.67657405,\n",
       "        0.0435327 , -1.3205544 ,  0.24620798,  0.9046062 ,  0.5841672 ,\n",
       "       -0.8914771 , -0.52114046,  0.03771257, -1.203079  , -0.34635836,\n",
       "        0.16804834, -0.867326  ,  0.41654754,  0.47945926,  0.05481883,\n",
       "        1.5679361 ,  0.86389995,  0.6536913 , -0.3405644 , -0.8829239 ,\n",
       "        0.6637837 , -0.15878178,  1.081762  , -0.7276846 ,  0.592462  ,\n",
       "        0.20741072, -0.7606765 , -0.28710538, -1.3288274 , -0.28583115,\n",
       "       -0.80569434,  0.24468529,  0.37989885,  0.9712091 ,  0.9657601 ,\n",
       "        0.03149229, -0.8909956 , -0.06948765, -0.88690907,  0.22130004,\n",
       "        0.9254442 ,  0.23996481, -0.76273704,  0.92561215,  0.19476448,\n",
       "        0.06273253,  1.0074326 , -0.3521789 ,  0.17724499, -0.11358613,\n",
       "        0.38636053, -0.18357821,  0.08710154, -0.29153803, -0.67301184,\n",
       "       -1.6748997 ,  0.45650563, -0.58755016, -0.37161553,  0.09961805,\n",
       "        0.37563163,  0.68858105, -0.43430483, -0.87729985,  0.13517049,\n",
       "        0.23329242, -0.02167645,  0.7884911 ,  1.1063858 , -0.08545928],\n",
       "      dtype=float32)"
      ]
     },
     "execution_count": 21,
     "metadata": {},
     "output_type": "execute_result"
    }
   ],
   "source": [
    "zimin_vector"
   ]
  },
  {
   "cell_type": "code",
   "execution_count": 22,
   "id": "medium-delhi",
   "metadata": {},
   "outputs": [
    {
     "data": {
      "text/plain": [
       "array([ 9.31972824e-03,  1.30458418e-02,  1.79365706e-02,  1.48197236e-02,\n",
       "        1.27608385e-02,  9.59739927e-03,  5.90645988e-03,  1.24716964e-02,\n",
       "        2.26951130e-02,  6.26348192e-03,  3.67239793e-03,  8.63804296e-03,\n",
       "        6.93408540e-03, -1.39793092e-02,  3.43707565e-04, -1.14374114e-02,\n",
       "        1.47572244e-02,  1.67407412e-02,  3.42306495e-03,  1.34130251e-02,\n",
       "        1.57208031e-03,  1.09662339e-02,  1.68288797e-02,  1.64554995e-02,\n",
       "        2.87147183e-02, -3.10877338e-03, -2.67837313e-03,  6.68165740e-03,\n",
       "        9.05041210e-03, -9.21858242e-04,  8.30241852e-03, -2.49872785e-02,\n",
       "        1.98599920e-02,  1.93425119e-02,  1.51445912e-02, -4.90500219e-03,\n",
       "        2.75861868e-03,  8.36817361e-03, -1.51973292e-02,  9.31793172e-03,\n",
       "       -4.56010504e-03,  1.77535918e-02,  6.48722332e-03,  1.75209921e-02,\n",
       "        3.68739828e-03,  2.10793484e-02,  1.93337798e-02,  1.25218146e-02,\n",
       "       -8.47573020e-03,  3.30591272e-03,  1.13621084e-02,  6.37303281e-04,\n",
       "        1.34396916e-02, -8.71520955e-03,  1.18630137e-02,  1.88181948e-04,\n",
       "       -5.08239213e-03,  2.20015645e-02,  3.35968309e-03, -7.00864382e-03,\n",
       "       -4.39055776e-03,  9.42795072e-03,  1.07440539e-03,  3.11165024e-02,\n",
       "        2.13465318e-02,  1.70285664e-02, -2.68510403e-03,  5.55073423e-03,\n",
       "       -5.27604809e-03,  2.12229341e-02,  1.56479627e-02,  9.94609855e-03,\n",
       "       -1.56371016e-02,  3.93518014e-03,  1.68993082e-02,  6.10765070e-03,\n",
       "        1.92688350e-02, -1.24589931e-02,  3.81847308e-03, -1.09477248e-02,\n",
       "        9.39786155e-03,  1.23210587e-02,  7.02053949e-05,  1.88616812e-02,\n",
       "       -8.56657419e-03, -5.68915904e-03,  3.89353512e-03,  4.07299912e-03,\n",
       "        3.87760403e-04,  1.07176099e-02,  9.79149155e-03,  2.85111982e-02,\n",
       "        9.05357476e-04, -1.03561943e-02,  8.79375637e-03,  1.02712158e-02,\n",
       "        1.51576111e-02,  6.79798052e-03,  2.49170922e-02,  1.25767021e-02],\n",
       "      dtype=float32)"
      ]
     },
     "execution_count": 22,
     "metadata": {},
     "output_type": "execute_result"
    }
   ],
   "source": [
    "black_eyed_peas_vector"
   ]
  },
  {
   "cell_type": "code",
   "execution_count": 23,
   "id": "laughing-queen",
   "metadata": {},
   "outputs": [
    {
     "data": {
      "text/plain": [
       "0.5134075"
      ]
     },
     "execution_count": 23,
     "metadata": {},
     "output_type": "execute_result"
    }
   ],
   "source": [
    "# zimin과 black_eyed_peas를 내적하는 코드\n",
    "np.dot(zimin_vector, black_eyed_peas_vector)"
   ]
  },
  {
   "cell_type": "markdown",
   "id": "lesbian-credits",
   "metadata": {},
   "source": [
    "모델이 예시된 queen에 대한 선호도를 어떻게 예측할지 체크"
   ]
  },
  {
   "cell_type": "code",
   "execution_count": 24,
   "id": "fitted-lawyer",
   "metadata": {},
   "outputs": [
    {
     "data": {
      "text/plain": [
       "0.3070207"
      ]
     },
     "execution_count": 24,
     "metadata": {},
     "output_type": "execute_result"
    }
   ],
   "source": [
    "queen = artist_to_idx['queen']\n",
    "queen_vector = als_model.item_factors[queen]\n",
    "np.dot(zimin_vector, queen_vector)"
   ]
  },
  {
   "cell_type": "markdown",
   "id": "polish-tucson",
   "metadata": {},
   "source": [
    "## 비슷한 아티스트 찾기 + 유저에게 추천하기\n",
    "\n",
    "비슷한 아티스트 찾기\n",
    "\n",
    "AlternatingLeastSquares 클래스에 구현되어 있는 similar_items 메서드를 통하여 비슷한 아티스트를 찾아볼수 있다."
   ]
  },
  {
   "cell_type": "code",
   "execution_count": 25,
   "id": "overall-citizenship",
   "metadata": {},
   "outputs": [
    {
     "data": {
      "text/plain": [
       "[(62, 1.0),\n",
       " (277, 0.98584783),\n",
       " (28, 0.983517),\n",
       " (5, 0.9771919),\n",
       " (217, 0.96870023),\n",
       " (490, 0.9682188),\n",
       " (473, 0.966595),\n",
       " (247, 0.965728),\n",
       " (418, 0.96102875),\n",
       " (910, 0.95119715),\n",
       " (268, 0.95020217),\n",
       " (694, 0.94814324),\n",
       " (1018, 0.9458513),\n",
       " (55, 0.94384474),\n",
       " (776, 0.9342415)]"
      ]
     },
     "execution_count": 25,
     "metadata": {},
     "output_type": "execute_result"
    }
   ],
   "source": [
    "favorite_artist = 'coldplay'\n",
    "artist_id = artist_to_idx[favorite_artist]\n",
    "similar_artist = als_model.similar_items(artist_id, N=15)\n",
    "similar_artist"
   ]
  },
  {
   "cell_type": "markdown",
   "id": "normal-strategy",
   "metadata": {},
   "source": [
    "(아티스트의 id, 유사도) Tuple 로 반환하고 있음을 확인할 수 있다. 아티스트의 id를 다시 아티스트의 이름으로 매핑 시켜 보면.."
   ]
  },
  {
   "cell_type": "code",
   "execution_count": 26,
   "id": "average-announcement",
   "metadata": {},
   "outputs": [
    {
     "data": {
      "text/plain": [
       "['coldplay',\n",
       " 'muse',\n",
       " 'the killers',\n",
       " 'red hot chili peppers',\n",
       " 'radiohead',\n",
       " 'oasis',\n",
       " 'placebo',\n",
       " 'the beatles',\n",
       " 'u2',\n",
       " 'nirvana',\n",
       " 'pink floyd',\n",
       " 'foo fighters',\n",
       " 'the smashing pumpkins',\n",
       " 'arctic monkeys',\n",
       " 'the cure']"
      ]
     },
     "execution_count": 26,
     "metadata": {},
     "output_type": "execute_result"
    }
   ],
   "source": [
    "#artist_to_idx 를 뒤집어, index로부터 artist 이름을 얻는 dict를 생성합니다. \n",
    "idx_to_artist = {v:k for k,v in artist_to_idx.items()}\n",
    "[idx_to_artist[i[0]] for i in similar_artist]"
   ]
  },
  {
   "cell_type": "markdown",
   "id": "proof-event",
   "metadata": {},
   "source": [
    "몇 번 더 반복해서 확인하기 위해 위의 코드를 함수로 만들고 확인해보면..."
   ]
  },
  {
   "cell_type": "code",
   "execution_count": 27,
   "id": "proof-scoop",
   "metadata": {},
   "outputs": [
    {
     "name": "stdout",
     "output_type": "stream",
     "text": [
      "슝=3\n"
     ]
    }
   ],
   "source": [
    "def get_similar_artist(artist_name: str):\n",
    "    artist_id = artist_to_idx[artist_name]\n",
    "    similar_artist = als_model.similar_items(artist_id)\n",
    "    similar_artist = [idx_to_artist[i[0]] for i in similar_artist]\n",
    "    return similar_artist\n",
    "\n",
    "print(\"슝=3\")"
   ]
  },
  {
   "cell_type": "markdown",
   "id": "fossil-output",
   "metadata": {},
   "source": [
    "2pac 으로 확인해보면..."
   ]
  },
  {
   "cell_type": "code",
   "execution_count": 28,
   "id": "extraordinary-taiwan",
   "metadata": {},
   "outputs": [
    {
     "data": {
      "text/plain": [
       "['2pac',\n",
       " 'dr. dre',\n",
       " 'notorious b.i.g.',\n",
       " 'nas',\n",
       " 'the game',\n",
       " 'jay-z',\n",
       " 'bone thugs-n-harmony',\n",
       " 'ice cube',\n",
       " 'snoop dogg',\n",
       " '50 cent']"
      ]
     },
     "execution_count": 28,
     "metadata": {},
     "output_type": "execute_result"
    }
   ],
   "source": [
    "get_similar_artist('2pac')"
   ]
  },
  {
   "cell_type": "markdown",
   "id": "hundred-annual",
   "metadata": {},
   "source": [
    "lady gaga 로 확인해보면..."
   ]
  },
  {
   "cell_type": "code",
   "execution_count": 29,
   "id": "civil-airfare",
   "metadata": {},
   "outputs": [
    {
     "data": {
      "text/plain": [
       "['lady gaga',\n",
       " 'britney spears',\n",
       " 'katy perry',\n",
       " 'rihanna',\n",
       " 'beyoncé',\n",
       " 'the pussycat dolls',\n",
       " 'christina aguilera',\n",
       " 'pink',\n",
       " 'nelly furtado',\n",
       " 'kelly clarkson']"
      ]
     },
     "execution_count": 29,
     "metadata": {},
     "output_type": "execute_result"
    }
   ],
   "source": [
    "get_similar_artist('lady gaga')"
   ]
  },
  {
   "cell_type": "markdown",
   "id": "animated-reverse",
   "metadata": {},
   "source": [
    "유저에게 아티스트 추천하기\n",
    "\n",
    "AlternatingLeastSquares 클래스에 구현되어 있는 recommend 메서드를 통하여 좋아할 만한 아티스트를 추천받는다. \n",
    "\n",
    "filter_already_liked_items 는 유저가 이미 평가한 아이템은 제외하는 Argument 이다."
   ]
  },
  {
   "cell_type": "code",
   "execution_count": 30,
   "id": "rising-semester",
   "metadata": {},
   "outputs": [
    {
     "data": {
      "text/plain": [
       "[(350, 0.46671638),\n",
       " (627, 0.46282348),\n",
       " (550, 0.45131847),\n",
       " (1800, 0.45056957),\n",
       " (2249, 0.44519126),\n",
       " (369, 0.44306654),\n",
       " (724, 0.4287903),\n",
       " (354, 0.42779592),\n",
       " (274, 0.4243111),\n",
       " (382, 0.4155081),\n",
       " (409, 0.41482753),\n",
       " (564, 0.4017088),\n",
       " (901, 0.40122712),\n",
       " (355, 0.3934034),\n",
       " (391, 0.38730523),\n",
       " (3005, 0.37828487),\n",
       " (5555, 0.36662924),\n",
       " (618, 0.36296374),\n",
       " (621, 0.35721302),\n",
       " (24, 0.35548085)]"
      ]
     },
     "execution_count": 30,
     "metadata": {},
     "output_type": "execute_result"
    }
   ],
   "source": [
    "user = user_to_idx['zimin']\n",
    "# recommend에서는 user*item CSR Matrix를 받습니다.\n",
    "artist_recommended = als_model.recommend(user, csr_data, N=20, filter_already_liked_items=True)\n",
    "artist_recommended"
   ]
  },
  {
   "cell_type": "code",
   "execution_count": 31,
   "id": "stable-edinburgh",
   "metadata": {},
   "outputs": [
    {
     "data": {
      "text/plain": [
       "['rihanna',\n",
       " 'maroon 5',\n",
       " 'britney spears',\n",
       " 'lady gaga',\n",
       " 'katy perry',\n",
       " 'justin timberlake',\n",
       " 'lily allen',\n",
       " 'nelly furtado',\n",
       " 'michael jackson',\n",
       " 'mika',\n",
       " 'amy winehouse',\n",
       " 'kanye west',\n",
       " 'pink',\n",
       " 'madonna',\n",
       " 'christina aguilera',\n",
       " 'duffy',\n",
       " 'timbaland',\n",
       " 'the pussycat dolls',\n",
       " 'alicia keys',\n",
       " 'jack johnson']"
      ]
     },
     "execution_count": 31,
     "metadata": {},
     "output_type": "execute_result"
    }
   ],
   "source": [
    "[idx_to_artist[i[0]] for i in artist_recommended]"
   ]
  },
  {
   "cell_type": "markdown",
   "id": "banner-killing",
   "metadata": {},
   "source": [
    "rihanna를 추천해주는 이유는? AlternatingLeastSquares 클래스에 구현된 explain 메소드를 사용하면 기록을 남긴 데이터 중 이 추천에 기여한 정도를 확인할 수 있다."
   ]
  },
  {
   "cell_type": "code",
   "execution_count": 32,
   "id": "olive-touch",
   "metadata": {},
   "outputs": [],
   "source": [
    "rihanna = artist_to_idx['rihanna']\n",
    "explain = als_model.explain(user, csr_data, itemid=rihanna)"
   ]
  },
  {
   "cell_type": "markdown",
   "id": "female-cannon",
   "metadata": {},
   "source": [
    "이 method는 추천한 콘텐츠의 점수에 기여한 다른 콘텐츠와 기여도(합이 콘텐츠의 점수가 됩니다.)를 반환하한다."
   ]
  },
  {
   "cell_type": "code",
   "execution_count": 33,
   "id": "fewer-newfoundland",
   "metadata": {},
   "outputs": [
    {
     "data": {
      "text/plain": [
       "[('beyoncé', 0.21174005191451922),\n",
       " ('black eyed peas', 0.14406602449745617),\n",
       " ('jason mraz', 0.0695895732368319),\n",
       " ('coldplay', 0.04372703708203175),\n",
       " ('maroon5', 0.00025945150381487996)]"
      ]
     },
     "execution_count": 33,
     "metadata": {},
     "output_type": "execute_result"
    }
   ],
   "source": [
    "[(idx_to_artist[i[0]], i[1]) for i in explain[1]]"
   ]
  },
  {
   "cell_type": "markdown",
   "id": "expressed-notification",
   "metadata": {},
   "source": [
    "filter_already_liked_items=True로 했는데 앞에 maroon 5는 이미 평가한 아이템이 나오는것을 확인할 수 있는데.. \n",
    "\n",
    "이것은 implicit 버전 0.4.2에서 생긴 버그이며, 코드는 사람이 만들기 때문에 이렇게 실수할 가능성이 있다."
   ]
  },
  {
   "cell_type": "markdown",
   "id": "suspected-logic",
   "metadata": {},
   "source": [
    "### 마무리\n",
    "\n",
    "---\n",
    "\n",
    "추천시스템에서 Baseline으로 많이 사용되는 MF를 통해 유저에게 아티스트를 추천해보았으며 추천시스템 관련 task에서 기본 모델을 만드실 수 있을까??\n",
    "\n",
    "실습으로 만든 모델은 몇 가지 아쉬운 점이 있는데.... \n",
    "\n",
    "1. 유저, 아티스트에 대한 Meta 정보를 반영하기 쉽지 않습니다. 연령대별로 음악 취향이 굉장히 다르지 않을까요? \n",
    "2. 유저가 언제 play 했는지에 반영하기 쉽지 않습니다. 10년 전에 즐겨듣던 아티스트와 지금 즐겨듣는 아티스트를 비교해보세요.\n",
    "\n",
    "이러한 이유와 딥러닝의 발전으로 MF 이외의 모델 구조도 많이 연구/ 사용되고 있다. 하지만 어떤 추천 모델도 핵심은 MF와 비슷합니다.\n",
    "\n",
    "유저와 아이템에 대한 벡터를 잘 학습하여 취향에 맞게(유저에 맞게) 아이템을 보여주거나(Retrieval) 걸러내는(Filtering) 역할입니다."
   ]
  },
  {
   "cell_type": "markdown",
   "id": "hundred-profit",
   "metadata": {},
   "source": [
    "## 프로젝트 - Movielens 영화 추천 실습\n",
    "\n",
    " MF 모델 학습 방법을 토대로, 내가 좋아할 만한 영화 추천 시스템을 제작해 보자.\n",
    " \n",
    " 이번에 활용할 데이터셋은 추천시스템의 MNIST라고 부를만한 Movielens 데이터로 데이터의 속성 및 특징 그리고 실습방법은 \n",
    " \n",
    "- 유저가 영화에 대해 평점을 매긴 데이터가 데이터 크기 별로 있습니다. MovieLens 1M Dataset 사용을 권장.\n",
    "- 별점 데이터는 대표적인 explicit 데이터이지만 implicit 데이터로 간주하고 테스트해볼 수 있다.\n",
    "- 별점을 시청횟수로 해석하며 유저가 3점 미만으로 준 데이터는 선호하지 않는다고 가정하고 제외하고 실습할 예정."
   ]
  },
  {
   "cell_type": "markdown",
   "id": "incorrect-spotlight",
   "metadata": {},
   "source": [
    "Cloud Storage에 미리 업로드 된 ml-1m폴더 내 파일을 심볼릭 링크로 개인 storage에 연결 \n",
    "\n",
    "$ mkdir -p ~/aiffel/EXPLORATION/09/recommendata_iu/data/ml-1m\n",
    "\n",
    "$ ln -s ~/data/ml-1m/* ~/aiffel/EXPLORATION/09/recommendata_iu/data/ml-1m"
   ]
  },
  {
   "cell_type": "markdown",
   "id": "fluid-parliament",
   "metadata": {},
   "source": [
    "### 데이터 준비와 전처리\n",
    "\n",
    "필요한 라이브러리 가져오기"
   ]
  },
  {
   "cell_type": "code",
   "execution_count": 34,
   "id": "advisory-feeding",
   "metadata": {},
   "outputs": [],
   "source": [
    "import os\n",
    "import pandas as pd\n",
    "import numpy as np\n",
    "from scipy.sparse import csr_matrix\n",
    "from implicit.als import AlternatingLeastSquares\n",
    "import os\n",
    "import numpy as np"
   ]
  },
  {
   "cell_type": "markdown",
   "id": "differential-brooklyn",
   "metadata": {},
   "source": [
    "데이터 불러오기"
   ]
  },
  {
   "cell_type": "code",
   "execution_count": 35,
   "id": "unusual-magnet",
   "metadata": {},
   "outputs": [
    {
     "data": {
      "text/html": [
       "<div>\n",
       "<style scoped>\n",
       "    .dataframe tbody tr th:only-of-type {\n",
       "        vertical-align: middle;\n",
       "    }\n",
       "\n",
       "    .dataframe tbody tr th {\n",
       "        vertical-align: top;\n",
       "    }\n",
       "\n",
       "    .dataframe thead th {\n",
       "        text-align: right;\n",
       "    }\n",
       "</style>\n",
       "<table border=\"1\" class=\"dataframe\">\n",
       "  <thead>\n",
       "    <tr style=\"text-align: right;\">\n",
       "      <th></th>\n",
       "      <th>user_id</th>\n",
       "      <th>movie_id</th>\n",
       "      <th>rating</th>\n",
       "      <th>timestamp</th>\n",
       "    </tr>\n",
       "  </thead>\n",
       "  <tbody>\n",
       "    <tr>\n",
       "      <th>0</th>\n",
       "      <td>1</td>\n",
       "      <td>1193</td>\n",
       "      <td>5</td>\n",
       "      <td>978300760</td>\n",
       "    </tr>\n",
       "    <tr>\n",
       "      <th>1</th>\n",
       "      <td>1</td>\n",
       "      <td>661</td>\n",
       "      <td>3</td>\n",
       "      <td>978302109</td>\n",
       "    </tr>\n",
       "    <tr>\n",
       "      <th>2</th>\n",
       "      <td>1</td>\n",
       "      <td>914</td>\n",
       "      <td>3</td>\n",
       "      <td>978301968</td>\n",
       "    </tr>\n",
       "    <tr>\n",
       "      <th>3</th>\n",
       "      <td>1</td>\n",
       "      <td>3408</td>\n",
       "      <td>4</td>\n",
       "      <td>978300275</td>\n",
       "    </tr>\n",
       "    <tr>\n",
       "      <th>4</th>\n",
       "      <td>1</td>\n",
       "      <td>2355</td>\n",
       "      <td>5</td>\n",
       "      <td>978824291</td>\n",
       "    </tr>\n",
       "    <tr>\n",
       "      <th>5</th>\n",
       "      <td>1</td>\n",
       "      <td>1197</td>\n",
       "      <td>3</td>\n",
       "      <td>978302268</td>\n",
       "    </tr>\n",
       "    <tr>\n",
       "      <th>6</th>\n",
       "      <td>1</td>\n",
       "      <td>1287</td>\n",
       "      <td>5</td>\n",
       "      <td>978302039</td>\n",
       "    </tr>\n",
       "    <tr>\n",
       "      <th>7</th>\n",
       "      <td>1</td>\n",
       "      <td>2804</td>\n",
       "      <td>5</td>\n",
       "      <td>978300719</td>\n",
       "    </tr>\n",
       "    <tr>\n",
       "      <th>8</th>\n",
       "      <td>1</td>\n",
       "      <td>594</td>\n",
       "      <td>4</td>\n",
       "      <td>978302268</td>\n",
       "    </tr>\n",
       "    <tr>\n",
       "      <th>9</th>\n",
       "      <td>1</td>\n",
       "      <td>919</td>\n",
       "      <td>4</td>\n",
       "      <td>978301368</td>\n",
       "    </tr>\n",
       "  </tbody>\n",
       "</table>\n",
       "</div>"
      ],
      "text/plain": [
       "   user_id  movie_id  rating  timestamp\n",
       "0        1      1193       5  978300760\n",
       "1        1       661       3  978302109\n",
       "2        1       914       3  978301968\n",
       "3        1      3408       4  978300275\n",
       "4        1      2355       5  978824291\n",
       "5        1      1197       3  978302268\n",
       "6        1      1287       5  978302039\n",
       "7        1      2804       5  978300719\n",
       "8        1       594       4  978302268\n",
       "9        1       919       4  978301368"
      ]
     },
     "execution_count": 35,
     "metadata": {},
     "output_type": "execute_result"
    }
   ],
   "source": [
    "rating_file_path=os.getenv('HOME') + '/aiffel/EXPLORATION/09/recommendata_iu/data/ml-1m/ratings.dat'\n",
    "ratings_cols = ['user_id', 'movie_id', 'rating', 'timestamp']\n",
    "ratings = pd.read_csv(rating_file_path, sep='::', names=ratings_cols, engine='python')\n",
    "orginal_data_size = len(ratings)\n",
    "ratings.head(10)"
   ]
  },
  {
   "cell_type": "markdown",
   "id": "located-strain",
   "metadata": {},
   "source": [
    "rating이 3점 미만 제외..."
   ]
  },
  {
   "cell_type": "code",
   "execution_count": 36,
   "id": "rising-painting",
   "metadata": {},
   "outputs": [
    {
     "name": "stdout",
     "output_type": "stream",
     "text": [
      "orginal_data_size: 1000209, filtered_data_size: 836478\n",
      "Ratio of Remaining Data is 83.63%\n"
     ]
    }
   ],
   "source": [
    "ratings = ratings[ratings['rating']>=3]\n",
    "filtered_data_size = len(ratings)\n",
    "\n",
    "print(f'orginal_data_size: {orginal_data_size}, filtered_data_size: {filtered_data_size}')\n",
    "print(f'Ratio of Remaining Data is {filtered_data_size / orginal_data_size:.2%}')"
   ]
  },
  {
   "cell_type": "markdown",
   "id": "sought-dealing",
   "metadata": {},
   "source": [
    "별점을 시청횟수로 가정하였으므로 rating -> count로"
   ]
  },
  {
   "cell_type": "code",
   "execution_count": 37,
   "id": "stuffed-smart",
   "metadata": {},
   "outputs": [],
   "source": [
    "# rating 컬럼의 이름을 count로 바꿉니다.\n",
    "ratings.rename(columns={'rating':'count'}, inplace=True)"
   ]
  },
  {
   "cell_type": "code",
   "execution_count": 38,
   "id": "amateur-bubble",
   "metadata": {},
   "outputs": [
    {
     "data": {
      "text/plain": [
       "0          5\n",
       "1          3\n",
       "2          3\n",
       "3          4\n",
       "4          5\n",
       "          ..\n",
       "1000203    3\n",
       "1000205    5\n",
       "1000206    5\n",
       "1000207    4\n",
       "1000208    4\n",
       "Name: count, Length: 836478, dtype: int64"
      ]
     },
     "execution_count": 38,
     "metadata": {},
     "output_type": "execute_result"
    }
   ],
   "source": [
    "ratings['count']"
   ]
  },
  {
   "cell_type": "markdown",
   "id": "solved-drama",
   "metadata": {},
   "source": [
    "영화 제목을 보기 위해 메타 데이터 불러오기"
   ]
  },
  {
   "cell_type": "code",
   "execution_count": 39,
   "id": "recreational-screening",
   "metadata": {},
   "outputs": [
    {
     "data": {
      "text/html": [
       "<div>\n",
       "<style scoped>\n",
       "    .dataframe tbody tr th:only-of-type {\n",
       "        vertical-align: middle;\n",
       "    }\n",
       "\n",
       "    .dataframe tbody tr th {\n",
       "        vertical-align: top;\n",
       "    }\n",
       "\n",
       "    .dataframe thead th {\n",
       "        text-align: right;\n",
       "    }\n",
       "</style>\n",
       "<table border=\"1\" class=\"dataframe\">\n",
       "  <thead>\n",
       "    <tr style=\"text-align: right;\">\n",
       "      <th></th>\n",
       "      <th>movie_id</th>\n",
       "      <th>title</th>\n",
       "      <th>genre</th>\n",
       "    </tr>\n",
       "  </thead>\n",
       "  <tbody>\n",
       "    <tr>\n",
       "      <th>0</th>\n",
       "      <td>1</td>\n",
       "      <td>Toy Story (1995)</td>\n",
       "      <td>Animation|Children's|Comedy</td>\n",
       "    </tr>\n",
       "    <tr>\n",
       "      <th>1</th>\n",
       "      <td>2</td>\n",
       "      <td>Jumanji (1995)</td>\n",
       "      <td>Adventure|Children's|Fantasy</td>\n",
       "    </tr>\n",
       "    <tr>\n",
       "      <th>2</th>\n",
       "      <td>3</td>\n",
       "      <td>Grumpier Old Men (1995)</td>\n",
       "      <td>Comedy|Romance</td>\n",
       "    </tr>\n",
       "    <tr>\n",
       "      <th>3</th>\n",
       "      <td>4</td>\n",
       "      <td>Waiting to Exhale (1995)</td>\n",
       "      <td>Comedy|Drama</td>\n",
       "    </tr>\n",
       "    <tr>\n",
       "      <th>4</th>\n",
       "      <td>5</td>\n",
       "      <td>Father of the Bride Part II (1995)</td>\n",
       "      <td>Comedy</td>\n",
       "    </tr>\n",
       "  </tbody>\n",
       "</table>\n",
       "</div>"
      ],
      "text/plain": [
       "   movie_id                               title                         genre\n",
       "0         1                    Toy Story (1995)   Animation|Children's|Comedy\n",
       "1         2                      Jumanji (1995)  Adventure|Children's|Fantasy\n",
       "2         3             Grumpier Old Men (1995)                Comedy|Romance\n",
       "3         4            Waiting to Exhale (1995)                  Comedy|Drama\n",
       "4         5  Father of the Bride Part II (1995)                        Comedy"
      ]
     },
     "execution_count": 39,
     "metadata": {},
     "output_type": "execute_result"
    }
   ],
   "source": [
    "# 영화 제목을 보기 위해 메타 데이터를 읽어옵니다.\n",
    "movie_file_path=os.getenv('HOME') + '/aiffel/EXPLORATION/09/recommendata_iu/data/ml-1m/movies.dat'\n",
    "cols = ['movie_id', 'title', 'genre'] \n",
    "movies = pd.read_csv(movie_file_path, sep='::', names=cols, engine='python', encoding='ISO-8859-1')\n",
    "movies.head()"
   ]
  },
  {
   "cell_type": "markdown",
   "id": "reasonable-indication",
   "metadata": {},
   "source": [
    "### 분석해 봅시다.\n",
    "\n",
    "---\n",
    "\n",
    "- ratings에 있는 유니크한 영화 개수\n",
    "- rating에 있는 유니크한 사용자 수\n",
    "- 가장 인기 있는 영화 30개(인기순)"
   ]
  },
  {
   "cell_type": "code",
   "execution_count": 40,
   "id": "selected-antarctica",
   "metadata": {},
   "outputs": [
    {
     "name": "stdout",
     "output_type": "stream",
     "text": [
      "3628\n"
     ]
    }
   ],
   "source": [
    "print(ratings['movie_id'].nunique())  # ratings에 있는 유니크한 영화 개수"
   ]
  },
  {
   "cell_type": "code",
   "execution_count": 41,
   "id": "italic-senior",
   "metadata": {},
   "outputs": [
    {
     "name": "stdout",
     "output_type": "stream",
     "text": [
      "6039\n"
     ]
    }
   ],
   "source": [
    "print(ratings['user_id'].nunique())  # rating에 있는 유니크한 사용자 수"
   ]
  },
  {
   "cell_type": "code",
   "execution_count": 42,
   "id": "inappropriate-sensitivity",
   "metadata": {},
   "outputs": [
    {
     "data": {
      "text/plain": [
       "title\n",
       "American Beauty (1999)                                   3211\n",
       "Star Wars: Episode IV - A New Hope (1977)                2910\n",
       "Star Wars: Episode V - The Empire Strikes Back (1980)    2885\n",
       "Star Wars: Episode VI - Return of the Jedi (1983)        2716\n",
       "Saving Private Ryan (1998)                               2561\n",
       "Terminator 2: Judgment Day (1991)                        2509\n",
       "Silence of the Lambs, The (1991)                         2498\n",
       "Raiders of the Lost Ark (1981)                           2473\n",
       "Back to the Future (1985)                                2460\n",
       "Matrix, The (1999)                                       2434\n",
       "Jurassic Park (1993)                                     2413\n",
       "Sixth Sense, The (1999)                                  2385\n",
       "Fargo (1996)                                             2371\n",
       "Braveheart (1995)                                        2314\n",
       "Men in Black (1997)                                      2297\n",
       "Schindler's List (1993)                                  2257\n",
       "Princess Bride, The (1987)                               2252\n",
       "Shakespeare in Love (1998)                               2213\n",
       "L.A. Confidential (1997)                                 2210\n",
       "Shawshank Redemption, The (1994)                         2194\n",
       "Godfather, The (1972)                                    2167\n",
       "Groundhog Day (1993)                                     2121\n",
       "E.T. the Extra-Terrestrial (1982)                        2102\n",
       "Being John Malkovich (1999)                              2066\n",
       "Ghostbusters (1984)                                      2051\n",
       "Pulp Fiction (1994)                                      2030\n",
       "Forrest Gump (1994)                                      2022\n",
       "Terminator, The (1984)                                   2019\n",
       "Toy Story (1995)                                         2000\n",
       "Fugitive, The (1993)                                     1941\n",
       "Name: user_id, dtype: int64"
      ]
     },
     "execution_count": 42,
     "metadata": {},
     "output_type": "execute_result"
    }
   ],
   "source": [
    "# 앞선 두 데이터프레임을 합쳐서 출력해보기\n",
    "mv_total = pd.merge(ratings, movies, how='left')\n",
    "mv_total\n",
    "\n",
    "mv_count = mv_total.groupby('title')['user_id'].count()\n",
    "mv_count.sort_values(ascending=False).head(30)"
   ]
  },
  {
   "cell_type": "markdown",
   "id": "copyrighted-november",
   "metadata": {},
   "source": [
    "### 내가 선호하는 영화를 5가지 골라서 rating에 추가해 줍시다.\n",
    "\n",
    "영화제목 찾기"
   ]
  },
  {
   "cell_type": "code",
   "execution_count": 43,
   "id": "loaded-empty",
   "metadata": {},
   "outputs": [
    {
     "data": {
      "text/html": [
       "<div>\n",
       "<style scoped>\n",
       "    .dataframe tbody tr th:only-of-type {\n",
       "        vertical-align: middle;\n",
       "    }\n",
       "\n",
       "    .dataframe tbody tr th {\n",
       "        vertical-align: top;\n",
       "    }\n",
       "\n",
       "    .dataframe thead th {\n",
       "        text-align: right;\n",
       "    }\n",
       "</style>\n",
       "<table border=\"1\" class=\"dataframe\">\n",
       "  <thead>\n",
       "    <tr style=\"text-align: right;\">\n",
       "      <th></th>\n",
       "      <th>movie_id</th>\n",
       "      <th>title</th>\n",
       "      <th>genre</th>\n",
       "    </tr>\n",
       "  </thead>\n",
       "  <tbody>\n",
       "    <tr>\n",
       "      <th>257</th>\n",
       "      <td>260</td>\n",
       "      <td>Star Wars: Episode IV - A New Hope (1977)</td>\n",
       "      <td>Action|Adventure|Fantasy|Sci-Fi</td>\n",
       "    </tr>\n",
       "    <tr>\n",
       "      <th>1178</th>\n",
       "      <td>1196</td>\n",
       "      <td>Star Wars: Episode V - The Empire Strikes Back...</td>\n",
       "      <td>Action|Adventure|Drama|Sci-Fi|War</td>\n",
       "    </tr>\n",
       "    <tr>\n",
       "      <th>1192</th>\n",
       "      <td>1210</td>\n",
       "      <td>Star Wars: Episode VI - Return of the Jedi (1983)</td>\n",
       "      <td>Action|Adventure|Romance|Sci-Fi|War</td>\n",
       "    </tr>\n",
       "    <tr>\n",
       "      <th>2559</th>\n",
       "      <td>2628</td>\n",
       "      <td>Star Wars: Episode I - The Phantom Menace (1999)</td>\n",
       "      <td>Action|Adventure|Fantasy|Sci-Fi</td>\n",
       "    </tr>\n",
       "  </tbody>\n",
       "</table>\n",
       "</div>"
      ],
      "text/plain": [
       "      movie_id                                              title  \\\n",
       "257        260          Star Wars: Episode IV - A New Hope (1977)   \n",
       "1178      1196  Star Wars: Episode V - The Empire Strikes Back...   \n",
       "1192      1210  Star Wars: Episode VI - Return of the Jedi (1983)   \n",
       "2559      2628   Star Wars: Episode I - The Phantom Menace (1999)   \n",
       "\n",
       "                                    genre  \n",
       "257       Action|Adventure|Fantasy|Sci-Fi  \n",
       "1178    Action|Adventure|Drama|Sci-Fi|War  \n",
       "1192  Action|Adventure|Romance|Sci-Fi|War  \n",
       "2559      Action|Adventure|Fantasy|Sci-Fi  "
      ]
     },
     "execution_count": 43,
     "metadata": {},
     "output_type": "execute_result"
    }
   ],
   "source": [
    "movies[movies['title'].str.lower().str.contains('star wars')]"
   ]
  },
  {
   "cell_type": "code",
   "execution_count": 44,
   "id": "municipal-innocent",
   "metadata": {},
   "outputs": [
    {
     "data": {
      "text/html": [
       "<div>\n",
       "<style scoped>\n",
       "    .dataframe tbody tr th:only-of-type {\n",
       "        vertical-align: middle;\n",
       "    }\n",
       "\n",
       "    .dataframe tbody tr th {\n",
       "        vertical-align: top;\n",
       "    }\n",
       "\n",
       "    .dataframe thead th {\n",
       "        text-align: right;\n",
       "    }\n",
       "</style>\n",
       "<table border=\"1\" class=\"dataframe\">\n",
       "  <thead>\n",
       "    <tr style=\"text-align: right;\">\n",
       "      <th></th>\n",
       "      <th>movie_id</th>\n",
       "      <th>title</th>\n",
       "      <th>genre</th>\n",
       "    </tr>\n",
       "  </thead>\n",
       "  <tbody>\n",
       "    <tr>\n",
       "      <th>1840</th>\n",
       "      <td>1909</td>\n",
       "      <td>X-Files: Fight the Future, The (1998)</td>\n",
       "      <td>Mystery|Sci-Fi|Thriller</td>\n",
       "    </tr>\n",
       "  </tbody>\n",
       "</table>\n",
       "</div>"
      ],
      "text/plain": [
       "      movie_id                                  title                    genre\n",
       "1840      1909  X-Files: Fight the Future, The (1998)  Mystery|Sci-Fi|Thriller"
      ]
     },
     "execution_count": 44,
     "metadata": {},
     "output_type": "execute_result"
    }
   ],
   "source": [
    "movies[movies['title'].str.lower().str.contains('x-file')]"
   ]
  },
  {
   "cell_type": "code",
   "execution_count": 45,
   "id": "juvenile-noise",
   "metadata": {
    "scrolled": true
   },
   "outputs": [
    {
     "data": {
      "text/html": [
       "<div>\n",
       "<style scoped>\n",
       "    .dataframe tbody tr th:only-of-type {\n",
       "        vertical-align: middle;\n",
       "    }\n",
       "\n",
       "    .dataframe tbody tr th {\n",
       "        vertical-align: top;\n",
       "    }\n",
       "\n",
       "    .dataframe thead th {\n",
       "        text-align: right;\n",
       "    }\n",
       "</style>\n",
       "<table border=\"1\" class=\"dataframe\">\n",
       "  <thead>\n",
       "    <tr style=\"text-align: right;\">\n",
       "      <th></th>\n",
       "      <th>movie_id</th>\n",
       "      <th>title</th>\n",
       "      <th>genre</th>\n",
       "    </tr>\n",
       "  </thead>\n",
       "  <tbody>\n",
       "    <tr>\n",
       "      <th>542</th>\n",
       "      <td>546</td>\n",
       "      <td>Super Mario Bros. (1993)</td>\n",
       "      <td>Action|Adventure|Children's|Sci-Fi</td>\n",
       "    </tr>\n",
       "    <tr>\n",
       "      <th>645</th>\n",
       "      <td>651</td>\n",
       "      <td>Superweib, Das (1996)</td>\n",
       "      <td>Comedy</td>\n",
       "    </tr>\n",
       "    <tr>\n",
       "      <th>850</th>\n",
       "      <td>861</td>\n",
       "      <td>Supercop (1992)</td>\n",
       "      <td>Action|Thriller</td>\n",
       "    </tr>\n",
       "    <tr>\n",
       "      <th>2571</th>\n",
       "      <td>2640</td>\n",
       "      <td>Superman (1978)</td>\n",
       "      <td>Action|Adventure|Sci-Fi</td>\n",
       "    </tr>\n",
       "    <tr>\n",
       "      <th>2572</th>\n",
       "      <td>2641</td>\n",
       "      <td>Superman II (1980)</td>\n",
       "      <td>Action|Adventure|Sci-Fi</td>\n",
       "    </tr>\n",
       "    <tr>\n",
       "      <th>2573</th>\n",
       "      <td>2642</td>\n",
       "      <td>Superman III (1983)</td>\n",
       "      <td>Action|Adventure|Sci-Fi</td>\n",
       "    </tr>\n",
       "    <tr>\n",
       "      <th>2574</th>\n",
       "      <td>2643</td>\n",
       "      <td>Superman IV: The Quest for Peace (1987)</td>\n",
       "      <td>Action|Adventure|Sci-Fi</td>\n",
       "    </tr>\n",
       "    <tr>\n",
       "      <th>2838</th>\n",
       "      <td>2907</td>\n",
       "      <td>Superstar (1999)</td>\n",
       "      <td>Comedy</td>\n",
       "    </tr>\n",
       "    <tr>\n",
       "      <th>3121</th>\n",
       "      <td>3190</td>\n",
       "      <td>Supernova (2000)</td>\n",
       "      <td>Adventure|Sci-Fi</td>\n",
       "    </tr>\n",
       "    <tr>\n",
       "      <th>3807</th>\n",
       "      <td>3877</td>\n",
       "      <td>Supergirl (1984)</td>\n",
       "      <td>Action|Adventure|Fantasy</td>\n",
       "    </tr>\n",
       "  </tbody>\n",
       "</table>\n",
       "</div>"
      ],
      "text/plain": [
       "      movie_id                                    title  \\\n",
       "542        546                 Super Mario Bros. (1993)   \n",
       "645        651                    Superweib, Das (1996)   \n",
       "850        861                          Supercop (1992)   \n",
       "2571      2640                          Superman (1978)   \n",
       "2572      2641                       Superman II (1980)   \n",
       "2573      2642                      Superman III (1983)   \n",
       "2574      2643  Superman IV: The Quest for Peace (1987)   \n",
       "2838      2907                         Superstar (1999)   \n",
       "3121      3190                         Supernova (2000)   \n",
       "3807      3877                         Supergirl (1984)   \n",
       "\n",
       "                                   genre  \n",
       "542   Action|Adventure|Children's|Sci-Fi  \n",
       "645                               Comedy  \n",
       "850                      Action|Thriller  \n",
       "2571             Action|Adventure|Sci-Fi  \n",
       "2572             Action|Adventure|Sci-Fi  \n",
       "2573             Action|Adventure|Sci-Fi  \n",
       "2574             Action|Adventure|Sci-Fi  \n",
       "2838                              Comedy  \n",
       "3121                    Adventure|Sci-Fi  \n",
       "3807            Action|Adventure|Fantasy  "
      ]
     },
     "execution_count": 45,
     "metadata": {},
     "output_type": "execute_result"
    }
   ],
   "source": [
    "movies[movies['title'].str.lower().str.contains('super')]"
   ]
  },
  {
   "cell_type": "code",
   "execution_count": 46,
   "id": "scheduled-spotlight",
   "metadata": {},
   "outputs": [
    {
     "name": "stdout",
     "output_type": "stream",
     "text": [
      "6041\n"
     ]
    }
   ],
   "source": [
    "# 사용자 인덱스 생성\n",
    "my_id = ratings['user_id'].max() + 1\n",
    "print(my_id)"
   ]
  },
  {
   "cell_type": "code",
   "execution_count": 47,
   "id": "narrow-pointer",
   "metadata": {},
   "outputs": [
    {
     "data": {
      "text/html": [
       "<div>\n",
       "<style scoped>\n",
       "    .dataframe tbody tr th:only-of-type {\n",
       "        vertical-align: middle;\n",
       "    }\n",
       "\n",
       "    .dataframe tbody tr th {\n",
       "        vertical-align: top;\n",
       "    }\n",
       "\n",
       "    .dataframe thead th {\n",
       "        text-align: right;\n",
       "    }\n",
       "</style>\n",
       "<table border=\"1\" class=\"dataframe\">\n",
       "  <thead>\n",
       "    <tr style=\"text-align: right;\">\n",
       "      <th></th>\n",
       "      <th>user_id</th>\n",
       "      <th>movie_id</th>\n",
       "      <th>count</th>\n",
       "      <th>timestamp</th>\n",
       "    </tr>\n",
       "  </thead>\n",
       "  <tbody>\n",
       "    <tr>\n",
       "      <th>0</th>\n",
       "      <td>1</td>\n",
       "      <td>1193</td>\n",
       "      <td>5</td>\n",
       "      <td>978300760</td>\n",
       "    </tr>\n",
       "    <tr>\n",
       "      <th>1</th>\n",
       "      <td>1</td>\n",
       "      <td>661</td>\n",
       "      <td>3</td>\n",
       "      <td>978302109</td>\n",
       "    </tr>\n",
       "    <tr>\n",
       "      <th>2</th>\n",
       "      <td>1</td>\n",
       "      <td>914</td>\n",
       "      <td>3</td>\n",
       "      <td>978301968</td>\n",
       "    </tr>\n",
       "    <tr>\n",
       "      <th>3</th>\n",
       "      <td>1</td>\n",
       "      <td>3408</td>\n",
       "      <td>4</td>\n",
       "      <td>978300275</td>\n",
       "    </tr>\n",
       "    <tr>\n",
       "      <th>4</th>\n",
       "      <td>1</td>\n",
       "      <td>2355</td>\n",
       "      <td>5</td>\n",
       "      <td>978824291</td>\n",
       "    </tr>\n",
       "    <tr>\n",
       "      <th>5</th>\n",
       "      <td>1</td>\n",
       "      <td>1197</td>\n",
       "      <td>3</td>\n",
       "      <td>978302268</td>\n",
       "    </tr>\n",
       "    <tr>\n",
       "      <th>6</th>\n",
       "      <td>1</td>\n",
       "      <td>1287</td>\n",
       "      <td>5</td>\n",
       "      <td>978302039</td>\n",
       "    </tr>\n",
       "    <tr>\n",
       "      <th>7</th>\n",
       "      <td>1</td>\n",
       "      <td>2804</td>\n",
       "      <td>5</td>\n",
       "      <td>978300719</td>\n",
       "    </tr>\n",
       "    <tr>\n",
       "      <th>8</th>\n",
       "      <td>1</td>\n",
       "      <td>594</td>\n",
       "      <td>4</td>\n",
       "      <td>978302268</td>\n",
       "    </tr>\n",
       "    <tr>\n",
       "      <th>9</th>\n",
       "      <td>1</td>\n",
       "      <td>919</td>\n",
       "      <td>4</td>\n",
       "      <td>978301368</td>\n",
       "    </tr>\n",
       "  </tbody>\n",
       "</table>\n",
       "</div>"
      ],
      "text/plain": [
       "   user_id  movie_id  count  timestamp\n",
       "0        1      1193      5  978300760\n",
       "1        1       661      3  978302109\n",
       "2        1       914      3  978301968\n",
       "3        1      3408      4  978300275\n",
       "4        1      2355      5  978824291\n",
       "5        1      1197      3  978302268\n",
       "6        1      1287      5  978302039\n",
       "7        1      2804      5  978300719\n",
       "8        1       594      4  978302268\n",
       "9        1       919      4  978301368"
      ]
     },
     "execution_count": 47,
     "metadata": {},
     "output_type": "execute_result"
    }
   ],
   "source": [
    "ratings.head(10)"
   ]
  },
  {
   "cell_type": "markdown",
   "id": "brown-color",
   "metadata": {},
   "source": [
    "필요없는 timestamp 칼럼 제거"
   ]
  },
  {
   "cell_type": "code",
   "execution_count": 48,
   "id": "premier-prevention",
   "metadata": {},
   "outputs": [
    {
     "data": {
      "text/html": [
       "<div>\n",
       "<style scoped>\n",
       "    .dataframe tbody tr th:only-of-type {\n",
       "        vertical-align: middle;\n",
       "    }\n",
       "\n",
       "    .dataframe tbody tr th {\n",
       "        vertical-align: top;\n",
       "    }\n",
       "\n",
       "    .dataframe thead th {\n",
       "        text-align: right;\n",
       "    }\n",
       "</style>\n",
       "<table border=\"1\" class=\"dataframe\">\n",
       "  <thead>\n",
       "    <tr style=\"text-align: right;\">\n",
       "      <th></th>\n",
       "      <th>user_id</th>\n",
       "      <th>movie_id</th>\n",
       "      <th>count</th>\n",
       "    </tr>\n",
       "  </thead>\n",
       "  <tbody>\n",
       "    <tr>\n",
       "      <th>0</th>\n",
       "      <td>1</td>\n",
       "      <td>1193</td>\n",
       "      <td>5</td>\n",
       "    </tr>\n",
       "    <tr>\n",
       "      <th>1</th>\n",
       "      <td>1</td>\n",
       "      <td>661</td>\n",
       "      <td>3</td>\n",
       "    </tr>\n",
       "    <tr>\n",
       "      <th>2</th>\n",
       "      <td>1</td>\n",
       "      <td>914</td>\n",
       "      <td>3</td>\n",
       "    </tr>\n",
       "    <tr>\n",
       "      <th>3</th>\n",
       "      <td>1</td>\n",
       "      <td>3408</td>\n",
       "      <td>4</td>\n",
       "    </tr>\n",
       "    <tr>\n",
       "      <th>4</th>\n",
       "      <td>1</td>\n",
       "      <td>2355</td>\n",
       "      <td>5</td>\n",
       "    </tr>\n",
       "    <tr>\n",
       "      <th>...</th>\n",
       "      <td>...</td>\n",
       "      <td>...</td>\n",
       "      <td>...</td>\n",
       "    </tr>\n",
       "    <tr>\n",
       "      <th>1000203</th>\n",
       "      <td>6040</td>\n",
       "      <td>1090</td>\n",
       "      <td>3</td>\n",
       "    </tr>\n",
       "    <tr>\n",
       "      <th>1000205</th>\n",
       "      <td>6040</td>\n",
       "      <td>1094</td>\n",
       "      <td>5</td>\n",
       "    </tr>\n",
       "    <tr>\n",
       "      <th>1000206</th>\n",
       "      <td>6040</td>\n",
       "      <td>562</td>\n",
       "      <td>5</td>\n",
       "    </tr>\n",
       "    <tr>\n",
       "      <th>1000207</th>\n",
       "      <td>6040</td>\n",
       "      <td>1096</td>\n",
       "      <td>4</td>\n",
       "    </tr>\n",
       "    <tr>\n",
       "      <th>1000208</th>\n",
       "      <td>6040</td>\n",
       "      <td>1097</td>\n",
       "      <td>4</td>\n",
       "    </tr>\n",
       "  </tbody>\n",
       "</table>\n",
       "<p>836478 rows × 3 columns</p>\n",
       "</div>"
      ],
      "text/plain": [
       "         user_id  movie_id  count\n",
       "0              1      1193      5\n",
       "1              1       661      3\n",
       "2              1       914      3\n",
       "3              1      3408      4\n",
       "4              1      2355      5\n",
       "...          ...       ...    ...\n",
       "1000203     6040      1090      3\n",
       "1000205     6040      1094      5\n",
       "1000206     6040       562      5\n",
       "1000207     6040      1096      4\n",
       "1000208     6040      1097      4\n",
       "\n",
       "[836478 rows x 3 columns]"
      ]
     },
     "execution_count": 48,
     "metadata": {},
     "output_type": "execute_result"
    }
   ],
   "source": [
    "using_cols = ['user_id', 'movie_id', 'count']\n",
    "ratings = ratings[using_cols]\n",
    "ratings"
   ]
  },
  {
   "cell_type": "code",
   "execution_count": 49,
   "id": "nutritional-jenny",
   "metadata": {},
   "outputs": [
    {
     "data": {
      "text/html": [
       "<div>\n",
       "<style scoped>\n",
       "    .dataframe tbody tr th:only-of-type {\n",
       "        vertical-align: middle;\n",
       "    }\n",
       "\n",
       "    .dataframe tbody tr th {\n",
       "        vertical-align: top;\n",
       "    }\n",
       "\n",
       "    .dataframe thead th {\n",
       "        text-align: right;\n",
       "    }\n",
       "</style>\n",
       "<table border=\"1\" class=\"dataframe\">\n",
       "  <thead>\n",
       "    <tr style=\"text-align: right;\">\n",
       "      <th></th>\n",
       "      <th>user_id</th>\n",
       "      <th>movie_id</th>\n",
       "      <th>count</th>\n",
       "    </tr>\n",
       "  </thead>\n",
       "  <tbody>\n",
       "    <tr>\n",
       "      <th>1000198</th>\n",
       "      <td>6040</td>\n",
       "      <td>2021</td>\n",
       "      <td>3</td>\n",
       "    </tr>\n",
       "    <tr>\n",
       "      <th>1000199</th>\n",
       "      <td>6040</td>\n",
       "      <td>2022</td>\n",
       "      <td>5</td>\n",
       "    </tr>\n",
       "    <tr>\n",
       "      <th>1000200</th>\n",
       "      <td>6040</td>\n",
       "      <td>2028</td>\n",
       "      <td>5</td>\n",
       "    </tr>\n",
       "    <tr>\n",
       "      <th>1000201</th>\n",
       "      <td>6040</td>\n",
       "      <td>1080</td>\n",
       "      <td>4</td>\n",
       "    </tr>\n",
       "    <tr>\n",
       "      <th>1000202</th>\n",
       "      <td>6040</td>\n",
       "      <td>1089</td>\n",
       "      <td>4</td>\n",
       "    </tr>\n",
       "    <tr>\n",
       "      <th>1000203</th>\n",
       "      <td>6040</td>\n",
       "      <td>1090</td>\n",
       "      <td>3</td>\n",
       "    </tr>\n",
       "    <tr>\n",
       "      <th>1000205</th>\n",
       "      <td>6040</td>\n",
       "      <td>1094</td>\n",
       "      <td>5</td>\n",
       "    </tr>\n",
       "    <tr>\n",
       "      <th>1000206</th>\n",
       "      <td>6040</td>\n",
       "      <td>562</td>\n",
       "      <td>5</td>\n",
       "    </tr>\n",
       "    <tr>\n",
       "      <th>1000207</th>\n",
       "      <td>6040</td>\n",
       "      <td>1096</td>\n",
       "      <td>4</td>\n",
       "    </tr>\n",
       "    <tr>\n",
       "      <th>1000208</th>\n",
       "      <td>6040</td>\n",
       "      <td>1097</td>\n",
       "      <td>4</td>\n",
       "    </tr>\n",
       "  </tbody>\n",
       "</table>\n",
       "</div>"
      ],
      "text/plain": [
       "         user_id  movie_id  count\n",
       "1000198     6040      2021      3\n",
       "1000199     6040      2022      5\n",
       "1000200     6040      2028      5\n",
       "1000201     6040      1080      4\n",
       "1000202     6040      1089      4\n",
       "1000203     6040      1090      3\n",
       "1000205     6040      1094      5\n",
       "1000206     6040       562      5\n",
       "1000207     6040      1096      4\n",
       "1000208     6040      1097      4"
      ]
     },
     "execution_count": 49,
     "metadata": {},
     "output_type": "execute_result"
    }
   ],
   "source": [
    "ratings.tail(10) "
   ]
  },
  {
   "cell_type": "code",
   "execution_count": 50,
   "id": "revolutionary-parent",
   "metadata": {
    "scrolled": true
   },
   "outputs": [
    {
     "data": {
      "text/html": [
       "<div>\n",
       "<style scoped>\n",
       "    .dataframe tbody tr th:only-of-type {\n",
       "        vertical-align: middle;\n",
       "    }\n",
       "\n",
       "    .dataframe tbody tr th {\n",
       "        vertical-align: top;\n",
       "    }\n",
       "\n",
       "    .dataframe thead th {\n",
       "        text-align: right;\n",
       "    }\n",
       "</style>\n",
       "<table border=\"1\" class=\"dataframe\">\n",
       "  <thead>\n",
       "    <tr style=\"text-align: right;\">\n",
       "      <th></th>\n",
       "      <th>user_id</th>\n",
       "      <th>movie_id</th>\n",
       "      <th>count</th>\n",
       "    </tr>\n",
       "  </thead>\n",
       "  <tbody>\n",
       "    <tr>\n",
       "      <th>1000203</th>\n",
       "      <td>6040</td>\n",
       "      <td>1090</td>\n",
       "      <td>3</td>\n",
       "    </tr>\n",
       "    <tr>\n",
       "      <th>1000205</th>\n",
       "      <td>6040</td>\n",
       "      <td>1094</td>\n",
       "      <td>5</td>\n",
       "    </tr>\n",
       "    <tr>\n",
       "      <th>1000206</th>\n",
       "      <td>6040</td>\n",
       "      <td>562</td>\n",
       "      <td>5</td>\n",
       "    </tr>\n",
       "    <tr>\n",
       "      <th>1000207</th>\n",
       "      <td>6040</td>\n",
       "      <td>1096</td>\n",
       "      <td>4</td>\n",
       "    </tr>\n",
       "    <tr>\n",
       "      <th>1000208</th>\n",
       "      <td>6040</td>\n",
       "      <td>1097</td>\n",
       "      <td>4</td>\n",
       "    </tr>\n",
       "    <tr>\n",
       "      <th>0</th>\n",
       "      <td>6041</td>\n",
       "      <td>260</td>\n",
       "      <td>5</td>\n",
       "    </tr>\n",
       "    <tr>\n",
       "      <th>1</th>\n",
       "      <td>6041</td>\n",
       "      <td>1196</td>\n",
       "      <td>5</td>\n",
       "    </tr>\n",
       "    <tr>\n",
       "      <th>2</th>\n",
       "      <td>6041</td>\n",
       "      <td>1210</td>\n",
       "      <td>5</td>\n",
       "    </tr>\n",
       "    <tr>\n",
       "      <th>3</th>\n",
       "      <td>6041</td>\n",
       "      <td>1840</td>\n",
       "      <td>5</td>\n",
       "    </tr>\n",
       "    <tr>\n",
       "      <th>4</th>\n",
       "      <td>6041</td>\n",
       "      <td>2640</td>\n",
       "      <td>5</td>\n",
       "    </tr>\n",
       "  </tbody>\n",
       "</table>\n",
       "</div>"
      ],
      "text/plain": [
       "         user_id  movie_id  count\n",
       "1000203     6040      1090      3\n",
       "1000205     6040      1094      5\n",
       "1000206     6040       562      5\n",
       "1000207     6040      1096      4\n",
       "1000208     6040      1097      4\n",
       "0           6041       260      5\n",
       "1           6041      1196      5\n",
       "2           6041      1210      5\n",
       "3           6041      1840      5\n",
       "4           6041      2640      5"
      ]
     },
     "execution_count": 50,
     "metadata": {},
     "output_type": "execute_result"
    }
   ],
   "source": [
    "# 내가 좋아하는 영화 데이터 확인\n",
    "my_mvid = [260, 1196, 1210, 1840, 2640]\n",
    "\n",
    "my_movie_list = pd.DataFrame(\n",
    "    {'user_id': [my_id] * 5, 'movie_id': my_mvid, 'count': [5] * 5})\n",
    "\n",
    "if not ratings.isin({'user_id': [my_id]})['user_id'].any():\n",
    "    ratings = ratings.append(my_movie_list)\n",
    "    \n",
    "\n",
    "ratings.tail(10) "
   ]
  },
  {
   "cell_type": "markdown",
   "id": "classified-mailing",
   "metadata": {},
   "source": [
    "user_id와 movie_id 고유한 값으로 만들기"
   ]
  },
  {
   "cell_type": "code",
   "execution_count": 60,
   "id": "manual-grant",
   "metadata": {},
   "outputs": [
    {
     "name": "stdout",
     "output_type": "stream",
     "text": [
      "user_id column indexing OK!!\n",
      "movie column indexing OK!!\n"
     ]
    },
    {
     "data": {
      "text/html": [
       "<div>\n",
       "<style scoped>\n",
       "    .dataframe tbody tr th:only-of-type {\n",
       "        vertical-align: middle;\n",
       "    }\n",
       "\n",
       "    .dataframe tbody tr th {\n",
       "        vertical-align: top;\n",
       "    }\n",
       "\n",
       "    .dataframe thead th {\n",
       "        text-align: right;\n",
       "    }\n",
       "</style>\n",
       "<table border=\"1\" class=\"dataframe\">\n",
       "  <thead>\n",
       "    <tr style=\"text-align: right;\">\n",
       "      <th></th>\n",
       "      <th>user_id</th>\n",
       "      <th>movie_id</th>\n",
       "      <th>count</th>\n",
       "    </tr>\n",
       "  </thead>\n",
       "  <tbody>\n",
       "    <tr>\n",
       "      <th>0</th>\n",
       "      <td>0</td>\n",
       "      <td>0</td>\n",
       "      <td>5</td>\n",
       "    </tr>\n",
       "    <tr>\n",
       "      <th>1</th>\n",
       "      <td>0</td>\n",
       "      <td>1</td>\n",
       "      <td>3</td>\n",
       "    </tr>\n",
       "    <tr>\n",
       "      <th>2</th>\n",
       "      <td>0</td>\n",
       "      <td>2</td>\n",
       "      <td>3</td>\n",
       "    </tr>\n",
       "    <tr>\n",
       "      <th>3</th>\n",
       "      <td>0</td>\n",
       "      <td>3</td>\n",
       "      <td>4</td>\n",
       "    </tr>\n",
       "    <tr>\n",
       "      <th>4</th>\n",
       "      <td>0</td>\n",
       "      <td>4</td>\n",
       "      <td>5</td>\n",
       "    </tr>\n",
       "    <tr>\n",
       "      <th>...</th>\n",
       "      <td>...</td>\n",
       "      <td>...</td>\n",
       "      <td>...</td>\n",
       "    </tr>\n",
       "    <tr>\n",
       "      <th>0</th>\n",
       "      <td>6039</td>\n",
       "      <td>44</td>\n",
       "      <td>5</td>\n",
       "    </tr>\n",
       "    <tr>\n",
       "      <th>1</th>\n",
       "      <td>6039</td>\n",
       "      <td>117</td>\n",
       "      <td>5</td>\n",
       "    </tr>\n",
       "    <tr>\n",
       "      <th>2</th>\n",
       "      <td>6039</td>\n",
       "      <td>64</td>\n",
       "      <td>5</td>\n",
       "    </tr>\n",
       "    <tr>\n",
       "      <th>3</th>\n",
       "      <td>6039</td>\n",
       "      <td>402</td>\n",
       "      <td>5</td>\n",
       "    </tr>\n",
       "    <tr>\n",
       "      <th>4</th>\n",
       "      <td>6039</td>\n",
       "      <td>526</td>\n",
       "      <td>5</td>\n",
       "    </tr>\n",
       "  </tbody>\n",
       "</table>\n",
       "<p>836483 rows × 3 columns</p>\n",
       "</div>"
      ],
      "text/plain": [
       "    user_id  movie_id  count\n",
       "0         0         0      5\n",
       "1         0         1      3\n",
       "2         0         2      3\n",
       "3         0         3      4\n",
       "4         0         4      5\n",
       "..      ...       ...    ...\n",
       "0      6039        44      5\n",
       "1      6039       117      5\n",
       "2      6039        64      5\n",
       "3      6039       402      5\n",
       "4      6039       526      5\n",
       "\n",
       "[836483 rows x 3 columns]"
      ]
     },
     "execution_count": 60,
     "metadata": {},
     "output_type": "execute_result"
    }
   ],
   "source": [
    "user_unique = ratings['user_id'].unique()\n",
    "movie_unique = ratings['movie_id'].unique()\n",
    "\n",
    "user_to_idx = {v:k for k,v in enumerate(user_unique)}\n",
    "movie_to_idx = {v:k for k,v in enumerate(movie_unique)}\n",
    "\n",
    "temp_user_data = ratings['user_id'].map(user_to_idx.get).dropna()\n",
    "if len(temp_user_data) == len(ratings):   \n",
    "    print('user_id column indexing OK!!')\n",
    "    ratings['user_id'] = temp_user_data    \n",
    "else:\n",
    "    print('user_id column indexing Fail!!')\n",
    "\n",
    "temp_movie_data = ratings['movie_id'].map(movie_to_idx.get).dropna()\n",
    "if len(temp_movie_data) == len(ratings):\n",
    "    print('movie column indexing OK!!')\n",
    "    ratings['movie_id'] = temp_movie_data\n",
    "else:\n",
    "    print('movie column indexing Fail!!')\n",
    "\n",
    "ratings"
   ]
  },
  {
   "cell_type": "markdown",
   "id": "statutory-psychiatry",
   "metadata": {},
   "source": [
    "### CSR matrix를 직접 만들어 봅시다.\n",
    "\n"
   ]
  },
  {
   "cell_type": "code",
   "execution_count": 69,
   "id": "headed-allocation",
   "metadata": {},
   "outputs": [
    {
     "name": "stdout",
     "output_type": "stream",
     "text": [
      "6040 3628\n"
     ]
    },
    {
     "data": {
      "text/plain": [
       "<6040x3628 sparse matrix of type '<class 'numpy.longlong'>'\n",
       "\twith 836483 stored elements in Compressed Sparse Row format>"
      ]
     },
     "execution_count": 69,
     "metadata": {},
     "output_type": "execute_result"
    }
   ],
   "source": [
    "n_user = ratings['user_id'].nunique()\n",
    "n_movie = ratings['movie_id'].nunique()\n",
    "print(n_user, n_movie)     \n",
    "\n",
    "csr_data = csr_matrix((ratings['count'], (ratings.user_id, ratings.movie_id)))\n",
    "csr_data"
   ]
  },
  {
   "cell_type": "markdown",
   "id": "digital-trade",
   "metadata": {},
   "source": [
    "### als_model = AlternatingLeastSquares 모델을 직접 구성하여 훈련시켜 봅시다."
   ]
  },
  {
   "cell_type": "code",
   "execution_count": 70,
   "id": "continuing-hazard",
   "metadata": {},
   "outputs": [
    {
     "data": {
      "application/vnd.jupyter.widget-view+json": {
       "model_id": "7be40f06197046759a35d7c11c3ba8a1",
       "version_major": 2,
       "version_minor": 0
      },
      "text/plain": [
       "  0%|          | 0/20 [00:00<?, ?it/s]"
      ]
     },
     "metadata": {},
     "output_type": "display_data"
    }
   ],
   "source": [
    "# implicit 라이브러리에서 권장하고 있는 부분입니다. 학습 내용과는 무관합니다.\n",
    "os.environ['OPENBLAS_NUM_THREADS']='1'\n",
    "os.environ['KMP_DUPLICATE_LIB_OK']='True'\n",
    "os.environ['MKL_NUM_THREADS']='1'\n",
    "\n",
    "als_model = AlternatingLeastSquares(factors=300, regularization=0.01, use_gpu=False, iterations=20, dtype=np.float32)\n",
    "csr_data_transpose = csr_data.T  # als 모델은 input으로 (item X user 꼴의 matrix를 받기 때문에 Transpose해준다.\n",
    "csr_data_transpose\n",
    "\n",
    "als_model.fit(csr_data_transpose)  # 모델 훈련"
   ]
  },
  {
   "cell_type": "markdown",
   "id": "tired-norway",
   "metadata": {},
   "source": [
    "### 내가 선호하는 5가지 영화 중 하나와 그 외의 영화 하나를 골라 훈련된 모델이 예측한 나의 선호도를 파악해 보세요."
   ]
  },
  {
   "cell_type": "code",
   "execution_count": 80,
   "id": "integrated-majority",
   "metadata": {},
   "outputs": [],
   "source": [
    "# movie_id로 영화 title가져오기\n",
    "def get_movie_name(idx):\n",
    "    if idx in movies.movie_id:\n",
    "        return movies[movies['movie_id'] == idx]['title'].values[0]\n",
    "    else:\n",
    "        print('해당 인덱스의 영화가 존재하지 않습니다.')"
   ]
  },
  {
   "cell_type": "code",
   "execution_count": 91,
   "id": "reverse-package",
   "metadata": {},
   "outputs": [
    {
     "data": {
      "text/plain": [
       "'X-Files: Fight the Future, The (1998)'"
      ]
     },
     "execution_count": 91,
     "metadata": {},
     "output_type": "execute_result"
    }
   ],
   "source": [
    "get_movie_name(1909)"
   ]
  },
  {
   "cell_type": "code",
   "execution_count": 71,
   "id": "analyzed-visit",
   "metadata": {
    "scrolled": true
   },
   "outputs": [
    {
     "data": {
      "text/plain": [
       "array([ 0.28167015, -0.4367757 , -0.19584785, -0.13060619, -0.16718808,\n",
       "       -0.52442765,  0.1866794 , -0.0379503 , -0.2327978 ,  0.06097668,\n",
       "        0.4868844 ,  0.40792152,  0.5700584 , -0.16114227,  0.37406653,\n",
       "        0.09831657,  0.4301447 ,  0.03695626, -0.19657406, -0.4427181 ,\n",
       "        0.18132143, -0.07793729, -0.30657184, -0.16024844, -0.12059655,\n",
       "       -0.4143333 , -0.4314828 , -0.22450571,  0.27830762,  0.01949837,\n",
       "        0.29180363,  0.05852951, -0.2878636 ,  0.04060013, -0.05878869,\n",
       "        0.10618999,  0.31588447,  0.35000315,  0.22829138, -0.06624801,\n",
       "        0.35907918, -0.42173842,  0.09442679,  0.37316573, -0.15999022,\n",
       "       -0.32526672, -0.91272014, -0.05173121,  0.09186724,  0.02424346,\n",
       "       -0.7094922 ,  0.11635602, -0.54433453, -0.20970765, -0.35596797,\n",
       "       -0.4601389 ,  0.09695107, -0.47788814, -0.4495458 , -0.03223473,\n",
       "       -0.5954503 , -0.04424626,  0.48913646,  0.5248486 ,  0.38322467,\n",
       "       -0.42092177, -0.203379  , -0.13185336, -0.23181677,  0.91438264,\n",
       "       -0.0795317 , -0.30989912,  0.02710692,  0.5262886 ,  0.20718265,\n",
       "       -0.19371292,  0.45887592, -0.16332911,  0.53333133, -0.4580289 ,\n",
       "        0.36284912, -0.12289263,  0.1835345 , -0.06447734,  0.03544565,\n",
       "       -0.31901303, -0.34499577, -0.26044345,  0.05314169,  0.21733193,\n",
       "        0.02013377,  0.08266569, -0.8171836 , -0.25040787,  0.76667446,\n",
       "       -0.26483387, -0.42427307, -0.21206623, -0.42851675, -0.23871048,\n",
       "        0.13367428, -0.83004165, -0.26759112,  0.07919927, -0.26309583,\n",
       "       -0.4815922 , -0.07486798, -0.23695272, -0.36422956,  0.33417398,\n",
       "       -0.16105135, -0.4669902 ,  0.16172819, -0.9848234 , -0.316288  ,\n",
       "        0.23634285, -0.08886178,  0.36406288, -0.45542932,  0.46048644,\n",
       "        0.16608119, -0.64159393,  0.10860624, -0.3974367 , -0.19511153,\n",
       "       -0.38923663, -0.12845267,  0.4068689 ,  0.3963686 ,  0.12642659,\n",
       "       -0.29011413, -0.02775011,  0.14091747,  0.16552612, -0.22462054,\n",
       "        0.5560543 ,  0.28021312,  0.03125553, -0.17270666, -0.24099436,\n",
       "       -0.4212792 ,  0.39822152, -0.13634144, -0.00345145,  0.47721443,\n",
       "        0.01984625, -0.27567038,  0.45918968,  0.59804827,  0.2693789 ,\n",
       "       -0.23450883,  0.13122691,  0.05976281, -0.45379657, -0.56029165,\n",
       "        0.48335072, -0.13155542, -0.0918393 ,  0.01170676, -0.43551645,\n",
       "        0.47738194, -0.11103553, -0.23129757, -0.07442469,  0.47467256,\n",
       "       -0.44733685, -0.01673971,  0.41738144,  0.4325102 , -0.2211728 ,\n",
       "        0.51837516, -0.1947823 , -0.04153168,  0.11678343, -0.4060637 ,\n",
       "       -0.4028103 ,  0.01633322, -0.14109215,  0.7426002 ,  0.52721703,\n",
       "        0.49291122, -0.5634432 , -0.04469008,  0.3665224 , -0.19672604,\n",
       "       -0.11630796, -0.142089  ,  0.6446306 ,  0.3214607 ,  0.2016329 ,\n",
       "       -0.2684484 ,  0.38241652,  0.20672788, -0.18725026, -0.06624482,\n",
       "        0.41860378,  0.34057155,  0.25445434,  0.43567988, -0.14073277,\n",
       "        0.2779926 , -0.07812402,  0.44286007, -0.16713242,  0.12168791,\n",
       "       -0.05405517, -0.41330168,  0.47910446, -0.02133405, -0.32120544,\n",
       "        0.15791398, -0.00430078,  0.3089305 ,  0.47010553, -0.13815196,\n",
       "       -0.36155537, -0.1796379 ,  0.4826033 ,  0.03523177,  0.45317596,\n",
       "        0.27983227, -0.31152946, -0.46712768, -0.36110502, -0.04465674,\n",
       "        0.30884665, -0.05041023, -0.45147264,  0.5755312 ,  0.20585583,\n",
       "        0.18298891, -0.06581187, -0.36153868, -0.03561249,  0.5738709 ,\n",
       "       -0.0190626 , -0.05017823,  0.13911253, -0.0157473 , -0.81628424,\n",
       "        0.02125341,  0.30091557,  0.2574224 , -0.09761827,  0.4882652 ,\n",
       "        0.17209817,  0.16936056,  0.28854236, -0.5398808 , -0.7748879 ,\n",
       "        0.075075  ,  0.08987987,  0.15809001, -0.21556607,  0.45577076,\n",
       "        0.07729276,  0.12180128,  0.20546785,  0.40591303,  0.12967247,\n",
       "       -0.0204218 , -0.01424047, -0.35029796, -0.33252272,  0.32960874,\n",
       "       -0.00787634, -0.07499688,  0.07359608, -0.23507959,  0.45322627,\n",
       "       -0.23240122,  0.7318693 ,  0.2998244 , -0.304326  ,  0.02892758,\n",
       "        0.11239351, -0.13035126,  0.16793077, -0.6182347 , -0.00217909,\n",
       "       -0.3363579 ,  0.3985484 , -0.20050403,  0.22484289, -0.35296506,\n",
       "        0.02635056, -0.32587162,  0.24483773,  0.44191852,  0.2164173 ,\n",
       "       -0.39923653,  0.97211725,  0.15701762,  0.30890462,  0.01612283,\n",
       "        0.21366803,  0.22438435, -0.64435905,  0.5148841 ,  0.62016916],\n",
       "      dtype=float32)"
      ]
     },
     "execution_count": 71,
     "metadata": {},
     "output_type": "execute_result"
    }
   ],
   "source": [
    "# my_id의 벡터\n",
    "mulder = user_to_idx[my_id]\n",
    "my_vector = als_model.user_factors[mulder]\n",
    "my_vector"
   ]
  },
  {
   "cell_type": "code",
   "execution_count": 73,
   "id": "unlimited-meter",
   "metadata": {},
   "outputs": [
    {
     "data": {
      "text/plain": [
       "array([ 0.01840853, -0.01029846, -0.00502936, -0.01721976, -0.00722847,\n",
       "       -0.02934353,  0.00781002, -0.00834455,  0.00262773, -0.02014854,\n",
       "        0.00098833,  0.00631575,  0.02768802,  0.02100278,  0.01424924,\n",
       "        0.01083007,  0.0090479 ,  0.00014725,  0.0002313 , -0.02147249,\n",
       "        0.01557962, -0.00603722, -0.00049217, -0.00330826, -0.00190894,\n",
       "       -0.00503673,  0.01263293, -0.01325885,  0.02800618,  0.00732788,\n",
       "       -0.00135216, -0.00208999,  0.00738145,  0.02026756, -0.017312  ,\n",
       "       -0.00334864,  0.01821334,  0.0190076 ,  0.00899172, -0.00705341,\n",
       "        0.01119415, -0.00418977,  0.01636352,  0.02416321,  0.00553888,\n",
       "       -0.0110026 ,  0.00258164,  0.02092204, -0.00330288, -0.00543562,\n",
       "       -0.02372186, -0.01199292, -0.01852865, -0.00344085,  0.01110525,\n",
       "       -0.02043416,  0.02174855,  0.00854411,  0.01645059,  0.00777862,\n",
       "       -0.02931215, -0.00563426, -0.0069284 ,  0.00997675,  0.00996804,\n",
       "       -0.01789904,  0.01499021, -0.01486278,  0.01651676,  0.04145185,\n",
       "       -0.00116246, -0.01006337, -0.00490782,  0.01301208, -0.00326521,\n",
       "        0.00276342,  0.01377684,  0.00811228,  0.02099747, -0.03123399,\n",
       "        0.02721735,  0.03042583,  0.00375036, -0.00959614,  0.02803337,\n",
       "       -0.02535523,  0.01273263, -0.01211398,  0.01624229,  0.02210628,\n",
       "       -0.00373953,  0.00363119, -0.01859471,  0.02083281,  0.03349347,\n",
       "        0.02238252,  0.00944167,  0.0003237 , -0.00174782,  0.00443825,\n",
       "        0.00059775, -0.03324108,  0.00149851,  0.00594215, -0.00638125,\n",
       "       -0.00652478, -0.01272601,  0.00597494,  0.0095263 , -0.00566132,\n",
       "        0.00484465,  0.00908376,  0.02831593, -0.0122654 , -0.00678985,\n",
       "       -0.00229878, -0.0032553 ,  0.00654892, -0.01491661,  0.03792911,\n",
       "        0.0346286 , -0.0297454 ,  0.00373112, -0.00080908,  0.0081175 ,\n",
       "        0.01234848, -0.01102881,  0.02468046,  0.01724393,  0.01069551,\n",
       "       -0.00378815,  0.01009321,  0.02569385,  0.01005825, -0.00866048,\n",
       "        0.03917186,  0.02525794, -0.01082895, -0.00807611,  0.00929017,\n",
       "       -0.02836722,  0.00670823,  0.01257786, -0.01389742,  0.02266205,\n",
       "        0.01587901, -0.01104978,  0.03232948,  0.01788797,  0.02982988,\n",
       "        0.02117862, -0.00935586, -0.00395802, -0.01534546,  0.01165507,\n",
       "        0.03642093, -0.03246146,  0.00036675,  0.02915203, -0.01949415,\n",
       "       -0.0003921 ,  0.00099619,  0.00697294, -0.01523713,  0.01611958,\n",
       "        0.00489978, -0.00898346, -0.00445235,  0.01648299,  0.0029048 ,\n",
       "        0.02103856,  0.01445187, -0.00467275,  0.02748026, -0.01578028,\n",
       "       -0.00678861,  0.00040526, -0.0128113 ,  0.02814239,  0.02594668,\n",
       "        0.02691317, -0.01055096,  0.01787342,  0.00840384, -0.01076595,\n",
       "        0.00310809,  0.00708048,  0.03388535, -0.00653363,  0.01307753,\n",
       "       -0.00506712,  0.01058394,  0.00268445, -0.00711872, -0.00236065,\n",
       "        0.01702981, -0.00892427,  0.02426621,  0.01917409, -0.01078967,\n",
       "        0.01464868,  0.010823  ,  0.02430408, -0.01562766,  0.01345863,\n",
       "        0.01563255, -0.01049188,  0.02951413, -0.00134003,  0.00642108,\n",
       "        0.02028729,  0.00844061,  0.01885361,  0.02505956, -0.01433459,\n",
       "       -0.01697435, -0.01588261,  0.01756815,  0.00967903,  0.01182675,\n",
       "        0.0131528 , -0.00111783, -0.01867543, -0.00794819,  0.00945026,\n",
       "        0.00331611, -0.0054435 , -0.00180372,  0.02283403,  0.01794476,\n",
       "        0.02652298,  0.01958201, -0.00722569, -0.00796366,  0.01322396,\n",
       "        0.01644343,  0.00278678, -0.00628507,  0.01443584, -0.02584226,\n",
       "       -0.00372232,  0.02494942,  0.00375381, -0.0078181 ,  0.02195997,\n",
       "       -0.00653575, -0.01811742,  0.00350649, -0.02477599, -0.01048535,\n",
       "       -0.00471522,  0.01569386,  0.00355939, -0.00023115,  0.01658442,\n",
       "        0.01953577, -0.01413465, -0.01891355, -0.00665347, -0.00370497,\n",
       "        0.00147491,  0.02924123,  0.01523973,  0.00303439,  0.00212802,\n",
       "       -0.00499184, -0.00421762,  0.02132964, -0.01058743,  0.02706412,\n",
       "       -0.00360214,  0.00803529,  0.03699521, -0.01536253,  0.01749436,\n",
       "       -0.01191958,  0.04036676, -0.00585709, -0.021613  ,  0.00348012,\n",
       "        0.00665904,  0.02157837, -0.00700339,  0.02300892, -0.00972786,\n",
       "        0.03721936, -0.00650073,  0.00271913,  0.02195261,  0.02177764,\n",
       "        0.00453403,  0.02212763,  0.0173169 ,  0.01420383,  0.00276224,\n",
       "        0.00620486, -0.00140019, -0.01731636, -0.00156773,  0.03979049],\n",
       "      dtype=float32)"
      ]
     },
     "execution_count": 73,
     "metadata": {},
     "output_type": "execute_result"
    }
   ],
   "source": [
    "# star wars의 벡터\n",
    "star_wars = movie_to_idx[260]\n",
    "star_wars_vector = als_model.item_factors[star_wars]\n",
    "star_wars_vector"
   ]
  },
  {
   "cell_type": "code",
   "execution_count": 93,
   "id": "cooperative-functionality",
   "metadata": {},
   "outputs": [
    {
     "data": {
      "text/plain": [
       "0.96703196"
      ]
     },
     "execution_count": 93,
     "metadata": {},
     "output_type": "execute_result"
    }
   ],
   "source": [
    "np.dot(my_vector, star_wars_vector)"
   ]
  },
  {
   "cell_type": "code",
   "execution_count": 75,
   "id": "crude-young",
   "metadata": {},
   "outputs": [
    {
     "data": {
      "text/plain": [
       "array([ 2.67834514e-02, -9.45165567e-03,  2.40545776e-02, -1.10081825e-02,\n",
       "        2.75757741e-02,  1.07252467e-02, -1.59562659e-02,  1.50151579e-02,\n",
       "        9.90499929e-03,  2.87578851e-02, -2.96616741e-03, -8.30103178e-04,\n",
       "       -1.11085428e-02,  1.28132589e-02,  1.08058676e-02,  8.39486439e-03,\n",
       "        1.03700422e-02,  1.91323534e-02,  1.58813614e-02, -2.92521482e-03,\n",
       "        1.27099361e-02, -1.03036570e-03,  1.97017076e-03,  1.41014056e-02,\n",
       "        1.24137765e-02,  7.09117949e-03,  4.37608175e-02,  3.16413827e-02,\n",
       "        9.43618827e-03, -1.02425450e-02,  2.42013074e-02, -2.20365427e-03,\n",
       "        6.82744104e-03, -1.90853234e-03, -3.18531878e-03,  2.76460964e-03,\n",
       "        1.83514208e-02, -7.65355162e-06, -7.10018072e-03,  1.76757500e-02,\n",
       "        2.68341675e-02,  2.33976599e-02,  2.34048674e-03,  3.04966457e-02,\n",
       "       -1.15237599e-02,  4.74524731e-03,  7.03363959e-03,  8.28950200e-03,\n",
       "        2.99495598e-03,  3.36786546e-02, -1.66482907e-02, -1.20291358e-03,\n",
       "        1.02168415e-02,  9.35974065e-03, -8.31890572e-03, -8.31194967e-03,\n",
       "       -5.08374115e-03, -1.94827691e-02,  7.32331164e-03,  7.34654814e-03,\n",
       "        1.50875673e-02,  1.23816058e-02,  6.25164527e-03,  2.34726779e-02,\n",
       "       -1.82902359e-03,  7.70834880e-03,  3.85885383e-03, -2.80261016e-03,\n",
       "       -9.98733100e-03,  2.78610289e-02,  2.34090574e-02, -2.11681076e-03,\n",
       "        6.25628466e-03,  5.16648451e-03,  8.78896285e-03,  1.38362199e-02,\n",
       "        1.96087901e-02,  1.24112377e-02,  6.66958373e-03,  1.05384374e-02,\n",
       "       -1.52052343e-02,  3.78912203e-02, -9.69482493e-03,  1.09041594e-02,\n",
       "        3.73873441e-03,  1.06691420e-02, -2.01420542e-02,  8.54416378e-03,\n",
       "       -1.67160146e-02, -1.60536505e-02,  1.77576710e-02, -8.18023551e-03,\n",
       "       -5.77948010e-03, -1.51658598e-02,  3.43456911e-03, -5.11244917e-03,\n",
       "        4.60991729e-03,  8.92075012e-04,  1.33292601e-02,  1.57902986e-02,\n",
       "       -5.49181644e-03,  2.77528889e-03, -5.59428893e-03, -8.45297327e-05,\n",
       "       -4.59222402e-03,  9.00195260e-03, -1.93612892e-02,  1.80385392e-02,\n",
       "        1.46036991e-03,  1.81275827e-03,  9.07152239e-03, -9.15191323e-03,\n",
       "        1.20177604e-02, -2.51028361e-03, -3.00078969e-02,  1.43950630e-03,\n",
       "       -2.56464467e-03,  2.53847186e-02,  1.99103747e-02,  3.41113061e-02,\n",
       "       -2.80461134e-03,  4.78939619e-03,  2.44742334e-02,  7.63484696e-03,\n",
       "        9.81627405e-03,  2.25207265e-02, -7.53361918e-03, -6.50586607e-03,\n",
       "        1.98128726e-02, -2.05157734e-02,  4.74399235e-03, -9.72937699e-03,\n",
       "       -1.40991220e-02,  5.07774763e-03,  2.48005427e-03,  1.40169905e-02,\n",
       "       -2.18257140e-02,  9.28884093e-03, -1.75191890e-02, -5.66132599e-03,\n",
       "       -1.74329262e-02,  8.40580463e-03,  3.72647983e-03,  3.23212780e-02,\n",
       "       -9.38319135e-03,  3.04906331e-02,  2.36576311e-02,  1.01143010e-02,\n",
       "        1.27769979e-02, -1.08844251e-03,  1.61682758e-02,  3.56786419e-03,\n",
       "       -1.16882045e-02, -5.34022972e-03,  1.08636925e-02,  1.74848679e-02,\n",
       "       -6.18711626e-03,  2.41492875e-03, -6.49850862e-03,  5.09477127e-03,\n",
       "        9.97335929e-03,  1.02904290e-02, -1.19286648e-03, -2.58382154e-03,\n",
       "        1.31655913e-02,  2.51554251e-02, -1.91838015e-02,  1.49258412e-02,\n",
       "       -9.18951910e-03, -7.75499409e-03,  6.74330629e-04,  3.59582598e-03,\n",
       "       -2.04365977e-04,  3.06259398e-03,  1.13623133e-02,  3.10881957e-02,\n",
       "        8.71876348e-03,  2.65388545e-02,  7.59425480e-03, -9.39831603e-03,\n",
       "        1.52300382e-02,  1.53187485e-02, -1.87761994e-04,  2.77098939e-02,\n",
       "        5.21383667e-03, -9.52854939e-03, -9.56031494e-03, -1.52334035e-03,\n",
       "        1.75822247e-02,  2.50759395e-03, -1.66003779e-02, -4.97760810e-03,\n",
       "        9.24106134e-05, -6.14225119e-03, -1.01746917e-02, -1.97117273e-02,\n",
       "       -1.17884325e-02, -7.64520140e-03,  1.19651454e-02,  1.50623079e-02,\n",
       "        6.12829754e-04, -1.04143401e-03,  2.16278946e-03,  1.38193769e-02,\n",
       "       -8.73863976e-03,  3.94711969e-03, -2.73052021e-03, -2.70749768e-03,\n",
       "       -1.29776066e-02, -1.62863662e-03,  3.73176462e-03,  1.04151564e-02,\n",
       "       -1.04583781e-02,  2.34206151e-02,  3.52148749e-02, -4.54103108e-04,\n",
       "       -7.85899814e-03,  5.44700166e-03, -1.49175413e-02, -2.30190065e-02,\n",
       "        4.85539436e-03,  4.37909877e-03,  2.20718216e-02,  1.68312080e-02,\n",
       "        1.25805326e-02,  1.11764120e-02, -3.14992084e-03,  5.62843308e-03,\n",
       "        1.15517015e-02,  1.85544956e-02,  2.33644303e-02, -3.33648338e-03,\n",
       "       -2.10267399e-02,  1.54990852e-02,  5.13222476e-04,  1.01388432e-02,\n",
       "        1.97226042e-03,  1.23708593e-02,  1.64377838e-02,  2.48469156e-03,\n",
       "        1.43380137e-02, -7.59027991e-03,  2.86192633e-03,  9.50384978e-03,\n",
       "        1.70644466e-02,  2.24396251e-02,  1.13687804e-02,  2.91025802e-03,\n",
       "        3.54001531e-03,  3.11756833e-03, -1.39299091e-02, -9.36179049e-03,\n",
       "        9.36482195e-03,  6.81185955e-03,  1.55936237e-02, -7.16316886e-03,\n",
       "        3.18265744e-02,  5.99536067e-03,  8.30443297e-03,  1.74913611e-02,\n",
       "        1.31842913e-02, -1.14750275e-02, -6.20556588e-04,  1.19763995e-02,\n",
       "       -3.35940346e-02,  2.56960429e-02,  1.22115919e-02,  3.37676634e-03,\n",
       "       -1.73423830e-02, -1.77840318e-03, -8.65091849e-03,  1.84961725e-02,\n",
       "        4.53594280e-03,  2.81165889e-03,  9.42399539e-03, -1.10626838e-03,\n",
       "       -1.86415610e-03,  8.37816950e-03,  1.15593284e-04,  7.12383352e-03,\n",
       "       -5.39448299e-03,  1.25750341e-02,  9.15869698e-03, -1.58307161e-02,\n",
       "       -1.70975085e-02,  9.23010055e-03, -1.72612397e-03,  1.16684744e-02,\n",
       "        1.21713243e-02,  2.60571651e-02,  3.27186733e-02, -1.59020117e-03,\n",
       "       -1.22329150e-03,  8.14029668e-03, -4.60065348e-04, -6.66283164e-03,\n",
       "       -3.96282086e-03,  1.67438760e-02,  4.67643887e-03,  1.37372753e-02],\n",
       "      dtype=float32)"
      ]
     },
     "execution_count": 75,
     "metadata": {},
     "output_type": "execute_result"
    }
   ],
   "source": [
    "# x-files의 벡터\n",
    "xfiles = movie_to_idx[1909]\n",
    "xfiles_vector = als_model.item_factors[xfiles]\n",
    "xfiles_vector"
   ]
  },
  {
   "cell_type": "code",
   "execution_count": 94,
   "id": "limited-hometown",
   "metadata": {},
   "outputs": [
    {
     "data": {
      "text/plain": [
       "0.07349926"
      ]
     },
     "execution_count": 94,
     "metadata": {},
     "output_type": "execute_result"
    }
   ],
   "source": [
    "np.dot(my_vector, xfiles_vector)"
   ]
  },
  {
   "cell_type": "code",
   "execution_count": 76,
   "id": "saving-disclosure",
   "metadata": {},
   "outputs": [
    {
     "data": {
      "text/plain": [
       "array([ 2.28391658e-03, -5.04622096e-03,  1.90308765e-02,  3.23857123e-04,\n",
       "        5.58507675e-03, -1.00292685e-02,  1.94653887e-02, -1.10329436e-02,\n",
       "        5.58171375e-03, -2.43950426e-03,  1.84774119e-02,  2.40238458e-02,\n",
       "       -8.44488852e-04,  9.19145532e-03,  8.74224119e-03,  2.20007244e-02,\n",
       "        1.31529206e-02,  2.68872385e-03,  5.04800491e-03, -8.87367781e-03,\n",
       "        2.03083176e-02, -1.76164694e-02,  1.43824397e-02, -1.23937498e-03,\n",
       "        1.57396554e-03, -1.11797526e-02,  1.56048115e-03, -7.71786086e-03,\n",
       "        1.06964400e-02,  2.23980029e-03,  9.99818556e-03,  2.05930043e-02,\n",
       "       -1.50404181e-02,  1.37592526e-02,  2.25955918e-02,  7.61748292e-03,\n",
       "        2.57235765e-02,  1.30373584e-02,  1.02287577e-02,  2.17577275e-02,\n",
       "        1.26715256e-02,  2.06770245e-02,  1.10933771e-02,  1.48597630e-02,\n",
       "        8.88850633e-03, -2.95147635e-02, -2.27677636e-02, -8.52392707e-03,\n",
       "        2.67410954e-03, -2.13616043e-02, -4.75381181e-04,  6.88395556e-03,\n",
       "       -3.10917059e-03,  1.27563924e-02, -2.52808183e-02, -3.44852591e-03,\n",
       "        1.24540767e-02, -1.36022139e-02,  9.77487583e-03,  2.26176996e-02,\n",
       "        2.84506910e-04, -8.72497726e-03,  3.66730429e-02,  1.53980972e-02,\n",
       "        3.81786213e-03,  1.96395349e-02, -1.32747451e-02,  1.06082736e-02,\n",
       "       -1.03210453e-02,  2.87615731e-02,  4.90771094e-03,  1.69607233e-02,\n",
       "       -1.24809928e-02,  3.53458077e-02, -3.45369405e-03, -1.89401563e-02,\n",
       "       -4.16291552e-03,  1.56242410e-02,  1.07382154e-02,  7.89491087e-03,\n",
       "        8.92580487e-03, -1.06568113e-02,  2.11954713e-02,  8.16179067e-03,\n",
       "        1.75676681e-02, -4.75967117e-03, -2.07467359e-02,  1.29395798e-02,\n",
       "        2.44832691e-02,  1.68821439e-02, -1.17849456e-02, -3.18586687e-03,\n",
       "       -2.49093608e-03,  3.38470942e-04,  2.20679399e-02, -5.59843145e-03,\n",
       "       -1.02303680e-02,  8.39255843e-03,  8.02867347e-04, -1.24794636e-02,\n",
       "       -9.11697559e-03, -1.36515070e-02,  3.95237701e-03,  1.11751147e-02,\n",
       "        3.31188482e-03, -1.83305442e-02, -6.60391757e-03,  8.21639691e-03,\n",
       "       -7.86532927e-03,  1.66870747e-02,  4.92411840e-04,  1.78371207e-03,\n",
       "        2.68847286e-03, -1.72830056e-02, -1.96446404e-02,  1.90571435e-02,\n",
       "       -7.30249751e-03,  2.88711749e-02,  1.35694153e-03,  5.62477857e-03,\n",
       "        1.63414273e-02, -1.18237603e-02,  1.48597267e-02, -3.74689203e-04,\n",
       "        2.76235258e-03, -1.33487023e-02, -1.38004281e-04,  2.00494137e-02,\n",
       "       -2.84091034e-03, -5.23515278e-04,  1.55276258e-03, -1.04582030e-02,\n",
       "        6.72761060e-04,  1.33968079e-02,  1.91445481e-02,  1.12769743e-02,\n",
       "        1.48711004e-03,  1.16203772e-02, -1.02958838e-02, -1.14856083e-02,\n",
       "        7.53777009e-03, -3.33172595e-03,  9.92445182e-03,  3.75261065e-03,\n",
       "        5.04601514e-03, -9.43066087e-03,  1.38255553e-02,  7.85895437e-03,\n",
       "       -9.40321479e-03,  1.07108813e-03,  1.14220856e-02,  1.36121521e-02,\n",
       "        8.06856342e-03, -9.04588774e-03, -2.04295106e-02,  2.14902777e-02,\n",
       "        1.40451407e-02,  4.17239964e-03,  1.13893049e-02,  1.72205141e-03,\n",
       "        3.87522951e-02, -3.88969987e-04,  1.00090988e-02,  3.31784994e-03,\n",
       "       -3.41242849e-04, -3.38383927e-03, -7.36200484e-03, -6.99592149e-03,\n",
       "        1.59297418e-02,  2.68531591e-03, -2.48941040e-04,  4.85829776e-03,\n",
       "        8.47576000e-03,  7.95968529e-03,  1.43938158e-02, -6.16677850e-03,\n",
       "        1.47192199e-02,  2.43906640e-02,  1.25039797e-02,  1.13732694e-02,\n",
       "        2.54874863e-02,  2.31916783e-03, -1.54926500e-03, -3.64899798e-03,\n",
       "        2.26995498e-02, -7.32584624e-03,  6.43203361e-03,  3.31663084e-03,\n",
       "        3.23961489e-02,  1.72126368e-02, -7.23921880e-03,  5.69383008e-03,\n",
       "        1.13891810e-02,  2.57808925e-03,  8.31046794e-03,  1.83550604e-02,\n",
       "        2.71945423e-03, -5.64591214e-03,  1.06619783e-02,  2.12066080e-02,\n",
       "        7.54470937e-03, -1.91865442e-03,  6.96150679e-03,  5.12606930e-03,\n",
       "       -1.71328764e-02, -8.91787349e-05, -9.34859179e-03,  1.74503252e-02,\n",
       "        1.85160618e-02, -1.60571467e-02, -9.58594028e-05,  5.00069524e-04,\n",
       "        9.40835383e-03,  1.36483507e-02,  1.99407618e-02,  7.01835798e-03,\n",
       "        1.72611475e-02,  6.80787954e-03,  3.52076278e-03,  1.06105777e-02,\n",
       "        1.24655785e-02,  1.08006073e-03, -4.20822389e-03,  7.03721819e-03,\n",
       "        6.70329842e-04,  1.36277443e-02, -9.01060848e-05, -2.33729500e-02,\n",
       "        3.19362693e-02,  6.46796403e-03, -2.04823930e-02,  3.68169695e-03,\n",
       "        1.72884052e-03,  4.47492767e-03,  2.47907452e-02, -1.91431004e-03,\n",
       "        1.17297051e-02,  1.13954237e-02,  6.13438140e-04, -1.01839202e-02,\n",
       "        1.05860066e-02,  1.00678680e-02,  1.82371307e-02,  1.08189704e-02,\n",
       "        3.71317565e-02, -1.27126128e-04,  8.39618314e-03,  2.23911367e-02,\n",
       "        9.66563541e-03, -1.74901094e-02,  5.84108615e-03, -2.81807431e-03,\n",
       "        1.12032825e-02,  1.37048140e-02,  1.18622398e-02,  1.50688561e-02,\n",
       "        1.20949419e-02, -5.65135293e-03,  1.19502582e-02,  2.09891479e-02,\n",
       "       -6.21837471e-03,  1.57768242e-02,  5.70009602e-03,  3.93132400e-03,\n",
       "        1.76271033e-02,  1.61637831e-02,  2.83091259e-03,  1.06996102e-02,\n",
       "       -3.38286092e-03,  6.02467731e-03, -3.49574676e-03,  3.84950340e-02,\n",
       "        2.92404555e-03,  6.36837026e-03, -2.51807715e-03,  1.42943691e-02,\n",
       "       -1.47959581e-02,  9.42181516e-03, -1.44770350e-02,  1.14959041e-02,\n",
       "        3.25137749e-03,  1.48196369e-02,  1.31303463e-02, -5.98233053e-03,\n",
       "       -3.85730108e-03,  5.71543165e-03,  7.59261241e-03, -2.20927317e-03,\n",
       "       -4.52497043e-03, -2.09149206e-03, -6.19090488e-03,  2.08401401e-02,\n",
       "        8.31322558e-03,  1.56078264e-02,  7.75673660e-03,  1.35384453e-02,\n",
       "        2.44125514e-03, -3.95284966e-03,  1.90662052e-02,  1.64082572e-02],\n",
       "      dtype=float32)"
      ]
     },
     "execution_count": 76,
     "metadata": {},
     "output_type": "execute_result"
    }
   ],
   "source": [
    "# super man의 벡터\n",
    "superman = movie_to_idx[2640]\n",
    "superman_vector = als_model.item_factors[superman]\n",
    "superman_vector"
   ]
  },
  {
   "cell_type": "code",
   "execution_count": 95,
   "id": "extended-istanbul",
   "metadata": {},
   "outputs": [
    {
     "data": {
      "text/plain": [
       "0.63564456"
      ]
     },
     "execution_count": 95,
     "metadata": {},
     "output_type": "execute_result"
    }
   ],
   "source": [
    "np.dot(my_vector, superman_vector)"
   ]
  },
  {
   "cell_type": "code",
   "execution_count": 97,
   "id": "difficult-charleston",
   "metadata": {
    "scrolled": true
   },
   "outputs": [
    {
     "data": {
      "text/html": [
       "<div>\n",
       "<style scoped>\n",
       "    .dataframe tbody tr th:only-of-type {\n",
       "        vertical-align: middle;\n",
       "    }\n",
       "\n",
       "    .dataframe tbody tr th {\n",
       "        vertical-align: top;\n",
       "    }\n",
       "\n",
       "    .dataframe thead th {\n",
       "        text-align: right;\n",
       "    }\n",
       "</style>\n",
       "<table border=\"1\" class=\"dataframe\">\n",
       "  <thead>\n",
       "    <tr style=\"text-align: right;\">\n",
       "      <th></th>\n",
       "      <th>movie_id</th>\n",
       "      <th>title</th>\n",
       "      <th>genre</th>\n",
       "    </tr>\n",
       "  </thead>\n",
       "  <tbody>\n",
       "    <tr>\n",
       "      <th>1482</th>\n",
       "      <td>1517</td>\n",
       "      <td>Austin Powers: International Man of Mystery (1...</td>\n",
       "      <td>Comedy</td>\n",
       "    </tr>\n",
       "    <tr>\n",
       "      <th>2614</th>\n",
       "      <td>2683</td>\n",
       "      <td>Austin Powers: The Spy Who Shagged Me (1999)</td>\n",
       "      <td>Comedy</td>\n",
       "    </tr>\n",
       "  </tbody>\n",
       "</table>\n",
       "</div>"
      ],
      "text/plain": [
       "      movie_id                                              title   genre\n",
       "1482      1517  Austin Powers: International Man of Mystery (1...  Comedy\n",
       "2614      2683       Austin Powers: The Spy Who Shagged Me (1999)  Comedy"
      ]
     },
     "execution_count": 97,
     "metadata": {},
     "output_type": "execute_result"
    }
   ],
   "source": [
    "movies[movies['title'].str.lower().str.contains('austin')]"
   ]
  },
  {
   "cell_type": "code",
   "execution_count": 98,
   "id": "resident-onion",
   "metadata": {},
   "outputs": [
    {
     "data": {
      "text/plain": [
       "array([-1.03824176e-02,  2.84034275e-02,  1.54515719e-02, -3.99836892e-04,\n",
       "        1.94320809e-02,  2.57769786e-02,  2.15138588e-02, -2.36170646e-02,\n",
       "        1.11421095e-02,  1.51458606e-02,  1.03549454e-02,  6.65652426e-03,\n",
       "       -1.34561630e-03,  4.03153058e-03, -8.41581915e-03,  3.71004194e-02,\n",
       "       -3.47695779e-03, -1.04378564e-02,  6.63462421e-03, -1.73624028e-02,\n",
       "        2.46944129e-02, -7.63455266e-03,  1.22000389e-02,  2.26875246e-02,\n",
       "        1.21204052e-02,  3.72283184e-03,  8.83432291e-03,  7.86652789e-03,\n",
       "       -2.22086497e-02,  2.20675599e-02,  2.38214340e-03, -1.31031442e-02,\n",
       "       -3.45029082e-04, -3.63266491e-03,  1.20160752e-03, -3.63965705e-03,\n",
       "        1.22959362e-02, -1.86731142e-03,  1.74643155e-02,  2.25714371e-02,\n",
       "        2.87124906e-02, -1.44077260e-02, -2.25452166e-02,  2.18019877e-02,\n",
       "       -1.92034449e-02,  9.91875771e-03,  1.63120090e-03,  1.01703489e-02,\n",
       "        2.41313428e-02,  4.05887440e-02,  1.28800208e-02,  1.75546890e-03,\n",
       "        4.19304520e-03,  2.48018913e-02, -3.08873155e-03,  2.28382051e-02,\n",
       "       -1.17103767e-03, -2.77462117e-02,  1.45008191e-02, -6.06801687e-03,\n",
       "        2.30331570e-04,  1.42712286e-02, -2.45396383e-02,  6.97145006e-03,\n",
       "        7.88440183e-03, -3.03083961e-03, -4.14836407e-03, -8.01360235e-03,\n",
       "        1.12692825e-02,  9.75263305e-03,  1.90737396e-02,  1.37933828e-02,\n",
       "       -1.17642584e-03,  2.94463839e-02,  1.28743956e-02,  2.68943012e-02,\n",
       "        1.36895468e-02, -1.37574803e-02,  1.66673176e-02,  1.34561649e-02,\n",
       "        2.00816803e-02,  2.70962082e-02,  6.83061406e-03, -1.58206525e-03,\n",
       "       -1.41256936e-02,  3.12084686e-02,  1.80559736e-02, -5.09921927e-03,\n",
       "        3.16604003e-02,  1.68714374e-02,  2.64728144e-02,  5.29918913e-03,\n",
       "        2.41988152e-02,  3.63130681e-02, -5.81316696e-03, -8.96965992e-03,\n",
       "        1.31084211e-02,  5.23918334e-06,  1.57364216e-02,  1.14793787e-02,\n",
       "        1.78470407e-02, -1.23094544e-02, -5.85908769e-03,  1.35937883e-02,\n",
       "        1.03765996e-02, -1.10206725e-02, -9.55737568e-03,  1.92944128e-02,\n",
       "        8.40908475e-03,  1.07707316e-02, -1.92607511e-02,  9.97356698e-03,\n",
       "        2.16947049e-02, -5.14574000e-04,  8.63058120e-03, -3.62930074e-03,\n",
       "       -3.30298021e-03, -2.91097984e-02,  9.16291215e-03, -4.40498255e-03,\n",
       "        1.33877306e-03, -8.25808500e-04,  1.71287835e-03,  4.81521105e-03,\n",
       "       -1.80117004e-02,  8.08037538e-03,  9.14244447e-03, -5.86595340e-03,\n",
       "        1.09448908e-02,  1.99988429e-02,  2.81286649e-02,  2.90188636e-03,\n",
       "        6.99025858e-03,  1.63089316e-02,  3.14784087e-02, -2.20558420e-02,\n",
       "       -1.53761944e-02,  9.48548317e-03,  2.08984949e-02, -8.74564704e-03,\n",
       "       -4.05349396e-03,  2.90414188e-02, -1.01754386e-02,  1.55683709e-02,\n",
       "       -2.21985159e-03, -1.64140370e-02,  1.37560470e-02,  4.61823633e-03,\n",
       "        1.24673508e-02,  3.76448338e-03,  1.20934732e-02,  2.61462154e-03,\n",
       "        4.80454881e-03,  1.82298962e-02, -1.41320350e-02, -9.37135704e-03,\n",
       "       -1.13832382e-02,  2.01208349e-02,  1.92627534e-02, -4.51286603e-03,\n",
       "       -2.55008303e-02,  3.98655832e-02, -2.98812147e-03, -1.35778468e-02,\n",
       "       -2.16127299e-02, -6.53792033e-03, -1.02982335e-02, -5.68589009e-03,\n",
       "        1.39445188e-02, -5.14283078e-03,  1.84512523e-03,  5.68107795e-03,\n",
       "        6.27881149e-03,  1.54931862e-02, -5.78173855e-03, -6.76783640e-03,\n",
       "        1.39214369e-02,  2.32357942e-02,  3.01124854e-03,  1.43621685e-02,\n",
       "        1.95675101e-02, -2.07879990e-02,  2.92670112e-02,  4.16478561e-03,\n",
       "       -1.95742138e-02, -3.10147414e-03, -1.80123560e-02, -9.47644841e-03,\n",
       "       -8.21435172e-03, -7.48289702e-03, -9.96955950e-03,  2.01403536e-02,\n",
       "       -1.06118526e-03,  1.27727035e-02, -1.68770794e-02,  2.04290543e-03,\n",
       "       -1.09426389e-02, -2.02810694e-03,  1.52805112e-02,  2.20632795e-02,\n",
       "       -1.99712943e-02,  9.96308029e-03, -2.21747020e-03,  2.53899544e-02,\n",
       "       -3.50353564e-03,  1.24351438e-02, -1.20943906e-02,  1.91580318e-02,\n",
       "        2.66364124e-03,  2.86375801e-03,  7.46917957e-03, -1.29819345e-02,\n",
       "       -2.01527495e-02,  1.23060551e-02, -5.29657584e-04, -9.43107996e-03,\n",
       "        1.89805906e-02, -1.19220279e-02, -9.39784758e-03,  1.12672839e-02,\n",
       "        2.38865009e-03,  2.44751154e-03,  2.76740585e-02,  8.90166499e-03,\n",
       "        1.43471994e-02, -9.00067296e-03, -3.21402866e-03, -7.28057092e-03,\n",
       "        2.72205994e-02, -2.21321266e-02, -1.48216365e-02, -1.11678010e-02,\n",
       "        1.94735639e-02,  1.65004320e-02, -4.68507438e-04,  4.03613374e-02,\n",
       "       -7.30181253e-03, -4.95935278e-03,  1.40381362e-02,  9.76394396e-03,\n",
       "        9.61135793e-03,  5.92742674e-03, -3.30958096e-03,  1.19879898e-02,\n",
       "        6.83636870e-03,  3.10844630e-02,  1.34530105e-02,  3.07076629e-02,\n",
       "        6.29650103e-03,  1.14292409e-02,  2.08962802e-02, -7.27055361e-03,\n",
       "        7.67880911e-03,  2.76056547e-02,  1.71399284e-02,  1.02679208e-02,\n",
       "       -7.33040180e-03, -5.84361004e-03, -1.01368967e-02, -1.33797049e-03,\n",
       "        2.21059006e-02,  1.55480187e-02,  3.45171127e-03,  2.12463830e-02,\n",
       "        8.28700885e-03, -5.18429186e-03, -1.04999049e-02,  1.08484142e-02,\n",
       "       -1.04085053e-03, -8.78285989e-03, -7.74033880e-03,  2.51334347e-03,\n",
       "        2.20140982e-02,  2.13238411e-02,  2.47252136e-02, -1.04976096e-03,\n",
       "       -4.39681625e-03,  5.02582593e-03,  4.81949886e-03,  2.62988843e-02,\n",
       "       -9.77489073e-03,  1.43458964e-02,  7.52835954e-03,  2.54542865e-02,\n",
       "        1.44090606e-02,  1.25226649e-02,  2.80067953e-03,  2.63546240e-02,\n",
       "        6.17393479e-03,  2.71232389e-02, -7.52585009e-04,  2.33629346e-02,\n",
       "       -2.15972289e-02,  7.43616093e-03, -1.93858072e-02, -4.28447127e-03,\n",
       "        1.79121401e-02, -8.44773557e-03, -2.44277231e-02,  1.50958414e-03],\n",
       "      dtype=float32)"
      ]
     },
     "execution_count": 98,
     "metadata": {},
     "output_type": "execute_result"
    }
   ],
   "source": [
    "# Austin Powers 의 벡터\n",
    "austin_powers = movie_to_idx[2683]\n",
    "austin_powers_vector = als_model.item_factors[austin_powers]\n",
    "austin_powers_vector"
   ]
  },
  {
   "cell_type": "code",
   "execution_count": 99,
   "id": "comparative-gather",
   "metadata": {},
   "outputs": [
    {
     "data": {
      "text/plain": [
       "-0.029829003"
      ]
     },
     "execution_count": 99,
     "metadata": {},
     "output_type": "execute_result"
    }
   ],
   "source": [
    "np.dot(my_vector, austin_powers_vector)"
   ]
  },
  {
   "cell_type": "markdown",
   "id": "referenced-roommate",
   "metadata": {},
   "source": [
    "star wars (1977)과 유사한 영화들과의 유사도"
   ]
  },
  {
   "cell_type": "code",
   "execution_count": 87,
   "id": "excessive-framing",
   "metadata": {},
   "outputs": [
    {
     "data": {
      "text/plain": [
       "[(44, 0.9999999),\n",
       " (117, 0.5115858),\n",
       " (193, 0.32280773),\n",
       " (3134, 0.29173908),\n",
       " (1937, 0.29052034),\n",
       " (120, 0.2899769),\n",
       " (2004, 0.28524235),\n",
       " (2731, 0.28400153),\n",
       " (3504, 0.28373507),\n",
       " (3177, 0.28336096),\n",
       " (3460, 0.2820955),\n",
       " (3507, 0.28120348),\n",
       " (1741, 0.2809558),\n",
       " (3052, 0.28084224),\n",
       " (3323, 0.2806698)]"
      ]
     },
     "execution_count": 87,
     "metadata": {},
     "output_type": "execute_result"
    }
   ],
   "source": [
    "movie_id = movie_to_idx[260]\n",
    "similar_movie = als_model.similar_items(movie_id, N=15)\n",
    "similar_movie"
   ]
  },
  {
   "cell_type": "markdown",
   "id": "thorough-heating",
   "metadata": {},
   "source": [
    "X-Files: Fight the Future, The (1998) 과 유사한 영화들과의 유사도"
   ]
  },
  {
   "cell_type": "code",
   "execution_count": 89,
   "id": "optional-oxford",
   "metadata": {},
   "outputs": [
    {
     "data": {
      "text/plain": [
       "[(228, 1.0),\n",
       " (2736, 0.37140194),\n",
       " (3361, 0.36344165),\n",
       " (3081, 0.35684922),\n",
       " (3302, 0.3563931),\n",
       " (2607, 0.3561834),\n",
       " (3206, 0.3560002),\n",
       " (2883, 0.3533546),\n",
       " (3465, 0.35241893),\n",
       " (2061, 0.35222447),\n",
       " (3196, 0.35214716),\n",
       " (2734, 0.3513245),\n",
       " (2733, 0.35120356),\n",
       " (3458, 0.3511157),\n",
       " (2561, 0.35037538)]"
      ]
     },
     "execution_count": 89,
     "metadata": {},
     "output_type": "execute_result"
    }
   ],
   "source": [
    "movie_id = movie_to_idx[1909]\n",
    "similar_movie = als_model.similar_items(movie_id, N=15)\n",
    "similar_movie"
   ]
  },
  {
   "cell_type": "markdown",
   "id": "activated-ethiopia",
   "metadata": {},
   "source": [
    "Superman (1978) 과 유사한 영화들과의 유사도"
   ]
  },
  {
   "cell_type": "code",
   "execution_count": 92,
   "id": "educated-montana",
   "metadata": {},
   "outputs": [
    {
     "data": {
      "text/plain": [
       "[(526, 1.0000001),\n",
       " (763, 0.62248987),\n",
       " (1534, 0.4115127),\n",
       " (2758, 0.38880783),\n",
       " (3025, 0.38605383),\n",
       " (2627, 0.38569853),\n",
       " (3092, 0.38532284),\n",
       " (3057, 0.38485163),\n",
       " (3348, 0.38318166),\n",
       " (3507, 0.38278568),\n",
       " (3210, 0.3826765),\n",
       " (2962, 0.38246468),\n",
       " (3346, 0.38073623),\n",
       " (3532, 0.38038322),\n",
       " (3362, 0.3798635)]"
      ]
     },
     "execution_count": 92,
     "metadata": {},
     "output_type": "execute_result"
    }
   ],
   "source": [
    "movie_id = movie_to_idx[2640]\n",
    "similar_movie = als_model.similar_items(movie_id, N=15)\n",
    "similar_movie"
   ]
  },
  {
   "cell_type": "markdown",
   "id": "flush-theorem",
   "metadata": {},
   "source": [
    "### 내가 좋아하는 영화와 비슷한 영화를 추천받아 봅시다."
   ]
  },
  {
   "cell_type": "code",
   "execution_count": 104,
   "id": "operating-setup",
   "metadata": {},
   "outputs": [
    {
     "name": "stdout",
     "output_type": "stream",
     "text": [
      "     movie_id                                      title  \\\n",
      "257       260  Star Wars: Episode IV - A New Hope (1977)   \n",
      "\n",
      "                               genre  \n",
      "257  Action|Adventure|Fantasy|Sci-Fi  \n",
      "----------------------------------------------------------------------------------------\n",
      "      movie_id                                              title  \\\n",
      "1178      1196  Star Wars: Episode V - The Empire Strikes Back...   \n",
      "\n",
      "                                  genre  \n",
      "1178  Action|Adventure|Drama|Sci-Fi|War  \n",
      "----------------------------------------------------------------------------------------\n",
      "      movie_id         title                          genre\n",
      "1196      1214  Alien (1979)  Action|Horror|Sci-Fi|Thriller\n",
      "----------------------------------------------------------------------------------------\n",
      "      movie_id                   title  genre\n",
      "3511      3580  Up at the Villa (2000)  Drama\n",
      "----------------------------------------------------------------------------------------\n",
      "      movie_id               title  genre\n",
      "2609      2678  Desert Blue (1999)  Drama\n",
      "----------------------------------------------------------------------------------------\n",
      "      movie_id                           title             genre\n",
      "1180      1198  Raiders of the Lost Ark (1981)  Action|Adventure\n",
      "----------------------------------------------------------------------------------------\n",
      "     movie_id                                              title  \\\n",
      "235       238  Far From Home: The Adventures of Yellow Dog (1...   \n",
      "\n",
      "                    genre  \n",
      "235  Adventure|Children's  \n",
      "----------------------------------------------------------------------------------------\n",
      "     movie_id                                 title         genre\n",
      "566       570  Slingshot, The (Kådisbellan ) (1993)  Comedy|Drama\n",
      "----------------------------------------------------------------------------------------\n",
      "      movie_id                                        title  genre\n",
      "3464      3533  Actor's Revenge, An (Yukinojo Henge) (1963)  Drama\n",
      "----------------------------------------------------------------------------------------\n",
      "      movie_id                   title           genre\n",
      "2441      2510  Just the Ticket (1999)  Comedy|Romance\n",
      "----------------------------------------------------------------------------------------\n",
      "      movie_id                       title           genre\n",
      "3284      3353  Closer You Get, The (2000)  Comedy|Romance\n",
      "----------------------------------------------------------------------------------------\n",
      "      movie_id                title   genre\n",
      "3796      3866  Sunset Strip (2000)  Comedy\n",
      "----------------------------------------------------------------------------------------\n",
      "      movie_id                title            genre\n",
      "3395      3464  Solar Crisis (1993)  Sci-Fi|Thriller\n",
      "----------------------------------------------------------------------------------------\n",
      "      movie_id              title   genre\n",
      "1834      1903  Hav Plenty (1997)  Comedy\n",
      "----------------------------------------------------------------------------------------\n",
      "      movie_id                                              title   genre\n",
      "2103      2172  Strike! (a.k.a. All I Wanna Do, The Hairy Bird...  Comedy\n",
      "----------------------------------------------------------------------------------------\n"
     ]
    }
   ],
   "source": [
    "def get_similar_movie(favorite_movie):\n",
    "    movie_id = movie_to_idx[favorite_movie]\n",
    "    similar_movie = als_model.similar_items(movie_id, N=15)\n",
    "    idx_to_movie = {v:k for k,v in movie_to_idx.items()}\n",
    "    recommand_list = [idx_to_movie[i[0]] for i in similar_movie]\n",
    "    for movie in recommand_list:\n",
    "        print(movies[movies['movie_id'] == movie], '----------------------------------------------------------------------------------------', sep='\\n')\n",
    "\n",
    "get_similar_movie(260)"
   ]
  },
  {
   "cell_type": "code",
   "execution_count": 106,
   "id": "proprietary-melbourne",
   "metadata": {},
   "outputs": [
    {
     "name": "stdout",
     "output_type": "stream",
     "text": [
      "      movie_id            title                    genre\n",
      "2571      2640  Superman (1978)  Action|Adventure|Sci-Fi\n",
      "----------------------------------------------------------------------------------------\n",
      "      movie_id               title                    genre\n",
      "2572      2641  Superman II (1980)  Action|Adventure|Sci-Fi\n",
      "----------------------------------------------------------------------------------------\n",
      "      movie_id                title                    genre\n",
      "2573      2642  Superman III (1983)  Action|Adventure|Sci-Fi\n",
      "----------------------------------------------------------------------------------------\n",
      "      movie_id                  title          genre\n",
      "3784      3854  Aimée & Jaguar (1999)  Drama|Romance\n",
      "----------------------------------------------------------------------------------------\n",
      "      movie_id                           title          genre\n",
      "3579      3648  Abominable Snowman, The (1957)  Horror|Sci-Fi\n",
      "----------------------------------------------------------------------------------------\n",
      "      movie_id                                        title             genre\n",
      "2533      2602  Mighty Peking Man (Hsing hsing wang) (1977)  Adventure|Sci-Fi\n",
      "----------------------------------------------------------------------------------------\n",
      "      movie_id                               title        genre\n",
      "3519      3588  King of Marvin Gardens, The (1972)  Crime|Drama\n",
      "----------------------------------------------------------------------------------------\n",
      "      movie_id                         title            genre\n",
      "1830      1899  Passion in the Desert (1998)  Adventure|Drama\n",
      "----------------------------------------------------------------------------------------\n",
      "      movie_id                      title  genre\n",
      "2762      2831  Dog of Flanders, A (1999)  Drama\n",
      "----------------------------------------------------------------------------------------\n",
      "      movie_id                title   genre\n",
      "3796      3866  Sunset Strip (2000)  Comedy\n",
      "----------------------------------------------------------------------------------------\n",
      "      movie_id               title  genre\n",
      "3250      3319  Judy Berlin (1999)  Drama\n",
      "----------------------------------------------------------------------------------------\n",
      "      movie_id                                            title   genre\n",
      "3762      3832  Black Sabbath (Tre Volti Della Paura, I) (1963)  Horror\n",
      "----------------------------------------------------------------------------------------\n",
      "      movie_id                    title  genre\n",
      "1025      1038  Unhook the Stars (1996)  Drama\n",
      "----------------------------------------------------------------------------------------\n",
      "      movie_id                             title         genre\n",
      "3312      3381  Slaves to the Underground (1997)  Comedy|Drama\n",
      "----------------------------------------------------------------------------------------\n",
      "      movie_id             title     genre\n",
      "2152      2221  Blackmail (1929)  Thriller\n",
      "----------------------------------------------------------------------------------------\n"
     ]
    }
   ],
   "source": [
    "get_similar_movie(2640)"
   ]
  },
  {
   "cell_type": "code",
   "execution_count": 107,
   "id": "smart-vatican",
   "metadata": {},
   "outputs": [
    {
     "name": "stdout",
     "output_type": "stream",
     "text": [
      "      movie_id                                  title                    genre\n",
      "1840      1909  X-Files: Fight the Future, The (1998)  Mystery|Sci-Fi|Thriller\n",
      "----------------------------------------------------------------------------------------\n",
      "      movie_id                   title  genre\n",
      "1618      1664  Nénette et Boni (1996)  Drama\n",
      "----------------------------------------------------------------------------------------\n",
      "      movie_id               title  genre\n",
      "2138      2207  Jamaica Inn (1939)  Drama\n",
      "----------------------------------------------------------------------------------------\n",
      "      movie_id                       title           genre\n",
      "2768      2837  Bedrooms & Hallways (1998)  Comedy|Romance\n",
      "----------------------------------------------------------------------------------------\n",
      "     movie_id                     title        genre\n",
      "242       245  Glass Shield, The (1994)  Crime|Drama\n",
      "----------------------------------------------------------------------------------------\n",
      "      movie_id                                       title  genre\n",
      "3797      3867  All the Rage (a.k.a. It's the Rage) (1999)  Drama\n",
      "----------------------------------------------------------------------------------------\n",
      "      movie_id                                              title  genre\n",
      "2622      2691  Legend of 1900, The (Leggenda del pianista sul...  Drama\n",
      "----------------------------------------------------------------------------------------\n",
      "     movie_id                   title             genre\n",
      "331       335  Underneath, The (1995)  Mystery|Thriller\n",
      "----------------------------------------------------------------------------------------\n",
      "      movie_id                         title   genre\n",
      "1411      1436  Falling in Love Again (1980)  Comedy\n",
      "----------------------------------------------------------------------------------------\n",
      "     movie_id            title  genre\n",
      "981       993  Infinity (1996)  Drama\n",
      "----------------------------------------------------------------------------------------\n",
      "    movie_id                                        title          genre\n",
      "58        59  Confessional, The (Le Confessionnal) (1995)  Drama|Mystery\n",
      "----------------------------------------------------------------------------------------\n",
      "      movie_id         title  genre\n",
      "3118      3187  Trans (1998)  Drama\n",
      "----------------------------------------------------------------------------------------\n",
      "      movie_id                              title  genre\n",
      "1496      1533  Promise, The (La Promesse) (1996)  Drama\n",
      "----------------------------------------------------------------------------------------\n",
      "      movie_id                          title          genre\n",
      "2058      2127  First Love, Last Rites (1997)  Drama|Romance\n",
      "----------------------------------------------------------------------------------------\n",
      "      movie_id             title  genre\n",
      "2925      2994  City, The (1998)  Drama\n",
      "----------------------------------------------------------------------------------------\n"
     ]
    }
   ],
   "source": [
    "get_similar_movie(1909)"
   ]
  },
  {
   "cell_type": "markdown",
   "id": "streaming-convertible",
   "metadata": {},
   "source": [
    "### 내가 가장 좋아할 만한 영화들을 추천받아 봅시다."
   ]
  },
  {
   "cell_type": "code",
   "execution_count": 108,
   "id": "virtual-colors",
   "metadata": {},
   "outputs": [
    {
     "name": "stdout",
     "output_type": "stream",
     "text": [
      "      movie_id               title                    genre\n",
      "2572      2641  Superman II (1980)  Action|Adventure|Sci-Fi\n",
      "--------------------------------------------------------------------\n",
      "      movie_id                                             title  \\\n",
      "2559      2628  Star Wars: Episode I - The Phantom Menace (1999)   \n",
      "\n",
      "                                genre  \n",
      "2559  Action|Adventure|Fantasy|Sci-Fi  \n",
      "--------------------------------------------------------------------\n",
      "     movie_id                                              title       genre\n",
      "740       750  Dr. Strangelove or: How I Learned to Stop Worr...  Sci-Fi|War\n",
      "--------------------------------------------------------------------\n",
      "     movie_id          title                         genre\n",
      "588       592  Batman (1989)  Action|Adventure|Crime|Drama\n",
      "--------------------------------------------------------------------\n",
      "     movie_id               title        genre\n",
      "243       246  Hoop Dreams (1994)  Documentary\n",
      "--------------------------------------------------------------------\n",
      "      movie_id                           title             genre\n",
      "1180      1198  Raiders of the Lost Ark (1981)  Action|Adventure\n",
      "--------------------------------------------------------------------\n",
      "      movie_id                                      title         genre\n",
      "3402      3471  Close Encounters of the Third Kind (1977)  Drama|Sci-Fi\n",
      "--------------------------------------------------------------------\n",
      "     movie_id                title  genre\n",
      "504       508  Philadelphia (1993)  Drama\n",
      "--------------------------------------------------------------------\n",
      "      movie_id                            title                    genre\n",
      "1335      1356  Star Trek: First Contact (1996)  Action|Adventure|Sci-Fi\n",
      "--------------------------------------------------------------------\n",
      "     movie_id                         title                          genre\n",
      "912       924  2001: A Space Odyssey (1968)  Drama|Mystery|Sci-Fi|Thriller\n",
      "--------------------------------------------------------------------\n",
      "      movie_id                                        title             genre\n",
      "2046      2115  Indiana Jones and the Temple of Doom (1984)  Action|Adventure\n",
      "--------------------------------------------------------------------\n",
      "     movie_id                     title                               genre\n",
      "907       919  Wizard of Oz, The (1939)  Adventure|Children's|Drama|Musical\n",
      "--------------------------------------------------------------------\n",
      "      movie_id         title                          genre\n",
      "1196      1214  Alien (1979)  Action|Horror|Sci-Fi|Thriller\n",
      "--------------------------------------------------------------------\n",
      "      movie_id                title        genre\n",
      "1680      1729  Jackie Brown (1997)  Crime|Drama\n",
      "--------------------------------------------------------------------\n",
      "    movie_id                      title  genre\n",
      "61        62  Mr. Holland's Opus (1995)  Drama\n",
      "--------------------------------------------------------------------\n",
      "      movie_id                       title                            genre\n",
      "2337      2406  Romancing the Stone (1984)  Action|Adventure|Comedy|Romance\n",
      "--------------------------------------------------------------------\n",
      "      movie_id           title          genre\n",
      "3633      3702  Mad Max (1979)  Action|Sci-Fi\n",
      "--------------------------------------------------------------------\n",
      "      movie_id                              title  \\\n",
      "1081      1097  E.T. the Extra-Terrestrial (1982)   \n",
      "\n",
      "                                genre  \n",
      "1081  Children's|Drama|Fantasy|Sci-Fi  \n",
      "--------------------------------------------------------------------\n",
      "      movie_id           title                genre\n",
      "2916      2985  Robocop (1987)  Action|Crime|Sci-Fi\n",
      "--------------------------------------------------------------------\n",
      "      movie_id            title        genre\n",
      "2162      2231  Rounders (1998)  Crime|Drama\n",
      "--------------------------------------------------------------------\n"
     ]
    }
   ],
   "source": [
    "def recommand_movie(user_id):\n",
    "    user = user_to_idx[user_id]\n",
    "    movie_recommended = als_model.recommend(user, csr_data, N=20, filter_already_liked_items=True)\n",
    "    idx_to_movie = {v:k for k,v in movie_to_idx.items()}\n",
    "    recommand_list = [idx_to_movie[i[0]] for i in movie_recommended]\n",
    "    for movie in recommand_list:\n",
    "        print(movies[movies['movie_id'] == movie], '--------------------------------------------------------------------', sep='\\n')\n",
    "\n",
    "recommand_movie(my_id)"
   ]
  },
  {
   "cell_type": "code",
   "execution_count": null,
   "id": "unique-jordan",
   "metadata": {},
   "outputs": [],
   "source": []
  }
 ],
 "metadata": {
  "kernelspec": {
   "display_name": "Python 3",
   "language": "python",
   "name": "python3"
  },
  "language_info": {
   "codemirror_mode": {
    "name": "ipython",
    "version": 3
   },
   "file_extension": ".py",
   "mimetype": "text/x-python",
   "name": "python",
   "nbconvert_exporter": "python",
   "pygments_lexer": "ipython3",
   "version": "3.7.9"
  }
 },
 "nbformat": 4,
 "nbformat_minor": 5
}
