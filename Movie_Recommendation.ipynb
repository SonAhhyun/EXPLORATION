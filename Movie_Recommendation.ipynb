{
 "cells": [
  {
   "cell_type": "markdown",
   "id": "linear-evaluation",
   "metadata": {},
   "source": [
    "<h1> 아이유팬이 좋아할 만한 다른 아티스트 찾기 <h1>"
   ]
  },
  {
   "cell_type": "markdown",
   "id": "controlled-hudson",
   "metadata": {},
   "source": [
    "## 실습 목표\n",
    "---\n",
    "- 추천시스템의 개념과 목적을 이해한다.\n",
    "- Implicit 라이브러리를 활용하여 Matrix Factorization(이하 MF) 기반의 추천 모델을 만들어 본다.\n",
    "- 음악 감상 기록을 활용하여 비슷한 아티스트를 찾고 아티스트를 추천해 본다.\n",
    "- 추천 시스템에서 자주 사용되는 데이터 구조인 CSR Matrix을 익힌다\n",
    "- 유저의 행위 데이터 중 Explicit data와 Implicit data의 차이점을 익힌다.\n",
    "- 새로운 데이터셋으로 직접 추천 모델을 만들어 본다."
   ]
  },
  {
   "cell_type": "markdown",
   "id": "starting-journey",
   "metadata": {},
   "source": [
    "## lastfm dataset 가져오기\n",
    "\n",
    "$ mkdir -p ~/aiffel/EXPLORATION/09/recommendata_iu/data/lastfm-dataset-360K\n",
    "$ ln -s ~/data/lastfm-dataset-360K/* ~/aiffel/EXPLORATION/09/recommendata_iu/data/lastfm-dataset-360K\n",
    "\n",
    "## 데이터 준비\n",
    "\n",
    "$ more ~/aiffel/EXPLORATION/09/recommendata_iu/data/lastfm-dataset-360K/usersha1-artmbid-artname-plays.tsv\n",
    "\n",
    "Pandas를 활용해 이 데이터를 열어 보기"
   ]
  },
  {
   "cell_type": "code",
   "execution_count": 1,
   "id": "cardiovascular-tracy",
   "metadata": {},
   "outputs": [
    {
     "data": {
      "text/html": [
       "<div>\n",
       "<style scoped>\n",
       "    .dataframe tbody tr th:only-of-type {\n",
       "        vertical-align: middle;\n",
       "    }\n",
       "\n",
       "    .dataframe tbody tr th {\n",
       "        vertical-align: top;\n",
       "    }\n",
       "\n",
       "    .dataframe thead th {\n",
       "        text-align: right;\n",
       "    }\n",
       "</style>\n",
       "<table border=\"1\" class=\"dataframe\">\n",
       "  <thead>\n",
       "    <tr style=\"text-align: right;\">\n",
       "      <th></th>\n",
       "      <th>user_id</th>\n",
       "      <th>artist_MBID</th>\n",
       "      <th>artist</th>\n",
       "      <th>play</th>\n",
       "    </tr>\n",
       "  </thead>\n",
       "  <tbody>\n",
       "    <tr>\n",
       "      <th>0</th>\n",
       "      <td>00000c289a1829a808ac09c00daf10bc3c4e223b</td>\n",
       "      <td>3bd73256-3905-4f3a-97e2-8b341527f805</td>\n",
       "      <td>betty blowtorch</td>\n",
       "      <td>2137</td>\n",
       "    </tr>\n",
       "    <tr>\n",
       "      <th>1</th>\n",
       "      <td>00000c289a1829a808ac09c00daf10bc3c4e223b</td>\n",
       "      <td>f2fb0ff0-5679-42ec-a55c-15109ce6e320</td>\n",
       "      <td>die Ärzte</td>\n",
       "      <td>1099</td>\n",
       "    </tr>\n",
       "    <tr>\n",
       "      <th>2</th>\n",
       "      <td>00000c289a1829a808ac09c00daf10bc3c4e223b</td>\n",
       "      <td>b3ae82c2-e60b-4551-a76d-6620f1b456aa</td>\n",
       "      <td>melissa etheridge</td>\n",
       "      <td>897</td>\n",
       "    </tr>\n",
       "    <tr>\n",
       "      <th>3</th>\n",
       "      <td>00000c289a1829a808ac09c00daf10bc3c4e223b</td>\n",
       "      <td>3d6bbeb7-f90e-4d10-b440-e153c0d10b53</td>\n",
       "      <td>elvenking</td>\n",
       "      <td>717</td>\n",
       "    </tr>\n",
       "    <tr>\n",
       "      <th>4</th>\n",
       "      <td>00000c289a1829a808ac09c00daf10bc3c4e223b</td>\n",
       "      <td>bbd2ffd7-17f4-4506-8572-c1ea58c3f9a8</td>\n",
       "      <td>juliette &amp; the licks</td>\n",
       "      <td>706</td>\n",
       "    </tr>\n",
       "    <tr>\n",
       "      <th>5</th>\n",
       "      <td>00000c289a1829a808ac09c00daf10bc3c4e223b</td>\n",
       "      <td>8bfac288-ccc5-448d-9573-c33ea2aa5c30</td>\n",
       "      <td>red hot chili peppers</td>\n",
       "      <td>691</td>\n",
       "    </tr>\n",
       "    <tr>\n",
       "      <th>6</th>\n",
       "      <td>00000c289a1829a808ac09c00daf10bc3c4e223b</td>\n",
       "      <td>6531c8b1-76ea-4141-b270-eb1ac5b41375</td>\n",
       "      <td>magica</td>\n",
       "      <td>545</td>\n",
       "    </tr>\n",
       "    <tr>\n",
       "      <th>7</th>\n",
       "      <td>00000c289a1829a808ac09c00daf10bc3c4e223b</td>\n",
       "      <td>21f3573f-10cf-44b3-aeaa-26cccd8448b5</td>\n",
       "      <td>the black dahlia murder</td>\n",
       "      <td>507</td>\n",
       "    </tr>\n",
       "    <tr>\n",
       "      <th>8</th>\n",
       "      <td>00000c289a1829a808ac09c00daf10bc3c4e223b</td>\n",
       "      <td>c5db90c4-580d-4f33-b364-fbaa5a3a58b5</td>\n",
       "      <td>the murmurs</td>\n",
       "      <td>424</td>\n",
       "    </tr>\n",
       "    <tr>\n",
       "      <th>9</th>\n",
       "      <td>00000c289a1829a808ac09c00daf10bc3c4e223b</td>\n",
       "      <td>0639533a-0402-40ba-b6e0-18b067198b73</td>\n",
       "      <td>lunachicks</td>\n",
       "      <td>403</td>\n",
       "    </tr>\n",
       "  </tbody>\n",
       "</table>\n",
       "</div>"
      ],
      "text/plain": [
       "                                    user_id  \\\n",
       "0  00000c289a1829a808ac09c00daf10bc3c4e223b   \n",
       "1  00000c289a1829a808ac09c00daf10bc3c4e223b   \n",
       "2  00000c289a1829a808ac09c00daf10bc3c4e223b   \n",
       "3  00000c289a1829a808ac09c00daf10bc3c4e223b   \n",
       "4  00000c289a1829a808ac09c00daf10bc3c4e223b   \n",
       "5  00000c289a1829a808ac09c00daf10bc3c4e223b   \n",
       "6  00000c289a1829a808ac09c00daf10bc3c4e223b   \n",
       "7  00000c289a1829a808ac09c00daf10bc3c4e223b   \n",
       "8  00000c289a1829a808ac09c00daf10bc3c4e223b   \n",
       "9  00000c289a1829a808ac09c00daf10bc3c4e223b   \n",
       "\n",
       "                            artist_MBID                   artist  play  \n",
       "0  3bd73256-3905-4f3a-97e2-8b341527f805          betty blowtorch  2137  \n",
       "1  f2fb0ff0-5679-42ec-a55c-15109ce6e320                die Ärzte  1099  \n",
       "2  b3ae82c2-e60b-4551-a76d-6620f1b456aa        melissa etheridge   897  \n",
       "3  3d6bbeb7-f90e-4d10-b440-e153c0d10b53                elvenking   717  \n",
       "4  bbd2ffd7-17f4-4506-8572-c1ea58c3f9a8     juliette & the licks   706  \n",
       "5  8bfac288-ccc5-448d-9573-c33ea2aa5c30    red hot chili peppers   691  \n",
       "6  6531c8b1-76ea-4141-b270-eb1ac5b41375                   magica   545  \n",
       "7  21f3573f-10cf-44b3-aeaa-26cccd8448b5  the black dahlia murder   507  \n",
       "8  c5db90c4-580d-4f33-b364-fbaa5a3a58b5              the murmurs   424  \n",
       "9  0639533a-0402-40ba-b6e0-18b067198b73               lunachicks   403  "
      ]
     },
     "execution_count": 1,
     "metadata": {},
     "output_type": "execute_result"
    }
   ],
   "source": [
    "import pandas as pd\n",
    "import os\n",
    "\n",
    "fname = os.getenv('HOME') + '/aiffel/EXPLORATION/09/recommendata_iu/data/lastfm-dataset-360K/usersha1-artmbid-artname-plays.tsv'\n",
    "col_names = ['user_id', 'artist_MBID', 'artist', 'play']   # 임의로 지정한 컬럼명\n",
    "data = pd.read_csv(fname, sep='\\t', names= col_names)      # sep='\\t'로 주어야 tsv를 열 수 있습니다.  \n",
    "data.head(10)"
   ]
  },
  {
   "cell_type": "code",
   "execution_count": 2,
   "id": "arbitrary-percentage",
   "metadata": {},
   "outputs": [
    {
     "data": {
      "text/html": [
       "<div>\n",
       "<style scoped>\n",
       "    .dataframe tbody tr th:only-of-type {\n",
       "        vertical-align: middle;\n",
       "    }\n",
       "\n",
       "    .dataframe tbody tr th {\n",
       "        vertical-align: top;\n",
       "    }\n",
       "\n",
       "    .dataframe thead th {\n",
       "        text-align: right;\n",
       "    }\n",
       "</style>\n",
       "<table border=\"1\" class=\"dataframe\">\n",
       "  <thead>\n",
       "    <tr style=\"text-align: right;\">\n",
       "      <th></th>\n",
       "      <th>user_id</th>\n",
       "      <th>artist</th>\n",
       "      <th>play</th>\n",
       "    </tr>\n",
       "  </thead>\n",
       "  <tbody>\n",
       "    <tr>\n",
       "      <th>0</th>\n",
       "      <td>00000c289a1829a808ac09c00daf10bc3c4e223b</td>\n",
       "      <td>betty blowtorch</td>\n",
       "      <td>2137</td>\n",
       "    </tr>\n",
       "    <tr>\n",
       "      <th>1</th>\n",
       "      <td>00000c289a1829a808ac09c00daf10bc3c4e223b</td>\n",
       "      <td>die Ärzte</td>\n",
       "      <td>1099</td>\n",
       "    </tr>\n",
       "    <tr>\n",
       "      <th>2</th>\n",
       "      <td>00000c289a1829a808ac09c00daf10bc3c4e223b</td>\n",
       "      <td>melissa etheridge</td>\n",
       "      <td>897</td>\n",
       "    </tr>\n",
       "    <tr>\n",
       "      <th>3</th>\n",
       "      <td>00000c289a1829a808ac09c00daf10bc3c4e223b</td>\n",
       "      <td>elvenking</td>\n",
       "      <td>717</td>\n",
       "    </tr>\n",
       "    <tr>\n",
       "      <th>4</th>\n",
       "      <td>00000c289a1829a808ac09c00daf10bc3c4e223b</td>\n",
       "      <td>juliette &amp; the licks</td>\n",
       "      <td>706</td>\n",
       "    </tr>\n",
       "    <tr>\n",
       "      <th>5</th>\n",
       "      <td>00000c289a1829a808ac09c00daf10bc3c4e223b</td>\n",
       "      <td>red hot chili peppers</td>\n",
       "      <td>691</td>\n",
       "    </tr>\n",
       "    <tr>\n",
       "      <th>6</th>\n",
       "      <td>00000c289a1829a808ac09c00daf10bc3c4e223b</td>\n",
       "      <td>magica</td>\n",
       "      <td>545</td>\n",
       "    </tr>\n",
       "    <tr>\n",
       "      <th>7</th>\n",
       "      <td>00000c289a1829a808ac09c00daf10bc3c4e223b</td>\n",
       "      <td>the black dahlia murder</td>\n",
       "      <td>507</td>\n",
       "    </tr>\n",
       "    <tr>\n",
       "      <th>8</th>\n",
       "      <td>00000c289a1829a808ac09c00daf10bc3c4e223b</td>\n",
       "      <td>the murmurs</td>\n",
       "      <td>424</td>\n",
       "    </tr>\n",
       "    <tr>\n",
       "      <th>9</th>\n",
       "      <td>00000c289a1829a808ac09c00daf10bc3c4e223b</td>\n",
       "      <td>lunachicks</td>\n",
       "      <td>403</td>\n",
       "    </tr>\n",
       "  </tbody>\n",
       "</table>\n",
       "</div>"
      ],
      "text/plain": [
       "                                    user_id                   artist  play\n",
       "0  00000c289a1829a808ac09c00daf10bc3c4e223b          betty blowtorch  2137\n",
       "1  00000c289a1829a808ac09c00daf10bc3c4e223b                die Ärzte  1099\n",
       "2  00000c289a1829a808ac09c00daf10bc3c4e223b        melissa etheridge   897\n",
       "3  00000c289a1829a808ac09c00daf10bc3c4e223b                elvenking   717\n",
       "4  00000c289a1829a808ac09c00daf10bc3c4e223b     juliette & the licks   706\n",
       "5  00000c289a1829a808ac09c00daf10bc3c4e223b    red hot chili peppers   691\n",
       "6  00000c289a1829a808ac09c00daf10bc3c4e223b                   magica   545\n",
       "7  00000c289a1829a808ac09c00daf10bc3c4e223b  the black dahlia murder   507\n",
       "8  00000c289a1829a808ac09c00daf10bc3c4e223b              the murmurs   424\n",
       "9  00000c289a1829a808ac09c00daf10bc3c4e223b               lunachicks   403"
      ]
     },
     "execution_count": 2,
     "metadata": {},
     "output_type": "execute_result"
    }
   ],
   "source": [
    "# 사용하는 컬럼만 남겨줍니다.\n",
    "using_cols = ['user_id', 'artist', 'play']\n",
    "data = data[using_cols]\n",
    "data.head(10)"
   ]
  },
  {
   "cell_type": "code",
   "execution_count": 3,
   "id": "european-necklace",
   "metadata": {},
   "outputs": [
    {
     "data": {
      "text/html": [
       "<div>\n",
       "<style scoped>\n",
       "    .dataframe tbody tr th:only-of-type {\n",
       "        vertical-align: middle;\n",
       "    }\n",
       "\n",
       "    .dataframe tbody tr th {\n",
       "        vertical-align: top;\n",
       "    }\n",
       "\n",
       "    .dataframe thead th {\n",
       "        text-align: right;\n",
       "    }\n",
       "</style>\n",
       "<table border=\"1\" class=\"dataframe\">\n",
       "  <thead>\n",
       "    <tr style=\"text-align: right;\">\n",
       "      <th></th>\n",
       "      <th>user_id</th>\n",
       "      <th>artist</th>\n",
       "      <th>play</th>\n",
       "    </tr>\n",
       "  </thead>\n",
       "  <tbody>\n",
       "    <tr>\n",
       "      <th>0</th>\n",
       "      <td>00000c289a1829a808ac09c00daf10bc3c4e223b</td>\n",
       "      <td>betty blowtorch</td>\n",
       "      <td>2137</td>\n",
       "    </tr>\n",
       "    <tr>\n",
       "      <th>1</th>\n",
       "      <td>00000c289a1829a808ac09c00daf10bc3c4e223b</td>\n",
       "      <td>die ärzte</td>\n",
       "      <td>1099</td>\n",
       "    </tr>\n",
       "    <tr>\n",
       "      <th>2</th>\n",
       "      <td>00000c289a1829a808ac09c00daf10bc3c4e223b</td>\n",
       "      <td>melissa etheridge</td>\n",
       "      <td>897</td>\n",
       "    </tr>\n",
       "    <tr>\n",
       "      <th>3</th>\n",
       "      <td>00000c289a1829a808ac09c00daf10bc3c4e223b</td>\n",
       "      <td>elvenking</td>\n",
       "      <td>717</td>\n",
       "    </tr>\n",
       "    <tr>\n",
       "      <th>4</th>\n",
       "      <td>00000c289a1829a808ac09c00daf10bc3c4e223b</td>\n",
       "      <td>juliette &amp; the licks</td>\n",
       "      <td>706</td>\n",
       "    </tr>\n",
       "    <tr>\n",
       "      <th>5</th>\n",
       "      <td>00000c289a1829a808ac09c00daf10bc3c4e223b</td>\n",
       "      <td>red hot chili peppers</td>\n",
       "      <td>691</td>\n",
       "    </tr>\n",
       "    <tr>\n",
       "      <th>6</th>\n",
       "      <td>00000c289a1829a808ac09c00daf10bc3c4e223b</td>\n",
       "      <td>magica</td>\n",
       "      <td>545</td>\n",
       "    </tr>\n",
       "    <tr>\n",
       "      <th>7</th>\n",
       "      <td>00000c289a1829a808ac09c00daf10bc3c4e223b</td>\n",
       "      <td>the black dahlia murder</td>\n",
       "      <td>507</td>\n",
       "    </tr>\n",
       "    <tr>\n",
       "      <th>8</th>\n",
       "      <td>00000c289a1829a808ac09c00daf10bc3c4e223b</td>\n",
       "      <td>the murmurs</td>\n",
       "      <td>424</td>\n",
       "    </tr>\n",
       "    <tr>\n",
       "      <th>9</th>\n",
       "      <td>00000c289a1829a808ac09c00daf10bc3c4e223b</td>\n",
       "      <td>lunachicks</td>\n",
       "      <td>403</td>\n",
       "    </tr>\n",
       "  </tbody>\n",
       "</table>\n",
       "</div>"
      ],
      "text/plain": [
       "                                    user_id                   artist  play\n",
       "0  00000c289a1829a808ac09c00daf10bc3c4e223b          betty blowtorch  2137\n",
       "1  00000c289a1829a808ac09c00daf10bc3c4e223b                die ärzte  1099\n",
       "2  00000c289a1829a808ac09c00daf10bc3c4e223b        melissa etheridge   897\n",
       "3  00000c289a1829a808ac09c00daf10bc3c4e223b                elvenking   717\n",
       "4  00000c289a1829a808ac09c00daf10bc3c4e223b     juliette & the licks   706\n",
       "5  00000c289a1829a808ac09c00daf10bc3c4e223b    red hot chili peppers   691\n",
       "6  00000c289a1829a808ac09c00daf10bc3c4e223b                   magica   545\n",
       "7  00000c289a1829a808ac09c00daf10bc3c4e223b  the black dahlia murder   507\n",
       "8  00000c289a1829a808ac09c00daf10bc3c4e223b              the murmurs   424\n",
       "9  00000c289a1829a808ac09c00daf10bc3c4e223b               lunachicks   403"
      ]
     },
     "execution_count": 3,
     "metadata": {},
     "output_type": "execute_result"
    }
   ],
   "source": [
    "data['artist'] = data['artist'].str.lower() # 검색을 쉽게하기 위해 아티스트 문자열을 소문자로 바꿔줍시다.\n",
    "data.head(10)"
   ]
  },
  {
   "cell_type": "markdown",
   "id": "perfect-january",
   "metadata": {},
   "source": [
    "첫 번째 유저가 어떤 아티스트의 노래를 듣는지 확인해 보자."
   ]
  },
  {
   "cell_type": "code",
   "execution_count": 4,
   "id": "cooperative-convention",
   "metadata": {},
   "outputs": [
    {
     "data": {
      "text/html": [
       "<div>\n",
       "<style scoped>\n",
       "    .dataframe tbody tr th:only-of-type {\n",
       "        vertical-align: middle;\n",
       "    }\n",
       "\n",
       "    .dataframe tbody tr th {\n",
       "        vertical-align: top;\n",
       "    }\n",
       "\n",
       "    .dataframe thead th {\n",
       "        text-align: right;\n",
       "    }\n",
       "</style>\n",
       "<table border=\"1\" class=\"dataframe\">\n",
       "  <thead>\n",
       "    <tr style=\"text-align: right;\">\n",
       "      <th></th>\n",
       "      <th>user_id</th>\n",
       "      <th>artist</th>\n",
       "      <th>play</th>\n",
       "    </tr>\n",
       "  </thead>\n",
       "  <tbody>\n",
       "    <tr>\n",
       "      <th>0</th>\n",
       "      <td>00000c289a1829a808ac09c00daf10bc3c4e223b</td>\n",
       "      <td>betty blowtorch</td>\n",
       "      <td>2137</td>\n",
       "    </tr>\n",
       "    <tr>\n",
       "      <th>1</th>\n",
       "      <td>00000c289a1829a808ac09c00daf10bc3c4e223b</td>\n",
       "      <td>die ärzte</td>\n",
       "      <td>1099</td>\n",
       "    </tr>\n",
       "    <tr>\n",
       "      <th>2</th>\n",
       "      <td>00000c289a1829a808ac09c00daf10bc3c4e223b</td>\n",
       "      <td>melissa etheridge</td>\n",
       "      <td>897</td>\n",
       "    </tr>\n",
       "    <tr>\n",
       "      <th>3</th>\n",
       "      <td>00000c289a1829a808ac09c00daf10bc3c4e223b</td>\n",
       "      <td>elvenking</td>\n",
       "      <td>717</td>\n",
       "    </tr>\n",
       "    <tr>\n",
       "      <th>4</th>\n",
       "      <td>00000c289a1829a808ac09c00daf10bc3c4e223b</td>\n",
       "      <td>juliette &amp; the licks</td>\n",
       "      <td>706</td>\n",
       "    </tr>\n",
       "    <tr>\n",
       "      <th>5</th>\n",
       "      <td>00000c289a1829a808ac09c00daf10bc3c4e223b</td>\n",
       "      <td>red hot chili peppers</td>\n",
       "      <td>691</td>\n",
       "    </tr>\n",
       "    <tr>\n",
       "      <th>6</th>\n",
       "      <td>00000c289a1829a808ac09c00daf10bc3c4e223b</td>\n",
       "      <td>magica</td>\n",
       "      <td>545</td>\n",
       "    </tr>\n",
       "    <tr>\n",
       "      <th>7</th>\n",
       "      <td>00000c289a1829a808ac09c00daf10bc3c4e223b</td>\n",
       "      <td>the black dahlia murder</td>\n",
       "      <td>507</td>\n",
       "    </tr>\n",
       "    <tr>\n",
       "      <th>8</th>\n",
       "      <td>00000c289a1829a808ac09c00daf10bc3c4e223b</td>\n",
       "      <td>the murmurs</td>\n",
       "      <td>424</td>\n",
       "    </tr>\n",
       "    <tr>\n",
       "      <th>9</th>\n",
       "      <td>00000c289a1829a808ac09c00daf10bc3c4e223b</td>\n",
       "      <td>lunachicks</td>\n",
       "      <td>403</td>\n",
       "    </tr>\n",
       "    <tr>\n",
       "      <th>10</th>\n",
       "      <td>00000c289a1829a808ac09c00daf10bc3c4e223b</td>\n",
       "      <td>walls of jericho</td>\n",
       "      <td>393</td>\n",
       "    </tr>\n",
       "    <tr>\n",
       "      <th>11</th>\n",
       "      <td>00000c289a1829a808ac09c00daf10bc3c4e223b</td>\n",
       "      <td>letzte instanz</td>\n",
       "      <td>387</td>\n",
       "    </tr>\n",
       "    <tr>\n",
       "      <th>12</th>\n",
       "      <td>00000c289a1829a808ac09c00daf10bc3c4e223b</td>\n",
       "      <td>goldfrapp</td>\n",
       "      <td>361</td>\n",
       "    </tr>\n",
       "    <tr>\n",
       "      <th>13</th>\n",
       "      <td>00000c289a1829a808ac09c00daf10bc3c4e223b</td>\n",
       "      <td>horrorpops</td>\n",
       "      <td>358</td>\n",
       "    </tr>\n",
       "    <tr>\n",
       "      <th>14</th>\n",
       "      <td>00000c289a1829a808ac09c00daf10bc3c4e223b</td>\n",
       "      <td>the butchies</td>\n",
       "      <td>329</td>\n",
       "    </tr>\n",
       "    <tr>\n",
       "      <th>15</th>\n",
       "      <td>00000c289a1829a808ac09c00daf10bc3c4e223b</td>\n",
       "      <td>jack off jill</td>\n",
       "      <td>316</td>\n",
       "    </tr>\n",
       "    <tr>\n",
       "      <th>16</th>\n",
       "      <td>00000c289a1829a808ac09c00daf10bc3c4e223b</td>\n",
       "      <td>babes in toyland</td>\n",
       "      <td>310</td>\n",
       "    </tr>\n",
       "    <tr>\n",
       "      <th>17</th>\n",
       "      <td>00000c289a1829a808ac09c00daf10bc3c4e223b</td>\n",
       "      <td>dropkick murphys</td>\n",
       "      <td>302</td>\n",
       "    </tr>\n",
       "    <tr>\n",
       "      <th>18</th>\n",
       "      <td>00000c289a1829a808ac09c00daf10bc3c4e223b</td>\n",
       "      <td>all:my:faults</td>\n",
       "      <td>288</td>\n",
       "    </tr>\n",
       "    <tr>\n",
       "      <th>19</th>\n",
       "      <td>00000c289a1829a808ac09c00daf10bc3c4e223b</td>\n",
       "      <td>le tigre</td>\n",
       "      <td>281</td>\n",
       "    </tr>\n",
       "    <tr>\n",
       "      <th>20</th>\n",
       "      <td>00000c289a1829a808ac09c00daf10bc3c4e223b</td>\n",
       "      <td>schandmaul</td>\n",
       "      <td>244</td>\n",
       "    </tr>\n",
       "    <tr>\n",
       "      <th>21</th>\n",
       "      <td>00000c289a1829a808ac09c00daf10bc3c4e223b</td>\n",
       "      <td>edguy</td>\n",
       "      <td>232</td>\n",
       "    </tr>\n",
       "    <tr>\n",
       "      <th>22</th>\n",
       "      <td>00000c289a1829a808ac09c00daf10bc3c4e223b</td>\n",
       "      <td>maximum the hormone</td>\n",
       "      <td>231</td>\n",
       "    </tr>\n",
       "    <tr>\n",
       "      <th>23</th>\n",
       "      <td>00000c289a1829a808ac09c00daf10bc3c4e223b</td>\n",
       "      <td>all ends</td>\n",
       "      <td>229</td>\n",
       "    </tr>\n",
       "    <tr>\n",
       "      <th>24</th>\n",
       "      <td>00000c289a1829a808ac09c00daf10bc3c4e223b</td>\n",
       "      <td>jack johnson</td>\n",
       "      <td>227</td>\n",
       "    </tr>\n",
       "    <tr>\n",
       "      <th>25</th>\n",
       "      <td>00000c289a1829a808ac09c00daf10bc3c4e223b</td>\n",
       "      <td>eluveitie</td>\n",
       "      <td>222</td>\n",
       "    </tr>\n",
       "    <tr>\n",
       "      <th>26</th>\n",
       "      <td>00000c289a1829a808ac09c00daf10bc3c4e223b</td>\n",
       "      <td>rasputina</td>\n",
       "      <td>220</td>\n",
       "    </tr>\n",
       "    <tr>\n",
       "      <th>27</th>\n",
       "      <td>00000c289a1829a808ac09c00daf10bc3c4e223b</td>\n",
       "      <td>london after midnight</td>\n",
       "      <td>210</td>\n",
       "    </tr>\n",
       "    <tr>\n",
       "      <th>28</th>\n",
       "      <td>00000c289a1829a808ac09c00daf10bc3c4e223b</td>\n",
       "      <td>the killers</td>\n",
       "      <td>208</td>\n",
       "    </tr>\n",
       "    <tr>\n",
       "      <th>29</th>\n",
       "      <td>00000c289a1829a808ac09c00daf10bc3c4e223b</td>\n",
       "      <td>mutyumu</td>\n",
       "      <td>205</td>\n",
       "    </tr>\n",
       "    <tr>\n",
       "      <th>30</th>\n",
       "      <td>00000c289a1829a808ac09c00daf10bc3c4e223b</td>\n",
       "      <td>judas priest</td>\n",
       "      <td>198</td>\n",
       "    </tr>\n",
       "    <tr>\n",
       "      <th>31</th>\n",
       "      <td>00000c289a1829a808ac09c00daf10bc3c4e223b</td>\n",
       "      <td>rob zombie</td>\n",
       "      <td>198</td>\n",
       "    </tr>\n",
       "    <tr>\n",
       "      <th>32</th>\n",
       "      <td>00000c289a1829a808ac09c00daf10bc3c4e223b</td>\n",
       "      <td>the bosshoss</td>\n",
       "      <td>189</td>\n",
       "    </tr>\n",
       "    <tr>\n",
       "      <th>33</th>\n",
       "      <td>00000c289a1829a808ac09c00daf10bc3c4e223b</td>\n",
       "      <td>blue öyster cult</td>\n",
       "      <td>185</td>\n",
       "    </tr>\n",
       "    <tr>\n",
       "      <th>34</th>\n",
       "      <td>00000c289a1829a808ac09c00daf10bc3c4e223b</td>\n",
       "      <td>sandra nasic</td>\n",
       "      <td>183</td>\n",
       "    </tr>\n",
       "    <tr>\n",
       "      <th>35</th>\n",
       "      <td>00000c289a1829a808ac09c00daf10bc3c4e223b</td>\n",
       "      <td>john mayer</td>\n",
       "      <td>182</td>\n",
       "    </tr>\n",
       "    <tr>\n",
       "      <th>36</th>\n",
       "      <td>00000c289a1829a808ac09c00daf10bc3c4e223b</td>\n",
       "      <td>sleater-kinney</td>\n",
       "      <td>175</td>\n",
       "    </tr>\n",
       "    <tr>\n",
       "      <th>37</th>\n",
       "      <td>00000c289a1829a808ac09c00daf10bc3c4e223b</td>\n",
       "      <td>the who</td>\n",
       "      <td>168</td>\n",
       "    </tr>\n",
       "    <tr>\n",
       "      <th>38</th>\n",
       "      <td>00000c289a1829a808ac09c00daf10bc3c4e223b</td>\n",
       "      <td>disciple</td>\n",
       "      <td>154</td>\n",
       "    </tr>\n",
       "    <tr>\n",
       "      <th>39</th>\n",
       "      <td>00000c289a1829a808ac09c00daf10bc3c4e223b</td>\n",
       "      <td>tanzwut</td>\n",
       "      <td>153</td>\n",
       "    </tr>\n",
       "    <tr>\n",
       "      <th>40</th>\n",
       "      <td>00000c289a1829a808ac09c00daf10bc3c4e223b</td>\n",
       "      <td>guano apes</td>\n",
       "      <td>151</td>\n",
       "    </tr>\n",
       "    <tr>\n",
       "      <th>41</th>\n",
       "      <td>00000c289a1829a808ac09c00daf10bc3c4e223b</td>\n",
       "      <td>the rolling stones</td>\n",
       "      <td>150</td>\n",
       "    </tr>\n",
       "    <tr>\n",
       "      <th>42</th>\n",
       "      <td>00000c289a1829a808ac09c00daf10bc3c4e223b</td>\n",
       "      <td>little big town</td>\n",
       "      <td>145</td>\n",
       "    </tr>\n",
       "    <tr>\n",
       "      <th>43</th>\n",
       "      <td>00000c289a1829a808ac09c00daf10bc3c4e223b</td>\n",
       "      <td>team dresch</td>\n",
       "      <td>137</td>\n",
       "    </tr>\n",
       "    <tr>\n",
       "      <th>44</th>\n",
       "      <td>00000c289a1829a808ac09c00daf10bc3c4e223b</td>\n",
       "      <td>betty</td>\n",
       "      <td>135</td>\n",
       "    </tr>\n",
       "    <tr>\n",
       "      <th>45</th>\n",
       "      <td>00000c289a1829a808ac09c00daf10bc3c4e223b</td>\n",
       "      <td>l7</td>\n",
       "      <td>135</td>\n",
       "    </tr>\n",
       "    <tr>\n",
       "      <th>46</th>\n",
       "      <td>00000c289a1829a808ac09c00daf10bc3c4e223b</td>\n",
       "      <td>bif naked</td>\n",
       "      <td>134</td>\n",
       "    </tr>\n",
       "    <tr>\n",
       "      <th>47</th>\n",
       "      <td>00000c289a1829a808ac09c00daf10bc3c4e223b</td>\n",
       "      <td>girlschool</td>\n",
       "      <td>134</td>\n",
       "    </tr>\n",
       "    <tr>\n",
       "      <th>48</th>\n",
       "      <td>00000c289a1829a808ac09c00daf10bc3c4e223b</td>\n",
       "      <td>the wallflowers</td>\n",
       "      <td>131</td>\n",
       "    </tr>\n",
       "  </tbody>\n",
       "</table>\n",
       "</div>"
      ],
      "text/plain": [
       "                                     user_id                   artist  play\n",
       "0   00000c289a1829a808ac09c00daf10bc3c4e223b          betty blowtorch  2137\n",
       "1   00000c289a1829a808ac09c00daf10bc3c4e223b                die ärzte  1099\n",
       "2   00000c289a1829a808ac09c00daf10bc3c4e223b        melissa etheridge   897\n",
       "3   00000c289a1829a808ac09c00daf10bc3c4e223b                elvenking   717\n",
       "4   00000c289a1829a808ac09c00daf10bc3c4e223b     juliette & the licks   706\n",
       "5   00000c289a1829a808ac09c00daf10bc3c4e223b    red hot chili peppers   691\n",
       "6   00000c289a1829a808ac09c00daf10bc3c4e223b                   magica   545\n",
       "7   00000c289a1829a808ac09c00daf10bc3c4e223b  the black dahlia murder   507\n",
       "8   00000c289a1829a808ac09c00daf10bc3c4e223b              the murmurs   424\n",
       "9   00000c289a1829a808ac09c00daf10bc3c4e223b               lunachicks   403\n",
       "10  00000c289a1829a808ac09c00daf10bc3c4e223b         walls of jericho   393\n",
       "11  00000c289a1829a808ac09c00daf10bc3c4e223b           letzte instanz   387\n",
       "12  00000c289a1829a808ac09c00daf10bc3c4e223b                goldfrapp   361\n",
       "13  00000c289a1829a808ac09c00daf10bc3c4e223b               horrorpops   358\n",
       "14  00000c289a1829a808ac09c00daf10bc3c4e223b             the butchies   329\n",
       "15  00000c289a1829a808ac09c00daf10bc3c4e223b            jack off jill   316\n",
       "16  00000c289a1829a808ac09c00daf10bc3c4e223b         babes in toyland   310\n",
       "17  00000c289a1829a808ac09c00daf10bc3c4e223b         dropkick murphys   302\n",
       "18  00000c289a1829a808ac09c00daf10bc3c4e223b            all:my:faults   288\n",
       "19  00000c289a1829a808ac09c00daf10bc3c4e223b                 le tigre   281\n",
       "20  00000c289a1829a808ac09c00daf10bc3c4e223b               schandmaul   244\n",
       "21  00000c289a1829a808ac09c00daf10bc3c4e223b                    edguy   232\n",
       "22  00000c289a1829a808ac09c00daf10bc3c4e223b      maximum the hormone   231\n",
       "23  00000c289a1829a808ac09c00daf10bc3c4e223b                 all ends   229\n",
       "24  00000c289a1829a808ac09c00daf10bc3c4e223b             jack johnson   227\n",
       "25  00000c289a1829a808ac09c00daf10bc3c4e223b                eluveitie   222\n",
       "26  00000c289a1829a808ac09c00daf10bc3c4e223b                rasputina   220\n",
       "27  00000c289a1829a808ac09c00daf10bc3c4e223b    london after midnight   210\n",
       "28  00000c289a1829a808ac09c00daf10bc3c4e223b              the killers   208\n",
       "29  00000c289a1829a808ac09c00daf10bc3c4e223b                  mutyumu   205\n",
       "30  00000c289a1829a808ac09c00daf10bc3c4e223b             judas priest   198\n",
       "31  00000c289a1829a808ac09c00daf10bc3c4e223b               rob zombie   198\n",
       "32  00000c289a1829a808ac09c00daf10bc3c4e223b             the bosshoss   189\n",
       "33  00000c289a1829a808ac09c00daf10bc3c4e223b         blue öyster cult   185\n",
       "34  00000c289a1829a808ac09c00daf10bc3c4e223b             sandra nasic   183\n",
       "35  00000c289a1829a808ac09c00daf10bc3c4e223b               john mayer   182\n",
       "36  00000c289a1829a808ac09c00daf10bc3c4e223b           sleater-kinney   175\n",
       "37  00000c289a1829a808ac09c00daf10bc3c4e223b                  the who   168\n",
       "38  00000c289a1829a808ac09c00daf10bc3c4e223b                 disciple   154\n",
       "39  00000c289a1829a808ac09c00daf10bc3c4e223b                  tanzwut   153\n",
       "40  00000c289a1829a808ac09c00daf10bc3c4e223b               guano apes   151\n",
       "41  00000c289a1829a808ac09c00daf10bc3c4e223b       the rolling stones   150\n",
       "42  00000c289a1829a808ac09c00daf10bc3c4e223b          little big town   145\n",
       "43  00000c289a1829a808ac09c00daf10bc3c4e223b              team dresch   137\n",
       "44  00000c289a1829a808ac09c00daf10bc3c4e223b                    betty   135\n",
       "45  00000c289a1829a808ac09c00daf10bc3c4e223b                       l7   135\n",
       "46  00000c289a1829a808ac09c00daf10bc3c4e223b                bif naked   134\n",
       "47  00000c289a1829a808ac09c00daf10bc3c4e223b               girlschool   134\n",
       "48  00000c289a1829a808ac09c00daf10bc3c4e223b          the wallflowers   131"
      ]
     },
     "execution_count": 4,
     "metadata": {},
     "output_type": "execute_result"
    }
   ],
   "source": [
    "condition = (data['user_id']== data.loc[0, 'user_id'])\n",
    "data.loc[condition]"
   ]
  },
  {
   "cell_type": "markdown",
   "id": "compliant-employer",
   "metadata": {},
   "source": [
    "## 데이터 탐색\n",
    "---\n",
    "- 유저수, 아티스트수, 인기 많은 아티스트\n",
    "- 유저들이 몇 명의 아티스트를 듣고 있는지에 대한 통계\n",
    "- 유저 play 횟수 중앙값에 대한 통계"
   ]
  },
  {
   "cell_type": "code",
   "execution_count": 5,
   "id": "satisfied-authority",
   "metadata": {},
   "outputs": [
    {
     "data": {
      "text/plain": [
       "358868"
      ]
     },
     "execution_count": 5,
     "metadata": {},
     "output_type": "execute_result"
    }
   ],
   "source": [
    "# 유저 수\n",
    "data['user_id'].nunique()"
   ]
  },
  {
   "cell_type": "code",
   "execution_count": 6,
   "id": "approximate-investment",
   "metadata": {},
   "outputs": [
    {
     "data": {
      "text/plain": [
       "291346"
      ]
     },
     "execution_count": 6,
     "metadata": {},
     "output_type": "execute_result"
    }
   ],
   "source": [
    "# 아티스트 수\n",
    "data['artist'].nunique()"
   ]
  },
  {
   "cell_type": "code",
   "execution_count": 7,
   "id": "continuous-rider",
   "metadata": {},
   "outputs": [
    {
     "data": {
      "text/plain": [
       "artist\n",
       "radiohead                77254\n",
       "the beatles              76245\n",
       "coldplay                 66658\n",
       "red hot chili peppers    48924\n",
       "muse                     46954\n",
       "metallica                45233\n",
       "pink floyd               44443\n",
       "the killers              41229\n",
       "linkin park              39773\n",
       "nirvana                  39479\n",
       "system of a down         37267\n",
       "queen                    34174\n",
       "u2                       33206\n",
       "daft punk                33001\n",
       "the cure                 32624\n",
       "led zeppelin             32295\n",
       "placebo                  32072\n",
       "depeche mode             31916\n",
       "david bowie              31862\n",
       "bob dylan                31799\n",
       "death cab for cutie      31482\n",
       "arctic monkeys           30348\n",
       "foo fighters             30144\n",
       "air                      29795\n",
       "the rolling stones       29754\n",
       "nine inch nails          28946\n",
       "sigur rós                28901\n",
       "green day                28732\n",
       "massive attack           28691\n",
       "moby                     28232\n",
       "Name: user_id, dtype: int64"
      ]
     },
     "execution_count": 7,
     "metadata": {},
     "output_type": "execute_result"
    }
   ],
   "source": [
    "# 인기 많은 아티스트\n",
    "artist_count = data.groupby('artist')['user_id'].count()\n",
    "artist_count.sort_values(ascending=False).head(30)"
   ]
  },
  {
   "cell_type": "code",
   "execution_count": 8,
   "id": "dependent-louisiana",
   "metadata": {},
   "outputs": [
    {
     "data": {
      "text/plain": [
       "count    358868.000000\n",
       "mean         48.863234\n",
       "std           8.524272\n",
       "min           1.000000\n",
       "25%          46.000000\n",
       "50%          49.000000\n",
       "75%          51.000000\n",
       "max         166.000000\n",
       "Name: artist, dtype: float64"
      ]
     },
     "execution_count": 8,
     "metadata": {},
     "output_type": "execute_result"
    }
   ],
   "source": [
    "# 유저별 몇 명의 아티스트를 듣고 있는지에 대한 통계\n",
    "user_count = data.groupby('user_id')['artist'].count()\n",
    "user_count.describe()"
   ]
  },
  {
   "cell_type": "code",
   "execution_count": 9,
   "id": "documentary-routine",
   "metadata": {},
   "outputs": [
    {
     "data": {
      "text/plain": [
       "count    358868.000000\n",
       "mean        142.187676\n",
       "std         213.089902\n",
       "min           1.000000\n",
       "25%          32.000000\n",
       "50%          83.000000\n",
       "75%         180.000000\n",
       "max       50142.000000\n",
       "Name: play, dtype: float64"
      ]
     },
     "execution_count": 9,
     "metadata": {},
     "output_type": "execute_result"
    }
   ],
   "source": [
    "# 유저별 play횟수 중앙값에 대한 통계\n",
    "user_median = data.groupby('user_id')['play'].median()\n",
    "user_median.describe()"
   ]
  },
  {
   "cell_type": "markdown",
   "id": "broadband-upgrade",
   "metadata": {},
   "source": [
    "## 모델 검증을 위한 사용자 초기 정보 세팅\n",
    "\n",
    "우리가 만든 추천시스템의 추후 검증 과정을 위해, '나는 A를 좋아한다.'라는 정보를 위 데이터셋에 5개 이상 추가해 주기"
   ]
  },
  {
   "cell_type": "code",
   "execution_count": 10,
   "id": "drawn-charles",
   "metadata": {},
   "outputs": [
    {
     "data": {
      "text/html": [
       "<div>\n",
       "<style scoped>\n",
       "    .dataframe tbody tr th:only-of-type {\n",
       "        vertical-align: middle;\n",
       "    }\n",
       "\n",
       "    .dataframe tbody tr th {\n",
       "        vertical-align: top;\n",
       "    }\n",
       "\n",
       "    .dataframe thead th {\n",
       "        text-align: right;\n",
       "    }\n",
       "</style>\n",
       "<table border=\"1\" class=\"dataframe\">\n",
       "  <thead>\n",
       "    <tr style=\"text-align: right;\">\n",
       "      <th></th>\n",
       "      <th>user_id</th>\n",
       "      <th>artist</th>\n",
       "      <th>play</th>\n",
       "    </tr>\n",
       "  </thead>\n",
       "  <tbody>\n",
       "    <tr>\n",
       "      <th>17535650</th>\n",
       "      <td>sep 20, 2008</td>\n",
       "      <td>turbostaat</td>\n",
       "      <td>12</td>\n",
       "    </tr>\n",
       "    <tr>\n",
       "      <th>17535651</th>\n",
       "      <td>sep 20, 2008</td>\n",
       "      <td>cuba missouri</td>\n",
       "      <td>11</td>\n",
       "    </tr>\n",
       "    <tr>\n",
       "      <th>17535652</th>\n",
       "      <td>sep 20, 2008</td>\n",
       "      <td>little man tate</td>\n",
       "      <td>11</td>\n",
       "    </tr>\n",
       "    <tr>\n",
       "      <th>17535653</th>\n",
       "      <td>sep 20, 2008</td>\n",
       "      <td>sigur rós</td>\n",
       "      <td>10</td>\n",
       "    </tr>\n",
       "    <tr>\n",
       "      <th>17535654</th>\n",
       "      <td>sep 20, 2008</td>\n",
       "      <td>the smiths</td>\n",
       "      <td>10</td>\n",
       "    </tr>\n",
       "    <tr>\n",
       "      <th>0</th>\n",
       "      <td>zimin</td>\n",
       "      <td>black eyed peas</td>\n",
       "      <td>30</td>\n",
       "    </tr>\n",
       "    <tr>\n",
       "      <th>1</th>\n",
       "      <td>zimin</td>\n",
       "      <td>maroon5</td>\n",
       "      <td>30</td>\n",
       "    </tr>\n",
       "    <tr>\n",
       "      <th>2</th>\n",
       "      <td>zimin</td>\n",
       "      <td>jason mraz</td>\n",
       "      <td>30</td>\n",
       "    </tr>\n",
       "    <tr>\n",
       "      <th>3</th>\n",
       "      <td>zimin</td>\n",
       "      <td>coldplay</td>\n",
       "      <td>30</td>\n",
       "    </tr>\n",
       "    <tr>\n",
       "      <th>4</th>\n",
       "      <td>zimin</td>\n",
       "      <td>beyoncé</td>\n",
       "      <td>30</td>\n",
       "    </tr>\n",
       "  </tbody>\n",
       "</table>\n",
       "</div>"
      ],
      "text/plain": [
       "               user_id           artist  play\n",
       "17535650  sep 20, 2008       turbostaat    12\n",
       "17535651  sep 20, 2008    cuba missouri    11\n",
       "17535652  sep 20, 2008  little man tate    11\n",
       "17535653  sep 20, 2008        sigur rós    10\n",
       "17535654  sep 20, 2008       the smiths    10\n",
       "0                zimin  black eyed peas    30\n",
       "1                zimin          maroon5    30\n",
       "2                zimin       jason mraz    30\n",
       "3                zimin         coldplay    30\n",
       "4                zimin          beyoncé    30"
      ]
     },
     "execution_count": 10,
     "metadata": {},
     "output_type": "execute_result"
    }
   ],
   "source": [
    "# 본인이 좋아하시는 아티스트 데이터로 바꿔서 추가하셔도 됩니다! 단, 이름은 꼭 데이터셋에 있는 것과 동일하게 맞춰주세요. \n",
    "my_favorite = ['black eyed peas' , 'maroon5' ,'jason mraz' ,'coldplay' ,'beyoncé']\n",
    "\n",
    "# 'zimin'이라는 user_id가 위 아티스트의 노래를 30회씩 들었다고 가정하겠습니다.\n",
    "my_playlist = pd.DataFrame({'user_id': ['zimin']*5, 'artist': my_favorite, 'play':[30]*5})\n",
    "\n",
    "if not data.isin({'user_id':['zimin']})['user_id'].any():  # user_id에 'zimin'이라는 데이터가 없다면\n",
    "    data = data.append(my_playlist)                           # 위에 임의로 만든 my_favorite 데이터를 추가해 줍니다. \n",
    "\n",
    "data.tail(10)       # 잘 추가되었는지 확인해 봅시다."
   ]
  },
  {
   "cell_type": "markdown",
   "id": "mighty-point",
   "metadata": {},
   "source": [
    "## 모델에 활용하기 위한 전처리 (실습)\n",
    "\n",
    "pandas.DataFrame.unique()은 특정 컬럼에 포함된 유니크한 데이터만 모아 줍니다. indexing 작업을 위해 매우 유용"
   ]
  },
  {
   "cell_type": "code",
   "execution_count": 11,
   "id": "objective-arrival",
   "metadata": {},
   "outputs": [],
   "source": [
    "# 고유한 유저, 아티스트를 찾아내는 코드\n",
    "user_unique = data['user_id'].unique()\n",
    "artist_unique = data['artist'].unique()\n",
    "\n",
    "# 유저, 아티스트 indexing 하는 코드 idx는 index의 약자입니다.\n",
    "user_to_idx = {v:k for k,v in enumerate(user_unique)}\n",
    "artist_to_idx = {v:k for k,v in enumerate(artist_unique)}"
   ]
  },
  {
   "cell_type": "code",
   "execution_count": 12,
   "id": "marked-louisville",
   "metadata": {},
   "outputs": [
    {
     "name": "stdout",
     "output_type": "stream",
     "text": [
      "358868\n",
      "376\n"
     ]
    }
   ],
   "source": [
    "# 인덱싱이 잘 되었는지 확인해 봅니다. \n",
    "print(user_to_idx['zimin'])    # 358869명의 유저 중 마지막으로 추가된 유저이니 358868이 나와야 합니다. \n",
    "print(artist_to_idx['black eyed peas'])"
   ]
  },
  {
   "cell_type": "code",
   "execution_count": 13,
   "id": "korean-aspect",
   "metadata": {},
   "outputs": [
    {
     "name": "stdout",
     "output_type": "stream",
     "text": [
      "user_id column indexing OK!!\n",
      "artist column indexing OK!!\n"
     ]
    },
    {
     "data": {
      "text/html": [
       "<div>\n",
       "<style scoped>\n",
       "    .dataframe tbody tr th:only-of-type {\n",
       "        vertical-align: middle;\n",
       "    }\n",
       "\n",
       "    .dataframe tbody tr th {\n",
       "        vertical-align: top;\n",
       "    }\n",
       "\n",
       "    .dataframe thead th {\n",
       "        text-align: right;\n",
       "    }\n",
       "</style>\n",
       "<table border=\"1\" class=\"dataframe\">\n",
       "  <thead>\n",
       "    <tr style=\"text-align: right;\">\n",
       "      <th></th>\n",
       "      <th>user_id</th>\n",
       "      <th>artist</th>\n",
       "      <th>play</th>\n",
       "    </tr>\n",
       "  </thead>\n",
       "  <tbody>\n",
       "    <tr>\n",
       "      <th>0</th>\n",
       "      <td>0</td>\n",
       "      <td>0</td>\n",
       "      <td>2137</td>\n",
       "    </tr>\n",
       "    <tr>\n",
       "      <th>1</th>\n",
       "      <td>0</td>\n",
       "      <td>1</td>\n",
       "      <td>1099</td>\n",
       "    </tr>\n",
       "    <tr>\n",
       "      <th>2</th>\n",
       "      <td>0</td>\n",
       "      <td>2</td>\n",
       "      <td>897</td>\n",
       "    </tr>\n",
       "    <tr>\n",
       "      <th>3</th>\n",
       "      <td>0</td>\n",
       "      <td>3</td>\n",
       "      <td>717</td>\n",
       "    </tr>\n",
       "    <tr>\n",
       "      <th>4</th>\n",
       "      <td>0</td>\n",
       "      <td>4</td>\n",
       "      <td>706</td>\n",
       "    </tr>\n",
       "    <tr>\n",
       "      <th>...</th>\n",
       "      <td>...</td>\n",
       "      <td>...</td>\n",
       "      <td>...</td>\n",
       "    </tr>\n",
       "    <tr>\n",
       "      <th>0</th>\n",
       "      <td>358868</td>\n",
       "      <td>376</td>\n",
       "      <td>30</td>\n",
       "    </tr>\n",
       "    <tr>\n",
       "      <th>1</th>\n",
       "      <td>358868</td>\n",
       "      <td>270115</td>\n",
       "      <td>30</td>\n",
       "    </tr>\n",
       "    <tr>\n",
       "      <th>2</th>\n",
       "      <td>358868</td>\n",
       "      <td>3746</td>\n",
       "      <td>30</td>\n",
       "    </tr>\n",
       "    <tr>\n",
       "      <th>3</th>\n",
       "      <td>358868</td>\n",
       "      <td>62</td>\n",
       "      <td>30</td>\n",
       "    </tr>\n",
       "    <tr>\n",
       "      <th>4</th>\n",
       "      <td>358868</td>\n",
       "      <td>396</td>\n",
       "      <td>30</td>\n",
       "    </tr>\n",
       "  </tbody>\n",
       "</table>\n",
       "<p>17535660 rows × 3 columns</p>\n",
       "</div>"
      ],
      "text/plain": [
       "    user_id  artist  play\n",
       "0         0       0  2137\n",
       "1         0       1  1099\n",
       "2         0       2   897\n",
       "3         0       3   717\n",
       "4         0       4   706\n",
       "..      ...     ...   ...\n",
       "0    358868     376    30\n",
       "1    358868  270115    30\n",
       "2    358868    3746    30\n",
       "3    358868      62    30\n",
       "4    358868     396    30\n",
       "\n",
       "[17535660 rows x 3 columns]"
      ]
     },
     "execution_count": 13,
     "metadata": {},
     "output_type": "execute_result"
    }
   ],
   "source": [
    "# indexing을 통해 데이터 컬럼 내 값을 바꾸는 코드\n",
    "# dictionary 자료형의 get 함수는 https://wikidocs.net/16 을 참고하세요.\n",
    "\n",
    "# user_to_idx.get을 통해 user_id 컬럼의 모든 값을 인덱싱한 Series를 구해 봅시다. \n",
    "# 혹시 정상적으로 인덱싱되지 않은 row가 있다면 인덱스가 NaN이 될 테니 dropna()로 제거합니다. \n",
    "temp_user_data = data['user_id'].map(user_to_idx.get).dropna()\n",
    "if len(temp_user_data) == len(data):   # 모든 row가 정상적으로 인덱싱되었다면\n",
    "    print('user_id column indexing OK!!')\n",
    "    data['user_id'] = temp_user_data   # data['user_id']을 인덱싱된 Series로 교체해 줍니다. \n",
    "else:\n",
    "    print('user_id column indexing Fail!!')\n",
    "\n",
    "# artist_to_idx을 통해 artist 컬럼도 동일한 방식으로 인덱싱해 줍니다. \n",
    "temp_artist_data = data['artist'].map(artist_to_idx.get).dropna()\n",
    "if len(temp_artist_data) == len(data):\n",
    "    print('artist column indexing OK!!')\n",
    "    data['artist'] = temp_artist_data\n",
    "else:\n",
    "    print('artist column indexing Fail!!')\n",
    "\n",
    "data"
   ]
  },
  {
   "cell_type": "markdown",
   "id": "dangerous-scroll",
   "metadata": {},
   "source": [
    "data의 user_id와 artist 컬럼 내 값들이 모두 정수 인덱스 값으로 잘 변경되었으면 훈련을 위한 전처리가 완료"
   ]
  },
  {
   "cell_type": "markdown",
   "id": "fatal-object",
   "metadata": {},
   "source": [
    "## 사용자의 명시적/암묵적 평가"
   ]
  },
  {
   "cell_type": "code",
   "execution_count": 14,
   "id": "dutch-fundamentals",
   "metadata": {},
   "outputs": [
    {
     "name": "stdout",
     "output_type": "stream",
     "text": [
      "147740,17535660\n",
      "Ratio of only_one over all data is 0.84%\n"
     ]
    }
   ],
   "source": [
    "# 1회만 play한 데이터의 비율을 보는 코드\n",
    "only_one = data[data['play']<2]\n",
    "one, all_data = len(only_one), len(data)\n",
    "print(f'{one},{all_data}')\n",
    "print(f'Ratio of only_one over all data is {one/all_data:.2%}')  # f-format에 대한 설명은 https://bit.ly/2DTLqYU"
   ]
  },
  {
   "cell_type": "markdown",
   "id": "lightweight-auction",
   "metadata": {},
   "source": [
    "앞으로 만들어갈 모델에서는 암묵적 데이터의 해석을 위해 다음과 같은 규칙을 적용\n",
    "\n",
    "---\n",
    "- 한 번이라도 들었으면 선호한다고 판단한다.\n",
    "- 많이 재생한 아티스트에 대해 가중치를 주어서 더 확실히 좋아한다고 판단한다."
   ]
  },
  {
   "cell_type": "markdown",
   "id": "reduced-second",
   "metadata": {},
   "source": [
    "## Matrix Factorization(MF)\n",
    "\n",
    "m명의 사용자들이 n명의 아티스트에 대해 평가한 데이터를 포함한 (m,n) 사이즈의 평가행렬(Rating Matrix)을 만들 것이다.\n",
    "\n",
    "추천 시스템의 다양한 모델 중 Matrix Factorization(MF, 행렬분해) 모델을 사용\n",
    "\n",
    "(m,n) 사이즈의 행렬 R을 (m,k) 사이즈의 행렬 P와 (k,n) 사이즈의 행렬 Q로 분해한다면 R이란 그저 P와 Q의 행렬곱으로 표현 가능할 수 있다는 간단한 아이디어이며, 대체로 k는 m이나 n보다 훨씬 작은 값이기 때문에 계산량 측면으로도 훨씬 유리해진다. \n",
    "\n",
    "하지만 아이디어의 단순함에도 불구하고 MF 모델은 성능이 준수하고 Scalability가 좋아서 많이 사용되는 모델\n",
    "\n",
    "![](https://github.com/MulderKim/EXPLORATION/blob/main/09/etc/E-3v2-2_ekCv9hW.max-800x600.png?raw=true)\n",
    "\n",
    "(m, k) 사이즈의 Feature Matrix P는 k 차원의 벡터를 사용자 수만큼 모아놓은 행렬\n"
   ]
  },
  {
   "cell_type": "markdown",
   "id": "rotary-grocery",
   "metadata": {},
   "source": [
    "![m=4, n=5, k=2인 MF 모델](https://github.com/MulderKim/EXPLORATION/blob/main/09/etc/E-3v2-3.max-800x600.png?raw=true)\n",
    "\n",
    "m=4, n=5, k=2인 MF 모델\n",
    "\n",
    "---\n",
    "첫 번째 벡터 P<sub>0</sub> = (1, 0.1)은 바로 빨간 모자를 쓴 첫 번째 사용자의 특성(Feature) 벡터\n",
    "\n",
    "Q 행렬의 첫번째 벡터 Q<sub>0</sub> = (0.9, -0.2)는 해리포터 영화의 특성 벡터\n",
    "\n",
    "MF 모델은 이 두 벡터를 내적해서 얻어지는 0.88이 바로 R<sub>0,0</sub> 으로 정의되는 사용자의 영화 선호도로 보는 모델"
   ]
  },
  {
   "cell_type": "markdown",
   "id": "widespread-brook",
   "metadata": {},
   "source": [
    "벡터를 잘 만드는 기준은 유저i의 벡터(U<sub>i</sub>)와 아이템j의 벡터(I<sub>j</sub>)를 내적했을 때 유저i가 아이템j에 대해 평가한 수치(M<sub>ij</sub>)와 비슷한지 이며..\n",
    "\n",
    "\n",
    "\n",
    "U<sub>i</sub> &#183; I<sub>j</sub> = M<sub>ij</sub>\n"
   ]
  },
  {
   "cell_type": "markdown",
   "id": "copyrighted-locator",
   "metadata": {},
   "source": [
    "## CSR(Compressed Sparse Row) Matrix\n",
    "\n",
    "유저 X 아이템 평가행렬은 유저는 36만 명이고 아티스트는 29만 명입으로 행렬로 표현하고 행렬의 각 원소에 정수 한 개 (1byte)가 들어간다면 약 97GB가 필요하며 97GB나 되는 거대한 행렬을 메모리에 올려놓고 작업한다는 것은 불가능하기 때문에 대안이 되는 것이 CSR(Compressed Sparse Row) Matrix이다\n",
    "\n",
    "CSR Matrix는 Sparse한 matrix에서 0이 아닌 유효한 데이터로 채워지는 데이터의 값과 좌표 정보만으로 구성하여 메모리 사용량을 최소화하면서도 Sparse한 matrix와 동일한 행렬을 표현할 수 있도록 하는 데이터 구조"
   ]
  },
  {
   "cell_type": "code",
   "execution_count": 15,
   "id": "quick-afternoon",
   "metadata": {},
   "outputs": [
    {
     "data": {
      "text/plain": [
       "<358869x291347 sparse matrix of type '<class 'numpy.longlong'>'\n",
       "\twith 17535578 stored elements in Compressed Sparse Row format>"
      ]
     },
     "execution_count": 15,
     "metadata": {},
     "output_type": "execute_result"
    }
   ],
   "source": [
    "# 실습 위에 설명보고 이해해서 만들어보기\n",
    "from scipy.sparse import csr_matrix\n",
    "\n",
    "num_user = data['user_id'].nunique()\n",
    "num_artist = data['artist'].nunique()\n",
    "\n",
    "csr_data = csr_matrix((data.play, (data.user_id, data.artist)), shape= (num_user, num_artist))\n",
    "csr_data"
   ]
  },
  {
   "cell_type": "markdown",
   "id": "oriented-visibility",
   "metadata": {},
   "source": [
    "## MF 모델 학습하기\n",
    "\n",
    "- implicit 패키지는 이전 스텝에서 설명한 암묵적(implicit) dataset을 사용하는 다양한 모델을 굉장히 빠르게 학습할 수 있는 패키지입니다.\n",
    "- 이 패키지에 구현된 als(AlternatingLeastSquares) 모델을 사용하겠습니다. Matrix Factorization에서 쪼개진 두 Feature Matrix를 한꺼번에 훈련하는 것은 잘 수렴하지 않기 때문에, 한쪽을 고정시키고 다른 쪽을 학습하는 방식을 번갈아 수행하는 AlternatingLeastSquares 방식이 효과적인 것으로 알려져 있습니다."
   ]
  },
  {
   "cell_type": "code",
   "execution_count": 16,
   "id": "rocky-launch",
   "metadata": {},
   "outputs": [],
   "source": [
    "from implicit.als import AlternatingLeastSquares\n",
    "import os\n",
    "import numpy as np\n",
    "\n",
    "# implicit 라이브러리에서 권장하고 있는 부분입니다. 학습 내용과는 무관합니다.\n",
    "os.environ['OPENBLAS_NUM_THREADS']='1'\n",
    "os.environ['KMP_DUPLICATE_LIB_OK']='True'\n",
    "os.environ['MKL_NUM_THREADS']='1'"
   ]
  },
  {
   "cell_type": "markdown",
   "id": "abroad-philip",
   "metadata": {},
   "source": [
    "AlternatingLeastSquares 클래스의 __init__ 파라미터를 살펴보면 \n",
    "\n",
    "1. factors : 유저와 아이템의 벡터를 몇 차원으로 할 것인지 \n",
    "\n",
    "2. regularization : 과적합을 방지하기 위해 정규화 값을 얼마나 사용할 것인지 \n",
    "\n",
    "3. use_gpu : GPU를 사용할 것인지 \n",
    "\n",
    "4. iterations : epochs와 같은 의미입니다. 데이터를 몇 번 반복해서 학습할 것인지\n",
    "\n",
    "1,4를 늘릴수록 학습데이터를 잘 학습하게 되지만 과적합의 우려가 있으니 좋은 값을 찾아야 한다"
   ]
  },
  {
   "cell_type": "code",
   "execution_count": 17,
   "id": "passive-arcade",
   "metadata": {},
   "outputs": [],
   "source": [
    "# Implicit AlternatingLeastSquares 모델의 선언\n",
    "als_model = AlternatingLeastSquares(factors=100, regularization=0.01, use_gpu=False, iterations=15, dtype=np.float32)"
   ]
  },
  {
   "cell_type": "code",
   "execution_count": 18,
   "id": "opened-avatar",
   "metadata": {},
   "outputs": [
    {
     "data": {
      "text/plain": [
       "<291347x358869 sparse matrix of type '<class 'numpy.longlong'>'\n",
       "\twith 17535578 stored elements in Compressed Sparse Column format>"
      ]
     },
     "execution_count": 18,
     "metadata": {},
     "output_type": "execute_result"
    }
   ],
   "source": [
    "# als 모델은 input으로 (item X user 꼴의 matrix를 받기 때문에 Transpose해줍니다.)\n",
    "csr_data_transpose = csr_data.T\n",
    "csr_data_transpose"
   ]
  },
  {
   "cell_type": "code",
   "execution_count": 19,
   "id": "ordered-packaging",
   "metadata": {},
   "outputs": [
    {
     "data": {
      "application/vnd.jupyter.widget-view+json": {
       "model_id": "60e5f4589f84451797eca3e1bcef7e1f",
       "version_major": 2,
       "version_minor": 0
      },
      "text/plain": [
       "  0%|          | 0/15 [00:00<?, ?it/s]"
      ]
     },
     "metadata": {},
     "output_type": "display_data"
    }
   ],
   "source": [
    "# 모델 훈련\n",
    "als_model.fit(csr_data_transpose)"
   ]
  },
  {
   "cell_type": "markdown",
   "id": "satisfied-matthew",
   "metadata": {},
   "source": [
    "모델 학습이 끝난뒤 2가지 사항을 살펴보면...\n",
    "\n",
    "1. Zimin 벡터와 black eyed peas의 벡터를 어떻게 만들고 있는지\n",
    "2. 두 벡터를 곱하면 어떤 값이 나오는지"
   ]
  },
  {
   "cell_type": "code",
   "execution_count": 20,
   "id": "received-stake",
   "metadata": {},
   "outputs": [
    {
     "name": "stdout",
     "output_type": "stream",
     "text": [
      "슝=3\n"
     ]
    }
   ],
   "source": [
    "zimin, black_eyed_peas = user_to_idx['zimin'], artist_to_idx['black eyed peas']\n",
    "zimin_vector, black_eyed_peas_vector = als_model.user_factors[zimin], als_model.item_factors[black_eyed_peas]\n",
    "\n",
    "print('슝=3')"
   ]
  },
  {
   "cell_type": "code",
   "execution_count": 21,
   "id": "dressed-converter",
   "metadata": {},
   "outputs": [
    {
     "data": {
      "text/plain": [
       "array([-0.16925523,  0.4276382 , -0.7715362 , -0.37146536,  1.0055485 ,\n",
       "        0.7685094 ,  0.11046174, -0.28125805,  0.01661756,  0.18806618,\n",
       "       -1.1330231 , -0.6687886 , -0.2900534 ,  0.5404171 ,  0.38437486,\n",
       "        0.38604817, -0.3671388 ,  0.01144285,  0.16628791, -0.40951413,\n",
       "        0.29417628, -0.30983827,  0.5162394 ,  0.2126844 ,  0.3994931 ,\n",
       "        1.0550414 , -0.50042915,  1.3649307 ,  0.4840146 ,  0.93569803,\n",
       "        0.26388425, -1.3563633 , -0.04390183,  0.21309678, -0.5053132 ,\n",
       "        0.7691577 , -0.90383905,  0.21720251,  1.0985554 ,  0.08068713,\n",
       "        0.16702446,  0.7137242 ,  0.35784394, -0.3624744 ,  0.04032436,\n",
       "       -0.6110837 , -0.5500752 , -0.81107306,  0.60975796,  0.9071662 ,\n",
       "       -0.02449725, -0.10150595, -0.13839033,  0.539416  , -0.79975533,\n",
       "        0.5394691 ,  0.29485065, -0.94532025,  0.14751258, -0.13724501,\n",
       "       -1.3011107 ,  0.6993229 , -0.17201675, -0.37486297, -0.37374753,\n",
       "        1.1979377 ,  0.62996924, -0.38693467, -0.08716407, -1.4299132 ,\n",
       "        0.63041395,  0.26662457, -0.26600534, -0.6283574 , -0.3183901 ,\n",
       "        0.38494807,  0.1370958 ,  0.4520342 ,  1.1965225 ,  0.5196315 ,\n",
       "        0.97553366, -0.165128  , -0.12492212, -0.1700035 ,  0.22191627,\n",
       "       -0.84281003,  0.38199225,  0.8593623 , -2.1416273 , -1.111571  ,\n",
       "       -1.1283793 , -0.20575999,  0.06389752, -0.51142234,  0.48481113,\n",
       "        0.2200151 ,  0.3563455 ,  0.69551855,  0.29645354,  0.2704703 ],\n",
       "      dtype=float32)"
      ]
     },
     "execution_count": 21,
     "metadata": {},
     "output_type": "execute_result"
    }
   ],
   "source": [
    "zimin_vector"
   ]
  },
  {
   "cell_type": "code",
   "execution_count": 22,
   "id": "floral-digit",
   "metadata": {},
   "outputs": [
    {
     "data": {
      "text/plain": [
       "array([ 0.00519741,  0.02319247, -0.01385344,  0.01378793,  0.03302035,\n",
       "        0.02010115,  0.00780704,  0.0119027 ,  0.00705521,  0.00416874,\n",
       "       -0.02567515,  0.00093269, -0.00174617, -0.00099502,  0.03295785,\n",
       "        0.01087978, -0.00401272,  0.00012523,  0.01569988,  0.0013091 ,\n",
       "        0.01127214, -0.00084177,  0.02200512,  0.00172835, -0.00210249,\n",
       "        0.02189782,  0.00852639,  0.0274328 , -0.00068757,  0.02354463,\n",
       "       -0.00670627, -0.00941479, -0.00389313,  0.01228501,  0.00979601,\n",
       "        0.01707833,  0.00962402,  0.01304086,  0.01930124,  0.00655473,\n",
       "        0.01245616,  0.01383786,  0.01878044, -0.00482271,  0.00798396,\n",
       "        0.00527236, -0.0041409 , -0.00494922,  0.01218387,  0.01236159,\n",
       "        0.00316639, -0.0060936 ,  0.01104902,  0.01212186, -0.00625337,\n",
       "        0.0069924 , -0.00428389, -0.01756573,  0.01159801,  0.00246281,\n",
       "       -0.01344744,  0.02071042, -0.00837076,  0.016377  , -0.01386979,\n",
       "        0.02307959,  0.01462855,  0.00649503,  0.01137512, -0.00352488,\n",
       "        0.00440925,  0.01400097,  0.01381015, -0.00152233,  0.00456561,\n",
       "        0.00552386,  0.00404127,  0.00329084,  0.03017969,  0.00868244,\n",
       "        0.01930596,  0.01435101,  0.01487912,  0.01431991,  0.01576782,\n",
       "        0.00207568,  0.01132643,  0.0148456 , -0.01687476,  0.00830822,\n",
       "       -0.01020453,  0.01399263,  0.02647744,  0.00120158, -0.00421161,\n",
       "        0.0094407 , -0.0044724 ,  0.01189461,  0.00665092,  0.00303931],\n",
       "      dtype=float32)"
      ]
     },
     "execution_count": 22,
     "metadata": {},
     "output_type": "execute_result"
    }
   ],
   "source": [
    "black_eyed_peas_vector"
   ]
  },
  {
   "cell_type": "code",
   "execution_count": 23,
   "id": "cordless-nursing",
   "metadata": {},
   "outputs": [
    {
     "data": {
      "text/plain": [
       "0.50943464"
      ]
     },
     "execution_count": 23,
     "metadata": {},
     "output_type": "execute_result"
    }
   ],
   "source": [
    "# zimin과 black_eyed_peas를 내적하는 코드\n",
    "np.dot(zimin_vector, black_eyed_peas_vector)"
   ]
  },
  {
   "cell_type": "markdown",
   "id": "entire-depression",
   "metadata": {},
   "source": [
    "모델이 예시된 queen에 대한 선호도를 어떻게 예측할지 체크"
   ]
  },
  {
   "cell_type": "code",
   "execution_count": 24,
   "id": "employed-receptor",
   "metadata": {},
   "outputs": [
    {
     "data": {
      "text/plain": [
       "0.30479276"
      ]
     },
     "execution_count": 24,
     "metadata": {},
     "output_type": "execute_result"
    }
   ],
   "source": [
    "queen = artist_to_idx['queen']\n",
    "queen_vector = als_model.item_factors[queen]\n",
    "np.dot(zimin_vector, queen_vector)"
   ]
  },
  {
   "cell_type": "markdown",
   "id": "comparable-assist",
   "metadata": {},
   "source": [
    "## 비슷한 아티스트 찾기 + 유저에게 추천하기\n",
    "\n",
    "비슷한 아티스트 찾기\n",
    "\n",
    "AlternatingLeastSquares 클래스에 구현되어 있는 similar_items 메서드를 통하여 비슷한 아티스트를 찾아볼수 있다."
   ]
  },
  {
   "cell_type": "code",
   "execution_count": 25,
   "id": "previous-recruitment",
   "metadata": {},
   "outputs": [
    {
     "data": {
      "text/plain": [
       "[(62, 0.99999976),\n",
       " (277, 0.9847553),\n",
       " (28, 0.98417443),\n",
       " (5, 0.9773455),\n",
       " (217, 0.97441196),\n",
       " (490, 0.9707094),\n",
       " (473, 0.9664113),\n",
       " (247, 0.9657711),\n",
       " (418, 0.96408445),\n",
       " (694, 0.95221806),\n",
       " (55, 0.9504688),\n",
       " (910, 0.95032924),\n",
       " (1018, 0.94589996),\n",
       " (268, 0.94439214),\n",
       " (1170, 0.9421923)]"
      ]
     },
     "execution_count": 25,
     "metadata": {},
     "output_type": "execute_result"
    }
   ],
   "source": [
    "favorite_artist = 'coldplay'\n",
    "artist_id = artist_to_idx[favorite_artist]\n",
    "similar_artist = als_model.similar_items(artist_id, N=15)\n",
    "similar_artist"
   ]
  },
  {
   "cell_type": "markdown",
   "id": "starting-vessel",
   "metadata": {},
   "source": [
    "(아티스트의 id, 유사도) Tuple 로 반환하고 있음을 확인할 수 있다. 아티스트의 id를 다시 아티스트의 이름으로 매핑 시켜 보면.."
   ]
  },
  {
   "cell_type": "code",
   "execution_count": 26,
   "id": "stuck-engagement",
   "metadata": {},
   "outputs": [
    {
     "data": {
      "text/plain": [
       "['coldplay',\n",
       " 'muse',\n",
       " 'the killers',\n",
       " 'red hot chili peppers',\n",
       " 'radiohead',\n",
       " 'oasis',\n",
       " 'placebo',\n",
       " 'the beatles',\n",
       " 'u2',\n",
       " 'foo fighters',\n",
       " 'arctic monkeys',\n",
       " 'nirvana',\n",
       " 'the smashing pumpkins',\n",
       " 'pink floyd',\n",
       " 'daft punk']"
      ]
     },
     "execution_count": 26,
     "metadata": {},
     "output_type": "execute_result"
    }
   ],
   "source": [
    "#artist_to_idx 를 뒤집어, index로부터 artist 이름을 얻는 dict를 생성합니다. \n",
    "idx_to_artist = {v:k for k,v in artist_to_idx.items()}\n",
    "[idx_to_artist[i[0]] for i in similar_artist]"
   ]
  },
  {
   "cell_type": "markdown",
   "id": "fossil-borough",
   "metadata": {},
   "source": [
    "몇 번 더 반복해서 확인하기 위해 위의 코드를 함수로 만들고 확인해보면..."
   ]
  },
  {
   "cell_type": "code",
   "execution_count": 27,
   "id": "featured-communist",
   "metadata": {},
   "outputs": [
    {
     "name": "stdout",
     "output_type": "stream",
     "text": [
      "슝=3\n"
     ]
    }
   ],
   "source": [
    "def get_similar_artist(artist_name: str):\n",
    "    artist_id = artist_to_idx[artist_name]\n",
    "    similar_artist = als_model.similar_items(artist_id)\n",
    "    similar_artist = [idx_to_artist[i[0]] for i in similar_artist]\n",
    "    return similar_artist\n",
    "\n",
    "print(\"슝=3\")"
   ]
  },
  {
   "cell_type": "markdown",
   "id": "looking-alpha",
   "metadata": {},
   "source": [
    "2pac 으로 확인해보면..."
   ]
  },
  {
   "cell_type": "code",
   "execution_count": 28,
   "id": "positive-botswana",
   "metadata": {},
   "outputs": [
    {
     "data": {
      "text/plain": [
       "['2pac',\n",
       " 'dr. dre',\n",
       " 'the game',\n",
       " 'notorious b.i.g.',\n",
       " 'snoop dogg',\n",
       " '50 cent',\n",
       " 'jay-z',\n",
       " 'nas',\n",
       " 'ludacris',\n",
       " 'ice cube']"
      ]
     },
     "execution_count": 28,
     "metadata": {},
     "output_type": "execute_result"
    }
   ],
   "source": [
    "get_similar_artist('2pac')"
   ]
  },
  {
   "cell_type": "markdown",
   "id": "excited-edwards",
   "metadata": {},
   "source": [
    "lady gaga 로 확인해보면..."
   ]
  },
  {
   "cell_type": "code",
   "execution_count": 29,
   "id": "viral-imperial",
   "metadata": {},
   "outputs": [
    {
     "data": {
      "text/plain": [
       "['lady gaga',\n",
       " 'katy perry',\n",
       " 'britney spears',\n",
       " 'rihanna',\n",
       " 'beyoncé',\n",
       " 'christina aguilera',\n",
       " 'the pussycat dolls',\n",
       " 'kelly clarkson',\n",
       " 'justin timberlake',\n",
       " 'pink']"
      ]
     },
     "execution_count": 29,
     "metadata": {},
     "output_type": "execute_result"
    }
   ],
   "source": [
    "get_similar_artist('lady gaga')"
   ]
  },
  {
   "cell_type": "markdown",
   "id": "photographic-barcelona",
   "metadata": {},
   "source": [
    "유저에게 아티스트 추천하기\n",
    "\n",
    "AlternatingLeastSquares 클래스에 구현되어 있는 recommend 메서드를 통하여 좋아할 만한 아티스트를 추천받는다. \n",
    "\n",
    "filter_already_liked_items 는 유저가 이미 평가한 아이템은 제외하는 Argument 이다."
   ]
  },
  {
   "cell_type": "code",
   "execution_count": 30,
   "id": "nearby-cooperation",
   "metadata": {},
   "outputs": [
    {
     "data": {
      "text/plain": [
       "[(350, 0.4558255),\n",
       " (369, 0.4420269),\n",
       " (550, 0.44189394),\n",
       " (1800, 0.43689567),\n",
       " (274, 0.4331911),\n",
       " (627, 0.4159575),\n",
       " (2249, 0.41042298),\n",
       " (564, 0.4011648),\n",
       " (621, 0.40011492),\n",
       " (5555, 0.38537428),\n",
       " (355, 0.38533065),\n",
       " (901, 0.3839693),\n",
       " (409, 0.38067544),\n",
       " (391, 0.3738447),\n",
       " (354, 0.3651972),\n",
       " (434, 0.35684633),\n",
       " (637, 0.35051343),\n",
       " (5, 0.3488524),\n",
       " (618, 0.34234774),\n",
       " (944, 0.34025258)]"
      ]
     },
     "execution_count": 30,
     "metadata": {},
     "output_type": "execute_result"
    }
   ],
   "source": [
    "user = user_to_idx['zimin']\n",
    "# recommend에서는 user*item CSR Matrix를 받습니다.\n",
    "artist_recommended = als_model.recommend(user, csr_data, N=20, filter_already_liked_items=True)\n",
    "artist_recommended"
   ]
  },
  {
   "cell_type": "code",
   "execution_count": 31,
   "id": "hired-phrase",
   "metadata": {},
   "outputs": [
    {
     "data": {
      "text/plain": [
       "['rihanna',\n",
       " 'justin timberlake',\n",
       " 'britney spears',\n",
       " 'lady gaga',\n",
       " 'michael jackson',\n",
       " 'maroon 5',\n",
       " 'katy perry',\n",
       " 'kanye west',\n",
       " 'alicia keys',\n",
       " 'timbaland',\n",
       " 'madonna',\n",
       " 'pink',\n",
       " 'amy winehouse',\n",
       " 'christina aguilera',\n",
       " 'nelly furtado',\n",
       " 'eminem',\n",
       " 'akon',\n",
       " 'red hot chili peppers',\n",
       " 'the pussycat dolls',\n",
       " 'avril lavigne']"
      ]
     },
     "execution_count": 31,
     "metadata": {},
     "output_type": "execute_result"
    }
   ],
   "source": [
    "[idx_to_artist[i[0]] for i in artist_recommended]"
   ]
  },
  {
   "cell_type": "markdown",
   "id": "former-prior",
   "metadata": {},
   "source": [
    "rihanna를 추천해주는 이유는? AlternatingLeastSquares 클래스에 구현된 explain 메소드를 사용하면 기록을 남긴 데이터 중 이 추천에 기여한 정도를 확인할 수 있다."
   ]
  },
  {
   "cell_type": "code",
   "execution_count": 32,
   "id": "black-validation",
   "metadata": {},
   "outputs": [],
   "source": [
    "rihanna = artist_to_idx['rihanna']\n",
    "explain = als_model.explain(user, csr_data, itemid=rihanna)"
   ]
  },
  {
   "cell_type": "markdown",
   "id": "posted-thompson",
   "metadata": {},
   "source": [
    "이 method는 추천한 콘텐츠의 점수에 기여한 다른 콘텐츠와 기여도(합이 콘텐츠의 점수가 됩니다.)를 반환하한다."
   ]
  },
  {
   "cell_type": "code",
   "execution_count": 33,
   "id": "swedish-subdivision",
   "metadata": {},
   "outputs": [
    {
     "data": {
      "text/plain": [
       "[('beyoncé', 0.21733520157973674),\n",
       " ('black eyed peas', 0.13980316344096613),\n",
       " ('jason mraz', 0.05606611986756143),\n",
       " ('coldplay', 0.04405402443293702),\n",
       " ('maroon5', -6.397713284479292e-05)]"
      ]
     },
     "execution_count": 33,
     "metadata": {},
     "output_type": "execute_result"
    }
   ],
   "source": [
    "[(idx_to_artist[i[0]], i[1]) for i in explain[1]]"
   ]
  },
  {
   "cell_type": "markdown",
   "id": "rubber-appliance",
   "metadata": {},
   "source": [
    "filter_already_liked_items=True로 했는데 앞에 maroon 5는 이미 평가한 아이템이 나오는것을 확인할 수 있는데.. \n",
    "\n",
    "이것은 implicit 버전 0.4.2에서 생긴 버그이며, 코드는 사람이 만들기 때문에 이렇게 실수할 가능성이 있다."
   ]
  },
  {
   "cell_type": "markdown",
   "id": "thousand-engineer",
   "metadata": {},
   "source": [
    "### 마무리\n",
    "\n",
    "---\n",
    "\n",
    "추천시스템에서 Baseline으로 많이 사용되는 MF를 통해 유저에게 아티스트를 추천해보았으며 추천시스템 관련 task에서 기본 모델을 만드실 수 있을까??\n",
    "\n",
    "실습으로 만든 모델은 몇 가지 아쉬운 점이 있는데.... \n",
    "\n",
    "1. 유저, 아티스트에 대한 Meta 정보를 반영하기 쉽지 않습니다. 연령대별로 음악 취향이 굉장히 다르지 않을까요? \n",
    "2. 유저가 언제 play 했는지에 반영하기 쉽지 않습니다. 10년 전에 즐겨듣던 아티스트와 지금 즐겨듣는 아티스트를 비교해보세요.\n",
    "\n",
    "이러한 이유와 딥러닝의 발전으로 MF 이외의 모델 구조도 많이 연구/ 사용되고 있다. 하지만 어떤 추천 모델도 핵심은 MF와 비슷합니다.\n",
    "\n",
    "유저와 아이템에 대한 벡터를 잘 학습하여 취향에 맞게(유저에 맞게) 아이템을 보여주거나(Retrieval) 걸러내는(Filtering) 역할입니다."
   ]
  },
  {
   "cell_type": "markdown",
   "id": "later-lewis",
   "metadata": {},
   "source": [
    "## 프로젝트 - Movielens 영화 추천 실습\n",
    "\n",
    " MF 모델 학습 방법을 토대로, 내가 좋아할 만한 영화 추천 시스템을 제작해 보자.\n",
    " \n",
    " 이번에 활용할 데이터셋은 추천시스템의 MNIST라고 부를만한 Movielens 데이터로 데이터의 속성 및 특징 그리고 실습방법은 \n",
    " \n",
    "- 유저가 영화에 대해 평점을 매긴 데이터가 데이터 크기 별로 있습니다. MovieLens 1M Dataset 사용을 권장.\n",
    "- 별점 데이터는 대표적인 explicit 데이터이지만 implicit 데이터로 간주하고 테스트해볼 수 있다.\n",
    "- 별점을 시청횟수로 해석하며 유저가 3점 미만으로 준 데이터는 선호하지 않는다고 가정하고 제외하고 실습할 예정."
   ]
  },
  {
   "cell_type": "markdown",
   "id": "classified-folks",
   "metadata": {},
   "source": [
    "Cloud Storage에 미리 업로드 된 ml-1m폴더 내 파일을 심볼릭 링크로 개인 storage에 연결 \n",
    "\n",
    "$ mkdir -p ~/aiffel/EXPLORATION/09/recommendata_iu/data/ml-1m\n",
    "\n",
    "$ ln -s ~/data/ml-1m/* ~/aiffel/EXPLORATION/09/recommendata_iu/data/ml-1m"
   ]
  },
  {
   "cell_type": "markdown",
   "id": "coupled-produce",
   "metadata": {},
   "source": [
    "### 데이터 준비와 전처리\n",
    "\n",
    "필요한 라이브러리 가져오기"
   ]
  },
  {
   "cell_type": "code",
   "execution_count": 34,
   "id": "sorted-framing",
   "metadata": {},
   "outputs": [],
   "source": [
    "import os\n",
    "import pandas as pd\n",
    "import numpy as np\n",
    "from scipy.sparse import csr_matrix\n",
    "from implicit.als import AlternatingLeastSquares\n",
    "import os\n",
    "import numpy as np"
   ]
  },
  {
   "cell_type": "markdown",
   "id": "genuine-german",
   "metadata": {},
   "source": [
    "데이터 불러오기"
   ]
  },
  {
   "cell_type": "code",
   "execution_count": 35,
   "id": "interior-applicant",
   "metadata": {},
   "outputs": [
    {
     "data": {
      "text/html": [
       "<div>\n",
       "<style scoped>\n",
       "    .dataframe tbody tr th:only-of-type {\n",
       "        vertical-align: middle;\n",
       "    }\n",
       "\n",
       "    .dataframe tbody tr th {\n",
       "        vertical-align: top;\n",
       "    }\n",
       "\n",
       "    .dataframe thead th {\n",
       "        text-align: right;\n",
       "    }\n",
       "</style>\n",
       "<table border=\"1\" class=\"dataframe\">\n",
       "  <thead>\n",
       "    <tr style=\"text-align: right;\">\n",
       "      <th></th>\n",
       "      <th>user_id</th>\n",
       "      <th>movie_id</th>\n",
       "      <th>rating</th>\n",
       "      <th>timestamp</th>\n",
       "    </tr>\n",
       "  </thead>\n",
       "  <tbody>\n",
       "    <tr>\n",
       "      <th>0</th>\n",
       "      <td>1</td>\n",
       "      <td>1193</td>\n",
       "      <td>5</td>\n",
       "      <td>978300760</td>\n",
       "    </tr>\n",
       "    <tr>\n",
       "      <th>1</th>\n",
       "      <td>1</td>\n",
       "      <td>661</td>\n",
       "      <td>3</td>\n",
       "      <td>978302109</td>\n",
       "    </tr>\n",
       "    <tr>\n",
       "      <th>2</th>\n",
       "      <td>1</td>\n",
       "      <td>914</td>\n",
       "      <td>3</td>\n",
       "      <td>978301968</td>\n",
       "    </tr>\n",
       "    <tr>\n",
       "      <th>3</th>\n",
       "      <td>1</td>\n",
       "      <td>3408</td>\n",
       "      <td>4</td>\n",
       "      <td>978300275</td>\n",
       "    </tr>\n",
       "    <tr>\n",
       "      <th>4</th>\n",
       "      <td>1</td>\n",
       "      <td>2355</td>\n",
       "      <td>5</td>\n",
       "      <td>978824291</td>\n",
       "    </tr>\n",
       "    <tr>\n",
       "      <th>5</th>\n",
       "      <td>1</td>\n",
       "      <td>1197</td>\n",
       "      <td>3</td>\n",
       "      <td>978302268</td>\n",
       "    </tr>\n",
       "    <tr>\n",
       "      <th>6</th>\n",
       "      <td>1</td>\n",
       "      <td>1287</td>\n",
       "      <td>5</td>\n",
       "      <td>978302039</td>\n",
       "    </tr>\n",
       "    <tr>\n",
       "      <th>7</th>\n",
       "      <td>1</td>\n",
       "      <td>2804</td>\n",
       "      <td>5</td>\n",
       "      <td>978300719</td>\n",
       "    </tr>\n",
       "    <tr>\n",
       "      <th>8</th>\n",
       "      <td>1</td>\n",
       "      <td>594</td>\n",
       "      <td>4</td>\n",
       "      <td>978302268</td>\n",
       "    </tr>\n",
       "    <tr>\n",
       "      <th>9</th>\n",
       "      <td>1</td>\n",
       "      <td>919</td>\n",
       "      <td>4</td>\n",
       "      <td>978301368</td>\n",
       "    </tr>\n",
       "  </tbody>\n",
       "</table>\n",
       "</div>"
      ],
      "text/plain": [
       "   user_id  movie_id  rating  timestamp\n",
       "0        1      1193       5  978300760\n",
       "1        1       661       3  978302109\n",
       "2        1       914       3  978301968\n",
       "3        1      3408       4  978300275\n",
       "4        1      2355       5  978824291\n",
       "5        1      1197       3  978302268\n",
       "6        1      1287       5  978302039\n",
       "7        1      2804       5  978300719\n",
       "8        1       594       4  978302268\n",
       "9        1       919       4  978301368"
      ]
     },
     "execution_count": 35,
     "metadata": {},
     "output_type": "execute_result"
    }
   ],
   "source": [
    "rating_file_path=os.getenv('HOME') + '/aiffel/EXPLORATION/09/recommendata_iu/data/ml-1m/ratings.dat'\n",
    "ratings_cols = ['user_id', 'movie_id', 'rating', 'timestamp']\n",
    "ratings = pd.read_csv(rating_file_path, sep='::', names=ratings_cols, engine='python')\n",
    "orginal_data_size = len(ratings)\n",
    "ratings.head(10)"
   ]
  },
  {
   "cell_type": "markdown",
   "id": "working-creek",
   "metadata": {},
   "source": [
    "rating이 3점 미만 제외..."
   ]
  },
  {
   "cell_type": "code",
   "execution_count": 36,
   "id": "fresh-diamond",
   "metadata": {},
   "outputs": [
    {
     "name": "stdout",
     "output_type": "stream",
     "text": [
      "orginal_data_size: 1000209, filtered_data_size: 836478\n",
      "Ratio of Remaining Data is 83.63%\n"
     ]
    }
   ],
   "source": [
    "ratings = ratings[ratings['rating']>=3]\n",
    "filtered_data_size = len(ratings)\n",
    "\n",
    "print(f'orginal_data_size: {orginal_data_size}, filtered_data_size: {filtered_data_size}')\n",
    "print(f'Ratio of Remaining Data is {filtered_data_size / orginal_data_size:.2%}')"
   ]
  },
  {
   "cell_type": "markdown",
   "id": "refined-investigator",
   "metadata": {},
   "source": [
    "별점을 시청횟수로 가정하였으므로 rating -> count로"
   ]
  },
  {
   "cell_type": "code",
   "execution_count": 37,
   "id": "muslim-underwear",
   "metadata": {},
   "outputs": [],
   "source": [
    "# rating 컬럼의 이름을 count로 바꿉니다.\n",
    "ratings.rename(columns={'rating':'count'}, inplace=True)"
   ]
  },
  {
   "cell_type": "code",
   "execution_count": 38,
   "id": "silent-feelings",
   "metadata": {},
   "outputs": [
    {
     "data": {
      "text/plain": [
       "0          5\n",
       "1          3\n",
       "2          3\n",
       "3          4\n",
       "4          5\n",
       "          ..\n",
       "1000203    3\n",
       "1000205    5\n",
       "1000206    5\n",
       "1000207    4\n",
       "1000208    4\n",
       "Name: count, Length: 836478, dtype: int64"
      ]
     },
     "execution_count": 38,
     "metadata": {},
     "output_type": "execute_result"
    }
   ],
   "source": [
    "ratings['count']"
   ]
  },
  {
   "cell_type": "markdown",
   "id": "individual-attraction",
   "metadata": {},
   "source": [
    "영화 제목을 보기 위해 메타 데이터 불러오기"
   ]
  },
  {
   "cell_type": "code",
   "execution_count": 39,
   "id": "pregnant-space",
   "metadata": {},
   "outputs": [
    {
     "data": {
      "text/html": [
       "<div>\n",
       "<style scoped>\n",
       "    .dataframe tbody tr th:only-of-type {\n",
       "        vertical-align: middle;\n",
       "    }\n",
       "\n",
       "    .dataframe tbody tr th {\n",
       "        vertical-align: top;\n",
       "    }\n",
       "\n",
       "    .dataframe thead th {\n",
       "        text-align: right;\n",
       "    }\n",
       "</style>\n",
       "<table border=\"1\" class=\"dataframe\">\n",
       "  <thead>\n",
       "    <tr style=\"text-align: right;\">\n",
       "      <th></th>\n",
       "      <th>movie_id</th>\n",
       "      <th>title</th>\n",
       "      <th>genre</th>\n",
       "    </tr>\n",
       "  </thead>\n",
       "  <tbody>\n",
       "    <tr>\n",
       "      <th>0</th>\n",
       "      <td>1</td>\n",
       "      <td>Toy Story (1995)</td>\n",
       "      <td>Animation|Children's|Comedy</td>\n",
       "    </tr>\n",
       "    <tr>\n",
       "      <th>1</th>\n",
       "      <td>2</td>\n",
       "      <td>Jumanji (1995)</td>\n",
       "      <td>Adventure|Children's|Fantasy</td>\n",
       "    </tr>\n",
       "    <tr>\n",
       "      <th>2</th>\n",
       "      <td>3</td>\n",
       "      <td>Grumpier Old Men (1995)</td>\n",
       "      <td>Comedy|Romance</td>\n",
       "    </tr>\n",
       "    <tr>\n",
       "      <th>3</th>\n",
       "      <td>4</td>\n",
       "      <td>Waiting to Exhale (1995)</td>\n",
       "      <td>Comedy|Drama</td>\n",
       "    </tr>\n",
       "    <tr>\n",
       "      <th>4</th>\n",
       "      <td>5</td>\n",
       "      <td>Father of the Bride Part II (1995)</td>\n",
       "      <td>Comedy</td>\n",
       "    </tr>\n",
       "  </tbody>\n",
       "</table>\n",
       "</div>"
      ],
      "text/plain": [
       "   movie_id                               title                         genre\n",
       "0         1                    Toy Story (1995)   Animation|Children's|Comedy\n",
       "1         2                      Jumanji (1995)  Adventure|Children's|Fantasy\n",
       "2         3             Grumpier Old Men (1995)                Comedy|Romance\n",
       "3         4            Waiting to Exhale (1995)                  Comedy|Drama\n",
       "4         5  Father of the Bride Part II (1995)                        Comedy"
      ]
     },
     "execution_count": 39,
     "metadata": {},
     "output_type": "execute_result"
    }
   ],
   "source": [
    "# 영화 제목을 보기 위해 메타 데이터를 읽어옵니다.\n",
    "movie_file_path=os.getenv('HOME') + '/aiffel/EXPLORATION/09/recommendata_iu/data/ml-1m/movies.dat'\n",
    "cols = ['movie_id', 'title', 'genre'] \n",
    "movies = pd.read_csv(movie_file_path, sep='::', names=cols, engine='python', encoding='ISO-8859-1')\n",
    "movies.head()"
   ]
  },
  {
   "cell_type": "markdown",
   "id": "departmental-insurance",
   "metadata": {},
   "source": [
    "### 분석해 봅시다.\n",
    "\n",
    "---\n",
    "\n",
    "- ratings에 있는 유니크한 영화 개수\n",
    "- rating에 있는 유니크한 사용자 수\n",
    "- 가장 인기 있는 영화 30개(인기순)"
   ]
  },
  {
   "cell_type": "code",
   "execution_count": 40,
   "id": "signed-writer",
   "metadata": {},
   "outputs": [
    {
     "name": "stdout",
     "output_type": "stream",
     "text": [
      "3628\n"
     ]
    }
   ],
   "source": [
    "print(ratings['movie_id'].nunique())  # ratings에 있는 유니크한 영화 개수"
   ]
  },
  {
   "cell_type": "code",
   "execution_count": 41,
   "id": "conservative-stability",
   "metadata": {},
   "outputs": [
    {
     "name": "stdout",
     "output_type": "stream",
     "text": [
      "6039\n"
     ]
    }
   ],
   "source": [
    "print(ratings['user_id'].nunique())  # rating에 있는 유니크한 사용자 수"
   ]
  },
  {
   "cell_type": "code",
   "execution_count": 42,
   "id": "considerable-timer",
   "metadata": {},
   "outputs": [
    {
     "data": {
      "text/plain": [
       "title\n",
       "American Beauty (1999)                                   3211\n",
       "Star Wars: Episode IV - A New Hope (1977)                2910\n",
       "Star Wars: Episode V - The Empire Strikes Back (1980)    2885\n",
       "Star Wars: Episode VI - Return of the Jedi (1983)        2716\n",
       "Saving Private Ryan (1998)                               2561\n",
       "Terminator 2: Judgment Day (1991)                        2509\n",
       "Silence of the Lambs, The (1991)                         2498\n",
       "Raiders of the Lost Ark (1981)                           2473\n",
       "Back to the Future (1985)                                2460\n",
       "Matrix, The (1999)                                       2434\n",
       "Jurassic Park (1993)                                     2413\n",
       "Sixth Sense, The (1999)                                  2385\n",
       "Fargo (1996)                                             2371\n",
       "Braveheart (1995)                                        2314\n",
       "Men in Black (1997)                                      2297\n",
       "Schindler's List (1993)                                  2257\n",
       "Princess Bride, The (1987)                               2252\n",
       "Shakespeare in Love (1998)                               2213\n",
       "L.A. Confidential (1997)                                 2210\n",
       "Shawshank Redemption, The (1994)                         2194\n",
       "Godfather, The (1972)                                    2167\n",
       "Groundhog Day (1993)                                     2121\n",
       "E.T. the Extra-Terrestrial (1982)                        2102\n",
       "Being John Malkovich (1999)                              2066\n",
       "Ghostbusters (1984)                                      2051\n",
       "Pulp Fiction (1994)                                      2030\n",
       "Forrest Gump (1994)                                      2022\n",
       "Terminator, The (1984)                                   2019\n",
       "Toy Story (1995)                                         2000\n",
       "Fugitive, The (1993)                                     1941\n",
       "Name: user_id, dtype: int64"
      ]
     },
     "execution_count": 42,
     "metadata": {},
     "output_type": "execute_result"
    }
   ],
   "source": [
    "# 앞선 두 데이터프레임을 합쳐서 출력해보기\n",
    "mv_total = pd.merge(ratings, movies, how='left')\n",
    "mv_total\n",
    "\n",
    "mv_count = mv_total.groupby('title')['user_id'].count()\n",
    "mv_count.sort_values(ascending=False).head(30)"
   ]
  },
  {
   "cell_type": "markdown",
   "id": "proof-columbus",
   "metadata": {},
   "source": [
    "### 내가 선호하는 영화를 5가지 골라서 rating에 추가해 줍시다.\n",
    "\n",
    "영화제목 찾기"
   ]
  },
  {
   "cell_type": "code",
   "execution_count": 43,
   "id": "disabled-equipment",
   "metadata": {},
   "outputs": [
    {
     "data": {
      "text/html": [
       "<div>\n",
       "<style scoped>\n",
       "    .dataframe tbody tr th:only-of-type {\n",
       "        vertical-align: middle;\n",
       "    }\n",
       "\n",
       "    .dataframe tbody tr th {\n",
       "        vertical-align: top;\n",
       "    }\n",
       "\n",
       "    .dataframe thead th {\n",
       "        text-align: right;\n",
       "    }\n",
       "</style>\n",
       "<table border=\"1\" class=\"dataframe\">\n",
       "  <thead>\n",
       "    <tr style=\"text-align: right;\">\n",
       "      <th></th>\n",
       "      <th>movie_id</th>\n",
       "      <th>title</th>\n",
       "      <th>genre</th>\n",
       "    </tr>\n",
       "  </thead>\n",
       "  <tbody>\n",
       "    <tr>\n",
       "      <th>257</th>\n",
       "      <td>260</td>\n",
       "      <td>Star Wars: Episode IV - A New Hope (1977)</td>\n",
       "      <td>Action|Adventure|Fantasy|Sci-Fi</td>\n",
       "    </tr>\n",
       "    <tr>\n",
       "      <th>1178</th>\n",
       "      <td>1196</td>\n",
       "      <td>Star Wars: Episode V - The Empire Strikes Back...</td>\n",
       "      <td>Action|Adventure|Drama|Sci-Fi|War</td>\n",
       "    </tr>\n",
       "    <tr>\n",
       "      <th>1192</th>\n",
       "      <td>1210</td>\n",
       "      <td>Star Wars: Episode VI - Return of the Jedi (1983)</td>\n",
       "      <td>Action|Adventure|Romance|Sci-Fi|War</td>\n",
       "    </tr>\n",
       "    <tr>\n",
       "      <th>2559</th>\n",
       "      <td>2628</td>\n",
       "      <td>Star Wars: Episode I - The Phantom Menace (1999)</td>\n",
       "      <td>Action|Adventure|Fantasy|Sci-Fi</td>\n",
       "    </tr>\n",
       "  </tbody>\n",
       "</table>\n",
       "</div>"
      ],
      "text/plain": [
       "      movie_id                                              title  \\\n",
       "257        260          Star Wars: Episode IV - A New Hope (1977)   \n",
       "1178      1196  Star Wars: Episode V - The Empire Strikes Back...   \n",
       "1192      1210  Star Wars: Episode VI - Return of the Jedi (1983)   \n",
       "2559      2628   Star Wars: Episode I - The Phantom Menace (1999)   \n",
       "\n",
       "                                    genre  \n",
       "257       Action|Adventure|Fantasy|Sci-Fi  \n",
       "1178    Action|Adventure|Drama|Sci-Fi|War  \n",
       "1192  Action|Adventure|Romance|Sci-Fi|War  \n",
       "2559      Action|Adventure|Fantasy|Sci-Fi  "
      ]
     },
     "execution_count": 43,
     "metadata": {},
     "output_type": "execute_result"
    }
   ],
   "source": [
    "movies[movies['title'].str.lower().str.contains('star wars')]"
   ]
  },
  {
   "cell_type": "code",
   "execution_count": 44,
   "id": "billion-collector",
   "metadata": {},
   "outputs": [
    {
     "data": {
      "text/html": [
       "<div>\n",
       "<style scoped>\n",
       "    .dataframe tbody tr th:only-of-type {\n",
       "        vertical-align: middle;\n",
       "    }\n",
       "\n",
       "    .dataframe tbody tr th {\n",
       "        vertical-align: top;\n",
       "    }\n",
       "\n",
       "    .dataframe thead th {\n",
       "        text-align: right;\n",
       "    }\n",
       "</style>\n",
       "<table border=\"1\" class=\"dataframe\">\n",
       "  <thead>\n",
       "    <tr style=\"text-align: right;\">\n",
       "      <th></th>\n",
       "      <th>movie_id</th>\n",
       "      <th>title</th>\n",
       "      <th>genre</th>\n",
       "    </tr>\n",
       "  </thead>\n",
       "  <tbody>\n",
       "    <tr>\n",
       "      <th>1840</th>\n",
       "      <td>1909</td>\n",
       "      <td>X-Files: Fight the Future, The (1998)</td>\n",
       "      <td>Mystery|Sci-Fi|Thriller</td>\n",
       "    </tr>\n",
       "  </tbody>\n",
       "</table>\n",
       "</div>"
      ],
      "text/plain": [
       "      movie_id                                  title                    genre\n",
       "1840      1909  X-Files: Fight the Future, The (1998)  Mystery|Sci-Fi|Thriller"
      ]
     },
     "execution_count": 44,
     "metadata": {},
     "output_type": "execute_result"
    }
   ],
   "source": [
    "movies[movies['title'].str.lower().str.contains('x-file')]"
   ]
  },
  {
   "cell_type": "code",
   "execution_count": 45,
   "id": "further-journal",
   "metadata": {
    "scrolled": true
   },
   "outputs": [
    {
     "data": {
      "text/html": [
       "<div>\n",
       "<style scoped>\n",
       "    .dataframe tbody tr th:only-of-type {\n",
       "        vertical-align: middle;\n",
       "    }\n",
       "\n",
       "    .dataframe tbody tr th {\n",
       "        vertical-align: top;\n",
       "    }\n",
       "\n",
       "    .dataframe thead th {\n",
       "        text-align: right;\n",
       "    }\n",
       "</style>\n",
       "<table border=\"1\" class=\"dataframe\">\n",
       "  <thead>\n",
       "    <tr style=\"text-align: right;\">\n",
       "      <th></th>\n",
       "      <th>movie_id</th>\n",
       "      <th>title</th>\n",
       "      <th>genre</th>\n",
       "    </tr>\n",
       "  </thead>\n",
       "  <tbody>\n",
       "    <tr>\n",
       "      <th>542</th>\n",
       "      <td>546</td>\n",
       "      <td>Super Mario Bros. (1993)</td>\n",
       "      <td>Action|Adventure|Children's|Sci-Fi</td>\n",
       "    </tr>\n",
       "    <tr>\n",
       "      <th>645</th>\n",
       "      <td>651</td>\n",
       "      <td>Superweib, Das (1996)</td>\n",
       "      <td>Comedy</td>\n",
       "    </tr>\n",
       "    <tr>\n",
       "      <th>850</th>\n",
       "      <td>861</td>\n",
       "      <td>Supercop (1992)</td>\n",
       "      <td>Action|Thriller</td>\n",
       "    </tr>\n",
       "    <tr>\n",
       "      <th>2571</th>\n",
       "      <td>2640</td>\n",
       "      <td>Superman (1978)</td>\n",
       "      <td>Action|Adventure|Sci-Fi</td>\n",
       "    </tr>\n",
       "    <tr>\n",
       "      <th>2572</th>\n",
       "      <td>2641</td>\n",
       "      <td>Superman II (1980)</td>\n",
       "      <td>Action|Adventure|Sci-Fi</td>\n",
       "    </tr>\n",
       "    <tr>\n",
       "      <th>2573</th>\n",
       "      <td>2642</td>\n",
       "      <td>Superman III (1983)</td>\n",
       "      <td>Action|Adventure|Sci-Fi</td>\n",
       "    </tr>\n",
       "    <tr>\n",
       "      <th>2574</th>\n",
       "      <td>2643</td>\n",
       "      <td>Superman IV: The Quest for Peace (1987)</td>\n",
       "      <td>Action|Adventure|Sci-Fi</td>\n",
       "    </tr>\n",
       "    <tr>\n",
       "      <th>2838</th>\n",
       "      <td>2907</td>\n",
       "      <td>Superstar (1999)</td>\n",
       "      <td>Comedy</td>\n",
       "    </tr>\n",
       "    <tr>\n",
       "      <th>3121</th>\n",
       "      <td>3190</td>\n",
       "      <td>Supernova (2000)</td>\n",
       "      <td>Adventure|Sci-Fi</td>\n",
       "    </tr>\n",
       "    <tr>\n",
       "      <th>3807</th>\n",
       "      <td>3877</td>\n",
       "      <td>Supergirl (1984)</td>\n",
       "      <td>Action|Adventure|Fantasy</td>\n",
       "    </tr>\n",
       "  </tbody>\n",
       "</table>\n",
       "</div>"
      ],
      "text/plain": [
       "      movie_id                                    title  \\\n",
       "542        546                 Super Mario Bros. (1993)   \n",
       "645        651                    Superweib, Das (1996)   \n",
       "850        861                          Supercop (1992)   \n",
       "2571      2640                          Superman (1978)   \n",
       "2572      2641                       Superman II (1980)   \n",
       "2573      2642                      Superman III (1983)   \n",
       "2574      2643  Superman IV: The Quest for Peace (1987)   \n",
       "2838      2907                         Superstar (1999)   \n",
       "3121      3190                         Supernova (2000)   \n",
       "3807      3877                         Supergirl (1984)   \n",
       "\n",
       "                                   genre  \n",
       "542   Action|Adventure|Children's|Sci-Fi  \n",
       "645                               Comedy  \n",
       "850                      Action|Thriller  \n",
       "2571             Action|Adventure|Sci-Fi  \n",
       "2572             Action|Adventure|Sci-Fi  \n",
       "2573             Action|Adventure|Sci-Fi  \n",
       "2574             Action|Adventure|Sci-Fi  \n",
       "2838                              Comedy  \n",
       "3121                    Adventure|Sci-Fi  \n",
       "3807            Action|Adventure|Fantasy  "
      ]
     },
     "execution_count": 45,
     "metadata": {},
     "output_type": "execute_result"
    }
   ],
   "source": [
    "movies[movies['title'].str.lower().str.contains('super')]"
   ]
  },
  {
   "cell_type": "code",
   "execution_count": 46,
   "id": "adjacent-creation",
   "metadata": {},
   "outputs": [
    {
     "name": "stdout",
     "output_type": "stream",
     "text": [
      "6041\n"
     ]
    }
   ],
   "source": [
    "# 사용자 인덱스 생성\n",
    "my_id = ratings['user_id'].max() + 1\n",
    "print(my_id)"
   ]
  },
  {
   "cell_type": "code",
   "execution_count": 47,
   "id": "stock-thread",
   "metadata": {},
   "outputs": [
    {
     "data": {
      "text/html": [
       "<div>\n",
       "<style scoped>\n",
       "    .dataframe tbody tr th:only-of-type {\n",
       "        vertical-align: middle;\n",
       "    }\n",
       "\n",
       "    .dataframe tbody tr th {\n",
       "        vertical-align: top;\n",
       "    }\n",
       "\n",
       "    .dataframe thead th {\n",
       "        text-align: right;\n",
       "    }\n",
       "</style>\n",
       "<table border=\"1\" class=\"dataframe\">\n",
       "  <thead>\n",
       "    <tr style=\"text-align: right;\">\n",
       "      <th></th>\n",
       "      <th>user_id</th>\n",
       "      <th>movie_id</th>\n",
       "      <th>count</th>\n",
       "      <th>timestamp</th>\n",
       "    </tr>\n",
       "  </thead>\n",
       "  <tbody>\n",
       "    <tr>\n",
       "      <th>0</th>\n",
       "      <td>1</td>\n",
       "      <td>1193</td>\n",
       "      <td>5</td>\n",
       "      <td>978300760</td>\n",
       "    </tr>\n",
       "    <tr>\n",
       "      <th>1</th>\n",
       "      <td>1</td>\n",
       "      <td>661</td>\n",
       "      <td>3</td>\n",
       "      <td>978302109</td>\n",
       "    </tr>\n",
       "    <tr>\n",
       "      <th>2</th>\n",
       "      <td>1</td>\n",
       "      <td>914</td>\n",
       "      <td>3</td>\n",
       "      <td>978301968</td>\n",
       "    </tr>\n",
       "    <tr>\n",
       "      <th>3</th>\n",
       "      <td>1</td>\n",
       "      <td>3408</td>\n",
       "      <td>4</td>\n",
       "      <td>978300275</td>\n",
       "    </tr>\n",
       "    <tr>\n",
       "      <th>4</th>\n",
       "      <td>1</td>\n",
       "      <td>2355</td>\n",
       "      <td>5</td>\n",
       "      <td>978824291</td>\n",
       "    </tr>\n",
       "    <tr>\n",
       "      <th>5</th>\n",
       "      <td>1</td>\n",
       "      <td>1197</td>\n",
       "      <td>3</td>\n",
       "      <td>978302268</td>\n",
       "    </tr>\n",
       "    <tr>\n",
       "      <th>6</th>\n",
       "      <td>1</td>\n",
       "      <td>1287</td>\n",
       "      <td>5</td>\n",
       "      <td>978302039</td>\n",
       "    </tr>\n",
       "    <tr>\n",
       "      <th>7</th>\n",
       "      <td>1</td>\n",
       "      <td>2804</td>\n",
       "      <td>5</td>\n",
       "      <td>978300719</td>\n",
       "    </tr>\n",
       "    <tr>\n",
       "      <th>8</th>\n",
       "      <td>1</td>\n",
       "      <td>594</td>\n",
       "      <td>4</td>\n",
       "      <td>978302268</td>\n",
       "    </tr>\n",
       "    <tr>\n",
       "      <th>9</th>\n",
       "      <td>1</td>\n",
       "      <td>919</td>\n",
       "      <td>4</td>\n",
       "      <td>978301368</td>\n",
       "    </tr>\n",
       "  </tbody>\n",
       "</table>\n",
       "</div>"
      ],
      "text/plain": [
       "   user_id  movie_id  count  timestamp\n",
       "0        1      1193      5  978300760\n",
       "1        1       661      3  978302109\n",
       "2        1       914      3  978301968\n",
       "3        1      3408      4  978300275\n",
       "4        1      2355      5  978824291\n",
       "5        1      1197      3  978302268\n",
       "6        1      1287      5  978302039\n",
       "7        1      2804      5  978300719\n",
       "8        1       594      4  978302268\n",
       "9        1       919      4  978301368"
      ]
     },
     "execution_count": 47,
     "metadata": {},
     "output_type": "execute_result"
    }
   ],
   "source": [
    "ratings.head(10)"
   ]
  },
  {
   "cell_type": "markdown",
   "id": "fundamental-profession",
   "metadata": {},
   "source": [
    "필요없는 timestamp 칼럼 제거"
   ]
  },
  {
   "cell_type": "code",
   "execution_count": 48,
   "id": "announced-interval",
   "metadata": {},
   "outputs": [
    {
     "data": {
      "text/html": [
       "<div>\n",
       "<style scoped>\n",
       "    .dataframe tbody tr th:only-of-type {\n",
       "        vertical-align: middle;\n",
       "    }\n",
       "\n",
       "    .dataframe tbody tr th {\n",
       "        vertical-align: top;\n",
       "    }\n",
       "\n",
       "    .dataframe thead th {\n",
       "        text-align: right;\n",
       "    }\n",
       "</style>\n",
       "<table border=\"1\" class=\"dataframe\">\n",
       "  <thead>\n",
       "    <tr style=\"text-align: right;\">\n",
       "      <th></th>\n",
       "      <th>user_id</th>\n",
       "      <th>movie_id</th>\n",
       "      <th>count</th>\n",
       "    </tr>\n",
       "  </thead>\n",
       "  <tbody>\n",
       "    <tr>\n",
       "      <th>0</th>\n",
       "      <td>1</td>\n",
       "      <td>1193</td>\n",
       "      <td>5</td>\n",
       "    </tr>\n",
       "    <tr>\n",
       "      <th>1</th>\n",
       "      <td>1</td>\n",
       "      <td>661</td>\n",
       "      <td>3</td>\n",
       "    </tr>\n",
       "    <tr>\n",
       "      <th>2</th>\n",
       "      <td>1</td>\n",
       "      <td>914</td>\n",
       "      <td>3</td>\n",
       "    </tr>\n",
       "    <tr>\n",
       "      <th>3</th>\n",
       "      <td>1</td>\n",
       "      <td>3408</td>\n",
       "      <td>4</td>\n",
       "    </tr>\n",
       "    <tr>\n",
       "      <th>4</th>\n",
       "      <td>1</td>\n",
       "      <td>2355</td>\n",
       "      <td>5</td>\n",
       "    </tr>\n",
       "    <tr>\n",
       "      <th>...</th>\n",
       "      <td>...</td>\n",
       "      <td>...</td>\n",
       "      <td>...</td>\n",
       "    </tr>\n",
       "    <tr>\n",
       "      <th>1000203</th>\n",
       "      <td>6040</td>\n",
       "      <td>1090</td>\n",
       "      <td>3</td>\n",
       "    </tr>\n",
       "    <tr>\n",
       "      <th>1000205</th>\n",
       "      <td>6040</td>\n",
       "      <td>1094</td>\n",
       "      <td>5</td>\n",
       "    </tr>\n",
       "    <tr>\n",
       "      <th>1000206</th>\n",
       "      <td>6040</td>\n",
       "      <td>562</td>\n",
       "      <td>5</td>\n",
       "    </tr>\n",
       "    <tr>\n",
       "      <th>1000207</th>\n",
       "      <td>6040</td>\n",
       "      <td>1096</td>\n",
       "      <td>4</td>\n",
       "    </tr>\n",
       "    <tr>\n",
       "      <th>1000208</th>\n",
       "      <td>6040</td>\n",
       "      <td>1097</td>\n",
       "      <td>4</td>\n",
       "    </tr>\n",
       "  </tbody>\n",
       "</table>\n",
       "<p>836478 rows × 3 columns</p>\n",
       "</div>"
      ],
      "text/plain": [
       "         user_id  movie_id  count\n",
       "0              1      1193      5\n",
       "1              1       661      3\n",
       "2              1       914      3\n",
       "3              1      3408      4\n",
       "4              1      2355      5\n",
       "...          ...       ...    ...\n",
       "1000203     6040      1090      3\n",
       "1000205     6040      1094      5\n",
       "1000206     6040       562      5\n",
       "1000207     6040      1096      4\n",
       "1000208     6040      1097      4\n",
       "\n",
       "[836478 rows x 3 columns]"
      ]
     },
     "execution_count": 48,
     "metadata": {},
     "output_type": "execute_result"
    }
   ],
   "source": [
    "using_cols = ['user_id', 'movie_id', 'count']\n",
    "ratings = ratings[using_cols]\n",
    "ratings"
   ]
  },
  {
   "cell_type": "code",
   "execution_count": 49,
   "id": "familiar-ballet",
   "metadata": {},
   "outputs": [
    {
     "data": {
      "text/html": [
       "<div>\n",
       "<style scoped>\n",
       "    .dataframe tbody tr th:only-of-type {\n",
       "        vertical-align: middle;\n",
       "    }\n",
       "\n",
       "    .dataframe tbody tr th {\n",
       "        vertical-align: top;\n",
       "    }\n",
       "\n",
       "    .dataframe thead th {\n",
       "        text-align: right;\n",
       "    }\n",
       "</style>\n",
       "<table border=\"1\" class=\"dataframe\">\n",
       "  <thead>\n",
       "    <tr style=\"text-align: right;\">\n",
       "      <th></th>\n",
       "      <th>user_id</th>\n",
       "      <th>movie_id</th>\n",
       "      <th>count</th>\n",
       "    </tr>\n",
       "  </thead>\n",
       "  <tbody>\n",
       "    <tr>\n",
       "      <th>1000198</th>\n",
       "      <td>6040</td>\n",
       "      <td>2021</td>\n",
       "      <td>3</td>\n",
       "    </tr>\n",
       "    <tr>\n",
       "      <th>1000199</th>\n",
       "      <td>6040</td>\n",
       "      <td>2022</td>\n",
       "      <td>5</td>\n",
       "    </tr>\n",
       "    <tr>\n",
       "      <th>1000200</th>\n",
       "      <td>6040</td>\n",
       "      <td>2028</td>\n",
       "      <td>5</td>\n",
       "    </tr>\n",
       "    <tr>\n",
       "      <th>1000201</th>\n",
       "      <td>6040</td>\n",
       "      <td>1080</td>\n",
       "      <td>4</td>\n",
       "    </tr>\n",
       "    <tr>\n",
       "      <th>1000202</th>\n",
       "      <td>6040</td>\n",
       "      <td>1089</td>\n",
       "      <td>4</td>\n",
       "    </tr>\n",
       "    <tr>\n",
       "      <th>1000203</th>\n",
       "      <td>6040</td>\n",
       "      <td>1090</td>\n",
       "      <td>3</td>\n",
       "    </tr>\n",
       "    <tr>\n",
       "      <th>1000205</th>\n",
       "      <td>6040</td>\n",
       "      <td>1094</td>\n",
       "      <td>5</td>\n",
       "    </tr>\n",
       "    <tr>\n",
       "      <th>1000206</th>\n",
       "      <td>6040</td>\n",
       "      <td>562</td>\n",
       "      <td>5</td>\n",
       "    </tr>\n",
       "    <tr>\n",
       "      <th>1000207</th>\n",
       "      <td>6040</td>\n",
       "      <td>1096</td>\n",
       "      <td>4</td>\n",
       "    </tr>\n",
       "    <tr>\n",
       "      <th>1000208</th>\n",
       "      <td>6040</td>\n",
       "      <td>1097</td>\n",
       "      <td>4</td>\n",
       "    </tr>\n",
       "  </tbody>\n",
       "</table>\n",
       "</div>"
      ],
      "text/plain": [
       "         user_id  movie_id  count\n",
       "1000198     6040      2021      3\n",
       "1000199     6040      2022      5\n",
       "1000200     6040      2028      5\n",
       "1000201     6040      1080      4\n",
       "1000202     6040      1089      4\n",
       "1000203     6040      1090      3\n",
       "1000205     6040      1094      5\n",
       "1000206     6040       562      5\n",
       "1000207     6040      1096      4\n",
       "1000208     6040      1097      4"
      ]
     },
     "execution_count": 49,
     "metadata": {},
     "output_type": "execute_result"
    }
   ],
   "source": [
    "ratings.tail(10) "
   ]
  },
  {
   "cell_type": "code",
   "execution_count": 50,
   "id": "mobile-dancing",
   "metadata": {
    "scrolled": true
   },
   "outputs": [
    {
     "data": {
      "text/html": [
       "<div>\n",
       "<style scoped>\n",
       "    .dataframe tbody tr th:only-of-type {\n",
       "        vertical-align: middle;\n",
       "    }\n",
       "\n",
       "    .dataframe tbody tr th {\n",
       "        vertical-align: top;\n",
       "    }\n",
       "\n",
       "    .dataframe thead th {\n",
       "        text-align: right;\n",
       "    }\n",
       "</style>\n",
       "<table border=\"1\" class=\"dataframe\">\n",
       "  <thead>\n",
       "    <tr style=\"text-align: right;\">\n",
       "      <th></th>\n",
       "      <th>user_id</th>\n",
       "      <th>movie_id</th>\n",
       "      <th>count</th>\n",
       "    </tr>\n",
       "  </thead>\n",
       "  <tbody>\n",
       "    <tr>\n",
       "      <th>1000203</th>\n",
       "      <td>6040</td>\n",
       "      <td>1090</td>\n",
       "      <td>3</td>\n",
       "    </tr>\n",
       "    <tr>\n",
       "      <th>1000205</th>\n",
       "      <td>6040</td>\n",
       "      <td>1094</td>\n",
       "      <td>5</td>\n",
       "    </tr>\n",
       "    <tr>\n",
       "      <th>1000206</th>\n",
       "      <td>6040</td>\n",
       "      <td>562</td>\n",
       "      <td>5</td>\n",
       "    </tr>\n",
       "    <tr>\n",
       "      <th>1000207</th>\n",
       "      <td>6040</td>\n",
       "      <td>1096</td>\n",
       "      <td>4</td>\n",
       "    </tr>\n",
       "    <tr>\n",
       "      <th>1000208</th>\n",
       "      <td>6040</td>\n",
       "      <td>1097</td>\n",
       "      <td>4</td>\n",
       "    </tr>\n",
       "    <tr>\n",
       "      <th>0</th>\n",
       "      <td>6041</td>\n",
       "      <td>260</td>\n",
       "      <td>5</td>\n",
       "    </tr>\n",
       "    <tr>\n",
       "      <th>1</th>\n",
       "      <td>6041</td>\n",
       "      <td>1196</td>\n",
       "      <td>5</td>\n",
       "    </tr>\n",
       "    <tr>\n",
       "      <th>2</th>\n",
       "      <td>6041</td>\n",
       "      <td>1210</td>\n",
       "      <td>5</td>\n",
       "    </tr>\n",
       "    <tr>\n",
       "      <th>3</th>\n",
       "      <td>6041</td>\n",
       "      <td>1840</td>\n",
       "      <td>5</td>\n",
       "    </tr>\n",
       "    <tr>\n",
       "      <th>4</th>\n",
       "      <td>6041</td>\n",
       "      <td>2640</td>\n",
       "      <td>5</td>\n",
       "    </tr>\n",
       "  </tbody>\n",
       "</table>\n",
       "</div>"
      ],
      "text/plain": [
       "         user_id  movie_id  count\n",
       "1000203     6040      1090      3\n",
       "1000205     6040      1094      5\n",
       "1000206     6040       562      5\n",
       "1000207     6040      1096      4\n",
       "1000208     6040      1097      4\n",
       "0           6041       260      5\n",
       "1           6041      1196      5\n",
       "2           6041      1210      5\n",
       "3           6041      1840      5\n",
       "4           6041      2640      5"
      ]
     },
     "execution_count": 50,
     "metadata": {},
     "output_type": "execute_result"
    }
   ],
   "source": [
    "# 내가 좋아하는 영화 데이터 확인\n",
    "my_mvid = [260, 1196, 1210, 1840, 2640]\n",
    "\n",
    "my_movie_list = pd.DataFrame(\n",
    "    {'user_id': [my_id] * 5, 'movie_id': my_mvid, 'count': [5] * 5})\n",
    "\n",
    "if not ratings.isin({'user_id': [my_id]})['user_id'].any():\n",
    "    ratings = ratings.append(my_movie_list)\n",
    "    \n",
    "\n",
    "ratings.tail(10) "
   ]
  },
  {
   "cell_type": "markdown",
   "id": "filled-referral",
   "metadata": {},
   "source": [
    "user_id와 movie_id 고유한 값으로 만들기"
   ]
  },
  {
   "cell_type": "code",
   "execution_count": 51,
   "id": "worth-cooling",
   "metadata": {},
   "outputs": [
    {
     "name": "stdout",
     "output_type": "stream",
     "text": [
      "user_id column indexing OK!!\n",
      "movie column indexing OK!!\n"
     ]
    },
    {
     "data": {
      "text/html": [
       "<div>\n",
       "<style scoped>\n",
       "    .dataframe tbody tr th:only-of-type {\n",
       "        vertical-align: middle;\n",
       "    }\n",
       "\n",
       "    .dataframe tbody tr th {\n",
       "        vertical-align: top;\n",
       "    }\n",
       "\n",
       "    .dataframe thead th {\n",
       "        text-align: right;\n",
       "    }\n",
       "</style>\n",
       "<table border=\"1\" class=\"dataframe\">\n",
       "  <thead>\n",
       "    <tr style=\"text-align: right;\">\n",
       "      <th></th>\n",
       "      <th>user_id</th>\n",
       "      <th>movie_id</th>\n",
       "      <th>count</th>\n",
       "    </tr>\n",
       "  </thead>\n",
       "  <tbody>\n",
       "    <tr>\n",
       "      <th>0</th>\n",
       "      <td>0</td>\n",
       "      <td>0</td>\n",
       "      <td>5</td>\n",
       "    </tr>\n",
       "    <tr>\n",
       "      <th>1</th>\n",
       "      <td>0</td>\n",
       "      <td>1</td>\n",
       "      <td>3</td>\n",
       "    </tr>\n",
       "    <tr>\n",
       "      <th>2</th>\n",
       "      <td>0</td>\n",
       "      <td>2</td>\n",
       "      <td>3</td>\n",
       "    </tr>\n",
       "    <tr>\n",
       "      <th>3</th>\n",
       "      <td>0</td>\n",
       "      <td>3</td>\n",
       "      <td>4</td>\n",
       "    </tr>\n",
       "    <tr>\n",
       "      <th>4</th>\n",
       "      <td>0</td>\n",
       "      <td>4</td>\n",
       "      <td>5</td>\n",
       "    </tr>\n",
       "    <tr>\n",
       "      <th>...</th>\n",
       "      <td>...</td>\n",
       "      <td>...</td>\n",
       "      <td>...</td>\n",
       "    </tr>\n",
       "    <tr>\n",
       "      <th>0</th>\n",
       "      <td>6039</td>\n",
       "      <td>44</td>\n",
       "      <td>5</td>\n",
       "    </tr>\n",
       "    <tr>\n",
       "      <th>1</th>\n",
       "      <td>6039</td>\n",
       "      <td>117</td>\n",
       "      <td>5</td>\n",
       "    </tr>\n",
       "    <tr>\n",
       "      <th>2</th>\n",
       "      <td>6039</td>\n",
       "      <td>64</td>\n",
       "      <td>5</td>\n",
       "    </tr>\n",
       "    <tr>\n",
       "      <th>3</th>\n",
       "      <td>6039</td>\n",
       "      <td>402</td>\n",
       "      <td>5</td>\n",
       "    </tr>\n",
       "    <tr>\n",
       "      <th>4</th>\n",
       "      <td>6039</td>\n",
       "      <td>526</td>\n",
       "      <td>5</td>\n",
       "    </tr>\n",
       "  </tbody>\n",
       "</table>\n",
       "<p>836483 rows × 3 columns</p>\n",
       "</div>"
      ],
      "text/plain": [
       "    user_id  movie_id  count\n",
       "0         0         0      5\n",
       "1         0         1      3\n",
       "2         0         2      3\n",
       "3         0         3      4\n",
       "4         0         4      5\n",
       "..      ...       ...    ...\n",
       "0      6039        44      5\n",
       "1      6039       117      5\n",
       "2      6039        64      5\n",
       "3      6039       402      5\n",
       "4      6039       526      5\n",
       "\n",
       "[836483 rows x 3 columns]"
      ]
     },
     "execution_count": 51,
     "metadata": {},
     "output_type": "execute_result"
    }
   ],
   "source": [
    "user_unique = ratings['user_id'].unique()\n",
    "movie_unique = ratings['movie_id'].unique()\n",
    "\n",
    "user_to_idx = {v:k for k,v in enumerate(user_unique)}\n",
    "movie_to_idx = {v:k for k,v in enumerate(movie_unique)}\n",
    "\n",
    "temp_user_data = ratings['user_id'].map(user_to_idx.get).dropna()\n",
    "if len(temp_user_data) == len(ratings):   \n",
    "    print('user_id column indexing OK!!')\n",
    "    ratings['user_id'] = temp_user_data    \n",
    "else:\n",
    "    print('user_id column indexing Fail!!')\n",
    "\n",
    "temp_movie_data = ratings['movie_id'].map(movie_to_idx.get).dropna()\n",
    "if len(temp_movie_data) == len(ratings):\n",
    "    print('movie column indexing OK!!')\n",
    "    ratings['movie_id'] = temp_movie_data\n",
    "else:\n",
    "    print('movie column indexing Fail!!')\n",
    "\n",
    "ratings"
   ]
  },
  {
   "cell_type": "markdown",
   "id": "disabled-receiver",
   "metadata": {},
   "source": [
    "### CSR matrix를 직접 만들어 봅시다.\n",
    "\n"
   ]
  },
  {
   "cell_type": "code",
   "execution_count": 52,
   "id": "partial-skating",
   "metadata": {},
   "outputs": [
    {
     "name": "stdout",
     "output_type": "stream",
     "text": [
      "6040 3628\n"
     ]
    },
    {
     "data": {
      "text/plain": [
       "<6040x3628 sparse matrix of type '<class 'numpy.longlong'>'\n",
       "\twith 836483 stored elements in Compressed Sparse Row format>"
      ]
     },
     "execution_count": 52,
     "metadata": {},
     "output_type": "execute_result"
    }
   ],
   "source": [
    "n_user = ratings['user_id'].nunique()\n",
    "n_movie = ratings['movie_id'].nunique()\n",
    "print(n_user, n_movie)     \n",
    "\n",
    "csr_data = csr_matrix((ratings['count'], (ratings.user_id, ratings.movie_id)))\n",
    "csr_data"
   ]
  },
  {
   "cell_type": "markdown",
   "id": "drawn-jenny",
   "metadata": {},
   "source": [
    "### als_model = AlternatingLeastSquares 모델을 직접 구성하여 훈련시켜 봅시다."
   ]
  },
  {
   "cell_type": "code",
   "execution_count": 53,
   "id": "secret-uncle",
   "metadata": {},
   "outputs": [
    {
     "data": {
      "application/vnd.jupyter.widget-view+json": {
       "model_id": "d510fdb26ef144be831ef9a65188c23d",
       "version_major": 2,
       "version_minor": 0
      },
      "text/plain": [
       "  0%|          | 0/20 [00:00<?, ?it/s]"
      ]
     },
     "metadata": {},
     "output_type": "display_data"
    }
   ],
   "source": [
    "# implicit 라이브러리에서 권장하고 있는 부분입니다. 학습 내용과는 무관합니다.\n",
    "os.environ['OPENBLAS_NUM_THREADS']='1'\n",
    "os.environ['KMP_DUPLICATE_LIB_OK']='True'\n",
    "os.environ['MKL_NUM_THREADS']='1'\n",
    "\n",
    "als_model = AlternatingLeastSquares(factors=300, regularization=0.01, use_gpu=False, iterations=20, dtype=np.float32)\n",
    "csr_data_transpose = csr_data.T  # als 모델은 input으로 (item X user 꼴의 matrix를 받기 때문에 Transpose해준다.\n",
    "csr_data_transpose\n",
    "\n",
    "als_model.fit(csr_data_transpose)  # 모델 훈련"
   ]
  },
  {
   "cell_type": "markdown",
   "id": "hollow-progress",
   "metadata": {},
   "source": [
    "### 내가 선호하는 5가지 영화 중 하나와 그 외의 영화 하나를 골라 훈련된 모델이 예측한 나의 선호도를 파악해 보세요."
   ]
  },
  {
   "cell_type": "code",
   "execution_count": 54,
   "id": "exterior-junction",
   "metadata": {},
   "outputs": [],
   "source": [
    "# movie_id로 영화 title가져오기\n",
    "def get_movie_name(idx):\n",
    "    if idx in movies.movie_id:\n",
    "        return movies[movies['movie_id'] == idx]['title'].values[0]\n",
    "    else:\n",
    "        print('해당 인덱스의 영화가 존재하지 않습니다.')"
   ]
  },
  {
   "cell_type": "code",
   "execution_count": 55,
   "id": "disciplinary-economics",
   "metadata": {},
   "outputs": [
    {
     "data": {
      "text/plain": [
       "'X-Files: Fight the Future, The (1998)'"
      ]
     },
     "execution_count": 55,
     "metadata": {},
     "output_type": "execute_result"
    }
   ],
   "source": [
    "get_movie_name(1909)"
   ]
  },
  {
   "cell_type": "code",
   "execution_count": 56,
   "id": "exceptional-harvey",
   "metadata": {
    "scrolled": true
   },
   "outputs": [
    {
     "data": {
      "text/plain": [
       "array([-1.56903535e-01,  5.03713250e-01, -6.56423211e-01,  1.54236361e-01,\n",
       "       -5.60347974e-01, -4.60680336e-01,  2.92800665e-01, -2.06171542e-01,\n",
       "        1.78474113e-01, -9.18952584e-01, -3.42509560e-02,  1.03955651e-02,\n",
       "        1.90453947e-01,  8.67606401e-02,  6.97847486e-01,  4.19247687e-01,\n",
       "       -1.38847962e-01, -1.25709280e-01,  5.26905656e-01,  2.07282066e-01,\n",
       "       -2.33872272e-02, -3.46452482e-02,  6.70633852e-01,  4.03394431e-01,\n",
       "        1.70040563e-01,  4.09435183e-01, -1.14256265e-02, -9.09144431e-02,\n",
       "       -1.50437355e-01, -4.00998771e-01, -2.99998939e-01,  2.11825788e-01,\n",
       "       -3.99123766e-02, -2.76497960e-01,  8.84216875e-02,  1.62115693e-01,\n",
       "        1.19353987e-01,  3.98087442e-01,  8.93628001e-01,  1.60956785e-01,\n",
       "       -3.07945639e-01,  7.61707723e-02,  1.89546719e-01,  1.31343454e-01,\n",
       "       -1.29410699e-01,  2.39354685e-01, -3.23093474e-01, -2.07846910e-01,\n",
       "        1.05160221e-01,  6.23863041e-01, -5.77474274e-02, -2.17018813e-01,\n",
       "       -6.13103472e-02, -1.84165444e-02,  6.85627878e-01,  5.54244161e-01,\n",
       "       -3.58733565e-01,  1.47018865e-01, -1.64010763e-01, -1.62730098e-01,\n",
       "       -8.54060799e-02,  6.00431189e-02,  2.24500209e-01, -1.81193665e-01,\n",
       "        3.68642472e-02, -4.24631447e-01,  6.70695156e-02,  4.12982441e-02,\n",
       "        1.87800154e-01, -3.82822663e-01,  5.22820093e-02,  3.25107425e-01,\n",
       "       -1.73325479e-01,  4.54214871e-01, -1.84606835e-01, -3.13619584e-01,\n",
       "       -5.32415509e-01, -7.44339645e-01,  3.09073031e-01,  1.78836793e-01,\n",
       "        4.22667265e-01,  4.14121658e-01, -9.35303122e-02,  8.03455889e-01,\n",
       "       -1.36994079e-01, -6.14275813e-01,  1.30323097e-01,  4.91509497e-01,\n",
       "        4.59842950e-01, -1.45241961e-01,  3.99028778e-01, -9.48135555e-03,\n",
       "       -5.90471089e-01,  4.48054492e-01,  4.26201642e-01, -3.42580020e-01,\n",
       "        1.12433426e-01,  7.39840716e-02,  3.88119996e-01, -1.20593153e-01,\n",
       "       -2.65675932e-01,  1.79865927e-01, -2.55480766e-01,  3.86365831e-01,\n",
       "        7.01943934e-01, -3.35764110e-01,  7.82155320e-02,  2.64471501e-01,\n",
       "        1.15387499e-01,  3.20926636e-01, -3.96801740e-01,  7.36367702e-01,\n",
       "        5.95170856e-01, -4.20583859e-02, -4.36624050e-01, -5.03137037e-02,\n",
       "        5.64615801e-03,  2.18309835e-01, -1.47113964e-01, -1.30509928e-01,\n",
       "       -2.05831632e-01, -4.30260807e-01,  4.02200431e-01,  6.04365766e-01,\n",
       "        1.26183540e-01, -1.28599361e-01,  1.47446454e-01, -6.49853721e-02,\n",
       "       -1.22432984e-01, -2.57373482e-01, -1.78198203e-01, -6.41306639e-02,\n",
       "       -3.75445694e-01, -5.38807571e-01, -1.92819893e-01,  3.85113150e-01,\n",
       "        2.31290367e-02,  5.03467433e-02, -5.94275177e-01,  8.09964687e-02,\n",
       "       -3.56117636e-01,  1.89855739e-01,  4.94700134e-01,  5.31391978e-01,\n",
       "        1.70051321e-01, -1.51025429e-01,  6.79166198e-01, -4.46325034e-01,\n",
       "        8.41866285e-02, -7.58572698e-01,  2.18663007e-01,  6.88677132e-02,\n",
       "       -3.44285518e-01,  4.68915939e-01, -2.61756688e-01,  6.38233483e-01,\n",
       "       -8.59734342e-02,  2.32175156e-01, -8.16793084e-01,  1.20085716e-01,\n",
       "       -5.25115430e-01,  1.46005005e-01, -6.05774224e-01, -2.03608096e-01,\n",
       "        1.12429827e-01,  1.71435103e-01,  5.34313321e-01,  4.41301405e-01,\n",
       "       -2.79601574e-01, -1.77680925e-01, -5.39427757e-01,  4.01063301e-02,\n",
       "        2.96847492e-01,  2.70588398e-01,  4.32660520e-01, -5.01685560e-01,\n",
       "        8.92944783e-02, -1.32142261e-01, -3.97358865e-01, -2.16294467e-01,\n",
       "        3.34433764e-01, -3.72663289e-01,  7.11751580e-02, -6.49950266e-01,\n",
       "        1.15989536e-01,  1.01664208e-01, -7.08212778e-02,  1.33795515e-01,\n",
       "        5.50241113e-01, -1.45180345e-01,  4.17315923e-02, -1.01829067e-01,\n",
       "        1.35179922e-01, -2.48381138e-01,  4.69062477e-02,  6.73584223e-01,\n",
       "       -3.07202041e-01,  2.37256959e-01, -2.57609915e-02, -2.78562140e-02,\n",
       "        1.13553278e-01,  1.25156119e-01, -6.45200610e-01, -1.75576434e-02,\n",
       "        9.69556645e-02,  7.07554445e-02,  1.49421021e-01,  5.42105019e-01,\n",
       "       -2.03136221e-01, -4.20379825e-02,  3.31205547e-01,  2.18610406e-01,\n",
       "        6.92907199e-02, -1.02729760e-01, -2.61015654e-01, -2.10366428e-01,\n",
       "       -9.09042358e-02,  1.18414976e-01, -2.24640697e-01, -3.69219226e-04,\n",
       "       -1.72900572e-01,  4.85901445e-01, -4.79410231e-01,  6.63489640e-01,\n",
       "        6.35060668e-01, -3.41070235e-01,  8.47299159e-01,  5.24671257e-01,\n",
       "       -7.24720478e-01, -2.80653834e-01,  6.39473736e-01,  3.79431136e-02,\n",
       "       -3.71286601e-01, -3.56816351e-01, -3.13621134e-01, -2.66486883e-01,\n",
       "        5.29892504e-01, -1.52245522e-01, -8.62317011e-02, -2.02453747e-01,\n",
       "       -1.46353748e-02, -1.23911925e-01,  1.65015131e-01, -2.31967822e-01,\n",
       "       -3.46450835e-01, -3.99876028e-01,  4.41516161e-01,  3.05055618e-01,\n",
       "        1.54357255e-01, -4.23450708e-01, -1.54261375e-02,  3.18151787e-02,\n",
       "        6.81812316e-02,  2.91080736e-02, -3.53405476e-01, -5.13405800e-01,\n",
       "       -4.81312990e-01, -1.52176023e-02, -8.90341178e-02,  3.28786001e-02,\n",
       "       -4.08202589e-01, -3.41129512e-01,  1.01902381e-01, -1.58030316e-01,\n",
       "       -2.73547918e-01, -2.01636821e-01, -2.82387227e-01, -1.77690715e-01,\n",
       "        7.64806807e-01, -5.09475887e-01,  4.82073985e-02, -2.83654541e-01,\n",
       "        3.17633092e-01,  3.25991601e-01,  8.42120573e-02,  7.15553343e-01,\n",
       "        3.41862887e-01,  4.72467750e-01, -3.80977482e-01, -2.61406034e-01,\n",
       "       -4.89870936e-01, -3.91279101e-01,  7.79714659e-02, -4.01064068e-01,\n",
       "       -5.34201562e-01, -5.83464839e-02, -2.77079135e-01, -3.93954307e-01,\n",
       "       -1.36028767e-01, -3.06487739e-01, -3.74269068e-01, -1.01303510e-01,\n",
       "       -3.05279419e-02,  1.10280938e-01,  1.95340142e-01,  3.14074196e-02,\n",
       "        1.42248720e-01, -5.63494563e-01,  2.89946467e-01, -8.49588290e-02],\n",
       "      dtype=float32)"
      ]
     },
     "execution_count": 56,
     "metadata": {},
     "output_type": "execute_result"
    }
   ],
   "source": [
    "# my_id의 벡터\n",
    "mulder = user_to_idx[my_id]\n",
    "my_vector = als_model.user_factors[mulder]\n",
    "my_vector"
   ]
  },
  {
   "cell_type": "code",
   "execution_count": 57,
   "id": "hindu-albany",
   "metadata": {},
   "outputs": [
    {
     "data": {
      "text/plain": [
       "array([ 5.36637194e-03,  6.43966999e-03, -2.53135450e-02, -3.13475775e-03,\n",
       "       -1.34384148e-02, -1.74805224e-02,  2.04531327e-02,  2.60316692e-02,\n",
       "       -1.63489748e-02, -2.48293728e-02, -2.24197730e-02,  1.90157890e-02,\n",
       "        4.36701905e-03, -1.17883843e-03,  1.26724271e-02,  2.81323008e-02,\n",
       "       -4.28767526e-04, -2.03838036e-03,  7.54856272e-03,  3.13571915e-02,\n",
       "        2.61677243e-02,  1.46222673e-02,  2.24861633e-02,  1.30763538e-02,\n",
       "        4.29109437e-03,  2.40118727e-02,  6.92506460e-03,  2.58741975e-02,\n",
       "       -1.38631715e-02,  5.01889177e-03, -1.89734027e-02,  1.35247307e-02,\n",
       "        4.99322498e-03, -2.51826132e-03,  1.40506979e-02, -1.14638293e-02,\n",
       "        6.73781894e-03,  1.51031995e-02,  2.57039201e-02,  1.87628940e-02,\n",
       "       -2.54653431e-02,  7.42317224e-03,  1.26177138e-02,  3.11601460e-02,\n",
       "        7.22462172e-03,  2.21114103e-02,  1.74816400e-02, -8.87715432e-04,\n",
       "        3.60063300e-03,  9.32098180e-03,  9.56145115e-03, -7.53347343e-03,\n",
       "        1.09714303e-04, -2.46420167e-02,  2.26744190e-02,  1.41339954e-02,\n",
       "       -1.28139583e-02,  4.07686532e-02, -8.80543515e-03,  2.48595644e-02,\n",
       "       -1.25004258e-02, -3.07278782e-02,  5.69714606e-03, -4.56212554e-03,\n",
       "        1.44725922e-03, -1.67701766e-03, -1.46763008e-02,  5.19062253e-03,\n",
       "        6.85428083e-03, -2.06366740e-02,  1.10231526e-02,  1.29411705e-02,\n",
       "       -1.07633527e-02,  3.49617340e-02,  2.83577642e-03, -2.02007107e-02,\n",
       "       -2.19735466e-02, -2.02185977e-02,  8.84752779e-04,  3.08737461e-03,\n",
       "        1.80879124e-02, -3.05133197e-03,  3.29775438e-02,  2.55824719e-02,\n",
       "       -2.66164355e-03, -2.84222085e-02,  1.85194649e-02,  2.98389923e-02,\n",
       "        3.87244448e-02,  2.91714035e-02,  2.42040567e-02, -1.52983507e-02,\n",
       "       -1.34922424e-02,  2.36520730e-02,  1.39316980e-04, -4.35930863e-03,\n",
       "        1.97814032e-02, -4.35793353e-03, -1.79198217e-02, -5.47029171e-03,\n",
       "        2.69197877e-02,  8.27543251e-03, -6.79260539e-03, -1.65701634e-03,\n",
       "        3.10204644e-02, -1.07405130e-02,  9.64488089e-03,  1.81351174e-02,\n",
       "        3.63043416e-03,  2.28662547e-02, -2.15606410e-02,  3.53138410e-02,\n",
       "        2.09288839e-02,  1.66814122e-02, -1.27974674e-02, -9.90219228e-03,\n",
       "       -7.18594203e-03,  1.23646734e-02,  7.68234255e-03,  2.43289676e-02,\n",
       "        5.46531565e-03, -4.73343628e-03,  2.24957168e-02,  2.26167999e-02,\n",
       "       -6.38601929e-03, -1.59905963e-02,  1.34934031e-04, -2.66494369e-03,\n",
       "        9.01017990e-03, -1.63108036e-02,  2.10097414e-02,  3.80110065e-03,\n",
       "        2.50621408e-04,  2.41391454e-02,  1.94036178e-02,  2.76462510e-02,\n",
       "        1.26953200e-02, -1.15896612e-02, -2.62296037e-03,  6.59597386e-03,\n",
       "       -1.58737898e-02,  1.96348038e-02,  3.04151345e-02,  2.63058650e-03,\n",
       "        2.70284023e-02,  1.22602480e-02,  3.51017751e-02,  1.38418574e-03,\n",
       "       -7.14374287e-03, -3.51623148e-02,  2.57131774e-02,  3.08082905e-03,\n",
       "        7.20724883e-03,  2.32333224e-02, -1.33169163e-02,  7.17124483e-03,\n",
       "       -4.32340754e-03,  1.70526914e-02, -1.01035060e-02,  9.99553129e-03,\n",
       "       -8.59474856e-03,  1.55539094e-02,  1.28167029e-02, -1.24786133e-02,\n",
       "        5.32380398e-03,  7.64230557e-04,  3.35785337e-02,  2.63539217e-02,\n",
       "       -2.48124613e-03,  1.45249479e-02, -1.17175467e-02,  8.15844536e-03,\n",
       "       -2.16903794e-03,  4.53044893e-03,  2.79648528e-02, -2.01303158e-02,\n",
       "        7.34029897e-03,  8.68772902e-03,  2.25002645e-03, -4.95306449e-03,\n",
       "       -5.15825886e-05, -3.09410854e-03,  2.21595094e-02, -2.73175980e-03,\n",
       "        2.59458041e-03,  1.05524855e-02, -1.12077163e-03,  3.19015346e-02,\n",
       "        2.51733866e-02,  8.63439112e-04, -1.37701828e-03,  1.87128596e-02,\n",
       "        3.95665178e-03,  4.19088826e-03, -7.85910059e-03,  3.06112953e-02,\n",
       "       -1.13217458e-02,  1.41911525e-02, -1.05235521e-02,  2.57495455e-02,\n",
       "       -7.77927227e-04,  2.44600400e-02, -2.33491883e-04, -1.53885204e-02,\n",
       "        1.16848778e-02,  1.31357526e-02,  2.70494493e-03,  1.88507568e-02,\n",
       "        7.49376928e-03, -2.30578892e-03,  1.48112020e-02,  1.32375583e-03,\n",
       "        1.74899015e-03,  1.52911553e-02, -3.24505940e-03, -1.78382695e-02,\n",
       "       -3.33662931e-04,  3.92126851e-03, -2.23478805e-02,  1.75189897e-02,\n",
       "       -2.92074252e-02,  1.20689385e-02, -2.85069291e-02,  3.44474502e-02,\n",
       "        2.95739248e-02,  4.39542020e-03,  2.75120307e-02, -7.98601098e-03,\n",
       "       -2.98536979e-02,  7.00255670e-03,  5.19107049e-03,  1.89748220e-02,\n",
       "        6.38029305e-03, -9.89647489e-03,  1.04866233e-02, -1.95485260e-02,\n",
       "        1.81666464e-02, -2.00045612e-02,  6.73970906e-03, -9.24233533e-03,\n",
       "       -2.91407527e-03,  1.68482754e-02,  1.42498249e-02, -4.86406358e-03,\n",
       "        9.00180917e-03, -1.60696171e-02,  1.71350725e-02,  2.75658118e-03,\n",
       "        1.58489530e-03, -3.01258676e-02,  6.73032599e-04,  9.48106684e-03,\n",
       "        7.33294291e-03,  1.97908096e-02,  2.02728948e-03, -1.22675737e-02,\n",
       "       -1.07865334e-02,  2.51931255e-03,  2.27937638e-03,  3.28257978e-02,\n",
       "       -3.87938286e-04,  1.36153176e-02,  2.61126552e-02, -1.73480883e-02,\n",
       "        9.38372966e-03, -1.52092315e-02,  2.90742842e-03, -2.34219600e-02,\n",
       "        2.95661017e-02, -6.15515932e-03,  2.00260412e-02,  1.34993745e-02,\n",
       "        1.74467918e-02, -7.91685749e-03, -8.31827521e-03,  1.15983207e-02,\n",
       "        1.45081682e-02, -1.06495048e-03, -7.12943636e-03, -1.74543485e-02,\n",
       "       -8.46284628e-03,  7.60788796e-03, -2.52885255e-03, -6.43011881e-03,\n",
       "        3.66751896e-03, -1.79342497e-02,  2.60714740e-02,  3.00846645e-03,\n",
       "       -1.21873254e-02, -8.22706090e-04, -1.48686441e-02,  1.49276480e-02,\n",
       "        8.85635335e-03,  2.28726375e-03,  1.97907034e-02,  1.03485594e-02,\n",
       "        2.06201673e-02, -1.42744230e-02,  1.76477619e-02, -9.38434154e-03],\n",
       "      dtype=float32)"
      ]
     },
     "execution_count": 57,
     "metadata": {},
     "output_type": "execute_result"
    }
   ],
   "source": [
    "# star wars의 벡터\n",
    "star_wars = movie_to_idx[260]\n",
    "star_wars_vector = als_model.item_factors[star_wars]\n",
    "star_wars_vector"
   ]
  },
  {
   "cell_type": "code",
   "execution_count": 58,
   "id": "friendly-period",
   "metadata": {},
   "outputs": [
    {
     "data": {
      "text/plain": [
       "0.9628482"
      ]
     },
     "execution_count": 58,
     "metadata": {},
     "output_type": "execute_result"
    }
   ],
   "source": [
    "np.dot(my_vector, star_wars_vector)"
   ]
  },
  {
   "cell_type": "code",
   "execution_count": 59,
   "id": "passive-avatar",
   "metadata": {},
   "outputs": [
    {
     "data": {
      "text/plain": [
       "array([-0.01518755,  0.01961131,  0.01529206,  0.01306258,  0.00507235,\n",
       "       -0.0146694 ,  0.0125285 , -0.00810356, -0.0059742 , -0.01340965,\n",
       "       -0.0232467 ,  0.01550184,  0.00502251,  0.00717196,  0.01395394,\n",
       "       -0.00348077,  0.02618045,  0.00735201, -0.00043137,  0.01154128,\n",
       "       -0.00108713,  0.00418313,  0.0058186 , -0.00189878, -0.01077312,\n",
       "       -0.00127414, -0.0028569 ,  0.0007642 , -0.00285862,  0.01827566,\n",
       "        0.01295241,  0.01376296, -0.00739978,  0.01532063, -0.00779774,\n",
       "       -0.0095665 ,  0.01345537,  0.00760735,  0.0187125 ,  0.01466986,\n",
       "        0.01746249,  0.03532862, -0.01018858, -0.00200078,  0.01374312,\n",
       "        0.01290256, -0.01173968,  0.02134663,  0.01965929,  0.00076739,\n",
       "        0.02045957,  0.00298739,  0.01012494,  0.02013891,  0.00822107,\n",
       "        0.00191288, -0.00619103, -0.01923726,  0.0314864 ,  0.00354421,\n",
       "        0.00541608, -0.00707976, -0.01300523,  0.00099908,  0.01400953,\n",
       "        0.00944569,  0.0095556 , -0.02334771, -0.00777583,  0.02815372,\n",
       "        0.01043231,  0.01036124,  0.01043211, -0.0098869 , -0.00077332,\n",
       "        0.00707696, -0.00799524, -0.0036627 , -0.00680221,  0.01089756,\n",
       "        0.01977524, -0.00146976, -0.01378241, -0.012607  , -0.00964932,\n",
       "        0.00924642,  0.000911  ,  0.01449446,  0.00602671, -0.00108599,\n",
       "       -0.01208469, -0.02326541, -0.00183706, -0.00246598,  0.00734677,\n",
       "        0.00754424,  0.00310506,  0.02322904,  0.00334639,  0.01191044,\n",
       "        0.00338375, -0.01568976,  0.01191921, -0.00368077,  0.01554797,\n",
       "       -0.00182678, -0.00925543,  0.00765204, -0.01047608,  0.01960359,\n",
       "       -0.00484546, -0.0071116 ,  0.01280243,  0.02090152, -0.014284  ,\n",
       "        0.00254895,  0.01492474,  0.02126303,  0.01645059, -0.00302352,\n",
       "       -0.00170184,  0.00936306,  0.00226553,  0.00420565,  0.00653579,\n",
       "       -0.00585151, -0.00134655, -0.01064102,  0.01814971,  0.01744351,\n",
       "        0.00889213,  0.0003655 , -0.00778833, -0.00049049,  0.03259373,\n",
       "        0.01255941,  0.01514168, -0.00593213, -0.02387021, -0.00367353,\n",
       "       -0.00120948, -0.02386038,  0.01289663,  0.00937448,  0.00628885,\n",
       "        0.02362404,  0.00466028,  0.01989721,  0.0161896 , -0.00472553,\n",
       "        0.00736786, -0.01979355,  0.00655091,  0.01334726,  0.00556906,\n",
       "        0.01276646, -0.00694797, -0.01123916,  0.01110669,  0.01403654,\n",
       "        0.00854715,  0.00400071,  0.01002234,  0.04407514,  0.00651697,\n",
       "       -0.01067642, -0.01550397,  0.01163081,  0.0145723 , -0.00094526,\n",
       "        0.01758526,  0.00382564,  0.01683627,  0.01033381,  0.00377377,\n",
       "        0.00947835,  0.0134609 , -0.01392996,  0.00779171, -0.00603909,\n",
       "       -0.00602563, -0.01510429,  0.00905643, -0.00123339,  0.03588421,\n",
       "       -0.01402635, -0.00768085, -0.01118118,  0.00138585, -0.00033091,\n",
       "        0.02642079,  0.00744973,  0.0033961 ,  0.00018568,  0.01701063,\n",
       "        0.03364529,  0.01661721, -0.00300208,  0.00765133,  0.00722984,\n",
       "        0.02531865, -0.02498003, -0.00012949,  0.00686445,  0.01905927,\n",
       "        0.00395606, -0.00815484,  0.02811422,  0.01888385,  0.00751847,\n",
       "        0.02528217,  0.0290687 ,  0.00101791,  0.00260204,  0.01296369,\n",
       "       -0.00072194,  0.007208  ,  0.03076342,  0.01954418, -0.00368553,\n",
       "        0.00889854, -0.00989722,  0.01606225,  0.00050648,  0.02355638,\n",
       "       -0.02476284,  0.0036989 ,  0.02887628, -0.00107138,  0.0196223 ,\n",
       "        0.02843383, -0.00600939, -0.01012326,  0.00890234,  0.00462693,\n",
       "        0.00722659, -0.00629872, -0.00012912,  0.03012778,  0.00991896,\n",
       "       -0.00488477, -0.00205884,  0.00760162, -0.00657066,  0.02842302,\n",
       "        0.00428157,  0.02472397,  0.03243847,  0.0101621 ,  0.00591156,\n",
       "        0.00895505,  0.01332916,  0.01084769, -0.00759529,  0.00823408,\n",
       "       -0.00863632, -0.00805871, -0.00415952,  0.02430568,  0.00670742,\n",
       "        0.00415779,  0.01646   ,  0.0213874 ,  0.00708702,  0.01351168,\n",
       "       -0.00553999,  0.02405236, -0.00809238, -0.01118752, -0.00176284,\n",
       "        0.01146233, -0.01831018,  0.01018748, -0.00178165,  0.02827612,\n",
       "       -0.01169081,  0.00761722,  0.01896247, -0.00252908,  0.01453415,\n",
       "        0.01993106,  0.02389964, -0.01874374,  0.01843382, -0.00090286,\n",
       "       -0.00882389,  0.0076356 ,  0.02159552,  0.00448591, -0.00949237,\n",
       "       -0.00708035,  0.00033075,  0.02718031,  0.0019926 ,  0.04004543,\n",
       "        0.02416727,  0.00869627, -0.00937948,  0.00865172,  0.0208396 ],\n",
       "      dtype=float32)"
      ]
     },
     "execution_count": 59,
     "metadata": {},
     "output_type": "execute_result"
    }
   ],
   "source": [
    "# x-files의 벡터\n",
    "xfiles = movie_to_idx[1909]\n",
    "xfiles_vector = als_model.item_factors[xfiles]\n",
    "xfiles_vector"
   ]
  },
  {
   "cell_type": "code",
   "execution_count": 60,
   "id": "skilled-treatment",
   "metadata": {},
   "outputs": [
    {
     "data": {
      "text/plain": [
       "0.09576288"
      ]
     },
     "execution_count": 60,
     "metadata": {},
     "output_type": "execute_result"
    }
   ],
   "source": [
    "np.dot(my_vector, xfiles_vector)"
   ]
  },
  {
   "cell_type": "code",
   "execution_count": 61,
   "id": "psychological-category",
   "metadata": {},
   "outputs": [
    {
     "data": {
      "text/plain": [
       "array([-4.55826567e-03,  7.20664067e-03,  3.43184313e-03,  2.53249872e-02,\n",
       "       -1.30522791e-02, -3.42772552e-03,  2.51527019e-02, -1.56123172e-02,\n",
       "        2.49729659e-02, -3.97736765e-03,  9.46734473e-03,  6.09511230e-03,\n",
       "        2.04177573e-02, -8.58986937e-03,  3.82669605e-02,  1.27285337e-02,\n",
       "        2.76219547e-02,  1.36059439e-02,  1.76403187e-02, -1.86254119e-03,\n",
       "       -4.12083184e-03, -5.67283947e-03,  4.38812794e-03,  3.87739874e-02,\n",
       "        3.28393816e-03,  9.51823220e-03,  1.18260318e-02,  9.05831344e-03,\n",
       "       -2.20769551e-03,  6.65316079e-03, -1.44338030e-02,  1.18742399e-02,\n",
       "        7.97510426e-03,  1.78253166e-02,  2.42705061e-03,  2.27988567e-02,\n",
       "        1.89111810e-02,  6.63368823e-03,  1.59903336e-02, -1.09593812e-02,\n",
       "        2.73930491e-04,  2.25195680e-02,  2.50857547e-02, -1.04190840e-03,\n",
       "        2.19477601e-02, -6.56035263e-03, -3.52362916e-03,  1.09951501e-03,\n",
       "        6.97372435e-03,  1.42306043e-02, -6.38813013e-03, -2.77265091e-03,\n",
       "       -1.57141685e-02, -2.20416416e-03,  1.04456758e-02,  1.81006640e-02,\n",
       "        1.40511384e-02,  8.11420754e-03,  2.04670224e-02,  8.72654840e-03,\n",
       "        3.78818926e-03,  1.23019759e-02, -6.66633889e-04, -6.47529261e-03,\n",
       "        6.60548918e-03, -5.61142154e-03, -1.15427664e-02,  8.23538098e-03,\n",
       "       -5.85582759e-03,  7.18531606e-04,  1.69703569e-02,  1.14063118e-02,\n",
       "        1.19760248e-03,  5.66458795e-03,  9.96778067e-03,  1.35474531e-02,\n",
       "        5.65853668e-03, -1.20703923e-02,  1.39895156e-02,  8.87269620e-03,\n",
       "        2.68732954e-04, -9.09157377e-03, -5.17475698e-03,  1.52057158e-02,\n",
       "        2.95776408e-03, -1.19152768e-02,  2.16894958e-04,  8.11081752e-03,\n",
       "        8.80977511e-03,  1.12400660e-02,  2.21258812e-02,  1.18310452e-02,\n",
       "        5.54040773e-04,  1.16089536e-02,  2.03640163e-02, -1.36396913e-02,\n",
       "        9.87831876e-03,  7.31795852e-04,  2.44701211e-03,  1.15755564e-02,\n",
       "       -1.55074997e-02,  1.36600006e-02,  2.54053883e-02,  2.55763419e-02,\n",
       "        1.39594860e-02,  8.70540459e-03,  8.63076188e-03,  6.80358522e-03,\n",
       "        1.43631455e-02,  2.28466634e-02, -3.87702195e-04, -3.76107288e-03,\n",
       "        2.58769896e-02, -2.39746366e-02, -1.08753135e-02,  8.54268786e-04,\n",
       "        5.78342425e-03,  1.94142666e-02, -9.11228452e-03,  1.32403951e-02,\n",
       "        9.69894603e-03, -7.74165662e-03,  1.47908404e-02,  3.75418481e-03,\n",
       "        3.46542038e-02,  1.06594656e-02,  1.67929605e-02,  1.59167089e-02,\n",
       "        1.75774954e-02,  2.02274509e-02,  1.33912535e-02, -2.10288651e-02,\n",
       "       -1.71729140e-02,  1.98618998e-03,  5.27456542e-03,  2.38581607e-03,\n",
       "        1.67683233e-03,  1.56723596e-02, -2.45036781e-02,  1.69924628e-02,\n",
       "       -1.04691293e-02,  6.70238817e-03,  1.54698016e-02, -8.08785437e-04,\n",
       "        3.04121384e-03, -3.00654070e-03,  9.98248998e-03, -8.75518657e-03,\n",
       "        1.83412749e-02, -1.73352342e-02, -1.05658285e-02, -7.72543112e-03,\n",
       "        7.77102774e-03,  1.35528930e-02, -6.91806083e-04,  1.44348480e-02,\n",
       "        2.05381364e-02,  7.37811765e-03, -2.19392367e-02,  2.08086241e-02,\n",
       "       -1.95838488e-03, -6.33049197e-03, -2.99560628e-03,  1.99685413e-02,\n",
       "        5.53999236e-03,  6.23741094e-03,  1.46746757e-02,  1.43828839e-02,\n",
       "        1.83062302e-03, -2.03941409e-02,  4.87698149e-03,  8.08182266e-03,\n",
       "       -1.05820503e-02,  1.94625314e-02,  1.13568865e-02, -1.51767745e-03,\n",
       "        7.23023061e-03,  1.32811593e-03, -1.26926936e-02,  4.31752019e-03,\n",
       "        1.75714120e-02, -8.71218368e-03,  1.84360761e-02, -1.14104990e-02,\n",
       "       -4.14046273e-03,  1.20388232e-02,  1.59362995e-03,  1.60691235e-02,\n",
       "       -1.76819973e-03,  8.57182592e-03, -3.56941950e-03, -1.19469489e-03,\n",
       "        2.08643489e-02, -1.25416154e-02,  1.20006199e-03,  2.48640906e-02,\n",
       "       -4.66594985e-03, -6.86486659e-04, -7.36444443e-03, -1.15067896e-03,\n",
       "        1.06379120e-02,  7.60507677e-03, -2.88172588e-02, -3.43139074e-03,\n",
       "        5.33331325e-03, -1.26751550e-02, -7.27751665e-03,  1.75559651e-02,\n",
       "        4.13643284e-04, -2.56444793e-03,  1.89302228e-02,  2.50875242e-02,\n",
       "        7.01077166e-04, -1.12029247e-03,  2.46307463e-04,  1.60286948e-02,\n",
       "        1.67007130e-02,  7.87146296e-03,  2.57069077e-02, -9.95589886e-03,\n",
       "        9.84312687e-03,  2.86518950e-02, -8.71471129e-03,  2.13802941e-02,\n",
       "        2.44961418e-02,  4.56626434e-03,  2.03226004e-02,  2.14259382e-02,\n",
       "       -2.35632272e-03,  1.19938599e-02,  1.46987494e-02, -3.91496392e-03,\n",
       "       -6.47565830e-05, -3.33139533e-03,  1.94355734e-02,  7.06999935e-03,\n",
       "        2.48368979e-02,  1.06228460e-02,  9.58892144e-03,  3.40183475e-03,\n",
       "        4.45939321e-03, -4.86270711e-03, -7.84458965e-03, -2.43516848e-03,\n",
       "       -1.18093733e-02, -2.35645421e-04,  1.68544613e-02, -6.52063231e-04,\n",
       "        6.26566168e-03, -1.56933703e-02,  1.63851567e-02, -5.68224059e-04,\n",
       "       -7.36240618e-05,  1.54766506e-02, -1.12234950e-02, -3.09274322e-03,\n",
       "        1.15094362e-02,  1.11001087e-02,  2.65996647e-03, -7.83614989e-04,\n",
       "        6.25017518e-03,  1.14060529e-02, -4.43580607e-03, -1.86258100e-03,\n",
       "       -1.62909401e-03,  5.77622838e-03, -1.40479219e-03, -1.07058836e-02,\n",
       "        1.05108097e-02, -7.83598982e-03,  1.87226583e-03,  1.01895453e-02,\n",
       "        4.68506990e-03,  1.58104915e-02,  1.06396405e-02,  1.57299303e-02,\n",
       "        1.50328167e-02,  8.91077053e-03, -7.02040596e-03,  1.70894992e-02,\n",
       "       -5.30884601e-03, -5.46305208e-03,  2.98082139e-02, -1.28829048e-03,\n",
       "       -5.50892483e-03, -4.57603019e-04, -1.05023598e-02, -9.73987859e-03,\n",
       "        6.53892756e-03, -2.38919742e-02, -4.58389957e-04,  1.34965330e-02,\n",
       "        1.36041138e-02,  1.19816400e-02,  2.69575287e-02, -4.84215701e-03,\n",
       "       -1.18080229e-02, -2.01108214e-02,  9.23915952e-03,  1.25986794e-02],\n",
       "      dtype=float32)"
      ]
     },
     "execution_count": 61,
     "metadata": {},
     "output_type": "execute_result"
    }
   ],
   "source": [
    "# super man의 벡터\n",
    "superman = movie_to_idx[2640]\n",
    "superman_vector = als_model.item_factors[superman]\n",
    "superman_vector"
   ]
  },
  {
   "cell_type": "code",
   "execution_count": 62,
   "id": "developed-fleet",
   "metadata": {},
   "outputs": [
    {
     "data": {
      "text/plain": [
       "0.6237554"
      ]
     },
     "execution_count": 62,
     "metadata": {},
     "output_type": "execute_result"
    }
   ],
   "source": [
    "np.dot(my_vector, superman_vector)"
   ]
  },
  {
   "cell_type": "code",
   "execution_count": 63,
   "id": "neither-leader",
   "metadata": {
    "scrolled": true
   },
   "outputs": [
    {
     "data": {
      "text/html": [
       "<div>\n",
       "<style scoped>\n",
       "    .dataframe tbody tr th:only-of-type {\n",
       "        vertical-align: middle;\n",
       "    }\n",
       "\n",
       "    .dataframe tbody tr th {\n",
       "        vertical-align: top;\n",
       "    }\n",
       "\n",
       "    .dataframe thead th {\n",
       "        text-align: right;\n",
       "    }\n",
       "</style>\n",
       "<table border=\"1\" class=\"dataframe\">\n",
       "  <thead>\n",
       "    <tr style=\"text-align: right;\">\n",
       "      <th></th>\n",
       "      <th>movie_id</th>\n",
       "      <th>title</th>\n",
       "      <th>genre</th>\n",
       "    </tr>\n",
       "  </thead>\n",
       "  <tbody>\n",
       "    <tr>\n",
       "      <th>1482</th>\n",
       "      <td>1517</td>\n",
       "      <td>Austin Powers: International Man of Mystery (1...</td>\n",
       "      <td>Comedy</td>\n",
       "    </tr>\n",
       "    <tr>\n",
       "      <th>2614</th>\n",
       "      <td>2683</td>\n",
       "      <td>Austin Powers: The Spy Who Shagged Me (1999)</td>\n",
       "      <td>Comedy</td>\n",
       "    </tr>\n",
       "  </tbody>\n",
       "</table>\n",
       "</div>"
      ],
      "text/plain": [
       "      movie_id                                              title   genre\n",
       "1482      1517  Austin Powers: International Man of Mystery (1...  Comedy\n",
       "2614      2683       Austin Powers: The Spy Who Shagged Me (1999)  Comedy"
      ]
     },
     "execution_count": 63,
     "metadata": {},
     "output_type": "execute_result"
    }
   ],
   "source": [
    "movies[movies['title'].str.lower().str.contains('austin')]"
   ]
  },
  {
   "cell_type": "code",
   "execution_count": 64,
   "id": "corrected-margin",
   "metadata": {},
   "outputs": [
    {
     "data": {
      "text/plain": [
       "array([-5.63099189e-03, -7.86554068e-03, -1.75287593e-02,  3.23337987e-02,\n",
       "        3.26582044e-02,  8.11414514e-03, -1.32611459e-02, -9.60175297e-04,\n",
       "        7.87452050e-03, -4.23973706e-03, -2.03925762e-02,  1.37010505e-02,\n",
       "        7.43591925e-03, -4.22584265e-03, -7.02114892e-04,  1.07387593e-02,\n",
       "        1.64789474e-03, -1.96647625e-02,  1.48249604e-02,  1.60824675e-02,\n",
       "        7.40005309e-03, -6.10888889e-03, -3.14871548e-04, -4.65393253e-03,\n",
       "        7.01856241e-03,  4.53186920e-03,  5.76828280e-03,  3.59675810e-02,\n",
       "        1.65037792e-02,  2.16870718e-02,  2.40483638e-02,  1.38645601e-02,\n",
       "        1.24140428e-02,  8.90933152e-04,  9.00125597e-03,  4.69742343e-03,\n",
       "        1.53122209e-02,  1.81379803e-02,  7.49466894e-03,  3.33417021e-03,\n",
       "        3.01017258e-02,  1.27270585e-02, -2.57828888e-02,  1.60401035e-02,\n",
       "       -8.32521182e-05,  1.42753934e-02,  1.76372323e-02,  6.69210870e-03,\n",
       "        1.45916995e-02,  1.01740696e-02,  7.66308326e-03, -8.26600008e-03,\n",
       "        8.93185381e-03, -5.40947495e-03, -6.00365736e-03, -1.19862752e-02,\n",
       "        1.79870650e-02,  5.07747801e-03,  1.50570273e-02, -9.92363598e-03,\n",
       "        1.43024223e-02,  1.38934432e-02,  2.40066294e-02,  3.46689522e-02,\n",
       "       -8.40568822e-03, -8.91884975e-03,  4.27234918e-03,  1.51009774e-02,\n",
       "        8.30748584e-03,  9.97267757e-03, -4.07522209e-02, -6.27419911e-03,\n",
       "        1.61251687e-02,  6.98864413e-03,  4.71113157e-03,  1.10951783e-02,\n",
       "        1.77144185e-02, -2.78592895e-04,  5.09808911e-03, -1.67093407e-02,\n",
       "        2.62025744e-02,  1.09290201e-02, -4.28631995e-03, -1.70662111e-04,\n",
       "        2.86304485e-02,  1.56848002e-02,  1.69126634e-02,  1.13567840e-02,\n",
       "        1.06645310e-02,  4.27254196e-03, -5.93218661e-04, -1.42808044e-02,\n",
       "       -6.65992731e-03, -1.48915732e-02, -5.40275453e-03,  8.21760390e-03,\n",
       "        3.43371183e-02, -8.04795418e-03,  2.58778296e-02,  2.27905829e-02,\n",
       "        1.43054612e-02, -3.54656242e-02,  2.18404680e-02,  1.48451859e-02,\n",
       "        2.99156066e-02,  2.06783451e-02,  3.81299364e-03,  2.09948365e-02,\n",
       "        1.51448408e-02,  1.10164983e-02,  7.23634521e-03, -4.99750255e-03,\n",
       "        1.46946264e-02,  1.34986946e-02, -7.18486914e-03, -6.26671407e-03,\n",
       "        5.73924044e-03,  4.50922688e-03,  3.56194489e-02, -2.00060941e-03,\n",
       "        1.83327142e-02,  1.52161196e-02, -2.55368790e-03, -2.84756720e-03,\n",
       "       -9.16546304e-03, -2.28560101e-02, -9.07528959e-03,  6.29275339e-03,\n",
       "        1.00397523e-02,  2.20749807e-02,  1.00441920e-02, -1.03153735e-02,\n",
       "       -7.65331835e-03,  2.26628017e-02,  9.01629392e-04, -1.08120563e-02,\n",
       "        6.10601914e-04, -1.87553279e-02, -9.56773385e-03, -3.19223627e-02,\n",
       "       -1.00972941e-02,  1.32830441e-02, -5.08869009e-04, -4.15574340e-03,\n",
       "        7.56973680e-03, -6.43303664e-03, -1.22093307e-02,  1.40410149e-02,\n",
       "        2.78832149e-02,  1.23613700e-02,  4.79710614e-03, -5.32990741e-03,\n",
       "        1.62664545e-03,  1.31278327e-02, -3.58369364e-03,  5.65834623e-03,\n",
       "       -1.12947924e-02, -1.40753044e-02,  6.73657330e-03,  1.83305833e-02,\n",
       "       -1.37437740e-02, -3.20450775e-02,  1.93199739e-02,  1.07047735e-02,\n",
       "        2.66390424e-02,  2.00632159e-02,  7.02730566e-03, -1.26599576e-02,\n",
       "        1.41863963e-02, -1.73278637e-02,  3.09889019e-03,  1.83101688e-02,\n",
       "       -1.06438315e-02,  2.26695812e-03,  2.03873706e-03,  1.27332425e-02,\n",
       "        1.14324605e-02, -7.05779484e-03,  6.22330932e-03,  4.95203445e-03,\n",
       "        1.78977083e-02, -3.82345449e-03,  2.52152551e-02,  1.65792070e-02,\n",
       "        2.44406760e-02,  1.75785634e-03,  2.11316254e-02,  1.06186522e-02,\n",
       "        1.21956365e-02,  1.68707464e-02, -1.07904081e-03, -1.99800311e-03,\n",
       "        5.75104728e-03, -7.68714398e-03, -3.91566521e-03, -1.70705095e-03,\n",
       "        3.09480797e-03, -2.18659136e-02,  2.30585784e-02, -4.18235688e-03,\n",
       "       -5.37674082e-03,  1.99349280e-02,  2.59077903e-02, -2.69275997e-02,\n",
       "        4.89361444e-03, -1.87599640e-02,  1.01884166e-02,  1.92831606e-02,\n",
       "        8.94252956e-03,  1.74402129e-02,  9.24072228e-03,  2.00570002e-02,\n",
       "        3.05255130e-02,  1.41218891e-02, -2.47385111e-02,  1.55536570e-02,\n",
       "       -1.39269652e-02,  1.79504249e-02,  7.81866815e-03,  3.47467791e-03,\n",
       "        1.89421084e-02, -6.24803733e-03, -4.51277616e-03, -2.24061799e-03,\n",
       "        5.47883613e-03, -4.81688119e-02,  2.80586327e-03,  2.34979782e-02,\n",
       "        3.30652529e-03,  3.40620801e-02,  2.37944573e-02,  3.56705883e-03,\n",
       "        9.72881913e-03,  3.94076481e-03,  3.22303758e-03, -7.78365880e-03,\n",
       "        8.54905602e-03,  2.26229243e-02,  8.34925566e-03, -2.39336379e-02,\n",
       "        1.15487948e-02,  1.34957128e-03,  4.46518371e-03,  3.42014502e-03,\n",
       "        6.28406694e-03,  2.59110983e-02, -7.87571538e-03,  9.47298482e-04,\n",
       "       -3.12774559e-03,  1.02376007e-03,  6.06827764e-03,  3.11819818e-02,\n",
       "       -8.12976807e-03,  1.11684073e-02, -1.08052995e-02, -7.81195704e-03,\n",
       "        3.59811867e-03,  3.29005346e-02, -3.64521146e-03, -1.24891372e-02,\n",
       "       -1.73050619e-03, -9.52422246e-03,  3.70067209e-02,  4.43961890e-03,\n",
       "       -1.03432098e-02,  2.01357119e-02, -5.39175561e-03,  1.32306833e-02,\n",
       "        3.29171084e-02,  3.00867879e-03, -1.14225028e-02, -7.00625544e-03,\n",
       "       -1.80461667e-02, -1.23031456e-02,  6.23478275e-03, -5.01533598e-03,\n",
       "        1.41650438e-02, -1.10355746e-02,  3.20744293e-04,  7.34229470e-05,\n",
       "        1.48502598e-03, -3.32627445e-04,  1.97095852e-02, -7.21959118e-03,\n",
       "        1.61009450e-02, -1.25708990e-02,  1.73310433e-02, -1.69896744e-02,\n",
       "        1.38280336e-02,  1.63576473e-02, -7.85612222e-03,  2.51910812e-03,\n",
       "        6.51227962e-03,  1.08524095e-02, -1.94400772e-02, -8.23735539e-03,\n",
       "        1.86407045e-02,  1.65297464e-02,  4.95171174e-03,  2.14021443e-03],\n",
       "      dtype=float32)"
      ]
     },
     "execution_count": 64,
     "metadata": {},
     "output_type": "execute_result"
    }
   ],
   "source": [
    "# Austin Powers 의 벡터\n",
    "austin_powers = movie_to_idx[2683]\n",
    "austin_powers_vector = als_model.item_factors[austin_powers]\n",
    "austin_powers_vector"
   ]
  },
  {
   "cell_type": "code",
   "execution_count": 65,
   "id": "hawaiian-royal",
   "metadata": {},
   "outputs": [
    {
     "data": {
      "text/plain": [
       "-0.02523257"
      ]
     },
     "execution_count": 65,
     "metadata": {},
     "output_type": "execute_result"
    }
   ],
   "source": [
    "np.dot(my_vector, austin_powers_vector)"
   ]
  },
  {
   "cell_type": "markdown",
   "id": "hybrid-transcription",
   "metadata": {},
   "source": [
    "star wars (1977)과 유사한 영화들과의 유사도"
   ]
  },
  {
   "cell_type": "code",
   "execution_count": 85,
   "id": "steady-auckland",
   "metadata": {},
   "outputs": [
    {
     "data": {
      "text/plain": [
       "[(44, 0.9999999),\n",
       " (117, 0.4850925),\n",
       " (193, 0.31426218),\n",
       " (3507, 0.30444404),\n",
       " (1937, 0.30371433),\n",
       " (3052, 0.29799098),\n",
       " (3504, 0.2976856),\n",
       " (3459, 0.29512382),\n",
       " (2057, 0.2943421),\n",
       " (2731, 0.29433846),\n",
       " (3424, 0.29429802),\n",
       " (3263, 0.2942236),\n",
       " (2788, 0.29387185),\n",
       " (3505, 0.29292402),\n",
       " (1957, 0.2924235)]"
      ]
     },
     "execution_count": 85,
     "metadata": {},
     "output_type": "execute_result"
    }
   ],
   "source": [
    "movie_id = movie_to_idx[260]\n",
    "similar_movie = als_model.similar_items(movie_id, N=15)\n",
    "similar_movie"
   ]
  },
  {
   "cell_type": "markdown",
   "id": "duplicate-aruba",
   "metadata": {},
   "source": [
    "X-Files: Fight the Future, The (1998) 과 유사한 영화들과의 유사도"
   ]
  },
  {
   "cell_type": "code",
   "execution_count": 67,
   "id": "sporting-animal",
   "metadata": {},
   "outputs": [
    {
     "data": {
      "text/plain": [
       "[(228, 0.99999994),\n",
       " (3196, 0.40990004),\n",
       " (2736, 0.40728614),\n",
       " (2607, 0.40065637),\n",
       " (3256, 0.40023345),\n",
       " (2622, 0.39881763),\n",
       " (3195, 0.3970731),\n",
       " (3156, 0.39681616),\n",
       " (3458, 0.39673105),\n",
       " (3361, 0.3964232),\n",
       " (3623, 0.3963312),\n",
       " (3326, 0.3961854),\n",
       " (3354, 0.3960888),\n",
       " (3592, 0.39602977),\n",
       " (3365, 0.3957347)]"
      ]
     },
     "execution_count": 67,
     "metadata": {},
     "output_type": "execute_result"
    }
   ],
   "source": [
    "movie_id = movie_to_idx[1909]\n",
    "similar_movie = als_model.similar_items(movie_id, N=15)\n",
    "similar_movie"
   ]
  },
  {
   "cell_type": "markdown",
   "id": "bridal-election",
   "metadata": {},
   "source": [
    "Superman (1978) 과 유사한 영화들과의 유사도"
   ]
  },
  {
   "cell_type": "code",
   "execution_count": 68,
   "id": "reported-place",
   "metadata": {},
   "outputs": [
    {
     "data": {
      "text/plain": [
       "[(526, 1.0),\n",
       " (763, 0.5942957),\n",
       " (2627, 0.39713815),\n",
       " (1534, 0.39672387),\n",
       " (3057, 0.38975126),\n",
       " (2763, 0.38950574),\n",
       " (2962, 0.3881461),\n",
       " (3275, 0.38802657),\n",
       " (3507, 0.38733917),\n",
       " (3025, 0.3860397),\n",
       " (3346, 0.385488),\n",
       " (3479, 0.385366),\n",
       " (2329, 0.38496354),\n",
       " (3348, 0.38493598),\n",
       " (3418, 0.3849198)]"
      ]
     },
     "execution_count": 68,
     "metadata": {},
     "output_type": "execute_result"
    }
   ],
   "source": [
    "movie_id = movie_to_idx[2640]\n",
    "similar_movie = als_model.similar_items(movie_id, N=15)\n",
    "similar_movie"
   ]
  },
  {
   "cell_type": "markdown",
   "id": "naughty-marine",
   "metadata": {},
   "source": [
    "### 내가 좋아하는 영화와 비슷한 영화를 추천받아 봅시다."
   ]
  },
  {
   "cell_type": "code",
   "execution_count": 69,
   "id": "historical-shock",
   "metadata": {},
   "outputs": [
    {
     "name": "stdout",
     "output_type": "stream",
     "text": [
      "     movie_id                                      title  \\\n",
      "257       260  Star Wars: Episode IV - A New Hope (1977)   \n",
      "\n",
      "                               genre  \n",
      "257  Action|Adventure|Fantasy|Sci-Fi  \n",
      "----------------------------------------------------------------------------------------\n",
      "      movie_id                                              title  \\\n",
      "1178      1196  Star Wars: Episode V - The Empire Strikes Back...   \n",
      "\n",
      "                                  genre  \n",
      "1178  Action|Adventure|Drama|Sci-Fi|War  \n",
      "----------------------------------------------------------------------------------------\n",
      "      movie_id         title                          genre\n",
      "1196      1214  Alien (1979)  Action|Horror|Sci-Fi|Thriller\n",
      "----------------------------------------------------------------------------------------\n",
      "      movie_id                title   genre\n",
      "3796      3866  Sunset Strip (2000)  Comedy\n",
      "----------------------------------------------------------------------------------------\n",
      "      movie_id               title  genre\n",
      "2609      2678  Desert Blue (1999)  Drama\n",
      "----------------------------------------------------------------------------------------\n",
      "      movie_id              title   genre\n",
      "1834      1903  Hav Plenty (1997)  Comedy\n",
      "----------------------------------------------------------------------------------------\n",
      "      movie_id                                        title  genre\n",
      "3464      3533  Actor's Revenge, An (Yukinojo Henge) (1963)  Drama\n",
      "----------------------------------------------------------------------------------------\n",
      "      movie_id                           title         genre\n",
      "2375      2444  24 7: Twenty Four Seven (1997)  Comedy|Drama\n",
      "----------------------------------------------------------------------------------------\n",
      "      movie_id                      title  genre\n",
      "1412      1437  Cement Garden, The (1993)  Drama\n",
      "----------------------------------------------------------------------------------------\n",
      "     movie_id                                 title         genre\n",
      "566       570  Slingshot, The (Kådisbellan ) (1993)  Comedy|Drama\n",
      "----------------------------------------------------------------------------------------\n",
      "     movie_id               title   genre\n",
      "210       212  Bushwhacked (1995)  Comedy\n",
      "----------------------------------------------------------------------------------------\n",
      "      movie_id                          title  genre\n",
      "3057      3126  End of the Affair, The (1955)  Drama\n",
      "----------------------------------------------------------------------------------------\n",
      "      movie_id                           title          genre\n",
      "3861      3931  Giant Gila Monster, The (1959)  Horror|Sci-Fi\n",
      "----------------------------------------------------------------------------------------\n",
      "     movie_id        title  genre\n",
      "694       703  Boys (1996)  Drama\n",
      "----------------------------------------------------------------------------------------\n",
      "      movie_id              title  genre\n",
      "2910      2979  Body Shots (1999)  Drama\n",
      "----------------------------------------------------------------------------------------\n"
     ]
    }
   ],
   "source": [
    "def get_similar_movie(favorite_movie):\n",
    "    movie_id = movie_to_idx[favorite_movie]\n",
    "    similar_movie = als_model.similar_items(movie_id, N=15)\n",
    "    idx_to_movie = {v:k for k,v in movie_to_idx.items()}\n",
    "    recommand_list = [idx_to_movie[i[0]] for i in similar_movie]\n",
    "    for movie in recommand_list:\n",
    "        print(movies[movies['movie_id'] == movie], '----------------------------------------------------------------------------------------', sep='\\n')\n",
    "\n",
    "get_similar_movie(260)"
   ]
  },
  {
   "cell_type": "code",
   "execution_count": 70,
   "id": "stopped-impossible",
   "metadata": {},
   "outputs": [
    {
     "name": "stdout",
     "output_type": "stream",
     "text": [
      "      movie_id            title                    genre\n",
      "2571      2640  Superman (1978)  Action|Adventure|Sci-Fi\n",
      "----------------------------------------------------------------------------------------\n",
      "      movie_id               title                    genre\n",
      "2572      2641  Superman II (1980)  Action|Adventure|Sci-Fi\n",
      "----------------------------------------------------------------------------------------\n",
      "      movie_id                                        title             genre\n",
      "2533      2602  Mighty Peking Man (Hsing hsing wang) (1977)  Adventure|Sci-Fi\n",
      "----------------------------------------------------------------------------------------\n",
      "      movie_id                title                    genre\n",
      "2573      2642  Superman III (1983)  Action|Adventure|Sci-Fi\n",
      "----------------------------------------------------------------------------------------\n",
      "      movie_id                         title            genre\n",
      "1830      1899  Passion in the Desert (1998)  Adventure|Drama\n",
      "----------------------------------------------------------------------------------------\n",
      "      movie_id               title  genre\n",
      "1443      1471  Boys Life 2 (1997)  Drama\n",
      "----------------------------------------------------------------------------------------\n",
      "      movie_id                                            title   genre\n",
      "3762      3832  Black Sabbath (Tre Volti Della Paura, I) (1963)  Horror\n",
      "----------------------------------------------------------------------------------------\n",
      "      movie_id                                title  genre\n",
      "2123      2192  See the Sea (Regarde la mer) (1997)  Drama\n",
      "----------------------------------------------------------------------------------------\n",
      "      movie_id                title   genre\n",
      "3796      3866  Sunset Strip (2000)  Comedy\n",
      "----------------------------------------------------------------------------------------\n",
      "      movie_id                           title          genre\n",
      "3579      3648  Abominable Snowman, The (1957)  Horror|Sci-Fi\n",
      "----------------------------------------------------------------------------------------\n",
      "      movie_id                    title  genre\n",
      "1025      1038  Unhook the Stars (1996)  Drama\n",
      "----------------------------------------------------------------------------------------\n",
      "     movie_id               title         genre\n",
      "651       657  Yankee Zulu (1994)  Comedy|Drama\n",
      "----------------------------------------------------------------------------------------\n",
      "      movie_id                  title      genre\n",
      "3223      3292  Big Combo, The (1955)  Film-Noir\n",
      "----------------------------------------------------------------------------------------\n",
      "      movie_id                      title  genre\n",
      "2762      2831  Dog of Flanders, A (1999)  Drama\n",
      "----------------------------------------------------------------------------------------\n",
      "      movie_id                              title    genre\n",
      "1639      1685  I Love You, I Love You Not (1996)  Romance\n",
      "----------------------------------------------------------------------------------------\n"
     ]
    }
   ],
   "source": [
    "get_similar_movie(2640)"
   ]
  },
  {
   "cell_type": "code",
   "execution_count": 71,
   "id": "right-respect",
   "metadata": {},
   "outputs": [
    {
     "name": "stdout",
     "output_type": "stream",
     "text": [
      "      movie_id                                  title                    genre\n",
      "1840      1909  X-Files: Fight the Future, The (1998)  Mystery|Sci-Fi|Thriller\n",
      "----------------------------------------------------------------------------------------\n",
      "    movie_id                                        title          genre\n",
      "58        59  Confessional, The (Le Confessionnal) (1995)  Drama|Mystery\n",
      "----------------------------------------------------------------------------------------\n",
      "      movie_id                   title  genre\n",
      "1618      1664  Nénette et Boni (1996)  Drama\n",
      "----------------------------------------------------------------------------------------\n",
      "      movie_id                                       title  genre\n",
      "3797      3867  All the Rage (a.k.a. It's the Rage) (1999)  Drama\n",
      "----------------------------------------------------------------------------------------\n",
      "     movie_id             title   genre\n",
      "393       397  Fear, The (1995)  Horror\n",
      "----------------------------------------------------------------------------------------\n",
      "      movie_id                                              title  genre\n",
      "3089      3158  Emperor and the Assassin, The (Jing ke ci qin ...  Drama\n",
      "----------------------------------------------------------------------------------------\n",
      "      movie_id                               title   genre\n",
      "2509      2578  Sticky Fingers of Time, The (1997)  Sci-Fi\n",
      "----------------------------------------------------------------------------------------\n",
      "      movie_id                title  genre\n",
      "3578      3647  Running Free (2000)  Drama\n",
      "----------------------------------------------------------------------------------------\n",
      "      movie_id                          title          genre\n",
      "2058      2127  First Love, Last Rites (1997)  Drama|Romance\n",
      "----------------------------------------------------------------------------------------\n",
      "      movie_id               title  genre\n",
      "2138      2207  Jamaica Inn (1939)  Drama\n",
      "----------------------------------------------------------------------------------------\n",
      "      movie_id                     title                 genre\n",
      "3538      3607  One Little Indian (1973)  Comedy|Drama|Western\n",
      "----------------------------------------------------------------------------------------\n",
      "      movie_id                                title         genre\n",
      "2934      3003  Train of Life (Train De Vie) (1998)  Comedy|Drama\n",
      "----------------------------------------------------------------------------------------\n",
      "      movie_id                                          title   genre\n",
      "3136      3205  Black Sunday (La Maschera Del Demonio) (1960)  Horror\n",
      "----------------------------------------------------------------------------------------\n",
      "     movie_id                  title  genre\n",
      "435       439  Dangerous Game (1993)  Drama\n",
      "----------------------------------------------------------------------------------------\n",
      "      movie_id                                        title  genre\n",
      "1148      1164  Two or Three Things I Know About Her (1966)  Drama\n",
      "----------------------------------------------------------------------------------------\n"
     ]
    }
   ],
   "source": [
    "get_similar_movie(1909)"
   ]
  },
  {
   "cell_type": "markdown",
   "id": "leading-gossip",
   "metadata": {},
   "source": [
    "### 내가 가장 좋아할 만한 영화들을 추천받아 봅시다."
   ]
  },
  {
   "cell_type": "code",
   "execution_count": 72,
   "id": "automated-bailey",
   "metadata": {},
   "outputs": [
    {
     "name": "stdout",
     "output_type": "stream",
     "text": [
      "      movie_id               title                    genre\n",
      "2572      2641  Superman II (1980)  Action|Adventure|Sci-Fi\n",
      "--------------------------------------------------------------------\n",
      "      movie_id                              title  \\\n",
      "1081      1097  E.T. the Extra-Terrestrial (1982)   \n",
      "\n",
      "                                genre  \n",
      "1081  Children's|Drama|Fantasy|Sci-Fi  \n",
      "--------------------------------------------------------------------\n",
      "      movie_id                                             title  \\\n",
      "2559      2628  Star Wars: Episode I - The Phantom Menace (1999)   \n",
      "\n",
      "                                genre  \n",
      "2559  Action|Adventure|Fantasy|Sci-Fi  \n",
      "--------------------------------------------------------------------\n",
      "      movie_id                           title             genre\n",
      "1180      1198  Raiders of the Lost Ark (1981)  Action|Adventure\n",
      "--------------------------------------------------------------------\n",
      "      movie_id                            title                    genre\n",
      "1335      1356  Star Trek: First Contact (1996)  Action|Adventure|Sci-Fi\n",
      "--------------------------------------------------------------------\n",
      "      movie_id                                      title         genre\n",
      "3402      3471  Close Encounters of the Third Kind (1977)  Drama|Sci-Fi\n",
      "--------------------------------------------------------------------\n",
      "     movie_id                     title                               genre\n",
      "907       919  Wizard of Oz, The (1939)  Adventure|Children's|Drama|Musical\n",
      "--------------------------------------------------------------------\n",
      "      movie_id         title             genre\n",
      "1222      1242  Glory (1989)  Action|Drama|War\n",
      "--------------------------------------------------------------------\n",
      "     movie_id          title                         genre\n",
      "588       592  Batman (1989)  Action|Adventure|Crime|Drama\n",
      "--------------------------------------------------------------------\n",
      "      movie_id           title                genre\n",
      "2916      2985  Robocop (1987)  Action|Crime|Sci-Fi\n",
      "--------------------------------------------------------------------\n",
      "      movie_id                  title  genre\n",
      "2643      2712  Eyes Wide Shut (1999)  Drama\n",
      "--------------------------------------------------------------------\n",
      "      movie_id         title         genre\n",
      "3675      3744  Shaft (2000)  Action|Crime\n",
      "--------------------------------------------------------------------\n",
      "     movie_id               title        genre\n",
      "243       246  Hoop Dreams (1994)  Documentary\n",
      "--------------------------------------------------------------------\n",
      "      movie_id         title                          genre\n",
      "1196      1214  Alien (1979)  Action|Horror|Sci-Fi|Thriller\n",
      "--------------------------------------------------------------------\n",
      "      movie_id                     title  genre\n",
      "2264      2333  Gods and Monsters (1998)  Drama\n",
      "--------------------------------------------------------------------\n",
      "     movie_id                                              title       genre\n",
      "740       750  Dr. Strangelove or: How I Learned to Stop Worr...  Sci-Fi|War\n",
      "--------------------------------------------------------------------\n",
      "     movie_id                         title                          genre\n",
      "912       924  2001: A Space Odyssey (1968)  Drama|Mystery|Sci-Fi|Thriller\n",
      "--------------------------------------------------------------------\n",
      "     movie_id                 title    genre\n",
      "938       950  Thin Man, The (1934)  Mystery\n",
      "--------------------------------------------------------------------\n",
      "      movie_id               title   genre\n",
      "3292      3361  Bull Durham (1988)  Comedy\n",
      "--------------------------------------------------------------------\n",
      "      movie_id                                        title             genre\n",
      "2046      2115  Indiana Jones and the Temple of Doom (1984)  Action|Adventure\n",
      "--------------------------------------------------------------------\n"
     ]
    }
   ],
   "source": [
    "def recommand_movie(user_id):\n",
    "    user = user_to_idx[user_id]\n",
    "    movie_recommended = als_model.recommend(user, csr_data, N=20, filter_already_liked_items=True)\n",
    "    idx_to_movie = {v:k for k,v in movie_to_idx.items()}\n",
    "    recommand_list = [idx_to_movie[i[0]] for i in movie_recommended]\n",
    "    for movie in recommand_list:\n",
    "        print(movies[movies['movie_id'] == movie], '--------------------------------------------------------------------', sep='\\n')\n",
    "\n",
    "recommand_movie(my_id)"
   ]
  },
  {
   "cell_type": "markdown",
   "id": "derived-landscape",
   "metadata": {},
   "source": [
    "기여도 체크"
   ]
  },
  {
   "cell_type": "code",
   "execution_count": 100,
   "id": "accomplished-schedule",
   "metadata": {},
   "outputs": [
    {
     "data": {
      "text/plain": [
       "[(2640, 0.005282690149496035),\n",
       " (1840, 0.004038635906734711),\n",
       " (1196, 0.0005705357446063698),\n",
       " (260, 1.0879051251167886e-05),\n",
       " (1210, -0.002231418042161127)]"
      ]
     },
     "execution_count": 100,
     "metadata": {},
     "output_type": "execute_result"
    }
   ],
   "source": [
    "def get_contribution(m_id):\n",
    "    user = user_to_idx[my_id]\n",
    "    explain = als_model.explain(user, csr_data, itemid=m_id)\n",
    "    explain = [(idx_to_movie[i[0]], i[1]) for i in explain[1]]\n",
    "    return explain\n",
    "\n",
    "get_contribution(2641)  # 추천받은 첫번째 영화\n"
   ]
  },
  {
   "cell_type": "markdown",
   "id": "separated-vintage",
   "metadata": {},
   "source": [
    "## 회고"
   ]
  },
  {
   "cell_type": "code",
   "execution_count": null,
   "id": "featured-mystery",
   "metadata": {},
   "outputs": [],
   "source": []
  }
 ],
 "metadata": {
  "kernelspec": {
   "display_name": "Python 3",
   "language": "python",
   "name": "python3"
  },
  "language_info": {
   "codemirror_mode": {
    "name": "ipython",
    "version": 3
   },
   "file_extension": ".py",
   "mimetype": "text/x-python",
   "name": "python",
   "nbconvert_exporter": "python",
   "pygments_lexer": "ipython3",
   "version": "3.7.9"
  }
 },
 "nbformat": 4,
 "nbformat_minor": 5
}
