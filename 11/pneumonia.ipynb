{
 "cells": [
  {
   "cell_type": "markdown",
   "id": "norman-still",
   "metadata": {},
   "source": [
    "<h1> 폐렴아 기다려라! <h1>"
   ]
  },
  {
   "cell_type": "markdown",
   "id": "healthy-hostel",
   "metadata": {},
   "source": [
    "딥러닝 기술이 산업적으로 명확한 용도를 입증한 도메인 중 하나로 의료 분야를 들 수 있다.\n",
    "\n",
    "하지만, 의료 영상을 분석하는 것은 일반적인 이미지 처리와는 다소 다른 독특한 특징이 있다.\n",
    "\n",
    "---\n",
    "\n",
    "- 의료 영상 이미지는 개인 정보 보호 등의 이슈로 인해 데이터를 구하는 것이 쉽지 않습니다.\n",
    "- 라벨링 작업 자체가 전문적 지식을 요하므로 데이터셋 구축 비용이 비쌉니다.\n",
    "- 희귀질병을 다루는 경우 데이터를 입수하는 것 자체가 드문 일입니다.\n",
    "- 음성/양성 데이터 간 imbalance가 심합니다. 학습에 주의가 필요합니다.\n",
    "- 이미지만으로 진단이 쉽지 않아 다른 데이터와 결합해서 해석해야 할 수도 있습니다."
   ]
  },
  {
   "cell_type": "markdown",
   "id": "noble-setting",
   "metadata": {},
   "source": [
    "$ mkdir -p ~/aiffel/EXPLORATION/11/chest_xray\n",
    "\n",
    "$ ln -s ~/data/ ~/aiffel/EXPLORATION/11/chest_xray\n"
   ]
  },
  {
   "cell_type": "code",
   "execution_count": null,
   "id": "irish-employee",
   "metadata": {},
   "outputs": [],
   "source": []
  }
 ],
 "metadata": {
  "kernelspec": {
   "display_name": "Python 3",
   "language": "python",
   "name": "python3"
  },
  "language_info": {
   "codemirror_mode": {
    "name": "ipython",
    "version": 3
   },
   "file_extension": ".py",
   "mimetype": "text/x-python",
   "name": "python",
   "nbconvert_exporter": "python",
   "pygments_lexer": "ipython3",
   "version": "3.7.9"
  }
 },
 "nbformat": 4,
 "nbformat_minor": 5
}
