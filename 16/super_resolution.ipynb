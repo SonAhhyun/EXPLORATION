{
 "cells": [
  {
   "cell_type": "markdown",
   "id": "intense-decimal",
   "metadata": {},
   "source": [
    "<h1>흐린 사진을 선명하게</h1>\n",
    "    \n",
    "이미지 생성형 기술이 효과적으로 사용되는 사례로 저해상도의 이미지를 고해상도 이미지로 변환하는 Super Resolution을 꼽을 수 있다. 특히 GAN 관련 기술이 일반적인 CNN 기술보다 훨씬 정밀한 고해상도 이미지를 생성해 내는 데 효과적이다\n",
    "    \n",
    "### 학습 목표\n",
    "---\n",
    "- Super Resolution과 그 과정 수행에 필요한 기본 개념을 이해합니다.\n",
    "- Super Resolution에 사용되는 대표적인 2개의 구조(SRCNN, SRGAN)에 대해 이해하고 활용합니다.\n",
    "\n",
    "### 학습 전제\n",
    "---\n",
    "- 신경망의 학습 방법에 대한 전반적인 절차를 알고 있어야 합니다.\n",
    "- CNN, GAN에 대한 기본적인 개념을 알고 있어야 합니다.\n",
    "- Tensorflow에서 모델을 구성할 때 사용하는 Sequential, Functional API에 대해 알고 있어야 합니다.\n",
    "- Tensorflow의 GradientTape API를 이용한 학습 절차를 이해할 수 있어야 합니다.\n",
    "\n",
    "### 목차\n",
    "---\n",
    "- Super Resolution 이란??\n",
    "- Super Resolution의 활용 사례\n",
    "- Super Resolution을 어렵게 만드는 요인들\n",
    "- 가장 쉬운 Super Resolution\n",
    "- Deep Learning을 이용한 Super Resolution (1) SRCNN\n",
    "- Deep Learning을 이용한 Super Resolution (2) SRCNN 이후 제안된 구조들\n",
    "- SRCNN을 이용해 Super Resolution 도전하기\n",
    "- Deep Learning을 이용한 Super Resolution (3) SRGAN\n",
    "- SRGAN을 이용해 Super Resolution 도전하기\n",
    "- Super Resolution 결과 평가하기\n",
    "- SRCNN 및 SRGAN 결과 비교하기\n",
    "- 학습한 내용 정리하기\n",
    "- 프로젝트 : SRGAN 활용하기\n",
    "\n",
    "### 준비물\n",
    "---\n",
    "이번 학습에서 사용할 데이터셋을 먼저 다운로드\n",
    "\n",
    "$ pip install tensorflow-datasets\n",
    "\n",
    "터미널로 python을 실행하고, 아래 두 줄의 코드를 실행하여 데이터를 다운로드\n",
    "\n",
    "$ python\n",
    "\n",
    "import tensorflow_datasets as tfds \n",
    "\n",
    "tfds.load(\"div2k/bicubic_x4\")"
   ]
  },
  {
   "cell_type": "markdown",
   "id": "sapphire-heaven",
   "metadata": {},
   "source": [
    "## Super Resolution 이란??\n",
    "\n",
    "Super Resolution이란 저해상도 영상을 고해상도 영상으로 변환하는 작업 또는 그러한 과정을 말한다. 우리 말로 번역해서 \"초해상화\"라는 용어로도 사용되곤 한다. \n",
    "\n",
    "Super Resolution은 수많은 컴퓨터 비전 연구 분야 중 하나로 고해상도 디스플레이의 발전에 따라 지금까지 많은 관심을 받아 왔다."
   ]
  },
  {
   "cell_type": "markdown",
   "id": "handy-multimedia",
   "metadata": {},
   "source": [
    "## Super Resolution의 활용 사례\n",
    "\n",
    "감시 및 보안 시스템에서 흔히 사용되는 CCTV는 대상의 거리가 멀어짐에 따라 획득한 영상의 해상도가 저하되는 현상이 발생한다. \n",
    "\n",
    "정보 손실이 많은 저해상도 영상을 활용한다면 차량의 번호판이나 얼굴을 인식하는 데 큰 어려움을 겪거나 심지어 인식 자체가 불가능할 수 있는데, 이러한 문제를 극복하기 위해 Super Resolution 기술을 적용하여 고해상도 이미지를 생성해 인식 성능을 높이려는 많은 연구가 진행되고 있다.\n",
    "\n"
   ]
  },
  {
   "cell_type": "code",
   "execution_count": null,
   "id": "polish-nebraska",
   "metadata": {},
   "outputs": [],
   "source": []
  }
 ],
 "metadata": {
  "kernelspec": {
   "display_name": "Python 3",
   "language": "python",
   "name": "python3"
  },
  "language_info": {
   "codemirror_mode": {
    "name": "ipython",
    "version": 3
   },
   "file_extension": ".py",
   "mimetype": "text/x-python",
   "name": "python",
   "nbconvert_exporter": "python",
   "pygments_lexer": "ipython3",
   "version": "3.7.9"
  }
 },
 "nbformat": 4,
 "nbformat_minor": 5
}
