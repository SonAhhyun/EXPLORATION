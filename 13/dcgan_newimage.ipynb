{
 "cells": [
  {
   "cell_type": "markdown",
   "id": "built-hormone",
   "metadata": {},
   "source": [
    "<h1> 인공지능으로 세상에 없던 새로운 패션 만들기 <h1>"
   ]
  },
  {
   "cell_type": "code",
   "execution_count": null,
   "id": "arbitrary-theory",
   "metadata": {},
   "outputs": [],
   "source": []
  }
 ],
 "metadata": {
  "kernelspec": {
   "display_name": "Python 3",
   "language": "python",
   "name": "python3"
  },
  "language_info": {
   "codemirror_mode": {
    "name": "ipython",
    "version": 3
   },
   "file_extension": ".py",
   "mimetype": "text/x-python",
   "name": "python",
   "nbconvert_exporter": "python",
   "pygments_lexer": "ipython3",
   "version": "3.7.9"
  }
 },
 "nbformat": 4,
 "nbformat_minor": 5
}
