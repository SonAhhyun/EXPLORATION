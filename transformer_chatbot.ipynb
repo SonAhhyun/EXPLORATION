{
 "cells": [
  {
   "cell_type": "markdown",
   "id": "powerful-danger",
   "metadata": {},
   "source": [
    "<h1> 트랜스포머로 만드는 대화형 챗봇 </h1>\n",
    "\n",
    "\n",
    "$ mkdir -p ~/aiffel/EXPLORATION/15/songys_chatbot"
   ]
  },
  {
   "cell_type": "code",
   "execution_count": null,
   "id": "solar-balance",
   "metadata": {},
   "outputs": [],
   "source": []
  }
 ],
 "metadata": {
  "kernelspec": {
   "display_name": "Python 3",
   "language": "python",
   "name": "python3"
  },
  "language_info": {
   "codemirror_mode": {
    "name": "ipython",
    "version": 3
   },
   "file_extension": ".py",
   "mimetype": "text/x-python",
   "name": "python",
   "nbconvert_exporter": "python",
   "pygments_lexer": "ipython3",
   "version": "3.7.9"
  }
 },
 "nbformat": 4,
 "nbformat_minor": 5
}
